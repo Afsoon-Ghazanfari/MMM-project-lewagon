{
 "cells": [
  {
   "cell_type": "code",
   "execution_count": 14,
   "id": "02c337ca-eef5-4325-bdfa-d1b63519a077",
   "metadata": {},
   "outputs": [],
   "source": [
    "import pandas as pd\n",
    "import os"
   ]
  },
  {
   "cell_type": "code",
   "execution_count": 15,
   "id": "e4b8b65e-6a88-4d8f-a767-2be53e0d485c",
   "metadata": {},
   "outputs": [
    {
     "name": "stdout",
     "output_type": "stream",
     "text": [
      "/home/guido/code/data-Zee/MMM-project-lewagon/mmmproject/api\n"
     ]
    }
   ],
   "source": [
    "cwd = os.getcwd()\n",
    "print(cwd)"
   ]
  },
  {
   "cell_type": "code",
   "execution_count": 16,
   "id": "1c564e5a-a500-4b61-b9ab-dfbb03fef377",
   "metadata": {},
   "outputs": [],
   "source": [
    "parent_dir = '/home/guido/code/data-Zee/MMM-project-lewagon'\n",
    "data_dir = 'raw_data'\n",
    "data_file = 'df_clean.csv'"
   ]
  },
  {
   "cell_type": "code",
   "execution_count": 17,
   "id": "0ceaa35a-8854-42bf-ac99-79f0e782d8dc",
   "metadata": {},
   "outputs": [
    {
     "name": "stdout",
     "output_type": "stream",
     "text": [
      "/home/guido/code/data-Zee/MMM-project-lewagon/raw_data/df_clean.csv\n"
     ]
    }
   ],
   "source": [
    "data_path = os.path.join(parent_dir, data_dir, data_file)\n",
    "print(data_path)"
   ]
  },
  {
   "cell_type": "code",
   "execution_count": 18,
   "id": "f7b848a4-5216-4c14-a6f3-6ade6dc51541",
   "metadata": {},
   "outputs": [],
   "source": [
    "df = pd.read_csv(data_path)"
   ]
  },
  {
   "cell_type": "code",
   "execution_count": 19,
   "id": "da71154b-269a-474e-a3b5-229c681e7aca",
   "metadata": {},
   "outputs": [],
   "source": [
    "df = df.drop(columns='Unnamed: 0')\n",
    "df['Day'] = pd.to_datetime(df['Day'])\n",
    "df.set_index('Day', inplace=True)\n",
    "df = df.rename(columns={\"fb_costs\": \"facebook\", \"google_costs\": \"google\", \"tt_costs\": \"tiktok\"})\n",
    "\n",
    "simple_df = df.drop(columns = ['fb_impressions', 'fb_clicks', 'google_impressions', 'google_clicks', 'tt_impressions', 'tt_clicks'])\n",
    "\n",
    "X_simple = simple_df.drop(columns = ['orders', 'total_sales']) # 2 channels: facebook and google\n",
    "y_simple = simple_df['total_sales'] # for now lets just use total_sales and exclude orders"
   ]
  },
  {
   "cell_type": "code",
   "execution_count": 20,
   "id": "6314d2a1-b4aa-4108-a574-67779d6ff153",
   "metadata": {},
   "outputs": [
    {
     "data": {
      "text/html": [
       "<div>\n",
       "<style scoped>\n",
       "    .dataframe tbody tr th:only-of-type {\n",
       "        vertical-align: middle;\n",
       "    }\n",
       "\n",
       "    .dataframe tbody tr th {\n",
       "        vertical-align: top;\n",
       "    }\n",
       "\n",
       "    .dataframe thead th {\n",
       "        text-align: right;\n",
       "    }\n",
       "</style>\n",
       "<table border=\"1\" class=\"dataframe\">\n",
       "  <thead>\n",
       "    <tr style=\"text-align: right;\">\n",
       "      <th></th>\n",
       "      <th>orders</th>\n",
       "      <th>total_sales</th>\n",
       "      <th>facebook</th>\n",
       "      <th>google</th>\n",
       "      <th>tiktok</th>\n",
       "    </tr>\n",
       "    <tr>\n",
       "      <th>Day</th>\n",
       "      <th></th>\n",
       "      <th></th>\n",
       "      <th></th>\n",
       "      <th></th>\n",
       "      <th></th>\n",
       "    </tr>\n",
       "  </thead>\n",
       "  <tbody>\n",
       "    <tr>\n",
       "      <th>2021-07-01</th>\n",
       "      <td>10</td>\n",
       "      <td>414.85</td>\n",
       "      <td>257.01</td>\n",
       "      <td>1.17</td>\n",
       "      <td>0.0</td>\n",
       "    </tr>\n",
       "    <tr>\n",
       "      <th>2021-07-02</th>\n",
       "      <td>6</td>\n",
       "      <td>229.95</td>\n",
       "      <td>250.30</td>\n",
       "      <td>0.84</td>\n",
       "      <td>0.0</td>\n",
       "    </tr>\n",
       "    <tr>\n",
       "      <th>2021-07-03</th>\n",
       "      <td>10</td>\n",
       "      <td>459.89</td>\n",
       "      <td>248.59</td>\n",
       "      <td>0.72</td>\n",
       "      <td>0.0</td>\n",
       "    </tr>\n",
       "    <tr>\n",
       "      <th>2021-07-04</th>\n",
       "      <td>17</td>\n",
       "      <td>508.36</td>\n",
       "      <td>258.05</td>\n",
       "      <td>0.07</td>\n",
       "      <td>0.0</td>\n",
       "    </tr>\n",
       "    <tr>\n",
       "      <th>2021-07-05</th>\n",
       "      <td>13</td>\n",
       "      <td>399.88</td>\n",
       "      <td>257.47</td>\n",
       "      <td>0.38</td>\n",
       "      <td>0.0</td>\n",
       "    </tr>\n",
       "    <tr>\n",
       "      <th>...</th>\n",
       "      <td>...</td>\n",
       "      <td>...</td>\n",
       "      <td>...</td>\n",
       "      <td>...</td>\n",
       "      <td>...</td>\n",
       "    </tr>\n",
       "    <tr>\n",
       "      <th>2023-08-20</th>\n",
       "      <td>294</td>\n",
       "      <td>13616.97</td>\n",
       "      <td>2148.53</td>\n",
       "      <td>466.56</td>\n",
       "      <td>0.0</td>\n",
       "    </tr>\n",
       "    <tr>\n",
       "      <th>2023-08-21</th>\n",
       "      <td>356</td>\n",
       "      <td>15348.42</td>\n",
       "      <td>2210.01</td>\n",
       "      <td>400.58</td>\n",
       "      <td>0.0</td>\n",
       "    </tr>\n",
       "    <tr>\n",
       "      <th>2023-08-22</th>\n",
       "      <td>150</td>\n",
       "      <td>6054.53</td>\n",
       "      <td>1335.84</td>\n",
       "      <td>289.46</td>\n",
       "      <td>0.0</td>\n",
       "    </tr>\n",
       "    <tr>\n",
       "      <th>2023-08-23</th>\n",
       "      <td>130</td>\n",
       "      <td>4810.67</td>\n",
       "      <td>1315.81</td>\n",
       "      <td>275.86</td>\n",
       "      <td>0.0</td>\n",
       "    </tr>\n",
       "    <tr>\n",
       "      <th>2023-08-24</th>\n",
       "      <td>128</td>\n",
       "      <td>4889.20</td>\n",
       "      <td>1487.41</td>\n",
       "      <td>299.70</td>\n",
       "      <td>0.0</td>\n",
       "    </tr>\n",
       "  </tbody>\n",
       "</table>\n",
       "<p>785 rows × 5 columns</p>\n",
       "</div>"
      ],
      "text/plain": [
       "            orders  total_sales  facebook  google  tiktok\n",
       "Day                                                      \n",
       "2021-07-01      10       414.85    257.01    1.17     0.0\n",
       "2021-07-02       6       229.95    250.30    0.84     0.0\n",
       "2021-07-03      10       459.89    248.59    0.72     0.0\n",
       "2021-07-04      17       508.36    258.05    0.07     0.0\n",
       "2021-07-05      13       399.88    257.47    0.38     0.0\n",
       "...            ...          ...       ...     ...     ...\n",
       "2023-08-20     294     13616.97   2148.53  466.56     0.0\n",
       "2023-08-21     356     15348.42   2210.01  400.58     0.0\n",
       "2023-08-22     150      6054.53   1335.84  289.46     0.0\n",
       "2023-08-23     130      4810.67   1315.81  275.86     0.0\n",
       "2023-08-24     128      4889.20   1487.41  299.70     0.0\n",
       "\n",
       "[785 rows x 5 columns]"
      ]
     },
     "execution_count": 20,
     "metadata": {},
     "output_type": "execute_result"
    }
   ],
   "source": [
    "simple_df"
   ]
  },
  {
   "cell_type": "code",
   "execution_count": 21,
   "id": "18d94a31-ac2e-4d5f-85a0-709da894f7a8",
   "metadata": {},
   "outputs": [
    {
     "data": {
      "text/html": [
       "<div>\n",
       "<style scoped>\n",
       "    .dataframe tbody tr th:only-of-type {\n",
       "        vertical-align: middle;\n",
       "    }\n",
       "\n",
       "    .dataframe tbody tr th {\n",
       "        vertical-align: top;\n",
       "    }\n",
       "\n",
       "    .dataframe thead th {\n",
       "        text-align: right;\n",
       "    }\n",
       "</style>\n",
       "<table border=\"1\" class=\"dataframe\">\n",
       "  <thead>\n",
       "    <tr style=\"text-align: right;\">\n",
       "      <th></th>\n",
       "      <th>facebook</th>\n",
       "      <th>google</th>\n",
       "      <th>tiktok</th>\n",
       "    </tr>\n",
       "    <tr>\n",
       "      <th>Day</th>\n",
       "      <th></th>\n",
       "      <th></th>\n",
       "      <th></th>\n",
       "    </tr>\n",
       "  </thead>\n",
       "  <tbody>\n",
       "    <tr>\n",
       "      <th>2021-07-01</th>\n",
       "      <td>257.01</td>\n",
       "      <td>1.17</td>\n",
       "      <td>0.0</td>\n",
       "    </tr>\n",
       "    <tr>\n",
       "      <th>2021-07-02</th>\n",
       "      <td>250.30</td>\n",
       "      <td>0.84</td>\n",
       "      <td>0.0</td>\n",
       "    </tr>\n",
       "    <tr>\n",
       "      <th>2021-07-03</th>\n",
       "      <td>248.59</td>\n",
       "      <td>0.72</td>\n",
       "      <td>0.0</td>\n",
       "    </tr>\n",
       "    <tr>\n",
       "      <th>2021-07-04</th>\n",
       "      <td>258.05</td>\n",
       "      <td>0.07</td>\n",
       "      <td>0.0</td>\n",
       "    </tr>\n",
       "    <tr>\n",
       "      <th>2021-07-05</th>\n",
       "      <td>257.47</td>\n",
       "      <td>0.38</td>\n",
       "      <td>0.0</td>\n",
       "    </tr>\n",
       "    <tr>\n",
       "      <th>...</th>\n",
       "      <td>...</td>\n",
       "      <td>...</td>\n",
       "      <td>...</td>\n",
       "    </tr>\n",
       "    <tr>\n",
       "      <th>2023-08-20</th>\n",
       "      <td>2148.53</td>\n",
       "      <td>466.56</td>\n",
       "      <td>0.0</td>\n",
       "    </tr>\n",
       "    <tr>\n",
       "      <th>2023-08-21</th>\n",
       "      <td>2210.01</td>\n",
       "      <td>400.58</td>\n",
       "      <td>0.0</td>\n",
       "    </tr>\n",
       "    <tr>\n",
       "      <th>2023-08-22</th>\n",
       "      <td>1335.84</td>\n",
       "      <td>289.46</td>\n",
       "      <td>0.0</td>\n",
       "    </tr>\n",
       "    <tr>\n",
       "      <th>2023-08-23</th>\n",
       "      <td>1315.81</td>\n",
       "      <td>275.86</td>\n",
       "      <td>0.0</td>\n",
       "    </tr>\n",
       "    <tr>\n",
       "      <th>2023-08-24</th>\n",
       "      <td>1487.41</td>\n",
       "      <td>299.70</td>\n",
       "      <td>0.0</td>\n",
       "    </tr>\n",
       "  </tbody>\n",
       "</table>\n",
       "<p>785 rows × 3 columns</p>\n",
       "</div>"
      ],
      "text/plain": [
       "            facebook  google  tiktok\n",
       "Day                                 \n",
       "2021-07-01    257.01    1.17     0.0\n",
       "2021-07-02    250.30    0.84     0.0\n",
       "2021-07-03    248.59    0.72     0.0\n",
       "2021-07-04    258.05    0.07     0.0\n",
       "2021-07-05    257.47    0.38     0.0\n",
       "...              ...     ...     ...\n",
       "2023-08-20   2148.53  466.56     0.0\n",
       "2023-08-21   2210.01  400.58     0.0\n",
       "2023-08-22   1335.84  289.46     0.0\n",
       "2023-08-23   1315.81  275.86     0.0\n",
       "2023-08-24   1487.41  299.70     0.0\n",
       "\n",
       "[785 rows x 3 columns]"
      ]
     },
     "execution_count": 21,
     "metadata": {},
     "output_type": "execute_result"
    }
   ],
   "source": [
    "X_simple"
   ]
  },
  {
   "cell_type": "code",
   "execution_count": 22,
   "id": "fc4cde59-ffc0-470a-bff3-8484cdf1a87d",
   "metadata": {},
   "outputs": [
    {
     "data": {
      "text/plain": [
       "Day\n",
       "2021-07-01      414.85\n",
       "2021-07-02      229.95\n",
       "2021-07-03      459.89\n",
       "2021-07-04      508.36\n",
       "2021-07-05      399.88\n",
       "                ...   \n",
       "2023-08-20    13616.97\n",
       "2023-08-21    15348.42\n",
       "2023-08-22     6054.53\n",
       "2023-08-23     4810.67\n",
       "2023-08-24     4889.20\n",
       "Name: total_sales, Length: 785, dtype: float64"
      ]
     },
     "execution_count": 22,
     "metadata": {},
     "output_type": "execute_result"
    }
   ],
   "source": [
    "y_simple"
   ]
  },
  {
   "cell_type": "code",
   "execution_count": 25,
   "id": "07d4b70e",
   "metadata": {},
   "outputs": [
    {
     "name": "stdout",
     "output_type": "stream",
     "text": [
      "Collecting mamimo\n",
      "  Obtaining dependency information for mamimo from https://files.pythonhosted.org/packages/87/76/2bf2f17c069da09780bed67b7dcfeb664abe8fab572426c0fef1731d4e0d/mamimo-0.4.3-py3-none-any.whl.metadata\n",
      "  Using cached mamimo-0.4.3-py3-none-any.whl.metadata (7.1 kB)\n",
      "Requirement already satisfied: numpy<2.0.0,>=1.22.3 in /home/guido/.pyenv/versions/3.10.6/envs/lewagon/lib/python3.10/site-packages (from mamimo) (1.23.4)\n",
      "Requirement already satisfied: pandas<2.0.0,>=1.4.2 in /home/guido/.pyenv/versions/3.10.6/envs/lewagon/lib/python3.10/site-packages (from mamimo) (1.4.4)\n",
      "Requirement already satisfied: scikit-learn<2.0.0,>=1.0.2 in /home/guido/.pyenv/versions/3.10.6/envs/lewagon/lib/python3.10/site-packages (from mamimo) (1.3.0)\n",
      "Requirement already satisfied: python-dateutil>=2.8.1 in /home/guido/.pyenv/versions/3.10.6/envs/lewagon/lib/python3.10/site-packages (from pandas<2.0.0,>=1.4.2->mamimo) (2.8.2)\n",
      "Requirement already satisfied: pytz>=2020.1 in /home/guido/.pyenv/versions/3.10.6/envs/lewagon/lib/python3.10/site-packages (from pandas<2.0.0,>=1.4.2->mamimo) (2022.1)\n",
      "Requirement already satisfied: scipy>=1.5.0 in /home/guido/.pyenv/versions/3.10.6/envs/lewagon/lib/python3.10/site-packages (from scikit-learn<2.0.0,>=1.0.2->mamimo) (1.8.1)\n",
      "Requirement already satisfied: joblib>=1.1.1 in /home/guido/.pyenv/versions/3.10.6/envs/lewagon/lib/python3.10/site-packages (from scikit-learn<2.0.0,>=1.0.2->mamimo) (1.1.1)\n",
      "Requirement already satisfied: threadpoolctl>=2.0.0 in /home/guido/.pyenv/versions/3.10.6/envs/lewagon/lib/python3.10/site-packages (from scikit-learn<2.0.0,>=1.0.2->mamimo) (3.1.0)\n",
      "Requirement already satisfied: six>=1.5 in /home/guido/.pyenv/versions/3.10.6/envs/lewagon/lib/python3.10/site-packages (from python-dateutil>=2.8.1->pandas<2.0.0,>=1.4.2->mamimo) (1.16.0)\n",
      "Using cached mamimo-0.4.3-py3-none-any.whl (16 kB)\n",
      "Installing collected packages: mamimo\n",
      "Successfully installed mamimo-0.4.3\n",
      "Note: you may need to restart the kernel to use updated packages.\n"
     ]
    }
   ],
   "source": [
    "pip install mamimo"
   ]
  },
  {
   "cell_type": "code",
   "execution_count": 26,
   "id": "5d363a2f-cde1-416d-a1e5-b14eea1cba48",
   "metadata": {},
   "outputs": [],
   "source": [
    "from mamimo.carryover import ExponentialCarryover\n",
    "from mamimo.saturation import ExponentialSaturation\n",
    "from mamimo.linear_model import LinearRegression\n",
    "from sklearn.compose import ColumnTransformer\n",
    "from sklearn.pipeline import Pipeline"
   ]
  },
  {
   "cell_type": "code",
   "execution_count": 27,
   "id": "8e2037aa-b3d0-4285-85f1-37d264485748",
   "metadata": {},
   "outputs": [],
   "source": [
    "# initiate model\n",
    "adstock = ColumnTransformer(\n",
    "    [\n",
    "     ('facebook_pipe', Pipeline([\n",
    "            ('carryover', ExponentialCarryover()),\n",
    "            ('saturation', ExponentialSaturation())\n",
    "     ]), ['facebook']),\n",
    "     ('google_pipe', Pipeline([\n",
    "            ('carryover', ExponentialCarryover()),\n",
    "            ('saturation', ExponentialSaturation())\n",
    "     ]), ['google']),\n",
    "     ('tiktok_pipe', Pipeline([\n",
    "            ('carryover', ExponentialCarryover()),\n",
    "            ('saturation', ExponentialSaturation())\n",
    "     ]), ['tiktok'])\n",
    "])\n",
    "\n",
    "model = Pipeline([\n",
    "    ('adstock', adstock),\n",
    "    ('regression', LinearRegression(positive=True))\n",
    "])"
   ]
  },
  {
   "cell_type": "code",
   "execution_count": 28,
   "id": "ddeb155d-857f-4ce4-8aa6-dd8a9eea77cb",
   "metadata": {},
   "outputs": [
    {
     "data": {
      "text/html": [
       "<style>#sk-container-id-1 {color: black;}#sk-container-id-1 pre{padding: 0;}#sk-container-id-1 div.sk-toggleable {background-color: white;}#sk-container-id-1 label.sk-toggleable__label {cursor: pointer;display: block;width: 100%;margin-bottom: 0;padding: 0.3em;box-sizing: border-box;text-align: center;}#sk-container-id-1 label.sk-toggleable__label-arrow:before {content: \"▸\";float: left;margin-right: 0.25em;color: #696969;}#sk-container-id-1 label.sk-toggleable__label-arrow:hover:before {color: black;}#sk-container-id-1 div.sk-estimator:hover label.sk-toggleable__label-arrow:before {color: black;}#sk-container-id-1 div.sk-toggleable__content {max-height: 0;max-width: 0;overflow: hidden;text-align: left;background-color: #f0f8ff;}#sk-container-id-1 div.sk-toggleable__content pre {margin: 0.2em;color: black;border-radius: 0.25em;background-color: #f0f8ff;}#sk-container-id-1 input.sk-toggleable__control:checked~div.sk-toggleable__content {max-height: 200px;max-width: 100%;overflow: auto;}#sk-container-id-1 input.sk-toggleable__control:checked~label.sk-toggleable__label-arrow:before {content: \"▾\";}#sk-container-id-1 div.sk-estimator input.sk-toggleable__control:checked~label.sk-toggleable__label {background-color: #d4ebff;}#sk-container-id-1 div.sk-label input.sk-toggleable__control:checked~label.sk-toggleable__label {background-color: #d4ebff;}#sk-container-id-1 input.sk-hidden--visually {border: 0;clip: rect(1px 1px 1px 1px);clip: rect(1px, 1px, 1px, 1px);height: 1px;margin: -1px;overflow: hidden;padding: 0;position: absolute;width: 1px;}#sk-container-id-1 div.sk-estimator {font-family: monospace;background-color: #f0f8ff;border: 1px dotted black;border-radius: 0.25em;box-sizing: border-box;margin-bottom: 0.5em;}#sk-container-id-1 div.sk-estimator:hover {background-color: #d4ebff;}#sk-container-id-1 div.sk-parallel-item::after {content: \"\";width: 100%;border-bottom: 1px solid gray;flex-grow: 1;}#sk-container-id-1 div.sk-label:hover label.sk-toggleable__label {background-color: #d4ebff;}#sk-container-id-1 div.sk-serial::before {content: \"\";position: absolute;border-left: 1px solid gray;box-sizing: border-box;top: 0;bottom: 0;left: 50%;z-index: 0;}#sk-container-id-1 div.sk-serial {display: flex;flex-direction: column;align-items: center;background-color: white;padding-right: 0.2em;padding-left: 0.2em;position: relative;}#sk-container-id-1 div.sk-item {position: relative;z-index: 1;}#sk-container-id-1 div.sk-parallel {display: flex;align-items: stretch;justify-content: center;background-color: white;position: relative;}#sk-container-id-1 div.sk-item::before, #sk-container-id-1 div.sk-parallel-item::before {content: \"\";position: absolute;border-left: 1px solid gray;box-sizing: border-box;top: 0;bottom: 0;left: 50%;z-index: -1;}#sk-container-id-1 div.sk-parallel-item {display: flex;flex-direction: column;z-index: 1;position: relative;background-color: white;}#sk-container-id-1 div.sk-parallel-item:first-child::after {align-self: flex-end;width: 50%;}#sk-container-id-1 div.sk-parallel-item:last-child::after {align-self: flex-start;width: 50%;}#sk-container-id-1 div.sk-parallel-item:only-child::after {width: 0;}#sk-container-id-1 div.sk-dashed-wrapped {border: 1px dashed gray;margin: 0 0.4em 0.5em 0.4em;box-sizing: border-box;padding-bottom: 0.4em;background-color: white;}#sk-container-id-1 div.sk-label label {font-family: monospace;font-weight: bold;display: inline-block;line-height: 1.2em;}#sk-container-id-1 div.sk-label-container {text-align: center;}#sk-container-id-1 div.sk-container {/* jupyter's `normalize.less` sets `[hidden] { display: none; }` but bootstrap.min.css set `[hidden] { display: none !important; }` so we also need the `!important` here to be able to override the default hidden behavior on the sphinx rendered scikit-learn.org. See: https://github.com/scikit-learn/scikit-learn/issues/21755 */display: inline-block !important;position: relative;}#sk-container-id-1 div.sk-text-repr-fallback {display: none;}</style><div id=\"sk-container-id-1\" class=\"sk-top-container\"><div class=\"sk-text-repr-fallback\"><pre>Pipeline(steps=[(&#x27;adstock&#x27;,\n",
       "                 ColumnTransformer(transformers=[(&#x27;facebook_pipe&#x27;,\n",
       "                                                  Pipeline(steps=[(&#x27;carryover&#x27;,\n",
       "                                                                   ExponentialCarryover()),\n",
       "                                                                  (&#x27;saturation&#x27;,\n",
       "                                                                   ExponentialSaturation())]),\n",
       "                                                  [&#x27;facebook&#x27;]),\n",
       "                                                 (&#x27;google_pipe&#x27;,\n",
       "                                                  Pipeline(steps=[(&#x27;carryover&#x27;,\n",
       "                                                                   ExponentialCarryover()),\n",
       "                                                                  (&#x27;saturation&#x27;,\n",
       "                                                                   ExponentialSaturation())]),\n",
       "                                                  [&#x27;google&#x27;]),\n",
       "                                                 (&#x27;tiktok_pipe&#x27;,\n",
       "                                                  Pipeline(steps=[(&#x27;carryover&#x27;,\n",
       "                                                                   ExponentialCarryover()),\n",
       "                                                                  (&#x27;saturation&#x27;,\n",
       "                                                                   ExponentialSaturation())]),\n",
       "                                                  [&#x27;tiktok&#x27;])])),\n",
       "                (&#x27;regression&#x27;, LinearRegression(positive=True))])</pre><b>In a Jupyter environment, please rerun this cell to show the HTML representation or trust the notebook. <br />On GitHub, the HTML representation is unable to render, please try loading this page with nbviewer.org.</b></div><div class=\"sk-container\" hidden><div class=\"sk-item sk-dashed-wrapped\"><div class=\"sk-label-container\"><div class=\"sk-label sk-toggleable\"><input class=\"sk-toggleable__control sk-hidden--visually\" id=\"sk-estimator-id-1\" type=\"checkbox\" ><label for=\"sk-estimator-id-1\" class=\"sk-toggleable__label sk-toggleable__label-arrow\">Pipeline</label><div class=\"sk-toggleable__content\"><pre>Pipeline(steps=[(&#x27;adstock&#x27;,\n",
       "                 ColumnTransformer(transformers=[(&#x27;facebook_pipe&#x27;,\n",
       "                                                  Pipeline(steps=[(&#x27;carryover&#x27;,\n",
       "                                                                   ExponentialCarryover()),\n",
       "                                                                  (&#x27;saturation&#x27;,\n",
       "                                                                   ExponentialSaturation())]),\n",
       "                                                  [&#x27;facebook&#x27;]),\n",
       "                                                 (&#x27;google_pipe&#x27;,\n",
       "                                                  Pipeline(steps=[(&#x27;carryover&#x27;,\n",
       "                                                                   ExponentialCarryover()),\n",
       "                                                                  (&#x27;saturation&#x27;,\n",
       "                                                                   ExponentialSaturation())]),\n",
       "                                                  [&#x27;google&#x27;]),\n",
       "                                                 (&#x27;tiktok_pipe&#x27;,\n",
       "                                                  Pipeline(steps=[(&#x27;carryover&#x27;,\n",
       "                                                                   ExponentialCarryover()),\n",
       "                                                                  (&#x27;saturation&#x27;,\n",
       "                                                                   ExponentialSaturation())]),\n",
       "                                                  [&#x27;tiktok&#x27;])])),\n",
       "                (&#x27;regression&#x27;, LinearRegression(positive=True))])</pre></div></div></div><div class=\"sk-serial\"><div class=\"sk-item sk-dashed-wrapped\"><div class=\"sk-label-container\"><div class=\"sk-label sk-toggleable\"><input class=\"sk-toggleable__control sk-hidden--visually\" id=\"sk-estimator-id-2\" type=\"checkbox\" ><label for=\"sk-estimator-id-2\" class=\"sk-toggleable__label sk-toggleable__label-arrow\">adstock: ColumnTransformer</label><div class=\"sk-toggleable__content\"><pre>ColumnTransformer(transformers=[(&#x27;facebook_pipe&#x27;,\n",
       "                                 Pipeline(steps=[(&#x27;carryover&#x27;,\n",
       "                                                  ExponentialCarryover()),\n",
       "                                                 (&#x27;saturation&#x27;,\n",
       "                                                  ExponentialSaturation())]),\n",
       "                                 [&#x27;facebook&#x27;]),\n",
       "                                (&#x27;google_pipe&#x27;,\n",
       "                                 Pipeline(steps=[(&#x27;carryover&#x27;,\n",
       "                                                  ExponentialCarryover()),\n",
       "                                                 (&#x27;saturation&#x27;,\n",
       "                                                  ExponentialSaturation())]),\n",
       "                                 [&#x27;google&#x27;]),\n",
       "                                (&#x27;tiktok_pipe&#x27;,\n",
       "                                 Pipeline(steps=[(&#x27;carryover&#x27;,\n",
       "                                                  ExponentialCarryover()),\n",
       "                                                 (&#x27;saturation&#x27;,\n",
       "                                                  ExponentialSaturation())]),\n",
       "                                 [&#x27;tiktok&#x27;])])</pre></div></div></div><div class=\"sk-parallel\"><div class=\"sk-parallel-item\"><div class=\"sk-item\"><div class=\"sk-label-container\"><div class=\"sk-label sk-toggleable\"><input class=\"sk-toggleable__control sk-hidden--visually\" id=\"sk-estimator-id-3\" type=\"checkbox\" ><label for=\"sk-estimator-id-3\" class=\"sk-toggleable__label sk-toggleable__label-arrow\">facebook_pipe</label><div class=\"sk-toggleable__content\"><pre>[&#x27;facebook&#x27;]</pre></div></div></div><div class=\"sk-serial\"><div class=\"sk-item\"><div class=\"sk-serial\"><div class=\"sk-item\"><div class=\"sk-estimator sk-toggleable\"><input class=\"sk-toggleable__control sk-hidden--visually\" id=\"sk-estimator-id-4\" type=\"checkbox\" ><label for=\"sk-estimator-id-4\" class=\"sk-toggleable__label sk-toggleable__label-arrow\">ExponentialCarryover</label><div class=\"sk-toggleable__content\"><pre>ExponentialCarryover()</pre></div></div></div><div class=\"sk-item\"><div class=\"sk-estimator sk-toggleable\"><input class=\"sk-toggleable__control sk-hidden--visually\" id=\"sk-estimator-id-5\" type=\"checkbox\" ><label for=\"sk-estimator-id-5\" class=\"sk-toggleable__label sk-toggleable__label-arrow\">ExponentialSaturation</label><div class=\"sk-toggleable__content\"><pre>ExponentialSaturation()</pre></div></div></div></div></div></div></div></div><div class=\"sk-parallel-item\"><div class=\"sk-item\"><div class=\"sk-label-container\"><div class=\"sk-label sk-toggleable\"><input class=\"sk-toggleable__control sk-hidden--visually\" id=\"sk-estimator-id-6\" type=\"checkbox\" ><label for=\"sk-estimator-id-6\" class=\"sk-toggleable__label sk-toggleable__label-arrow\">google_pipe</label><div class=\"sk-toggleable__content\"><pre>[&#x27;google&#x27;]</pre></div></div></div><div class=\"sk-serial\"><div class=\"sk-item\"><div class=\"sk-serial\"><div class=\"sk-item\"><div class=\"sk-estimator sk-toggleable\"><input class=\"sk-toggleable__control sk-hidden--visually\" id=\"sk-estimator-id-7\" type=\"checkbox\" ><label for=\"sk-estimator-id-7\" class=\"sk-toggleable__label sk-toggleable__label-arrow\">ExponentialCarryover</label><div class=\"sk-toggleable__content\"><pre>ExponentialCarryover()</pre></div></div></div><div class=\"sk-item\"><div class=\"sk-estimator sk-toggleable\"><input class=\"sk-toggleable__control sk-hidden--visually\" id=\"sk-estimator-id-8\" type=\"checkbox\" ><label for=\"sk-estimator-id-8\" class=\"sk-toggleable__label sk-toggleable__label-arrow\">ExponentialSaturation</label><div class=\"sk-toggleable__content\"><pre>ExponentialSaturation()</pre></div></div></div></div></div></div></div></div><div class=\"sk-parallel-item\"><div class=\"sk-item\"><div class=\"sk-label-container\"><div class=\"sk-label sk-toggleable\"><input class=\"sk-toggleable__control sk-hidden--visually\" id=\"sk-estimator-id-9\" type=\"checkbox\" ><label for=\"sk-estimator-id-9\" class=\"sk-toggleable__label sk-toggleable__label-arrow\">tiktok_pipe</label><div class=\"sk-toggleable__content\"><pre>[&#x27;tiktok&#x27;]</pre></div></div></div><div class=\"sk-serial\"><div class=\"sk-item\"><div class=\"sk-serial\"><div class=\"sk-item\"><div class=\"sk-estimator sk-toggleable\"><input class=\"sk-toggleable__control sk-hidden--visually\" id=\"sk-estimator-id-10\" type=\"checkbox\" ><label for=\"sk-estimator-id-10\" class=\"sk-toggleable__label sk-toggleable__label-arrow\">ExponentialCarryover</label><div class=\"sk-toggleable__content\"><pre>ExponentialCarryover()</pre></div></div></div><div class=\"sk-item\"><div class=\"sk-estimator sk-toggleable\"><input class=\"sk-toggleable__control sk-hidden--visually\" id=\"sk-estimator-id-11\" type=\"checkbox\" ><label for=\"sk-estimator-id-11\" class=\"sk-toggleable__label sk-toggleable__label-arrow\">ExponentialSaturation</label><div class=\"sk-toggleable__content\"><pre>ExponentialSaturation()</pre></div></div></div></div></div></div></div></div></div></div><div class=\"sk-item\"><div class=\"sk-estimator sk-toggleable\"><input class=\"sk-toggleable__control sk-hidden--visually\" id=\"sk-estimator-id-12\" type=\"checkbox\" ><label for=\"sk-estimator-id-12\" class=\"sk-toggleable__label sk-toggleable__label-arrow\">LinearRegression</label><div class=\"sk-toggleable__content\"><pre>LinearRegression(positive=True)</pre></div></div></div></div></div></div></div>"
      ],
      "text/plain": [
       "Pipeline(steps=[('adstock',\n",
       "                 ColumnTransformer(transformers=[('facebook_pipe',\n",
       "                                                  Pipeline(steps=[('carryover',\n",
       "                                                                   ExponentialCarryover()),\n",
       "                                                                  ('saturation',\n",
       "                                                                   ExponentialSaturation())]),\n",
       "                                                  ['facebook']),\n",
       "                                                 ('google_pipe',\n",
       "                                                  Pipeline(steps=[('carryover',\n",
       "                                                                   ExponentialCarryover()),\n",
       "                                                                  ('saturation',\n",
       "                                                                   ExponentialSaturation())]),\n",
       "                                                  ['google']),\n",
       "                                                 ('tiktok_pipe',\n",
       "                                                  Pipeline(steps=[('carryover',\n",
       "                                                                   ExponentialCarryover()),\n",
       "                                                                  ('saturation',\n",
       "                                                                   ExponentialSaturation())]),\n",
       "                                                  ['tiktok'])])),\n",
       "                ('regression', LinearRegression(positive=True))])"
      ]
     },
     "execution_count": 28,
     "metadata": {},
     "output_type": "execute_result"
    }
   ],
   "source": [
    "model"
   ]
  },
  {
   "cell_type": "code",
   "execution_count": 29,
   "id": "8fb5941d-398f-4784-99fb-20eb5f016004",
   "metadata": {},
   "outputs": [
    {
     "data": {
      "text/html": [
       "<style>#sk-container-id-2 {color: black;}#sk-container-id-2 pre{padding: 0;}#sk-container-id-2 div.sk-toggleable {background-color: white;}#sk-container-id-2 label.sk-toggleable__label {cursor: pointer;display: block;width: 100%;margin-bottom: 0;padding: 0.3em;box-sizing: border-box;text-align: center;}#sk-container-id-2 label.sk-toggleable__label-arrow:before {content: \"▸\";float: left;margin-right: 0.25em;color: #696969;}#sk-container-id-2 label.sk-toggleable__label-arrow:hover:before {color: black;}#sk-container-id-2 div.sk-estimator:hover label.sk-toggleable__label-arrow:before {color: black;}#sk-container-id-2 div.sk-toggleable__content {max-height: 0;max-width: 0;overflow: hidden;text-align: left;background-color: #f0f8ff;}#sk-container-id-2 div.sk-toggleable__content pre {margin: 0.2em;color: black;border-radius: 0.25em;background-color: #f0f8ff;}#sk-container-id-2 input.sk-toggleable__control:checked~div.sk-toggleable__content {max-height: 200px;max-width: 100%;overflow: auto;}#sk-container-id-2 input.sk-toggleable__control:checked~label.sk-toggleable__label-arrow:before {content: \"▾\";}#sk-container-id-2 div.sk-estimator input.sk-toggleable__control:checked~label.sk-toggleable__label {background-color: #d4ebff;}#sk-container-id-2 div.sk-label input.sk-toggleable__control:checked~label.sk-toggleable__label {background-color: #d4ebff;}#sk-container-id-2 input.sk-hidden--visually {border: 0;clip: rect(1px 1px 1px 1px);clip: rect(1px, 1px, 1px, 1px);height: 1px;margin: -1px;overflow: hidden;padding: 0;position: absolute;width: 1px;}#sk-container-id-2 div.sk-estimator {font-family: monospace;background-color: #f0f8ff;border: 1px dotted black;border-radius: 0.25em;box-sizing: border-box;margin-bottom: 0.5em;}#sk-container-id-2 div.sk-estimator:hover {background-color: #d4ebff;}#sk-container-id-2 div.sk-parallel-item::after {content: \"\";width: 100%;border-bottom: 1px solid gray;flex-grow: 1;}#sk-container-id-2 div.sk-label:hover label.sk-toggleable__label {background-color: #d4ebff;}#sk-container-id-2 div.sk-serial::before {content: \"\";position: absolute;border-left: 1px solid gray;box-sizing: border-box;top: 0;bottom: 0;left: 50%;z-index: 0;}#sk-container-id-2 div.sk-serial {display: flex;flex-direction: column;align-items: center;background-color: white;padding-right: 0.2em;padding-left: 0.2em;position: relative;}#sk-container-id-2 div.sk-item {position: relative;z-index: 1;}#sk-container-id-2 div.sk-parallel {display: flex;align-items: stretch;justify-content: center;background-color: white;position: relative;}#sk-container-id-2 div.sk-item::before, #sk-container-id-2 div.sk-parallel-item::before {content: \"\";position: absolute;border-left: 1px solid gray;box-sizing: border-box;top: 0;bottom: 0;left: 50%;z-index: -1;}#sk-container-id-2 div.sk-parallel-item {display: flex;flex-direction: column;z-index: 1;position: relative;background-color: white;}#sk-container-id-2 div.sk-parallel-item:first-child::after {align-self: flex-end;width: 50%;}#sk-container-id-2 div.sk-parallel-item:last-child::after {align-self: flex-start;width: 50%;}#sk-container-id-2 div.sk-parallel-item:only-child::after {width: 0;}#sk-container-id-2 div.sk-dashed-wrapped {border: 1px dashed gray;margin: 0 0.4em 0.5em 0.4em;box-sizing: border-box;padding-bottom: 0.4em;background-color: white;}#sk-container-id-2 div.sk-label label {font-family: monospace;font-weight: bold;display: inline-block;line-height: 1.2em;}#sk-container-id-2 div.sk-label-container {text-align: center;}#sk-container-id-2 div.sk-container {/* jupyter's `normalize.less` sets `[hidden] { display: none; }` but bootstrap.min.css set `[hidden] { display: none !important; }` so we also need the `!important` here to be able to override the default hidden behavior on the sphinx rendered scikit-learn.org. See: https://github.com/scikit-learn/scikit-learn/issues/21755 */display: inline-block !important;position: relative;}#sk-container-id-2 div.sk-text-repr-fallback {display: none;}</style><div id=\"sk-container-id-2\" class=\"sk-top-container\"><div class=\"sk-text-repr-fallback\"><pre>Pipeline(steps=[(&#x27;adstock&#x27;,\n",
       "                 ColumnTransformer(transformers=[(&#x27;facebook_pipe&#x27;,\n",
       "                                                  Pipeline(steps=[(&#x27;carryover&#x27;,\n",
       "                                                                   ExponentialCarryover()),\n",
       "                                                                  (&#x27;saturation&#x27;,\n",
       "                                                                   ExponentialSaturation())]),\n",
       "                                                  [&#x27;facebook&#x27;]),\n",
       "                                                 (&#x27;google_pipe&#x27;,\n",
       "                                                  Pipeline(steps=[(&#x27;carryover&#x27;,\n",
       "                                                                   ExponentialCarryover()),\n",
       "                                                                  (&#x27;saturation&#x27;,\n",
       "                                                                   ExponentialSaturation())]),\n",
       "                                                  [&#x27;google&#x27;]),\n",
       "                                                 (&#x27;tiktok_pipe&#x27;,\n",
       "                                                  Pipeline(steps=[(&#x27;carryover&#x27;,\n",
       "                                                                   ExponentialCarryover()),\n",
       "                                                                  (&#x27;saturation&#x27;,\n",
       "                                                                   ExponentialSaturation())]),\n",
       "                                                  [&#x27;tiktok&#x27;])])),\n",
       "                (&#x27;regression&#x27;, LinearRegression(positive=True))])</pre><b>In a Jupyter environment, please rerun this cell to show the HTML representation or trust the notebook. <br />On GitHub, the HTML representation is unable to render, please try loading this page with nbviewer.org.</b></div><div class=\"sk-container\" hidden><div class=\"sk-item sk-dashed-wrapped\"><div class=\"sk-label-container\"><div class=\"sk-label sk-toggleable\"><input class=\"sk-toggleable__control sk-hidden--visually\" id=\"sk-estimator-id-13\" type=\"checkbox\" ><label for=\"sk-estimator-id-13\" class=\"sk-toggleable__label sk-toggleable__label-arrow\">Pipeline</label><div class=\"sk-toggleable__content\"><pre>Pipeline(steps=[(&#x27;adstock&#x27;,\n",
       "                 ColumnTransformer(transformers=[(&#x27;facebook_pipe&#x27;,\n",
       "                                                  Pipeline(steps=[(&#x27;carryover&#x27;,\n",
       "                                                                   ExponentialCarryover()),\n",
       "                                                                  (&#x27;saturation&#x27;,\n",
       "                                                                   ExponentialSaturation())]),\n",
       "                                                  [&#x27;facebook&#x27;]),\n",
       "                                                 (&#x27;google_pipe&#x27;,\n",
       "                                                  Pipeline(steps=[(&#x27;carryover&#x27;,\n",
       "                                                                   ExponentialCarryover()),\n",
       "                                                                  (&#x27;saturation&#x27;,\n",
       "                                                                   ExponentialSaturation())]),\n",
       "                                                  [&#x27;google&#x27;]),\n",
       "                                                 (&#x27;tiktok_pipe&#x27;,\n",
       "                                                  Pipeline(steps=[(&#x27;carryover&#x27;,\n",
       "                                                                   ExponentialCarryover()),\n",
       "                                                                  (&#x27;saturation&#x27;,\n",
       "                                                                   ExponentialSaturation())]),\n",
       "                                                  [&#x27;tiktok&#x27;])])),\n",
       "                (&#x27;regression&#x27;, LinearRegression(positive=True))])</pre></div></div></div><div class=\"sk-serial\"><div class=\"sk-item sk-dashed-wrapped\"><div class=\"sk-label-container\"><div class=\"sk-label sk-toggleable\"><input class=\"sk-toggleable__control sk-hidden--visually\" id=\"sk-estimator-id-14\" type=\"checkbox\" ><label for=\"sk-estimator-id-14\" class=\"sk-toggleable__label sk-toggleable__label-arrow\">adstock: ColumnTransformer</label><div class=\"sk-toggleable__content\"><pre>ColumnTransformer(transformers=[(&#x27;facebook_pipe&#x27;,\n",
       "                                 Pipeline(steps=[(&#x27;carryover&#x27;,\n",
       "                                                  ExponentialCarryover()),\n",
       "                                                 (&#x27;saturation&#x27;,\n",
       "                                                  ExponentialSaturation())]),\n",
       "                                 [&#x27;facebook&#x27;]),\n",
       "                                (&#x27;google_pipe&#x27;,\n",
       "                                 Pipeline(steps=[(&#x27;carryover&#x27;,\n",
       "                                                  ExponentialCarryover()),\n",
       "                                                 (&#x27;saturation&#x27;,\n",
       "                                                  ExponentialSaturation())]),\n",
       "                                 [&#x27;google&#x27;]),\n",
       "                                (&#x27;tiktok_pipe&#x27;,\n",
       "                                 Pipeline(steps=[(&#x27;carryover&#x27;,\n",
       "                                                  ExponentialCarryover()),\n",
       "                                                 (&#x27;saturation&#x27;,\n",
       "                                                  ExponentialSaturation())]),\n",
       "                                 [&#x27;tiktok&#x27;])])</pre></div></div></div><div class=\"sk-parallel\"><div class=\"sk-parallel-item\"><div class=\"sk-item\"><div class=\"sk-label-container\"><div class=\"sk-label sk-toggleable\"><input class=\"sk-toggleable__control sk-hidden--visually\" id=\"sk-estimator-id-15\" type=\"checkbox\" ><label for=\"sk-estimator-id-15\" class=\"sk-toggleable__label sk-toggleable__label-arrow\">facebook_pipe</label><div class=\"sk-toggleable__content\"><pre>[&#x27;facebook&#x27;]</pre></div></div></div><div class=\"sk-serial\"><div class=\"sk-item\"><div class=\"sk-serial\"><div class=\"sk-item\"><div class=\"sk-estimator sk-toggleable\"><input class=\"sk-toggleable__control sk-hidden--visually\" id=\"sk-estimator-id-16\" type=\"checkbox\" ><label for=\"sk-estimator-id-16\" class=\"sk-toggleable__label sk-toggleable__label-arrow\">ExponentialCarryover</label><div class=\"sk-toggleable__content\"><pre>ExponentialCarryover()</pre></div></div></div><div class=\"sk-item\"><div class=\"sk-estimator sk-toggleable\"><input class=\"sk-toggleable__control sk-hidden--visually\" id=\"sk-estimator-id-17\" type=\"checkbox\" ><label for=\"sk-estimator-id-17\" class=\"sk-toggleable__label sk-toggleable__label-arrow\">ExponentialSaturation</label><div class=\"sk-toggleable__content\"><pre>ExponentialSaturation()</pre></div></div></div></div></div></div></div></div><div class=\"sk-parallel-item\"><div class=\"sk-item\"><div class=\"sk-label-container\"><div class=\"sk-label sk-toggleable\"><input class=\"sk-toggleable__control sk-hidden--visually\" id=\"sk-estimator-id-18\" type=\"checkbox\" ><label for=\"sk-estimator-id-18\" class=\"sk-toggleable__label sk-toggleable__label-arrow\">google_pipe</label><div class=\"sk-toggleable__content\"><pre>[&#x27;google&#x27;]</pre></div></div></div><div class=\"sk-serial\"><div class=\"sk-item\"><div class=\"sk-serial\"><div class=\"sk-item\"><div class=\"sk-estimator sk-toggleable\"><input class=\"sk-toggleable__control sk-hidden--visually\" id=\"sk-estimator-id-19\" type=\"checkbox\" ><label for=\"sk-estimator-id-19\" class=\"sk-toggleable__label sk-toggleable__label-arrow\">ExponentialCarryover</label><div class=\"sk-toggleable__content\"><pre>ExponentialCarryover()</pre></div></div></div><div class=\"sk-item\"><div class=\"sk-estimator sk-toggleable\"><input class=\"sk-toggleable__control sk-hidden--visually\" id=\"sk-estimator-id-20\" type=\"checkbox\" ><label for=\"sk-estimator-id-20\" class=\"sk-toggleable__label sk-toggleable__label-arrow\">ExponentialSaturation</label><div class=\"sk-toggleable__content\"><pre>ExponentialSaturation()</pre></div></div></div></div></div></div></div></div><div class=\"sk-parallel-item\"><div class=\"sk-item\"><div class=\"sk-label-container\"><div class=\"sk-label sk-toggleable\"><input class=\"sk-toggleable__control sk-hidden--visually\" id=\"sk-estimator-id-21\" type=\"checkbox\" ><label for=\"sk-estimator-id-21\" class=\"sk-toggleable__label sk-toggleable__label-arrow\">tiktok_pipe</label><div class=\"sk-toggleable__content\"><pre>[&#x27;tiktok&#x27;]</pre></div></div></div><div class=\"sk-serial\"><div class=\"sk-item\"><div class=\"sk-serial\"><div class=\"sk-item\"><div class=\"sk-estimator sk-toggleable\"><input class=\"sk-toggleable__control sk-hidden--visually\" id=\"sk-estimator-id-22\" type=\"checkbox\" ><label for=\"sk-estimator-id-22\" class=\"sk-toggleable__label sk-toggleable__label-arrow\">ExponentialCarryover</label><div class=\"sk-toggleable__content\"><pre>ExponentialCarryover()</pre></div></div></div><div class=\"sk-item\"><div class=\"sk-estimator sk-toggleable\"><input class=\"sk-toggleable__control sk-hidden--visually\" id=\"sk-estimator-id-23\" type=\"checkbox\" ><label for=\"sk-estimator-id-23\" class=\"sk-toggleable__label sk-toggleable__label-arrow\">ExponentialSaturation</label><div class=\"sk-toggleable__content\"><pre>ExponentialSaturation()</pre></div></div></div></div></div></div></div></div></div></div><div class=\"sk-item\"><div class=\"sk-estimator sk-toggleable\"><input class=\"sk-toggleable__control sk-hidden--visually\" id=\"sk-estimator-id-24\" type=\"checkbox\" ><label for=\"sk-estimator-id-24\" class=\"sk-toggleable__label sk-toggleable__label-arrow\">LinearRegression</label><div class=\"sk-toggleable__content\"><pre>LinearRegression(positive=True)</pre></div></div></div></div></div></div></div>"
      ],
      "text/plain": [
       "Pipeline(steps=[('adstock',\n",
       "                 ColumnTransformer(transformers=[('facebook_pipe',\n",
       "                                                  Pipeline(steps=[('carryover',\n",
       "                                                                   ExponentialCarryover()),\n",
       "                                                                  ('saturation',\n",
       "                                                                   ExponentialSaturation())]),\n",
       "                                                  ['facebook']),\n",
       "                                                 ('google_pipe',\n",
       "                                                  Pipeline(steps=[('carryover',\n",
       "                                                                   ExponentialCarryover()),\n",
       "                                                                  ('saturation',\n",
       "                                                                   ExponentialSaturation())]),\n",
       "                                                  ['google']),\n",
       "                                                 ('tiktok_pipe',\n",
       "                                                  Pipeline(steps=[('carryover',\n",
       "                                                                   ExponentialCarryover()),\n",
       "                                                                  ('saturation',\n",
       "                                                                   ExponentialSaturation())]),\n",
       "                                                  ['tiktok'])])),\n",
       "                ('regression', LinearRegression(positive=True))])"
      ]
     },
     "execution_count": 29,
     "metadata": {},
     "output_type": "execute_result"
    }
   ],
   "source": [
    "model.fit(X_simple,y_simple)"
   ]
  },
  {
   "cell_type": "code",
   "execution_count": 30,
   "id": "79a679c7-65dc-48c6-af3b-67e3366aacd0",
   "metadata": {},
   "outputs": [],
   "source": [
    "import pickle"
   ]
  },
  {
   "cell_type": "code",
   "execution_count": 31,
   "id": "b1815256",
   "metadata": {},
   "outputs": [
    {
     "data": {
      "text/plain": [
       "array([1435.18592247, 1092.44479702,  936.9766213 , -321.76066378,\n",
       "        380.23178307, 2224.81604805, 1163.45644644, 1443.90870812,\n",
       "        301.4016359 ,  581.43870961, -243.92620379, 1790.64835948,\n",
       "       2131.26565037, 1989.33265716, 1615.30746997, 2178.06545593,\n",
       "       1687.86166961, 2055.59567139, 1780.11972833, 1858.73686006,\n",
       "       2310.17433199, 2289.04809797, 1399.40927047,  746.10751227,\n",
       "       2249.89695895, 2037.01635793,  866.48621977, 2187.10897868,\n",
       "       2202.3134249 , 1579.59583475,  581.43870961,  746.10751227,\n",
       "        880.86766201, 1795.83423478, 2301.49227214, 2104.13108641,\n",
       "       1469.55975189,  240.17488112, 1940.86928312, 1858.73686006,\n",
       "       1208.48494101, 2190.79513498, 2151.68414425, 2089.07098761,\n",
       "       1730.04599781, 1774.77591961, 2188.35000491, 2166.92433703,\n",
       "       2295.7767949 , 1889.36896936, 1649.27742818, 1371.62182648,\n",
       "       1735.83487669, 2310.28647827, 2296.25133187, 2254.08422817,\n",
       "       1494.45269274, 1641.76940802,  615.70281521, 1629.09960249,\n",
       "       2008.11362371, -657.91419666,  290.06987873, -386.42491931,\n",
       "        318.24879967,  309.89550637,  339.14641694,  301.0969326 ,\n",
       "        329.22664355,  313.79420444, -490.13381558, -263.36690949,\n",
       "       -895.91968604,  205.18868354,  352.30582182,  198.84604089,\n",
       "       -160.58021962, 2302.75287227, 2008.11362371, 1262.29586808,\n",
       "       1029.92541931, -168.39209974,   22.29667916, 1510.63791019,\n",
       "        822.46885264,  851.96024164,  380.23178307,  418.48005276,\n",
       "       1417.47647377, 2153.27765347,  301.4016359 , 2077.64972737,\n",
       "        564.04795637,  -47.430087  , 1208.48494101, 1800.96850976,\n",
       "       1272.73893851, 2050.41933098,  581.43870961,  -71.14107672,\n",
       "       -269.61201231, 1615.30746997, 1303.4488135 , 1174.88298555,\n",
       "        564.04795637,  581.43870961, 1067.8115183 , 1901.85467278,\n",
       "       1608.30727052, 1323.41616115, 1940.86928312, 1940.86928312,\n",
       "       2176.72106827, 1925.72996056,  492.71948954, 2025.80087192,\n",
       "       2157.96367654, 2154.85530701, 2225.68188267, 2120.09997984,\n",
       "       1901.85467278, 1955.41498436, 2055.59567139, 1443.90870812,\n",
       "       1969.39034049, 2131.26565037, 1526.50263886, 1820.99979878,\n",
       "       1283.07809866,  665.83104225,  936.9766213 , 1443.90870812,\n",
       "       2112.27520077, 1615.30746997,  822.46885264, -295.5559675 ,\n",
       "        792.38169807, 1104.57791385, 1017.04203244, 1323.41616115,\n",
       "       1262.29586808,  -95.09036584, 1230.33269933, 1104.44173491,\n",
       "        869.17421305, 1407.50173067, 1518.46677503, 1494.28636341,\n",
       "       1526.43635345,  -71.14107672, 2082.28686981, 1885.12313377,\n",
       "        492.71948954,   22.29667916,  418.48005276,  380.23178307,\n",
       "       1251.74784222,  336.8860074 ,  444.42639407,   11.42442022,\n",
       "       -385.79904601, -330.64740008,  565.1760716 , -766.43349807,\n",
       "       -196.43753364, -779.44178206,  154.40998034, -108.44116906,\n",
       "       -524.32545753,  244.09595212, -618.73018831, -171.47982335,\n",
       "       -111.09511741,  922.12575628,  760.52077758,  450.40768388,\n",
       "       -380.72288061, -690.68219747, -639.03286029, -591.16530551,\n",
       "       -784.8299647 ,  466.3016356 ,  925.26762792, -595.50007978,\n",
       "       1244.90031691, -234.07950188, -243.92620379,  177.08349407,\n",
       "        301.4016359 , 1526.50263886, 2011.13568348,  341.21084708,\n",
       "       1608.30727052, 1893.57255818, 1477.94051222, 1769.37840472,\n",
       "         89.96270794,  281.19646328, 1830.7189503 , 1872.12787913,\n",
       "       1208.48494101, 1262.29586808, 1917.93015877, 2255.79096671,\n",
       "       2311.74973128, 2236.18411566, 2310.75407342, 2311.80827401,\n",
       "       2311.6841618 , 2309.92505527, 2311.83133796, 2311.82595052,\n",
       "       2311.48457165, 2311.83269786, 2311.79294921, 2311.61960129,\n",
       "       2311.63403843, 2311.40739568, 2306.10091878, 2311.79374522,\n",
       "       2311.83313503, 2311.82251702, 2311.8257313 , 2311.33352287,\n",
       "       2309.45551782, 2293.72966031, 2303.021235  , 2311.83028023,\n",
       "       2311.83311831, 2311.83277963, 2300.63101084, 2288.8191044 ,\n",
       "       2308.45912977, 2310.40539196, 2311.83285256, 2311.25266626,\n",
       "       2309.86694516, 2203.40316437, 2297.15874626, 2310.50191715,\n",
       "       2310.34712409, 2311.21057652, 2303.93913564, 2311.76347265,\n",
       "       2308.92910373, 2311.83314691, 2311.72496207, 2289.721498  ,\n",
       "       2311.82882632, 2311.8012089 , 2311.10982299, 2311.7159515 ,\n",
       "       2306.79970382, 2311.74632694, 2311.75458914, 2311.80673583,\n",
       "       2311.83314763, 2311.76882962, 2311.62382982, 2309.94404112,\n",
       "       2293.36394558, 2213.72164166, 2311.83309691, 2311.79294921,\n",
       "       2311.83314893, 2311.83314893, 2311.83314893, 2311.83314893,\n",
       "       2311.83314893, 2311.83314893, 2311.83314893, 2311.83314893,\n",
       "       2311.83314893, 2311.83314893, 2311.83314893, 2311.83314893,\n",
       "       2311.83314893, 2311.83314893, 2311.83314893,  360.60456983,\n",
       "        360.60456983,  360.60456983,  360.60456983, 2311.83314893,\n",
       "       2311.83314893, 2311.83314893, 2311.83314893, 2311.83314893,\n",
       "       2311.83314893, 2311.83314893, 2311.83314893, 2311.83314893,\n",
       "       2311.83314893, 2311.83314893, 2311.83314893, 2311.83314893,\n",
       "       2311.83314893, 2311.83314893, 2311.83314893, 2311.83314893,\n",
       "       2311.83314893, 2311.83314893, 2311.83314893, 2311.83314893,\n",
       "       2311.83314893, 2311.83314893, 2311.83314893, 2311.83314893,\n",
       "       2311.83314893, 2311.83314893, 2311.83314893, 2311.83314893,\n",
       "       2311.83314893, 2311.83314893, 2311.83314893, 2311.83314893,\n",
       "       2311.83314893, 2311.83314893, 2311.83314893, 2311.83314893,\n",
       "       2311.83314893, 2311.83314893, 2311.83314893, 2311.83314893,\n",
       "       2311.83314893, 2311.83314893, 2311.83314893, 2311.83314893,\n",
       "       2311.83314892, 2306.48845296, 2311.72603854, 2311.78644352,\n",
       "       2311.83294827, 2310.51516313, 2311.58254845, 2229.05992214,\n",
       "       2286.90233212, 2261.12408547, 2279.82134649, 2311.39002036,\n",
       "       2311.71711763, 2309.3584792 , 2194.37233901, 2310.2392605 ,\n",
       "       1876.50287965, 2287.63865551, 2311.75989274, 2311.53732694,\n",
       "       2188.25499608, 2280.03694741, 2253.50383675, 2200.10081541,\n",
       "       2304.47258656, 2303.8596753 , 2306.59422811, 2310.98431804,\n",
       "       2292.41700927, 2301.17734556, 2308.32143344, 2308.84066239,\n",
       "       2295.45243503, 2311.83314893, 2311.83314893, 2311.83314893,\n",
       "       2311.83314893, 2311.83314893, 2311.83314893, 2311.83314893,\n",
       "       2311.83314893, 2311.83314893, 2311.83314893, 2311.83314893,\n",
       "       2311.83314893, 2311.83314893, 2311.83314893, 2311.83314893,\n",
       "       2311.83314893, 2311.83314893, 2311.83314893, 2311.83314893,\n",
       "       2311.83314893, 2311.83314893, 2311.83314893, 2311.83314893,\n",
       "       2311.83314893, 2311.83314893, 2311.83314893, 2311.83314893,\n",
       "       2311.83314893, 2311.83314893, 2311.83314893, 2311.83314893,\n",
       "       2311.83314893, 2311.83314893, 2311.83314893, 2311.83314893,\n",
       "       2311.83314893, 2311.83314893, 2311.83314893, 2311.83314893,\n",
       "       2311.83314893, 2311.83314893, 2311.83314893, 2311.83314893,\n",
       "       2311.83314893, 2311.83314893, 2311.83314893, 2311.83314893,\n",
       "       2311.83314893, 2311.83314893, 2311.83314893, 2311.83314893,\n",
       "       2311.83314893, 2311.83314893, 2311.83314893, 2311.83314893,\n",
       "       2311.83314893, 2311.83314893, 2311.83314893, 2311.83314893,\n",
       "       2311.83314893, 2311.83314893, 2311.83314893, 2311.83314893,\n",
       "       2311.83314893, 2311.83314893, 2311.83314893, 2311.83314893,\n",
       "       2311.83314893, 2311.83314893, 2311.83314893, 2311.83314893,\n",
       "       2311.83314893, 2311.83314893, 2311.83314893, 2311.83314893,\n",
       "       2311.83314893, 2311.83314893, 2311.83314893, 2311.83314893,\n",
       "       2311.83314893, 2311.83314893, 2311.83314893, 2311.83314893,\n",
       "       2311.83314893, 2311.83314893, 2311.83314893, 2311.83314893,\n",
       "       2311.83314893, 2311.83314893, 2311.83314893, 2311.83314893,\n",
       "       2311.83314893, 2311.83314893, 2311.83314893, 2311.83314893,\n",
       "       2311.83314893, 2311.83314893, 2311.83314893, 2311.83314893,\n",
       "       2311.83314893, 2311.83314893, 2311.83314893, 2311.83314893,\n",
       "       2311.83314893, 2311.83314893, 2311.83314893, 2311.83314893,\n",
       "       2311.83314893, 2311.83314893, 2311.83314893, 2311.83314893,\n",
       "       2311.83314893, 2311.83314893, 2311.83314893, 2311.83314893,\n",
       "       2311.83314893, 2311.83314893, 2311.83314893, 2311.83314893,\n",
       "       2311.83314893, 2311.83314893, 2311.83314893, 2311.83314893,\n",
       "       2311.83314893, 2311.83314893, 2311.83314893, 2311.83314893,\n",
       "       2311.83314893, 2311.83314893, 2311.83314893, 2311.83314893,\n",
       "       2311.83314893, 2311.83314893, 2311.83314893, 2311.83314893,\n",
       "       2311.83314893, 2311.83314893, 2311.83314893, 2311.83314893,\n",
       "       2311.83314893, 2311.83314893, 2311.83314893, 2311.83314893,\n",
       "       2311.83314893, 2311.83314893, 2311.83314893, 2311.83314893,\n",
       "       2311.83314893, 2311.83314893, 2311.83314893, 2311.83314893,\n",
       "       2311.83314893, 2311.83314893, 2311.83314893, 2311.83314893,\n",
       "       2311.83314893, 2311.83314893, 2311.83314893, 2311.83314893,\n",
       "       2311.83314893, 2311.83314893, 2311.83314893, 2311.83314893,\n",
       "       2311.83314893, 2311.83314893, 2311.83314893, 2311.83314893,\n",
       "       2311.83314893, 2311.83314893, 2311.83314893, 2311.83314893,\n",
       "       2311.83314893, 2311.83314893, 2311.83314893, 2311.83314893,\n",
       "       2311.83314893, 2311.83314893, 2311.83314893, 2311.83314893,\n",
       "       2311.83314893, 2311.83314893,  360.60456979,  360.60456525,\n",
       "       2311.83311299, 2311.83304213, 2311.83310392, 2311.83314893,\n",
       "       2311.83314893, 2311.83314893, 2311.83314893, 2311.83314893,\n",
       "       2311.83314893, 2311.83314893, 2311.83314893, 2311.83314893,\n",
       "       2311.83314893, 2311.83314893, 2311.83314893, 2311.83314893,\n",
       "       2311.83314893, 2311.83314893, 2311.83314893, 2311.83314893,\n",
       "       2311.83314893, 2311.83314893, 2311.83314893, 2311.83314893,\n",
       "       2311.83314893, 2311.83314893, 2311.83314893, 2311.83314893,\n",
       "       2311.83314893, 2311.83314893, 2311.83314893, 2311.83314893,\n",
       "       2311.83314893, 2311.83314893, 2311.83314893, 2311.83314893,\n",
       "       2311.83314893, 2311.83314893, 2311.83314893, 2311.83314893,\n",
       "       2311.83314893, 2311.83314893, 2311.83314893, 2311.83314893,\n",
       "       2311.83314893, 2311.83314893, 2311.83314893, 2311.83314893,\n",
       "       2311.83314893, 2311.83314893, 2311.83314893, 2311.83314893,\n",
       "       2311.83314893, 2311.83314893, 2311.83314893, 2311.83314893,\n",
       "       2311.83314893, 2311.83314893, 2311.83314893, 2311.83314893,\n",
       "       2311.83314893, 2311.83314893, 2311.83314893, 2311.83314893,\n",
       "       2311.83314893, 2311.83314893, 2311.83314893, 2311.83314893,\n",
       "       2311.83314893, 2311.83314893, 2311.83314893, 2311.83314893,\n",
       "       2311.83314893, 2311.83314893, 2311.83314893, 2311.83314893,\n",
       "       2311.83314893, 2311.83314893, 2311.83314893, 2311.83314893,\n",
       "       2311.83314893, 2311.83314893, 2311.83314893, 2311.83314893,\n",
       "       2311.83314893, 2311.83314893, 2311.83314893, 2311.83314893,\n",
       "       2311.83314893, 2311.83314893, 2311.83314893, 2311.83314893,\n",
       "       2311.83314893, 2311.83314893, 2311.83314893, 2311.83314893,\n",
       "       2311.83314893, 2311.83314893, 2311.83314893, 2311.83314893,\n",
       "       2311.83314893, 2311.83314893, 2311.83314893, 2311.83314893,\n",
       "       2311.83314893, 2311.83314893, 2311.83314893, 2311.83314893,\n",
       "       2311.83314893, 2311.83314893, 2311.83314893, 2311.83314893,\n",
       "       2311.83314893, 2311.83314893, 2311.83314893, 2311.83314893,\n",
       "       2311.83314893, 2311.83314893, 2311.83314893, 2311.83314893,\n",
       "       2311.83314893, 2311.83314893, 2311.83314893, 2311.83314893,\n",
       "       2311.83314893, 2311.83314893, 2311.83314893, 2311.83314893,\n",
       "       2311.83314893, 2311.83314893, 2311.83314893, 2311.83314893,\n",
       "       2311.83314893, 2311.83314893, 2311.83314893, 2311.83314893,\n",
       "       2311.83314893, 2311.83314893, 2311.83314893, 2311.83314893,\n",
       "       2311.83314893, 2311.83314893, 2311.83314893, 2311.83314893,\n",
       "       2311.83314893, 2311.83314893, 2311.83314893, 2311.83314893,\n",
       "       2311.83314893, 2311.83314893, 2311.83314893, 2311.83314893,\n",
       "       2311.83314893, 2311.83314893, 2311.83314893, 2311.83314893,\n",
       "       2311.83314893, 2311.83314893, 2311.83314893, 2311.83314893,\n",
       "       2311.83314893, 2311.83314893, 2311.83314893, 2311.83314893,\n",
       "       2311.83314893, 2311.83314893, 2311.83314893, 2311.83314893,\n",
       "       2311.83314893, 2311.83314893, 2311.83314893, 2311.83314893,\n",
       "       2311.83314893, 2311.83314893, 2311.83314893, 2311.83314893,\n",
       "       2311.83314893, 2311.83314893, 2311.83314893, 2311.83314893,\n",
       "       2311.83314893, 2311.83314893, 2311.83314893, 2311.83314893,\n",
       "       2311.83314893, 2311.83314893, 2311.83314893, 2311.83314893,\n",
       "       2311.83314893, 2311.83314893, 2311.83314893, 2311.83314893,\n",
       "       2311.83314893, 2311.83314893, 2311.83314893, 2311.83314893,\n",
       "       2311.83314893, 2311.83314893, 2311.83314893, 2311.83314893,\n",
       "       2311.83314893, 2311.83314893, 2311.83314893, 2311.83314893,\n",
       "       2311.83314893, 2311.83314893, 2311.83314893, 2311.83314893,\n",
       "       2311.83314893, 2311.83314893, 2311.83314893, 2311.83314893,\n",
       "       2311.83314893, 2311.83314893, 2311.83314893, 2311.83314893,\n",
       "       2311.83314893, 2311.83314893, 2311.83314893, 2311.83314893,\n",
       "       2311.83314893, 2311.83314893, 2311.83314893, 2311.83314893,\n",
       "       2311.83314893, 2311.83314893, 2311.83314893, 2311.83314893,\n",
       "       2311.83314893, 2311.83314893, 2311.83314893, 2311.83314893,\n",
       "       2311.83314893, 2311.83314893, 2311.83314893, 2311.83314893,\n",
       "       2311.83314893, 2311.83314893, 2311.83314893, 2311.83314893,\n",
       "       2311.83314893])"
      ]
     },
     "execution_count": 31,
     "metadata": {},
     "output_type": "execute_result"
    }
   ],
   "source": [
    "model.predict(X_simple)"
   ]
  },
  {
   "cell_type": "code",
   "execution_count": null,
   "id": "d66a0d67",
   "metadata": {},
   "outputs": [],
   "source": []
  },
  {
   "cell_type": "code",
   "execution_count": null,
   "id": "bbb5ce71",
   "metadata": {},
   "outputs": [],
   "source": []
  },
  {
   "cell_type": "code",
   "execution_count": 1,
   "id": "89bbb21f-f93d-424a-92c3-890ee02a393b",
   "metadata": {},
   "outputs": [],
   "source": [
    "# with open('pipelines/pipeline.pkl', 'wb') as file:\n",
    "#         pickle.dump(model, file)"
   ]
  },
  {
   "cell_type": "code",
   "execution_count": 32,
   "id": "97190bb2-b485-41c4-a36e-d889b6fb4db3",
   "metadata": {},
   "outputs": [
    {
     "name": "stdout",
     "output_type": "stream",
     "text": [
      "pipeline-2023-08-31.pkl\n"
     ]
    }
   ],
   "source": [
    "!ls ../../pipelines"
   ]
  },
  {
   "cell_type": "code",
   "execution_count": 33,
   "id": "e9bfab27-db9c-48bd-b71e-4da1fc31dc6b",
   "metadata": {},
   "outputs": [],
   "source": [
    "pathpipeline = '../../pipelines/pipeline-2023-08-31.pkl'"
   ]
  },
  {
   "cell_type": "code",
   "execution_count": 36,
   "id": "5be6efbe-5d2b-4aab-8c3b-750dfef15d4b",
   "metadata": {},
   "outputs": [],
   "source": [
    "pipeline_loaded = pickle.load(open(pathpipeline, 'rb'))\n"
   ]
  },
  {
   "cell_type": "code",
   "execution_count": 43,
   "id": "35dc48c6-d662-4fdd-a479-4cfd57009867",
   "metadata": {},
   "outputs": [
    {
     "data": {
      "text/html": [
       "<div>\n",
       "<style scoped>\n",
       "    .dataframe tbody tr th:only-of-type {\n",
       "        vertical-align: middle;\n",
       "    }\n",
       "\n",
       "    .dataframe tbody tr th {\n",
       "        vertical-align: top;\n",
       "    }\n",
       "\n",
       "    .dataframe thead th {\n",
       "        text-align: right;\n",
       "    }\n",
       "</style>\n",
       "<table border=\"1\" class=\"dataframe\">\n",
       "  <thead>\n",
       "    <tr style=\"text-align: right;\">\n",
       "      <th></th>\n",
       "      <th>orders</th>\n",
       "      <th>total_sales</th>\n",
       "      <th>facebook</th>\n",
       "      <th>google</th>\n",
       "      <th>tiktok</th>\n",
       "    </tr>\n",
       "  </thead>\n",
       "  <tbody>\n",
       "    <tr>\n",
       "      <th>2021-07-01</th>\n",
       "      <td>10.0</td>\n",
       "      <td>414.85</td>\n",
       "      <td>257.01</td>\n",
       "      <td>1.17</td>\n",
       "      <td>0.0</td>\n",
       "    </tr>\n",
       "  </tbody>\n",
       "</table>\n",
       "</div>"
      ],
      "text/plain": [
       "            orders  total_sales  facebook  google  tiktok\n",
       "2021-07-01    10.0       414.85    257.01    1.17     0.0"
      ]
     },
     "execution_count": 43,
     "metadata": {},
     "output_type": "execute_result"
    }
   ],
   "source": [
    "pd.DataFrame(simple_df.iloc[0]).T"
   ]
  },
  {
   "cell_type": "code",
   "execution_count": 52,
   "id": "9c9a0d0a-0b90-4868-a840-0aab287e5d95",
   "metadata": {},
   "outputs": [],
   "source": [
    "inputdata = simple_df.iloc[0].T.values"
   ]
  },
  {
   "cell_type": "code",
   "execution_count": 64,
   "id": "2afb097b-67f8-40a9-97fb-766e95c4d62d",
   "metadata": {},
   "outputs": [
    {
     "data": {
      "text/plain": [
       "array([1435.18592247])"
      ]
     },
     "execution_count": 64,
     "metadata": {},
     "output_type": "execute_result"
    }
   ],
   "source": [
    "pipeline_loaded.predict(query_sale_predict(\"2021-07-01\", inputdata[0], inputdata[1], inputdata[2], inputdata[3], inputdata[4]))"
   ]
  },
  {
   "cell_type": "code",
   "execution_count": 62,
   "id": "bd73c9db-8f06-4a7b-8c4c-ccf4b1ec627e",
   "metadata": {},
   "outputs": [],
   "source": [
    "def query_sale_predict(date: str, total_sales: float, orders: int, facebook: float, google: float, tiktok: float):\n",
    "    \"\"\"\n",
    "    Returns predicted sales data from \"df\" according to cost input data\n",
    "    \"\"\"\n",
    "    \n",
    "    dict_feat = {\n",
    "        \"total_sales\": total_sales,\n",
    "        \"orders\": orders, \"google\": google, \n",
    "        \"facebook\": facebook, \"tiktok\": tiktok\n",
    "    }\n",
    "    X_pred = pd.DataFrame(dict_feat, index=[date])\n",
    "    \n",
    "    return X_pred"
   ]
  },
  {
   "cell_type": "code",
   "execution_count": 63,
   "id": "6937b1ec-bc74-48df-bbc8-d4e4ffa676c7",
   "metadata": {},
   "outputs": [
    {
     "data": {
      "text/html": [
       "<div>\n",
       "<style scoped>\n",
       "    .dataframe tbody tr th:only-of-type {\n",
       "        vertical-align: middle;\n",
       "    }\n",
       "\n",
       "    .dataframe tbody tr th {\n",
       "        vertical-align: top;\n",
       "    }\n",
       "\n",
       "    .dataframe thead th {\n",
       "        text-align: right;\n",
       "    }\n",
       "</style>\n",
       "<table border=\"1\" class=\"dataframe\">\n",
       "  <thead>\n",
       "    <tr style=\"text-align: right;\">\n",
       "      <th></th>\n",
       "      <th>total_sales</th>\n",
       "      <th>orders</th>\n",
       "      <th>google</th>\n",
       "      <th>facebook</th>\n",
       "      <th>tiktok</th>\n",
       "    </tr>\n",
       "  </thead>\n",
       "  <tbody>\n",
       "    <tr>\n",
       "      <th>2021-07-01</th>\n",
       "      <td>10.0</td>\n",
       "      <td>414.85</td>\n",
       "      <td>1.17</td>\n",
       "      <td>257.01</td>\n",
       "      <td>0.0</td>\n",
       "    </tr>\n",
       "  </tbody>\n",
       "</table>\n",
       "</div>"
      ],
      "text/plain": [
       "            total_sales  orders  google  facebook  tiktok\n",
       "2021-07-01         10.0  414.85    1.17    257.01     0.0"
      ]
     },
     "execution_count": 63,
     "metadata": {},
     "output_type": "execute_result"
    }
   ],
   "source": [
    "query_sale_predict(\"2021-07-01\", inputdata[0], inputdata[1], inputdata[2], inputdata[3], inputdata[4])"
   ]
  },
  {
   "cell_type": "code",
   "execution_count": 54,
   "id": "be9b52b6-9481-45fc-8e94-3cb982cb9c66",
   "metadata": {},
   "outputs": [
    {
     "data": {
      "text/plain": [
       "[10.0, 414.85, 257.01, 1.17, 0.0]"
      ]
     },
     "execution_count": 54,
     "metadata": {},
     "output_type": "execute_result"
    }
   ],
   "source": [
    "[data for data in inputdata]"
   ]
  },
  {
   "cell_type": "code",
   "execution_count": 57,
   "id": "1de8deb7-f75c-4b4e-8e83-a6ec8897b13a",
   "metadata": {},
   "outputs": [
    {
     "ename": "TypeError",
     "evalue": "sequence item 0: expected str instance, numpy.float64 found",
     "output_type": "error",
     "traceback": [
      "\u001b[0;31m---------------------------------------------------------------------------\u001b[0m",
      "\u001b[0;31mTypeError\u001b[0m                                 Traceback (most recent call last)",
      "Cell \u001b[0;32mIn[57], line 1\u001b[0m\n\u001b[0;32m----> 1\u001b[0m \u001b[38;5;124;43m\"\u001b[39;49m\u001b[38;5;124;43m,\u001b[39;49m\u001b[38;5;124;43m\"\u001b[39;49m\u001b[38;5;241;43m.\u001b[39;49m\u001b[43mjoin\u001b[49m\u001b[43m(\u001b[49m\u001b[43m[\u001b[49m\u001b[43mdata\u001b[49m\u001b[43m \u001b[49m\u001b[38;5;28;43;01mfor\u001b[39;49;00m\u001b[43m \u001b[49m\u001b[43mdata\u001b[49m\u001b[43m \u001b[49m\u001b[38;5;129;43;01min\u001b[39;49;00m\u001b[43m \u001b[49m\u001b[43minputdata\u001b[49m\u001b[43m]\u001b[49m\u001b[43m)\u001b[49m\n",
      "\u001b[0;31mTypeError\u001b[0m: sequence item 0: expected str instance, numpy.float64 found"
     ]
    }
   ],
   "source": [
    "\",\".join([data for data in inputdata])"
   ]
  },
  {
   "cell_type": "code",
   "execution_count": null,
   "id": "8b367268-6c74-47cc-bfb1-9546f45ac890",
   "metadata": {},
   "outputs": [],
   "source": []
  }
 ],
 "metadata": {
  "kernelspec": {
   "display_name": "Python 3 (ipykernel)",
   "language": "python",
   "name": "python3"
  },
  "language_info": {
   "codemirror_mode": {
    "name": "ipython",
    "version": 3
   },
   "file_extension": ".py",
   "mimetype": "text/x-python",
   "name": "python",
   "nbconvert_exporter": "python",
   "pygments_lexer": "ipython3",
   "version": "3.10.6"
  },
  "toc": {
   "base_numbering": 1,
   "nav_menu": {},
   "number_sections": true,
   "sideBar": true,
   "skip_h1_title": false,
   "title_cell": "Table of Contents",
   "title_sidebar": "Contents",
   "toc_cell": false,
   "toc_position": {},
   "toc_section_display": true,
   "toc_window_display": false
  }
 },
 "nbformat": 4,
 "nbformat_minor": 5
}
