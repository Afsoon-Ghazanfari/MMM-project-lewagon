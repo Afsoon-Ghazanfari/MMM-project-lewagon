{
 "cells": [
  {
   "cell_type": "code",
   "execution_count": null,
   "metadata": {},
   "outputs": [],
   "source": [
    "import pandas as pd\n",
    "\n",
    "import numpy as np"
   ]
  },
  {
   "cell_type": "code",
   "execution_count": 13,
   "metadata": {},
   "outputs": [],
   "source": [
    "shop_data = pd.read_csv('../raw_data/sales_data.csv')\n",
    "\n",
    "google_data = pd.read_csv('../raw_data/google_data.csv')\n",
    "\n",
    "tiktok_data = pd.read_csv('../raw_data/tiktok_data.csv')\n",
    "\n",
    "facebook_data = pd.read_csv('../raw_data/facebook_data.csv')"
   ]
  },
  {
   "cell_type": "code",
   "execution_count": 17,
   "metadata": {},
   "outputs": [
    {
     "data": {
      "text/plain": [
       "(1630, 4)"
      ]
     },
     "execution_count": 17,
     "metadata": {},
     "output_type": "execute_result"
    }
   ],
   "source": [
    "shop_data.shape"
   ]
  },
  {
   "cell_type": "code",
   "execution_count": 8,
   "metadata": {},
   "outputs": [
    {
     "name": "stdout",
     "output_type": "stream",
     "text": [
      "<class 'pandas.core.frame.DataFrame'>\n",
      "RangeIndex: 1630 entries, 0 to 1629\n",
      "Data columns (total 4 columns):\n",
      " #   Column            Non-Null Count  Dtype  \n",
      "---  ------            --------------  -----  \n",
      " 0   day               1630 non-null   object \n",
      " 1   shipping_country  1597 non-null   object \n",
      " 2   orders            1630 non-null   int64  \n",
      " 3   total_sales       1630 non-null   float64\n",
      "dtypes: float64(1), int64(1), object(2)\n",
      "memory usage: 51.1+ KB\n"
     ]
    }
   ],
   "source": [
    "shop_data.info()"
   ]
  },
  {
   "cell_type": "code",
   "execution_count": 12,
   "metadata": {},
   "outputs": [
    {
     "data": {
      "text/plain": [
       "day                  785\n",
       "shipping_country       4\n",
       "orders               141\n",
       "total_sales         1323\n",
       "dtype: int64"
      ]
     },
     "execution_count": 12,
     "metadata": {},
     "output_type": "execute_result"
    }
   ],
   "source": [
    "shop_data.nunique()"
   ]
  },
  {
   "cell_type": "code",
   "execution_count": 20,
   "metadata": {},
   "outputs": [],
   "source": [
    "#shop_data.isna().sum()"
   ]
  },
  {
   "cell_type": "code",
   "execution_count": 21,
   "metadata": {},
   "outputs": [],
   "source": [
    "#shop_data.duplicated().sum()"
   ]
  },
  {
   "cell_type": "code",
   "execution_count": 22,
   "metadata": {},
   "outputs": [
    {
     "data": {
      "text/plain": [
       "Tag             34\n",
       "Währungscode     1\n",
       "Kosten          34\n",
       "Conversions     34\n",
       "Impressionen    34\n",
       "Klicks          33\n",
       "dtype: int64"
      ]
     },
     "execution_count": 22,
     "metadata": {},
     "output_type": "execute_result"
    }
   ],
   "source": [
    "google_data.nunique()"
   ]
  },
  {
   "cell_type": "code",
   "execution_count": 23,
   "metadata": {},
   "outputs": [
    {
     "data": {
      "text/plain": [
       "Date                            154\n",
       "Cost                            124\n",
       "Impression                      154\n",
       "Clicks (Destination)            143\n",
       "Reach                           154\n",
       "Total Complete Payment           25\n",
       "Total Complete Payment Value    133\n",
       "Currency                          1\n",
       "dtype: int64"
      ]
     },
     "execution_count": 23,
     "metadata": {},
     "output_type": "execute_result"
    }
   ],
   "source": [
    "tiktok_data.nunique()"
   ]
  },
  {
   "cell_type": "code",
   "execution_count": 24,
   "metadata": {},
   "outputs": [
    {
     "data": {
      "text/plain": [
       "Day                   859\n",
       "Amount spent (EUR)    845\n",
       "Impressions           857\n",
       "Reach                 853\n",
       "Link clicks           534\n",
       "Reporting starts        1\n",
       "Reporting ends          1\n",
       "dtype: int64"
      ]
     },
     "execution_count": 24,
     "metadata": {},
     "output_type": "execute_result"
    }
   ],
   "source": [
    "facebook_data.nunique()"
   ]
  },
  {
   "cell_type": "code",
   "execution_count": null,
   "metadata": {},
   "outputs": [],
   "source": []
  }
 ],
 "metadata": {
  "kernelspec": {
   "display_name": "Python 3 (ipykernel)",
   "language": "python",
   "name": "python3"
  },
  "language_info": {
   "codemirror_mode": {
    "name": "ipython",
    "version": 3
   },
   "file_extension": ".py",
   "mimetype": "text/x-python",
   "name": "python",
   "nbconvert_exporter": "python",
   "pygments_lexer": "ipython3",
   "version": "3.10.6"
  }
 },
 "nbformat": 4,
 "nbformat_minor": 4
}
