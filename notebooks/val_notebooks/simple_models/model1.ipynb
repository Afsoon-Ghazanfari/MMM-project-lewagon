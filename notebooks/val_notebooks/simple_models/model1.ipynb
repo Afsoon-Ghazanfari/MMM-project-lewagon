{
 "cells": [
  {
   "cell_type": "markdown",
   "metadata": {},
   "source": [
    "# Imports"
   ]
  },
  {
   "cell_type": "code",
   "execution_count": 1,
   "metadata": {},
   "outputs": [],
   "source": [
    "import pandas as pd\n",
    "import numpy as np\n",
    "\n",
    "from mamimo.time_utils import add_time_features\n",
    "from mamimo.carryover import ExponentialCarryover, GeneralGaussianCarryover\n",
    "from mamimo.saturation import ExponentialSaturation, BoxCoxSaturation, AdbudgSaturation, HillSaturation\n",
    "\n",
    "from sklearn.model_selection import TimeSeriesSplit, GridSearchCV, RandomizedSearchCV, learning_curve\n",
    "from sklearn.preprocessing import FunctionTransformer, OneHotEncoder\n",
    "from sklearn.base import BaseEstimator, TransformerMixin, OneToOneFeatureMixin\n",
    "\n",
    "from sklearn.linear_model import LinearRegression\n",
    "from sklearn.compose import ColumnTransformer\n",
    "from sklearn.pipeline import Pipeline, FeatureUnion\n",
    "\n",
    "from sklearn.metrics import mean_squared_error\n",
    "from sklearn.metrics import mean_absolute_error\n",
    "\n",
    "import scipy.stats as stats\n",
    "\n",
    "import holidays\n",
    "\n",
    "import seaborn as sns\n",
    "import matplotlib.pyplot as plt"
   ]
  },
  {
   "cell_type": "markdown",
   "metadata": {},
   "source": [
    "# Load DataFrame"
   ]
  },
  {
   "cell_type": "code",
   "execution_count": 2,
   "metadata": {},
   "outputs": [],
   "source": [
    "\n",
    "df = pd.read_csv('../../../raw_data/df.csv')\n",
    "df = df.drop(columns='Unnamed: 0')\n",
    "df['Day'] = pd.to_datetime(df['Day'])\n",
    "df.set_index('Day', inplace=True)\n",
    "df = df.rename(columns={\"fb_costs\": \"facebook\", \"google_costs\": \"google\", \"tt_costs\": \"tiktok\"})\n",
    "df['day'] = df.index # we will use this in our column transformer\n",
    "df = df.drop(columns = ['fb_impressions', 'fb_clicks', 'google_impressions', 'google_clicks', 'tt_impressions', 'tt_clicks', 'orders'])"
   ]
  },
  {
   "cell_type": "markdown",
   "metadata": {},
   "source": [
    "# Split Data"
   ]
  },
  {
   "cell_type": "code",
   "execution_count": 3,
   "metadata": {},
   "outputs": [],
   "source": [
    "n_splits = 5  # Number of splits for cross-validation\n",
    "tscv = TimeSeriesSplit(n_splits=n_splits)\n",
    "\n",
    "for train_index, test_index in tscv.split(df):\n",
    "    train_df = df.iloc[train_index]\n",
    "    test_df = df.iloc[test_index]\n",
    "\n",
    "\n",
    "y_train = train_df['total_sales']\n",
    "X_train = train_df.drop(columns = ['total_sales'])\n",
    "\n",
    "\n",
    "y_test = test_df['total_sales']\n",
    "X_test = test_df.drop(columns = ['total_sales'])"
   ]
  },
  {
   "cell_type": "code",
   "execution_count": 4,
   "metadata": {},
   "outputs": [
    {
     "data": {
      "text/html": [
       "<div>\n",
       "<style scoped>\n",
       "    .dataframe tbody tr th:only-of-type {\n",
       "        vertical-align: middle;\n",
       "    }\n",
       "\n",
       "    .dataframe tbody tr th {\n",
       "        vertical-align: top;\n",
       "    }\n",
       "\n",
       "    .dataframe thead th {\n",
       "        text-align: right;\n",
       "    }\n",
       "</style>\n",
       "<table border=\"1\" class=\"dataframe\">\n",
       "  <thead>\n",
       "    <tr style=\"text-align: right;\">\n",
       "      <th></th>\n",
       "      <th>facebook</th>\n",
       "      <th>google</th>\n",
       "      <th>tiktok</th>\n",
       "      <th>day</th>\n",
       "    </tr>\n",
       "    <tr>\n",
       "      <th>Day</th>\n",
       "      <th></th>\n",
       "      <th></th>\n",
       "      <th></th>\n",
       "      <th></th>\n",
       "    </tr>\n",
       "  </thead>\n",
       "  <tbody>\n",
       "    <tr>\n",
       "      <th>2021-07-01</th>\n",
       "      <td>257.01</td>\n",
       "      <td>1.17</td>\n",
       "      <td>0.00</td>\n",
       "      <td>2021-07-01</td>\n",
       "    </tr>\n",
       "    <tr>\n",
       "      <th>2021-07-02</th>\n",
       "      <td>250.30</td>\n",
       "      <td>0.84</td>\n",
       "      <td>0.00</td>\n",
       "      <td>2021-07-02</td>\n",
       "    </tr>\n",
       "    <tr>\n",
       "      <th>2021-07-03</th>\n",
       "      <td>248.59</td>\n",
       "      <td>0.72</td>\n",
       "      <td>0.00</td>\n",
       "      <td>2021-07-03</td>\n",
       "    </tr>\n",
       "    <tr>\n",
       "      <th>2021-07-04</th>\n",
       "      <td>258.05</td>\n",
       "      <td>0.07</td>\n",
       "      <td>0.00</td>\n",
       "      <td>2021-07-04</td>\n",
       "    </tr>\n",
       "    <tr>\n",
       "      <th>2021-07-05</th>\n",
       "      <td>257.47</td>\n",
       "      <td>0.38</td>\n",
       "      <td>0.00</td>\n",
       "      <td>2021-07-05</td>\n",
       "    </tr>\n",
       "    <tr>\n",
       "      <th>...</th>\n",
       "      <td>...</td>\n",
       "      <td>...</td>\n",
       "      <td>...</td>\n",
       "      <td>...</td>\n",
       "    </tr>\n",
       "    <tr>\n",
       "      <th>2023-04-12</th>\n",
       "      <td>885.33</td>\n",
       "      <td>208.52</td>\n",
       "      <td>209.03</td>\n",
       "      <td>2023-04-12</td>\n",
       "    </tr>\n",
       "    <tr>\n",
       "      <th>2023-04-13</th>\n",
       "      <td>882.17</td>\n",
       "      <td>186.47</td>\n",
       "      <td>208.82</td>\n",
       "      <td>2023-04-13</td>\n",
       "    </tr>\n",
       "    <tr>\n",
       "      <th>2023-04-14</th>\n",
       "      <td>662.08</td>\n",
       "      <td>160.69</td>\n",
       "      <td>216.38</td>\n",
       "      <td>2023-04-14</td>\n",
       "    </tr>\n",
       "    <tr>\n",
       "      <th>2023-04-15</th>\n",
       "      <td>481.71</td>\n",
       "      <td>149.16</td>\n",
       "      <td>239.65</td>\n",
       "      <td>2023-04-15</td>\n",
       "    </tr>\n",
       "    <tr>\n",
       "      <th>2023-04-16</th>\n",
       "      <td>774.89</td>\n",
       "      <td>227.99</td>\n",
       "      <td>239.66</td>\n",
       "      <td>2023-04-16</td>\n",
       "    </tr>\n",
       "  </tbody>\n",
       "</table>\n",
       "<p>655 rows × 4 columns</p>\n",
       "</div>"
      ],
      "text/plain": [
       "            facebook  google  tiktok        day\n",
       "Day                                            \n",
       "2021-07-01    257.01    1.17    0.00 2021-07-01\n",
       "2021-07-02    250.30    0.84    0.00 2021-07-02\n",
       "2021-07-03    248.59    0.72    0.00 2021-07-03\n",
       "2021-07-04    258.05    0.07    0.00 2021-07-04\n",
       "2021-07-05    257.47    0.38    0.00 2021-07-05\n",
       "...              ...     ...     ...        ...\n",
       "2023-04-12    885.33  208.52  209.03 2023-04-12\n",
       "2023-04-13    882.17  186.47  208.82 2023-04-13\n",
       "2023-04-14    662.08  160.69  216.38 2023-04-14\n",
       "2023-04-15    481.71  149.16  239.65 2023-04-15\n",
       "2023-04-16    774.89  227.99  239.66 2023-04-16\n",
       "\n",
       "[655 rows x 4 columns]"
      ]
     },
     "execution_count": 4,
     "metadata": {},
     "output_type": "execute_result"
    }
   ],
   "source": [
    "X_train"
   ]
  },
  {
   "cell_type": "markdown",
   "metadata": {},
   "source": [
    "# Create Custom Tranformers"
   ]
  },
  {
   "cell_type": "markdown",
   "metadata": {},
   "source": [
    "## Time Features"
   ]
  },
  {
   "cell_type": "markdown",
   "metadata": {},
   "source": [
    "### Holidays"
   ]
  },
  {
   "cell_type": "code",
   "execution_count": 5,
   "metadata": {},
   "outputs": [],
   "source": [
    "class AddHolidaysTransformer(BaseEstimator, TransformerMixin):\n",
    "    def fit(self, X, y=None):\n",
    "        # This transformer doesn't need to learn any parameters during fitting,\n",
    "        # so we simply return self.\n",
    "        return self\n",
    "\n",
    "    def transform(self, X):\n",
    "        \"\"\"Creates a new column with row value = 1 if the day is a Friday or Saturday and 0 if not.\"\"\"\n",
    "        df = X.copy()  # Create a copy of the input DataFrame to avoid modifying it directly\n",
    "        de_holiday_list = []\n",
    "        for holiday in holidays.Germany(years=[2021,2022,2023]).items():\n",
    "            de_holiday_list.append(holiday)\n",
    "        de_holidays_df = pd.DataFrame(de_holiday_list, columns=[\"date\", \"holiday\"])\n",
    "        de_holidays_df['date'] = pd.to_datetime(de_holidays_df['date'])\n",
    "        de_holidays_df.set_index('date', inplace=True)\n",
    "        \n",
    "        at_holiday_list = []\n",
    "        for holiday in holidays.Austria(years=[2021,2022,2023]).items():\n",
    "            at_holiday_list.append(holiday)\n",
    "        at_holidays_df = pd.DataFrame(at_holiday_list, columns=[\"date\", \"holiday\"])\n",
    "        at_holidays_df['date'] = pd.to_datetime(at_holidays_df['date'])\n",
    "        at_holidays_df.set_index('date', inplace=True)\n",
    "\n",
    "        # add DE holidays to df\n",
    "        merged_df = df.merge(de_holidays_df, how='left', left_index=True, right_index=True)\n",
    "        merged_df['de_holiday'] = merged_df.index.isin(de_holidays_df.index).astype(int)\n",
    "        merged_df.drop(columns=['holiday'], inplace=True)\n",
    "        \n",
    "        # add AT holidays to df\n",
    "        at_holidays_df['at_holiday'] = 1 # add a 1 column to austrian holidays dataframe to help us merge with DE holidays\n",
    "        merged_df = merged_df.merge(at_holidays_df[['at_holiday']], how='left', left_index=True, right_index=True)\n",
    "        merged_df.head() # creates two columns (at_holiday_x, at_holiday_y), we only need one\n",
    "        merged_df['at_holiday'].fillna(0, inplace=True) # replace NaN (no holiday) with 0\n",
    "        merged_df['at_holiday'] = merged_df['at_holiday'].astype(int) # convert 1 and 0 to integers\n",
    "        \n",
    "        # combine columns\n",
    "        merged_df['holiday'] = (merged_df['at_holiday'] | merged_df['de_holiday']).astype(int)\n",
    "        merged_df = merged_df.drop(columns = ['de_holiday', 'at_holiday']) # drop individual DE and AT rows\n",
    "        \n",
    "        return merged_df[['holiday']]#.reset_index(drop=True)\n"
   ]
  },
  {
   "cell_type": "markdown",
   "metadata": {},
   "source": [
    "### Weekends"
   ]
  },
  {
   "cell_type": "code",
   "execution_count": 6,
   "metadata": {},
   "outputs": [],
   "source": [
    "class AddWeekendsTransformer(BaseEstimator, TransformerMixin):\n",
    "    def fit(self, X, y=None):\n",
    "        # This transformer doesn't need to learn any parameters during fitting,\n",
    "        # so we simply return self.\n",
    "        return self\n",
    "\n",
    "    def transform(self, X):\n",
    "        \"\"\"Creates a new column with row value = 1 if the day is a Friday or Saturday and 0 if not.\"\"\"\n",
    "        df = X.copy()  # Create a copy of the input DataFrame to avoid modifying it directly\n",
    "        weekday_values = df.index.weekday\n",
    "        df['fri_sat'] = ((weekday_values == 4) | (weekday_values == 5)).astype(int)\n",
    "        return df[['fri_sat']]"
   ]
  },
  {
   "cell_type": "markdown",
   "metadata": {},
   "source": [
    "### Cyclical months"
   ]
  },
  {
   "cell_type": "code",
   "execution_count": 7,
   "metadata": {},
   "outputs": [],
   "source": [
    "class AddMonthsTransformer(BaseEstimator, TransformerMixin):\n",
    "    def fit(self, X, y=None):\n",
    "        # This transformer doesn't need to learn any parameters during fitting,\n",
    "        # so we simply return self.\n",
    "        return self\n",
    "\n",
    "    def transform(self, X):\n",
    "        df = X.copy()  # Create a copy of the input DataFrame to avoid modifying it directly\n",
    "        df = (df\n",
    "        .pipe(add_time_features, month=True)\n",
    "        )\n",
    "        \n",
    "        months_in_a_year = 12\n",
    "\n",
    "        df['sin_MonthYear'] = np.sin(2*np.pi*(df['month'])/months_in_a_year)\n",
    "        df['cos_MonthYear'] = np.cos(2*np.pi*(df['month'])/months_in_a_year)\n",
    "        df.drop(columns=['month'], inplace=True)\n",
    "        \n",
    "        return df[['sin_MonthYear', 'cos_MonthYear']]"
   ]
  },
  {
   "cell_type": "code",
   "execution_count": 8,
   "metadata": {},
   "outputs": [],
   "source": [
    "gg_carryover_transformation = GeneralGaussianCarryover(tails = 'both')"
   ]
  },
  {
   "cell_type": "markdown",
   "metadata": {},
   "source": [
    "## Adstock\n",
    "* comes from `mamimo` package, explained [here](https://towardsdatascience.com/an-upgraded-marketing-mix-modeling-in-python-5ebb3bddc1b6)"
   ]
  },
  {
   "cell_type": "code",
   "execution_count": 9,
   "metadata": {},
   "outputs": [],
   "source": [
    "adstock1 = ColumnTransformer(\n",
    "    [\n",
    "     ('facebook_pipe', Pipeline([\n",
    "            ('carryover', ExponentialCarryover()),\n",
    "            ('saturation', BoxCoxSaturation())\n",
    "     ]), ['facebook']),\n",
    "     ('google_pipe', Pipeline([\n",
    "            ('carryover', ExponentialCarryover()),\n",
    "            ('saturation', BoxCoxSaturation())\n",
    "     ]), ['google']),\n",
    "     ('tiktok_pipe', Pipeline([\n",
    "            ('carryover', ExponentialCarryover()),\n",
    "            ('saturation', BoxCoxSaturation())\n",
    "     ]), ['tiktok'])\n",
    "])\n",
    "\n",
    "adstock2 = ColumnTransformer(\n",
    "    [\n",
    "     ('facebook_pipe', Pipeline([\n",
    "            ('carryover', ExponentialCarryover()),\n",
    "            ('saturation', AdbudgSaturation())\n",
    "     ]), ['facebook']),\n",
    "     ('google_pipe', Pipeline([\n",
    "            ('carryover', ExponentialCarryover()),\n",
    "            ('saturation', AdbudgSaturation())\n",
    "     ]), ['google']),\n",
    "     ('tiktok_pipe', Pipeline([\n",
    "            ('carryover', ExponentialCarryover()),\n",
    "            ('saturation', AdbudgSaturation())\n",
    "     ]), ['tiktok'])\n",
    "])\n",
    "\n",
    "adstock3 = ColumnTransformer(\n",
    "    [\n",
    "     ('facebook_pipe', Pipeline([\n",
    "            ('carryover', ExponentialCarryover()),\n",
    "            ('saturation', HillSaturation())\n",
    "     ]), ['facebook']),\n",
    "     ('google_pipe', Pipeline([\n",
    "            ('carryover', ExponentialCarryover()),\n",
    "            ('saturation', HillSaturation())\n",
    "     ]), ['google']),\n",
    "     ('tiktok_pipe', Pipeline([\n",
    "            ('carryover', ExponentialCarryover()),\n",
    "            ('saturation', HillSaturation())\n",
    "     ]), ['tiktok'])\n",
    "])\n",
    "\n",
    "adstock4 = ColumnTransformer(\n",
    "    [\n",
    "     ('facebook_pipe', Pipeline([\n",
    "            ('carryover', ExponentialCarryover()),\n",
    "            ('saturation', ExponentialSaturation())\n",
    "     ]), ['facebook']),\n",
    "     ('google_pipe', Pipeline([\n",
    "            ('carryover', ExponentialCarryover()),\n",
    "            ('saturation', ExponentialSaturation())\n",
    "     ]), ['google']),\n",
    "     ('tiktok_pipe', Pipeline([\n",
    "            ('carryover', ExponentialCarryover()),\n",
    "            ('saturation', ExponentialSaturation())\n",
    "     ]), ['tiktok'])\n",
    "])\n",
    "\n",
    "adstock5 = ColumnTransformer(\n",
    "    [\n",
    "     ('facebook_pipe', Pipeline([\n",
    "            ('carryover', gg_carryover_transformation),\n",
    "            ('saturation', ExponentialSaturation())\n",
    "     ]), ['facebook']),\n",
    "     ('google_pipe', Pipeline([\n",
    "            ('carryover', gg_carryover_transformation),\n",
    "            ('saturation', ExponentialSaturation())\n",
    "     ]), ['google']),\n",
    "     ('tiktok_pipe', Pipeline([\n",
    "            ('carryover', gg_carryover_transformation),\n",
    "            ('saturation', ExponentialSaturation())\n",
    "     ]), ['tiktok'])\n",
    "])\n",
    "\n",
    "adstock6 = ColumnTransformer(\n",
    "    [\n",
    "     ('facebook_pipe', Pipeline([\n",
    "            ('carryover', gg_carryover_transformation),\n",
    "            ('saturation', BoxCoxSaturation())\n",
    "     ]), ['facebook']),\n",
    "     ('google_pipe', Pipeline([\n",
    "            ('carryover', gg_carryover_transformation),\n",
    "            ('saturation', BoxCoxSaturation())\n",
    "     ]), ['google']),\n",
    "     ('tiktok_pipe', Pipeline([\n",
    "            ('carryover', gg_carryover_transformation),\n",
    "            ('saturation', BoxCoxSaturation())\n",
    "     ]), ['tiktok'])\n",
    "])\n",
    "\n",
    "adstock7 = ColumnTransformer(\n",
    "    [\n",
    "     ('facebook_pipe', Pipeline([\n",
    "            ('carryover', GeneralGaussianCarryover()),\n",
    "            ('saturation', AdbudgSaturation())\n",
    "     ]), ['facebook']),\n",
    "     ('google_pipe', Pipeline([\n",
    "            ('carryover', GeneralGaussianCarryover()),\n",
    "            ('saturation', AdbudgSaturation())\n",
    "     ]), ['google']),\n",
    "     ('tiktok_pipe', Pipeline([\n",
    "            ('carryover', GeneralGaussianCarryover()),\n",
    "            ('saturation', AdbudgSaturation())\n",
    "     ]), ['tiktok'])\n",
    "])\n",
    "\n",
    "adstock8 = ColumnTransformer(\n",
    "    [\n",
    "     ('facebook_pipe', Pipeline([\n",
    "            ('carryover', GeneralGaussianCarryover()),\n",
    "            ('saturation', HillSaturation())\n",
    "     ]), ['facebook']),\n",
    "     ('google_pipe', Pipeline([\n",
    "            ('carryover', GeneralGaussianCarryover()),\n",
    "            ('saturation', HillSaturation())\n",
    "     ]), ['google']),\n",
    "     ('tiktok_pipe', Pipeline([\n",
    "            ('carryover', GeneralGaussianCarryover()),\n",
    "            ('saturation', HillSaturation())\n",
    "     ]), ['tiktok'])\n",
    "])"
   ]
  },
  {
   "cell_type": "markdown",
   "metadata": {},
   "source": [
    "## Time CT"
   ]
  },
  {
   "cell_type": "code",
   "execution_count": 10,
   "metadata": {},
   "outputs": [],
   "source": [
    "time_features = ColumnTransformer(\n",
    "    [\n",
    "     ('holidays_pipe', Pipeline([\n",
    "            ('add_holidays', AddHolidaysTransformer())\n",
    "     ]), ['day']),\n",
    "     ('weekends_pipe', Pipeline([\n",
    "            ('add_weekends', AddWeekendsTransformer())\n",
    "     ]), ['day']),\n",
    "     ('months_pipe', Pipeline([\n",
    "            ('add_months', AddMonthsTransformer())\n",
    "     ]), ['day'])\n",
    "], remainder = 'passthrough')"
   ]
  },
  {
   "cell_type": "code",
   "execution_count": 11,
   "metadata": {},
   "outputs": [
    {
     "data": {
      "text/html": [
       "<div>\n",
       "<style scoped>\n",
       "    .dataframe tbody tr th:only-of-type {\n",
       "        vertical-align: middle;\n",
       "    }\n",
       "\n",
       "    .dataframe tbody tr th {\n",
       "        vertical-align: top;\n",
       "    }\n",
       "\n",
       "    .dataframe thead th {\n",
       "        text-align: right;\n",
       "    }\n",
       "</style>\n",
       "<table border=\"1\" class=\"dataframe\">\n",
       "  <thead>\n",
       "    <tr style=\"text-align: right;\">\n",
       "      <th></th>\n",
       "      <th>holiday</th>\n",
       "      <th>weekends</th>\n",
       "      <th>sin</th>\n",
       "      <th>cos</th>\n",
       "      <th>facebook</th>\n",
       "      <th>google</th>\n",
       "      <th>tiktok</th>\n",
       "    </tr>\n",
       "  </thead>\n",
       "  <tbody>\n",
       "    <tr>\n",
       "      <th>0</th>\n",
       "      <td>0.0</td>\n",
       "      <td>0.0</td>\n",
       "      <td>-0.500000</td>\n",
       "      <td>-0.866025</td>\n",
       "      <td>257.01</td>\n",
       "      <td>1.17</td>\n",
       "      <td>0.00</td>\n",
       "    </tr>\n",
       "    <tr>\n",
       "      <th>1</th>\n",
       "      <td>0.0</td>\n",
       "      <td>1.0</td>\n",
       "      <td>-0.500000</td>\n",
       "      <td>-0.866025</td>\n",
       "      <td>250.30</td>\n",
       "      <td>0.84</td>\n",
       "      <td>0.00</td>\n",
       "    </tr>\n",
       "    <tr>\n",
       "      <th>2</th>\n",
       "      <td>0.0</td>\n",
       "      <td>1.0</td>\n",
       "      <td>-0.500000</td>\n",
       "      <td>-0.866025</td>\n",
       "      <td>248.59</td>\n",
       "      <td>0.72</td>\n",
       "      <td>0.00</td>\n",
       "    </tr>\n",
       "    <tr>\n",
       "      <th>3</th>\n",
       "      <td>0.0</td>\n",
       "      <td>0.0</td>\n",
       "      <td>-0.500000</td>\n",
       "      <td>-0.866025</td>\n",
       "      <td>258.05</td>\n",
       "      <td>0.07</td>\n",
       "      <td>0.00</td>\n",
       "    </tr>\n",
       "    <tr>\n",
       "      <th>4</th>\n",
       "      <td>0.0</td>\n",
       "      <td>0.0</td>\n",
       "      <td>-0.500000</td>\n",
       "      <td>-0.866025</td>\n",
       "      <td>257.47</td>\n",
       "      <td>0.38</td>\n",
       "      <td>0.00</td>\n",
       "    </tr>\n",
       "    <tr>\n",
       "      <th>...</th>\n",
       "      <td>...</td>\n",
       "      <td>...</td>\n",
       "      <td>...</td>\n",
       "      <td>...</td>\n",
       "      <td>...</td>\n",
       "      <td>...</td>\n",
       "      <td>...</td>\n",
       "    </tr>\n",
       "    <tr>\n",
       "      <th>650</th>\n",
       "      <td>0.0</td>\n",
       "      <td>0.0</td>\n",
       "      <td>0.866025</td>\n",
       "      <td>-0.500000</td>\n",
       "      <td>885.33</td>\n",
       "      <td>208.52</td>\n",
       "      <td>209.03</td>\n",
       "    </tr>\n",
       "    <tr>\n",
       "      <th>651</th>\n",
       "      <td>0.0</td>\n",
       "      <td>0.0</td>\n",
       "      <td>0.866025</td>\n",
       "      <td>-0.500000</td>\n",
       "      <td>882.17</td>\n",
       "      <td>186.47</td>\n",
       "      <td>208.82</td>\n",
       "    </tr>\n",
       "    <tr>\n",
       "      <th>652</th>\n",
       "      <td>0.0</td>\n",
       "      <td>1.0</td>\n",
       "      <td>0.866025</td>\n",
       "      <td>-0.500000</td>\n",
       "      <td>662.08</td>\n",
       "      <td>160.69</td>\n",
       "      <td>216.38</td>\n",
       "    </tr>\n",
       "    <tr>\n",
       "      <th>653</th>\n",
       "      <td>0.0</td>\n",
       "      <td>1.0</td>\n",
       "      <td>0.866025</td>\n",
       "      <td>-0.500000</td>\n",
       "      <td>481.71</td>\n",
       "      <td>149.16</td>\n",
       "      <td>239.65</td>\n",
       "    </tr>\n",
       "    <tr>\n",
       "      <th>654</th>\n",
       "      <td>0.0</td>\n",
       "      <td>0.0</td>\n",
       "      <td>0.866025</td>\n",
       "      <td>-0.500000</td>\n",
       "      <td>774.89</td>\n",
       "      <td>227.99</td>\n",
       "      <td>239.66</td>\n",
       "    </tr>\n",
       "  </tbody>\n",
       "</table>\n",
       "<p>655 rows × 7 columns</p>\n",
       "</div>"
      ],
      "text/plain": [
       "     holiday  weekends       sin       cos  facebook  google  tiktok\n",
       "0        0.0       0.0 -0.500000 -0.866025    257.01    1.17    0.00\n",
       "1        0.0       1.0 -0.500000 -0.866025    250.30    0.84    0.00\n",
       "2        0.0       1.0 -0.500000 -0.866025    248.59    0.72    0.00\n",
       "3        0.0       0.0 -0.500000 -0.866025    258.05    0.07    0.00\n",
       "4        0.0       0.0 -0.500000 -0.866025    257.47    0.38    0.00\n",
       "..       ...       ...       ...       ...       ...     ...     ...\n",
       "650      0.0       0.0  0.866025 -0.500000    885.33  208.52  209.03\n",
       "651      0.0       0.0  0.866025 -0.500000    882.17  186.47  208.82\n",
       "652      0.0       1.0  0.866025 -0.500000    662.08  160.69  216.38\n",
       "653      0.0       1.0  0.866025 -0.500000    481.71  149.16  239.65\n",
       "654      0.0       0.0  0.866025 -0.500000    774.89  227.99  239.66\n",
       "\n",
       "[655 rows x 7 columns]"
      ]
     },
     "execution_count": 11,
     "metadata": {},
     "output_type": "execute_result"
    }
   ],
   "source": [
    "df = X_train.copy()\n",
    "transformed_df = time_features.fit_transform(df)\n",
    "transformed_df = pd.DataFrame(transformed_df, columns = ['holiday', 'weekends', 'sin', 'cos', 'facebook', 'google','tiktok'])\n",
    "transformed_df"
   ]
  },
  {
   "cell_type": "markdown",
   "metadata": {},
   "source": [
    "# Pipeline"
   ]
  },
  {
   "cell_type": "code",
   "execution_count": 12,
   "metadata": {},
   "outputs": [],
   "source": [
    "model = LinearRegression()\n",
    "\n",
    "adstock_pipeline1 = Pipeline([\n",
    "    ('adstock1', adstock1)\n",
    "])\n",
    "adstock_pipeline2 = Pipeline([\n",
    "    ('adstock2', adstock2)\n",
    "])\n",
    "adstock_pipeline3 = Pipeline([\n",
    "    ('adstock3', adstock3)\n",
    "])\n",
    "adstock_pipeline4 = Pipeline([\n",
    "    ('adstock4', adstock4)\n",
    "])\n",
    "adstock_pipeline5 = Pipeline([\n",
    "    ('adstock5', adstock5)\n",
    "])\n",
    "adstock_pipeline6 = Pipeline([\n",
    "    ('adstock6', adstock6)\n",
    "])\n",
    "adstock_pipeline7 = Pipeline([\n",
    "    ('adstock7', adstock7)\n",
    "])\n",
    "adstock_pipeline8 = Pipeline([\n",
    "    ('adstock8', adstock8)\n",
    "])"
   ]
  },
  {
   "cell_type": "code",
   "execution_count": 13,
   "metadata": {},
   "outputs": [],
   "source": [
    "# Define the number of adstock pipelines you want\n",
    "num_pipelines = 8\n",
    "\n",
    "# Create a list to store the adstock pipelines\n",
    "pipelines = []\n",
    "\n",
    "for i in range(1, num_pipelines + 1):\n",
    "    # Create the adstock pipeline (as you've defined previously)\n",
    "    adstock_pipeline = Pipeline([\n",
    "        ('adstock{}'.format(i), globals()['adstock{}'.format(i)])\n",
    "    ])\n",
    "    \n",
    "    time_preprocessing = Pipeline([\n",
    "        ('time_features', time_features)\n",
    "    ])\n",
    "    \n",
    "    # Combine the adstock and time_preprocessing pipelines into a FeatureUnion\n",
    "    union = FeatureUnion([\n",
    "        ('time_preprocessing', time_preprocessing),\n",
    "        ('adstock_pipeline', adstock_pipeline)\n",
    "    ])\n",
    "    \n",
    "    # Create the final pipeline\n",
    "    pipeline = Pipeline([\n",
    "        ('union', union),\n",
    "        ('model', model)\n",
    "    ])\n",
    "    \n",
    "    # Append the pipeline to the list\n",
    "    pipelines.append(pipeline)\n"
   ]
  },
  {
   "cell_type": "markdown",
   "metadata": {},
   "source": [
    "## model 1"
   ]
  },
  {
   "cell_type": "code",
   "execution_count": 14,
   "metadata": {},
   "outputs": [],
   "source": [
    "param_grid_ = {\n",
    "    'union__adstock_pipeline__adstock1__tiktok_pipe__saturation__shift': stats.randint(8,12),\n",
    "    'union__adstock_pipeline__adstock1__tiktok_pipe__saturation__exponent': [0.7,0.8,0.9],\n",
    "    'union__adstock_pipeline__adstock1__tiktok_pipe__carryover__window': stats.randint(1,5),\n",
    "    'union__adstock_pipeline__adstock1__tiktok_pipe__carryover__strength': [0.4,0.5,0.6],\n",
    "    'union__adstock_pipeline__adstock1__google_pipe__saturation__shift': stats.randint(6,10),\n",
    "    'union__adstock_pipeline__adstock1__google_pipe__saturation__exponent': [0.9,1.1,1.2],\n",
    "    'union__adstock_pipeline__adstock1__google_pipe__carryover__window': stats.randint(1,5),\n",
    "    'union__adstock_pipeline__adstock1__google_pipe__carryover__strength': [0.9,1.0,1.1],\n",
    "    'union__adstock_pipeline__adstock1__facebook_pipe__saturation__shift': stats.randint(5,9),\n",
    "    'union__adstock_pipeline__adstock1__facebook_pipe__saturation__exponent': [1.0,1.1,1.2],\n",
    "    'union__adstock_pipeline__adstock1__facebook_pipe__carryover__window': stats.randint(1,3),\n",
    "    'union__adstock_pipeline__adstock1__facebook_pipe__carryover__strength': [0.4,0.5,0.6]\n",
    "}\n",
    "\n",
    "param_grid = {'union__adstock_pipeline__adstock1__tiktok_pipe__saturation__shift': [10],\n",
    "              'union__adstock_pipeline__adstock1__tiktok_pipe__saturation__exponent': [0.8],\n",
    "              'union__adstock_pipeline__adstock1__tiktok_pipe__carryover__window': [3],\n",
    "              'union__adstock_pipeline__adstock1__tiktok_pipe__carryover__strength': [0.5],\n",
    "              'union__adstock_pipeline__adstock1__google_pipe__saturation__shift': [8],\n",
    "              'union__adstock_pipeline__adstock1__google_pipe__saturation__exponent': [1.1],\n",
    "              'union__adstock_pipeline__adstock1__google_pipe__carryover__window': [2],\n",
    "              'union__adstock_pipeline__adstock1__google_pipe__carryover__strength': [1.0],\n",
    "              'union__adstock_pipeline__adstock1__facebook_pipe__saturation__shift': [7],\n",
    "              'union__adstock_pipeline__adstock1__facebook_pipe__saturation__exponent': [1.1],\n",
    "              'union__adstock_pipeline__adstock1__facebook_pipe__carryover__window': [1],\n",
    "              'union__adstock_pipeline__adstock1__facebook_pipe__carryover__strength': [0.5]}"
   ]
  },
  {
   "cell_type": "code",
   "execution_count": 15,
   "metadata": {},
   "outputs": [
    {
     "data": {
      "text/plain": [
       "'R-squared: 0.32202566773983377'"
      ]
     },
     "execution_count": 15,
     "metadata": {},
     "output_type": "execute_result"
    }
   ],
   "source": [
    "grid_search = GridSearchCV(pipelines[0], param_grid, cv = tscv)\n",
    "grid_search.fit(X_train, y_train)\n",
    "best_pipeline = grid_search.best_estimator_\n",
    "\n",
    "f\"R-squared: {best_pipeline.score(X_test, y_test)}\""
   ]
  },
  {
   "cell_type": "code",
   "execution_count": 16,
   "metadata": {},
   "outputs": [
    {
     "data": {
      "text/plain": [
       "'R-squared: 0.30110877604355946'"
      ]
     },
     "execution_count": 16,
     "metadata": {},
     "output_type": "execute_result"
    }
   ],
   "source": [
    "random_search = RandomizedSearchCV(pipelines[0], param_grid_, n_iter=500, n_jobs = -1, cv = tscv)\n",
    "random_search.fit(X_train, y_train)\n",
    "best_pipeline = random_search.best_estimator_\n",
    "\n",
    "f\"R-squared: {best_pipeline.score(X_test, y_test)}\""
   ]
  },
  {
   "cell_type": "code",
   "execution_count": 17,
   "metadata": {},
   "outputs": [],
   "source": [
    "## model 2"
   ]
  },
  {
   "cell_type": "code",
   "execution_count": 18,
   "metadata": {},
   "outputs": [],
   "source": [
    "param_grid_ = {\n",
    "    'union__adstock_pipeline__adstock2__tiktok_pipe__saturation__denominator_shift': stats.randint(8,12),\n",
    "    'union__adstock_pipeline__adstock2__tiktok_pipe__saturation__exponent': [0.7,0.8,0.9],\n",
    "    'union__adstock_pipeline__adstock2__tiktok_pipe__carryover__window': stats.randint(1,5),\n",
    "    'union__adstock_pipeline__adstock2__tiktok_pipe__carryover__strength': [0.4,0.5,0.6],\n",
    "    'union__adstock_pipeline__adstock2__google_pipe__saturation__denominator_shift': stats.randint(6,10),\n",
    "    'union__adstock_pipeline__adstock2__google_pipe__saturation__exponent': [0.9,1.1,1.2],\n",
    "    'union__adstock_pipeline__adstock2__google_pipe__carryover__window': stats.randint(1,5),\n",
    "    'union__adstock_pipeline__adstock2__google_pipe__carryover__strength': [0.9,1.0,1.1],\n",
    "    'union__adstock_pipeline__adstock2__facebook_pipe__saturation__denominator_shift': stats.randint(5,9),\n",
    "    'union__adstock_pipeline__adstock2__facebook_pipe__saturation__exponent': [1.0,1.1,1.2],\n",
    "    'union__adstock_pipeline__adstock2__facebook_pipe__carryover__window': stats.randint(1,3),\n",
    "    'union__adstock_pipeline__adstock2__facebook_pipe__carryover__strength': [0.4,0.5,0.6]}"
   ]
  },
  {
   "cell_type": "code",
   "execution_count": 19,
   "metadata": {},
   "outputs": [
    {
     "data": {
      "text/plain": [
       "'R-squared: 0.3113302238185609'"
      ]
     },
     "execution_count": 19,
     "metadata": {},
     "output_type": "execute_result"
    }
   ],
   "source": [
    "random_search = RandomizedSearchCV(pipelines[1], param_grid_, n_iter=500, n_jobs = -1, cv = tscv)\n",
    "random_search.fit(X_train, y_train)\n",
    "best_pipeline = random_search.best_estimator_\n",
    "\n",
    "f\"R-squared: {best_pipeline.score(X_test, y_test)}\""
   ]
  },
  {
   "cell_type": "code",
   "execution_count": 20,
   "metadata": {},
   "outputs": [],
   "source": [
    "## model 3"
   ]
  },
  {
   "cell_type": "code",
   "execution_count": 21,
   "metadata": {},
   "outputs": [],
   "source": [
    "param_grid_ = {\n",
    "    'union__adstock_pipeline__adstock3__tiktok_pipe__saturation__half_saturation': stats.randint(8,12),\n",
    "    'union__adstock_pipeline__adstock3__tiktok_pipe__saturation__exponent': [0.7,0.8,0.9],\n",
    "    'union__adstock_pipeline__adstock3__tiktok_pipe__carryover__window': stats.randint(1,5),\n",
    "    'union__adstock_pipeline__adstock3__tiktok_pipe__carryover__strength': [0.4,0.5,0.6],\n",
    "    'union__adstock_pipeline__adstock3__google_pipe__saturation__half_saturation': stats.randint(6,10),\n",
    "    'union__adstock_pipeline__adstock3__google_pipe__saturation__exponent': [0.9,1.1,1.2],\n",
    "    'union__adstock_pipeline__adstock3__google_pipe__carryover__window': stats.randint(1,5),\n",
    "    'union__adstock_pipeline__adstock3__google_pipe__carryover__strength': [0.9,1.0,1.1],\n",
    "    'union__adstock_pipeline__adstock3__facebook_pipe__saturation__half_saturation': stats.randint(5,9),\n",
    "    'union__adstock_pipeline__adstock3__facebook_pipe__saturation__exponent': [1.0,1.1,1.2],\n",
    "    'union__adstock_pipeline__adstock3__facebook_pipe__carryover__window': stats.randint(1,3),\n",
    "    'union__adstock_pipeline__adstock3__facebook_pipe__carryover__strength': [0.4,0.5,0.6]}"
   ]
  },
  {
   "cell_type": "code",
   "execution_count": 22,
   "metadata": {},
   "outputs": [
    {
     "data": {
      "text/plain": [
       "'R-squared: 0.3224085503307459'"
      ]
     },
     "execution_count": 22,
     "metadata": {},
     "output_type": "execute_result"
    }
   ],
   "source": [
    "random_search = RandomizedSearchCV(pipelines[2], param_grid_, n_iter=500, n_jobs = -1, cv = tscv)\n",
    "random_search.fit(X_train, y_train)\n",
    "best_pipeline = random_search.best_estimator_\n",
    "\n",
    "f\"R-squared: {best_pipeline.score(X_test, y_test)}\""
   ]
  },
  {
   "cell_type": "code",
   "execution_count": 23,
   "metadata": {},
   "outputs": [],
   "source": [
    "## model 4"
   ]
  },
  {
   "cell_type": "code",
   "execution_count": 24,
   "metadata": {},
   "outputs": [],
   "source": [
    "param_grid_ = {\n",
    "    'union__adstock_pipeline__adstock4__tiktok_pipe__saturation__exponent': [0.7,0.8,0.9],\n",
    "    'union__adstock_pipeline__adstock4__tiktok_pipe__carryover__window': stats.randint(1,5),\n",
    "    'union__adstock_pipeline__adstock4__tiktok_pipe__carryover__strength': [0.4,0.5,0.6],\n",
    "    'union__adstock_pipeline__adstock4__google_pipe__saturation__exponent': [0.9,1.1,1.2],\n",
    "    'union__adstock_pipeline__adstock4__google_pipe__carryover__window': stats.randint(1,5),\n",
    "    'union__adstock_pipeline__adstock4__google_pipe__carryover__strength': [0.9,1.0,1.1],\n",
    "    'union__adstock_pipeline__adstock4__facebook_pipe__saturation__exponent': [1.0,1.1,1.2],\n",
    "    'union__adstock_pipeline__adstock4__facebook_pipe__carryover__window': stats.randint(1,3),\n",
    "    'union__adstock_pipeline__adstock4__facebook_pipe__carryover__strength': [0.4,0.5,0.6]}"
   ]
  },
  {
   "cell_type": "code",
   "execution_count": 25,
   "metadata": {},
   "outputs": [
    {
     "data": {
      "text/plain": [
       "'R-squared: 0.3334620593376765'"
      ]
     },
     "execution_count": 25,
     "metadata": {},
     "output_type": "execute_result"
    }
   ],
   "source": [
    "random_search = RandomizedSearchCV(pipelines[3], param_grid_, n_iter=500, n_jobs = -1, cv = tscv)\n",
    "random_search.fit(X_train, y_train)\n",
    "best_pipeline = random_search.best_estimator_\n",
    "\n",
    "f\"R-squared: {best_pipeline.score(X_test, y_test)}\""
   ]
  },
  {
   "cell_type": "code",
   "execution_count": 26,
   "metadata": {},
   "outputs": [],
   "source": [
    "## model 5"
   ]
  },
  {
   "cell_type": "code",
   "execution_count": 27,
   "metadata": {},
   "outputs": [],
   "source": [
    "param_grid_ = {\n",
    "    'union__adstock_pipeline__adstock5__tiktok_pipe__saturation__exponent': [0.7,0.8,0.9],\n",
    "    'union__adstock_pipeline__adstock5__tiktok_pipe__carryover__window': stats.randint(1,5),\n",
    "    'union__adstock_pipeline__adstock5__tiktok_pipe__carryover__p': [0.4,0.5,0.6],\n",
    "    'union__adstock_pipeline__adstock5__tiktok_pipe__carryover__sig': [0.4,0.5,0.6],\n",
    "    'union__adstock_pipeline__adstock5__tiktok_pipe__carryover__tails': ['left', 'right', 'both'],\n",
    "    'union__adstock_pipeline__adstock5__google_pipe__saturation__exponent': [0.9,1.1,1.2],\n",
    "    'union__adstock_pipeline__adstock5__google_pipe__carryover__window': stats.randint(1,5),\n",
    "    'union__adstock_pipeline__adstock5__google_pipe__carryover__p': [0.9,1.0,1.1],\n",
    "    'union__adstock_pipeline__adstock5__google_pipe__carryover__sig': [0.9,1.0,1.1],\n",
    "    'union__adstock_pipeline__adstock5__google_pipe__carryover__tails': ['left', 'right', 'both'],\n",
    "    'union__adstock_pipeline__adstock5__facebook_pipe__saturation__exponent': [1.0,1.1,1.2],\n",
    "    'union__adstock_pipeline__adstock5__facebook_pipe__carryover__window': stats.randint(1,3),\n",
    "    'union__adstock_pipeline__adstock5__facebook_pipe__carryover__p': [0.4,0.5,0.6],\n",
    "    'union__adstock_pipeline__adstock5__facebook_pipe__carryover__sig': [0.9,1.0,1.1],\n",
    "    'union__adstock_pipeline__adstock5__facebook_pipe__carryover__tails': ['left', 'right', 'both'],}"
   ]
  },
  {
   "cell_type": "code",
   "execution_count": 28,
   "metadata": {},
   "outputs": [
    {
     "data": {
      "text/plain": [
       "'R-squared: 0.33643524257586555'"
      ]
     },
     "execution_count": 28,
     "metadata": {},
     "output_type": "execute_result"
    }
   ],
   "source": [
    "random_search = RandomizedSearchCV(pipelines[4], param_grid_, n_iter=500, n_jobs = -1, cv = tscv)\n",
    "random_search.fit(X_train, y_train)\n",
    "best_pipeline = random_search.best_estimator_\n",
    "\n",
    "f\"R-squared: {best_pipeline.score(X_test, y_test)}\""
   ]
  },
  {
   "cell_type": "code",
   "execution_count": 29,
   "metadata": {},
   "outputs": [],
   "source": [
    "## model 6"
   ]
  },
  {
   "cell_type": "code",
   "execution_count": 30,
   "metadata": {},
   "outputs": [],
   "source": [
    "param_grid_ = {\n",
    "    'union__adstock_pipeline__adstock6__tiktok_pipe__saturation__shift': stats.randint(8,12),\n",
    "    'union__adstock_pipeline__adstock6__tiktok_pipe__saturation__exponent': [0.7,0.8,0.9],\n",
    "    'union__adstock_pipeline__adstock6__tiktok_pipe__carryover__window': stats.randint(1,5),\n",
    "    'union__adstock_pipeline__adstock6__tiktok_pipe__carryover__p': [0.4,0.5,0.6],\n",
    "    'union__adstock_pipeline__adstock6__tiktok_pipe__carryover__sig': [0.4,0.5,0.6],\n",
    "    'union__adstock_pipeline__adstock6__tiktok_pipe__carryover__tails': ['left', 'right', 'both'],\n",
    "    'union__adstock_pipeline__adstock6__google_pipe__saturation__shift': stats.randint(6,10),    \n",
    "    'union__adstock_pipeline__adstock6__google_pipe__saturation__exponent': [0.9,1.1,1.2],\n",
    "    'union__adstock_pipeline__adstock6__google_pipe__carryover__window': stats.randint(1,5),\n",
    "    'union__adstock_pipeline__adstock6__google_pipe__carryover__p': [0.9,1.0,1.1],\n",
    "    'union__adstock_pipeline__adstock6__google_pipe__carryover__sig': [0.9,1.0,1.1],\n",
    "    'union__adstock_pipeline__adstock6__google_pipe__carryover__tails': ['left', 'right', 'both'],\n",
    "    'union__adstock_pipeline__adstock6__facebook_pipe__saturation__shift': stats.randint(5,9),\n",
    "    'union__adstock_pipeline__adstock6__facebook_pipe__saturation__exponent': [1.0,1.1,1.2],\n",
    "    'union__adstock_pipeline__adstock6__facebook_pipe__carryover__window': stats.randint(1,3),\n",
    "    'union__adstock_pipeline__adstock6__facebook_pipe__carryover__p': [0.4,0.5,0.6],\n",
    "    'union__adstock_pipeline__adstock6__facebook_pipe__carryover__sig': [0.9,1.0,1.1],\n",
    "    'union__adstock_pipeline__adstock6__facebook_pipe__carryover__tails': ['left', 'right', 'both'],}"
   ]
  },
  {
   "cell_type": "code",
   "execution_count": 31,
   "metadata": {},
   "outputs": [
    {
     "data": {
      "text/plain": [
       "'R-squared: 0.2731874521476767'"
      ]
     },
     "execution_count": 31,
     "metadata": {},
     "output_type": "execute_result"
    }
   ],
   "source": [
    "random_search = RandomizedSearchCV(pipelines[5], param_grid_, n_iter=500, n_jobs = -1, cv = tscv)\n",
    "random_search.fit(X_train, y_train)\n",
    "best_pipeline = random_search.best_estimator_\n",
    "\n",
    "f\"R-squared: {best_pipeline.score(X_test, y_test)}\""
   ]
  },
  {
   "cell_type": "code",
   "execution_count": 32,
   "metadata": {},
   "outputs": [],
   "source": [
    "## model 7"
   ]
  },
  {
   "cell_type": "code",
   "execution_count": 33,
   "metadata": {},
   "outputs": [],
   "source": [
    "param_grid_ = {\n",
    "    'union__adstock_pipeline__adstock7__tiktok_pipe__saturation__denominator_shift': stats.randint(8,12),\n",
    "    'union__adstock_pipeline__adstock7__tiktok_pipe__saturation__exponent': [0.7,0.8,0.9],\n",
    "    'union__adstock_pipeline__adstock7__tiktok_pipe__carryover__window': stats.randint(1,5),\n",
    "    'union__adstock_pipeline__adstock7__tiktok_pipe__carryover__p': [0.4,0.5,0.6],\n",
    "    'union__adstock_pipeline__adstock7__tiktok_pipe__carryover__sig': [0.4,0.5,0.6],\n",
    "    'union__adstock_pipeline__adstock7__tiktok_pipe__carryover__tails': ['left', 'right', 'both'],\n",
    "    'union__adstock_pipeline__adstock7__google_pipe__saturation__denominator_shift': stats.randint(6,10),    \n",
    "    'union__adstock_pipeline__adstock7__google_pipe__saturation__exponent': [0.9,1.1,1.2],\n",
    "    'union__adstock_pipeline__adstock7__google_pipe__carryover__window': stats.randint(1,5),\n",
    "    'union__adstock_pipeline__adstock7__google_pipe__carryover__p': [0.9,1.0,1.1],\n",
    "    'union__adstock_pipeline__adstock7__google_pipe__carryover__sig': [0.9,1.0,1.1],\n",
    "    'union__adstock_pipeline__adstock7__google_pipe__carryover__tails': ['left', 'right', 'both'],\n",
    "    'union__adstock_pipeline__adstock7__facebook_pipe__saturation__denominator_shift': stats.randint(5,9),\n",
    "    'union__adstock_pipeline__adstock7__facebook_pipe__saturation__exponent': [1.0,1.1,1.2],\n",
    "    'union__adstock_pipeline__adstock7__facebook_pipe__carryover__window': stats.randint(1,3),\n",
    "    'union__adstock_pipeline__adstock7__facebook_pipe__carryover__p': [0.4,0.5,0.6],\n",
    "    'union__adstock_pipeline__adstock7__facebook_pipe__carryover__sig': [0.9,1.0,1.1],\n",
    "    'union__adstock_pipeline__adstock7__facebook_pipe__carryover__tails': ['left', 'right', 'both']}"
   ]
  },
  {
   "cell_type": "code",
   "execution_count": 34,
   "metadata": {},
   "outputs": [
    {
     "data": {
      "text/plain": [
       "'R-squared: 0.30438966389199573'"
      ]
     },
     "execution_count": 34,
     "metadata": {},
     "output_type": "execute_result"
    }
   ],
   "source": [
    "random_search = RandomizedSearchCV(pipelines[6], param_grid_, n_iter=500, n_jobs = -1, cv = tscv)\n",
    "random_search.fit(X_train, y_train)\n",
    "best_pipeline = random_search.best_estimator_\n",
    "\n",
    "f\"R-squared: {best_pipeline.score(X_test, y_test)}\""
   ]
  },
  {
   "cell_type": "code",
   "execution_count": 35,
   "metadata": {},
   "outputs": [],
   "source": [
    "## model 8"
   ]
  },
  {
   "cell_type": "code",
   "execution_count": 36,
   "metadata": {},
   "outputs": [],
   "source": [
    "param_grid_ = {\n",
    "    'union__adstock_pipeline__adstock8__tiktok_pipe__saturation__exponent': [0.7,0.8,0.9],\n",
    "    'union__adstock_pipeline__adstock8__tiktok_pipe__saturation__half_saturation': stats.randint(8,12),\n",
    "    'union__adstock_pipeline__adstock8__tiktok_pipe__carryover__window': stats.randint(1,5),\n",
    "    'union__adstock_pipeline__adstock8__tiktok_pipe__carryover__p': [0.4,0.5,0.6],\n",
    "    'union__adstock_pipeline__adstock8__tiktok_pipe__carryover__sig': [0.4,0.5,0.6],\n",
    "    'union__adstock_pipeline__adstock8__tiktok_pipe__carryover__tails': ['left', 'right', 'both'],\n",
    "    'union__adstock_pipeline__adstock8__google_pipe__saturation__exponent': [0.9,1.1,1.2],\n",
    "    'union__adstock_pipeline__adstock8__google_pipe__saturation__half_saturation': stats.randint(8,12),\n",
    "    'union__adstock_pipeline__adstock8__google_pipe__carryover__window': stats.randint(1,5),\n",
    "    'union__adstock_pipeline__adstock8__google_pipe__carryover__p': [0.9,1.0,1.1],\n",
    "    'union__adstock_pipeline__adstock8__google_pipe__carryover__sig': [0.9,1.0,1.1],\n",
    "    'union__adstock_pipeline__adstock8__google_pipe__carryover__tails': ['left', 'right', 'both'],\n",
    "    'union__adstock_pipeline__adstock8__facebook_pipe__saturation__exponent': [1.0,1.1,1.2],\n",
    "    'union__adstock_pipeline__adstock8__facebook_pipe__saturation__half_saturation': stats.randint(8,12),\n",
    "    'union__adstock_pipeline__adstock8__facebook_pipe__carryover__window': stats.randint(1,3),\n",
    "    'union__adstock_pipeline__adstock8__facebook_pipe__carryover__p': [0.4,0.5,0.6],\n",
    "    'union__adstock_pipeline__adstock8__facebook_pipe__carryover__sig': [0.9,1.0,1.1],\n",
    "    'union__adstock_pipeline__adstock8__facebook_pipe__carryover__tails': ['left', 'right', 'both'],}"
   ]
  },
  {
   "cell_type": "code",
   "execution_count": 37,
   "metadata": {},
   "outputs": [
    {
     "data": {
      "text/plain": [
       "'R-squared: 0.3164999465450635'"
      ]
     },
     "execution_count": 37,
     "metadata": {},
     "output_type": "execute_result"
    }
   ],
   "source": [
    "random_search = RandomizedSearchCV(pipelines[7], param_grid_, n_iter=500, n_jobs = -1, cv = tscv)\n",
    "random_search.fit(X_train, y_train)\n",
    "best_pipeline = random_search.best_estimator_\n",
    "\n",
    "f\"R-squared: {best_pipeline.score(X_test, y_test)}\""
   ]
  }
 ],
 "metadata": {
  "kernelspec": {
   "display_name": "MMM-project-lewagon",
   "language": "python",
   "name": "python3"
  },
  "language_info": {
   "codemirror_mode": {
    "name": "ipython",
    "version": 3
   },
   "file_extension": ".py",
   "mimetype": "text/x-python",
   "name": "python",
   "nbconvert_exporter": "python",
   "pygments_lexer": "ipython3",
   "version": "3.10.6"
  },
  "orig_nbformat": 4
 },
 "nbformat": 4,
 "nbformat_minor": 2
}
