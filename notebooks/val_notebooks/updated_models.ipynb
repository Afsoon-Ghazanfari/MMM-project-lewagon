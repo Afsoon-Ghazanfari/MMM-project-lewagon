{
 "cells": [
  {
   "cell_type": "markdown",
   "metadata": {},
   "source": [
    "# Load Dataset"
   ]
  },
  {
   "cell_type": "code",
   "execution_count": 21,
   "metadata": {},
   "outputs": [],
   "source": [
    "\n",
    "import pandas as pd\n",
    "import numpy as np\n",
    "\n",
    "from mamimo.time_utils import add_time_features, PowerTrend\n",
    "from mamimo.carryover import ExponentialCarryover\n",
    "from mamimo.saturation import ExponentialSaturation\n",
    "\n",
    "from sklearn.model_selection import TimeSeriesSplit, GridSearchCV\n",
    "from sklearn.preprocessing import FunctionTransformer, OneHotEncoder\n",
    "from sklearn.base import BaseEstimator, TransformerMixin, OneToOneFeatureMixin\n",
    "\n",
    "from sklearn.linear_model import LinearRegression\n",
    "from sklearn.compose import ColumnTransformer\n",
    "from sklearn.pipeline import Pipeline, FeatureUnion\n",
    "\n",
    "import holidays"
   ]
  },
  {
   "cell_type": "code",
   "execution_count": 22,
   "metadata": {},
   "outputs": [],
   "source": [
    "df = pd.read_csv('../../raw_data/df_clean.csv')\n",
    "df = df.drop(columns='Unnamed: 0')\n",
    "df['Day'] = pd.to_datetime(df['Day'])\n",
    "df.set_index('Day', inplace=True)\n",
    "df = df.rename(columns={\"fb_costs\": \"facebook\", \"google_costs\": \"google\", \"tt_costs\": \"tiktok\"})"
   ]
  },
  {
   "cell_type": "markdown",
   "metadata": {},
   "source": [
    "# Create a simple dataframe"
   ]
  },
  {
   "cell_type": "code",
   "execution_count": 23,
   "metadata": {},
   "outputs": [],
   "source": [
    "simple_df = df.drop(columns = ['fb_impressions', 'fb_clicks', 'google_impressions', 'google_clicks', 'tt_impressions', 'tt_clicks'])\n",
    "\n",
    "#X_simple = simple_df.drop(columns = ['orders', 'total_sales']) # 3 channels: facebook, google, tiktok\n",
    "#y_simple = simple_df['total_sales'] # for now lets just use total_sales and exclude orders"
   ]
  },
  {
   "cell_type": "markdown",
   "metadata": {},
   "source": [
    "# Split data"
   ]
  },
  {
   "cell_type": "code",
   "execution_count": 24,
   "metadata": {},
   "outputs": [],
   "source": [
    "n_splits = 5  # Number of splits for cross-validation\n",
    "tscv = TimeSeriesSplit(n_splits=n_splits)\n",
    "\n",
    "for train_index, test_index in tscv.split(simple_df):\n",
    "    train_df = simple_df.iloc[train_index]\n",
    "    test_df = simple_df.iloc[test_index]\n",
    "\n",
    "y_train = train_df['total_sales']\n",
    "X_train = train_df.drop(columns = ['total_sales', 'orders'])\n",
    "\n",
    "\n",
    "y_test = test_df['total_sales']\n",
    "X_test = test_df.drop(columns = ['total_sales', 'orders'])\n"
   ]
  },
  {
   "cell_type": "markdown",
   "metadata": {},
   "source": [
    "# Baseline Model using Naive Forecast\n",
    "* Naive forecast shifts the time series by one time step (aka one day); we make the naive forecast predict the previous value for each day\n",
    "* MSE: Focuses on the average magnitude of prediction errors, which is important for understanding the absolute accuracy of your forecasts\n",
    "  * measure of how well model captures actual sales values and prediction accuracy\n",
    "* R-squared: Measures the proportion of variance explained by the model, indicating how well your model captures the underlying patterns and variability in the target variable."
   ]
  },
  {
   "cell_type": "code",
   "execution_count": 25,
   "metadata": {},
   "outputs": [
    {
     "data": {
      "text/plain": [
       "'595453.442743578 is our MSE to beat; 0.6398209085770498 is our R squared to beat!'"
      ]
     },
     "execution_count": 25,
     "metadata": {},
     "output_type": "execute_result"
    }
   ],
   "source": [
    "baseline = train_df.shift(1) # baseline['total_sales'] is equivalent to y_pred\n",
    "\n",
    "y_pred = baseline['total_sales']\n",
    "y_true = train_df['total_sales']\n",
    "\n",
    "# MSE\n",
    "mse = ((y_true - y_pred) ** 2).mean()\n",
    "\n",
    "# Calculate TSS (Total Sum of Squares)\n",
    "mean_y_true = np.mean(y_true)\n",
    "tss = np.sum((y_true - mean_y_true)**2)\n",
    "\n",
    "# Calculate RSS (Residual Sum of Squares)\n",
    "rss = np.sum((y_true - y_pred)**2)\n",
    "\n",
    "# Calculate R-squared (Coefficient of Determination)\n",
    "r_squared = 1 - (rss / tss)\n",
    "\n",
    "f\"{mse} is our MSE to beat; {r_squared} is our R squared to beat!\""
   ]
  },
  {
   "cell_type": "markdown",
   "metadata": {},
   "source": [
    "# Feature Engineering"
   ]
  },
  {
   "cell_type": "code",
   "execution_count": 26,
   "metadata": {},
   "outputs": [
    {
     "data": {
      "text/plain": [
       "0.062198848540433505"
      ]
     },
     "execution_count": 26,
     "metadata": {},
     "output_type": "execute_result"
    }
   ],
   "source": [
    "from statsmodels.tsa.stattools import adfuller\n",
    "\n",
    "adfuller(train_df.total_sales)[1] # close enough to 0.05, so our data is stationary enough"
   ]
  },
  {
   "cell_type": "markdown",
   "metadata": {},
   "source": [
    "## Let's create functions for our FunctionTransformer in order to create our pipeline"
   ]
  },
  {
   "cell_type": "markdown",
   "metadata": {},
   "source": [
    "### Prereqs:\n",
    "* data must be a Pandas DataFrame\n",
    "* date column must be the index\n",
    "* index must be DateTime format\n",
    "* Columns must be clearly labeled: total_sales, facebook, google, tiktok"
   ]
  },
  {
   "cell_type": "markdown",
   "metadata": {},
   "source": [
    "### Time Features"
   ]
  },
  {
   "cell_type": "markdown",
   "metadata": {},
   "source": [
    "#### Add a holiday column"
   ]
  },
  {
   "cell_type": "code",
   "execution_count": 27,
   "metadata": {},
   "outputs": [],
   "source": [
    "def add_holidays(df: pd.DataFrame):\n",
    "    \"\"\"creates a new column with row value = 1 if the day is a German or Austrian holiday and 0 if not\"\"\"\n",
    "    de_holiday_list = []\n",
    "    for holiday in holidays.Germany(years=[2021,2022,2023]).items():\n",
    "        de_holiday_list.append(holiday)\n",
    "    de_holidays_df = pd.DataFrame(de_holiday_list, columns=[\"date\", \"holiday\"])\n",
    "    de_holidays_df['date'] = pd.to_datetime(de_holidays_df['date'])\n",
    "    de_holidays_df.set_index('date', inplace=True)\n",
    "    \n",
    "    at_holiday_list = []\n",
    "    for holiday in holidays.Austria(years=[2021,2022,2023]).items():\n",
    "        at_holiday_list.append(holiday)\n",
    "    at_holidays_df = pd.DataFrame(at_holiday_list, columns=[\"date\", \"holiday\"])\n",
    "    at_holidays_df['date'] = pd.to_datetime(at_holidays_df['date'])\n",
    "    at_holidays_df.set_index('date', inplace=True)\n",
    "\n",
    "    # add DE holidays to df\n",
    "    merged_df = df.merge(de_holidays_df, how='left', left_index=True, right_index=True)\n",
    "    merged_df['de_holiday'] = merged_df.index.isin(de_holidays_df.index).astype(int)\n",
    "    merged_df.drop(columns=['holiday'], inplace=True)\n",
    "    \n",
    "    # add AT holidays to df\n",
    "    at_holidays_df['at_holiday'] = 1 # add a 1 column to austrian holidays dataframe to help us merge with DE holidays\n",
    "    merged_df = merged_df.merge(at_holidays_df[['at_holiday']], how='left', left_index=True, right_index=True)\n",
    "    merged_df.head() # creates two columns (at_holiday_x, at_holiday_y), we only need one\n",
    "    merged_df['at_holiday'].fillna(0, inplace=True) # replace NaN (no holiday) with 0\n",
    "    merged_df['at_holiday'] = merged_df['at_holiday'].astype(int) # convert 1 and 0 to integers\n",
    "    \n",
    "    # combine columns\n",
    "    merged_df['holiday'] = (merged_df['at_holiday'] | merged_df['de_holiday']).astype(int)\n",
    "    merged_df = merged_df.drop(columns = ['de_holiday', 'at_holiday']) # drop individual DE and AT rows\n",
    "    \n",
    "    return merged_df"
   ]
  },
  {
   "cell_type": "markdown",
   "metadata": {},
   "source": [
    "#### Add a weekend column"
   ]
  },
  {
   "cell_type": "code",
   "execution_count": 28,
   "metadata": {},
   "outputs": [],
   "source": [
    "def add_weekends(df: pd.DataFrame):\n",
    "    \"\"\"creates a new column with row value = 1 if the day is a Friday or Saturday and 0 if not\"\"\"\n",
    "    weekday_values = df.index.weekday\n",
    "    df['fri_sat'] = ((weekday_values == 4) | (weekday_values == 5)).astype(int)\n",
    "    \n",
    "    return df"
   ]
  },
  {
   "cell_type": "markdown",
   "metadata": {},
   "source": [
    "#### Add a cyclical month column"
   ]
  },
  {
   "cell_type": "code",
   "execution_count": 29,
   "metadata": {},
   "outputs": [],
   "source": [
    "def add_cyclical_months(df: pd.DataFrame):\n",
    "    df = (df\n",
    "     .pipe(add_time_features, month=True)\n",
    "     .assign(trend=range(len(df))) # adds a linear trend which is only counting up from 0 to len(df). these #s will change during preprocessing\n",
    "    )\n",
    "    \n",
    "    months_in_a_year = 12\n",
    "\n",
    "    df['sin_MonthYear'] = np.sin(2*np.pi*(df['month'])/months_in_a_year)\n",
    "    df['cos_MonthYear'] = np.cos(2*np.pi*(df['month'])/months_in_a_year)\n",
    "    df.drop(columns=['month'], inplace=True)\n",
    "    \n",
    "    return df"
   ]
  },
  {
   "cell_type": "markdown",
   "metadata": {},
   "source": [
    "### Cumulative Features"
   ]
  },
  {
   "cell_type": "markdown",
   "metadata": {},
   "source": [
    "#### Add a cumulative spending column\n",
    "* We can look at weekly, monthly, and quarterly spending\n",
    "* For each time period, we have two options: sum previous data, or don't"
   ]
  },
  {
   "cell_type": "code",
   "execution_count": 30,
   "metadata": {},
   "outputs": [],
   "source": [
    "def add_cum_spending(df: pd.DataFrame, period = 'weekly', carryover = False):\n",
    "    \"\"\"Add a cumulative spending column. Select period (weekly, monthly, or quarterly).\n",
    "    Indicate whether you would like to carry over the previous period in subsequent sums with sum_prev_data.\"\"\"\n",
    "    w_cumulative_spending = (\n",
    "                df[['google', 'tiktok', 'facebook']]\n",
    "                .resample('W-Mon')  # Resample to weekly, starting on Mondays\n",
    "                .sum()\n",
    "            )\n",
    "    w_cumulative_spending_carryover = (\n",
    "                df[['google', 'tiktok', 'facebook']]\n",
    "                .resample('W-Mon')\n",
    "                .sum()\n",
    "                .cumsum()\n",
    "            )\n",
    "    m_cumulative_spending = (\n",
    "                df[['google', 'tiktok', 'facebook']]\n",
    "                .resample('M')  # Resample to monthly\n",
    "                .sum()\n",
    "            )\n",
    "    m_cumulative_spending_carryover = (\n",
    "                df[['google', 'tiktok', 'facebook']]\n",
    "                .resample('M')\n",
    "                .sum()\n",
    "                .cumsum()\n",
    "            )\n",
    "\n",
    "    q_cumulative_spending = (\n",
    "                df[['google', 'tiktok', 'facebook']]\n",
    "                .resample('Q')  # Resample to quarterly\n",
    "                .sum()\n",
    "            )\n",
    "    q_cumulative_spending_carryover = (\n",
    "                df[['google', 'tiktok', 'facebook']]\n",
    "                .resample('Q')\n",
    "                .sum()\n",
    "                .cumsum()\n",
    "            )\n",
    "\n",
    "    week_values = {\n",
    "        1: 6, # tuesday\n",
    "        2: 5, # wednesday\n",
    "        3: 4, # thursday\n",
    "        4: 3, # friday\n",
    "        5: 2, # saturday\n",
    "        6: 1 # sunday\n",
    "    }\n",
    "    \n",
    "    first_date = df.index[0]\n",
    "    day_of_week = first_date.dayofweek\n",
    "    cum_channels = ['facebook_cumulative','google_cumulative','tiktok_cumulative']\n",
    "    cost_channels = ['facebook', 'google', 'tiktok']\n",
    "    \n",
    "    if carryover == False:\n",
    "        if period == 'weekly':\n",
    "            cumulative_spending_daily = w_cumulative_spending.reindex(df.index, method='ffill')                   \n",
    "            # Merge the daily cumulative values back to the original DataFrame:\n",
    "            df = df.join(cumulative_spending_daily, rsuffix='_cumulative')\n",
    "            if day_of_week in week_values:\n",
    "                idx = (week_values[day_of_week])\n",
    "                selection = pd.DataFrame(df.loc[df.index[0:idx], 'facebook'])\n",
    "                df['facebook_cumulative'][0:idx] = selection['facebook'].sum()\n",
    "                \n",
    "                selection = pd.DataFrame(df.loc[df.index[0:idx], 'google'])\n",
    "                df['google_cumulative'][0:idx] = selection['google'].sum()\n",
    "                \n",
    "                selection = pd.DataFrame(df.loc[df.index[0:idx], 'tiktok'])\n",
    "                df['tiktok_cumulative'][0:idx] = selection['tiktok'].sum()\n",
    "        elif period == 'monthly':\n",
    "            cumulative_spending_monthly = m_cumulative_spending.reindex(df.index, method='bfill')\n",
    "            df = df.join(cumulative_spending_monthly, rsuffix='_cumulative')\n",
    "        elif period == 'quarterly':\n",
    "            cumulative_spending_quarterly = q_cumulative_spending.reindex(df.index, method='bfill')\n",
    "            df = df.join(cumulative_spending_quarterly, rsuffix='_cumulative')\n",
    "        else:\n",
    "            raise ValueError('Invalid period option. Choose \"weekly\", \"monthly\", or \"quarterly\".')            \n",
    "\n",
    "    elif carryover == True:\n",
    "        if period == 'weekly':\n",
    "            cumulative_spending_filled = w_cumulative_spending_carryover.reindex(df.index, method='ffill')\n",
    "            cumulative_spending_filled.columns = [f'{col}_cum_carryover' for col in cumulative_spending_filled.columns]\n",
    "            df = df.join(cumulative_spending_filled)\n",
    "            if day_of_week in week_values:\n",
    "                idx = (week_values[day_of_week])\n",
    "                selection = pd.DataFrame(df.loc[df.index[0:idx], 'facebook'])\n",
    "                df['facebook_cum_carryover'][0:idx] = selection['facebook'].sum()\n",
    "                \n",
    "                selection = pd.DataFrame(df.loc[df.index[0:idx], 'google'])\n",
    "                df['google_cum_carryover'][0:idx] = selection['google'].sum()\n",
    "                \n",
    "                selection = pd.DataFrame(df.loc[df.index[0:idx], 'tiktok'])\n",
    "                df['tiktok_cum_carryover'][0:idx] = selection['tiktok'].sum()\n",
    "        elif period == 'monthly':\n",
    "            cumulative_spending_filled = m_cumulative_spending_carryover.reindex(df.index, method='bfill')\n",
    "            cumulative_spending_filled.columns = [f'{col}_cum_carryover' for col in cumulative_spending_filled.columns]\n",
    "            df = df.join(cumulative_spending_filled)\n",
    "        elif period == 'quarterly':\n",
    "            cumulative_spending_filled = q_cumulative_spending_carryover.reindex(df.index, method='bfill')\n",
    "            cumulative_spending_filled.columns = [f'{col}_cum_carryover' for col in cumulative_spending_filled.columns]\n",
    "            df = df.join(cumulative_spending_filled)\n",
    "        else:\n",
    "            raise ValueError('Invalid period option. Choose \"weekly\", \"monthly\", or \"quarterly\".')\n",
    "            \n",
    "    else:\n",
    "        raise ValueError('Invalid carryover option. Choose True or False.')\n",
    "        \n",
    "\n",
    "    return df"
   ]
  },
  {
   "cell_type": "markdown",
   "metadata": {},
   "source": [
    "### Lag Features"
   ]
  },
  {
   "cell_type": "markdown",
   "metadata": {},
   "source": [
    "#### Sales lag"
   ]
  },
  {
   "cell_type": "code",
   "execution_count": 31,
   "metadata": {},
   "outputs": [],
   "source": [
    "def add_sales_lag(df: pd.DataFrame, period = 7):\n",
    "    \"\"\"Adds a sales lag column. Indicate the period of lag (in days - default is weekly/7 days).\"\"\"\n",
    "    df['sales_lag'] = df['total_sales'].shift(period)\n",
    "    df['sales_lag'] = df['sales_lag'].bfill()  # Backfill missing values\n",
    "    return df"
   ]
  },
  {
   "cell_type": "markdown",
   "metadata": {},
   "source": [
    "### Moving Average Features"
   ]
  },
  {
   "cell_type": "markdown",
   "metadata": {},
   "source": [
    "#### Sales moving average"
   ]
  },
  {
   "cell_type": "code",
   "execution_count": 32,
   "metadata": {},
   "outputs": [],
   "source": [
    "def add_sales_moving_avg(df: pd.DataFrame, window_size = 7):\n",
    "    \"\"\"Adds a sales moving average column. Indicate the window size (default = 7)\"\"\"\n",
    "    df['sales_moving_avg'] = df['total_sales'].rolling(window=window_size, center=True).mean()\n",
    "    df['sales_moving_avg'] = df['sales_moving_avg'].bfill()  # Backfill missing values at beginning of df\n",
    "    df['sales_moving_avg'] = df['sales_moving_avg'].ffill()  # Forwardfill missing values at end of df\n",
    "    return df"
   ]
  },
  {
   "cell_type": "markdown",
   "metadata": {},
   "source": [
    "### Exponential Smoothing"
   ]
  },
  {
   "cell_type": "markdown",
   "metadata": {},
   "source": [
    "#### Sales exponential smoothing"
   ]
  },
  {
   "cell_type": "code",
   "execution_count": 33,
   "metadata": {},
   "outputs": [],
   "source": [
    "def add_sales_exp_smoothing(df: pd.DataFrame, alpha = 0.5):\n",
    "    \"\"\"Adds a sales (exponential smoothing) column. Indicate the alpha value (default = 0.5)\"\"\"\n",
    "    smoothed_series = [df['total_sales'].iloc[0]]\n",
    "    for i in range(1, len(df)):\n",
    "        smoothed_value = alpha * df['total_sales'].iloc[i] + (1 - alpha) * smoothed_series[-1]\n",
    "        smoothed_series.append(smoothed_value)\n",
    "    df['smoothed_sales'] = smoothed_series\n",
    "    return df"
   ]
  },
  {
   "cell_type": "markdown",
   "metadata": {},
   "source": [
    "### Functions to aid my pipeline"
   ]
  },
  {
   "cell_type": "code",
   "execution_count": 34,
   "metadata": {},
   "outputs": [],
   "source": [
    "def drop_column(df: pd.DataFrame):\n",
    "    df = df.drop(columns = 'total_sales')\n",
    "    return df"
   ]
  },
  {
   "cell_type": "code",
   "execution_count": 35,
   "metadata": {},
   "outputs": [
    {
     "name": "stderr",
     "output_type": "stream",
     "text": [
      "/var/folders/6z/35ch39_x42sc8_3pss6wly180000gn/T/ipykernel_6380/320306673.py:61: SettingWithCopyWarning: \n",
      "A value is trying to be set on a copy of a slice from a DataFrame\n",
      "\n",
      "See the caveats in the documentation: https://pandas.pydata.org/pandas-docs/stable/user_guide/indexing.html#returning-a-view-versus-a-copy\n",
      "  df['facebook_cumulative'][0:idx] = selection['facebook'].sum()\n",
      "/var/folders/6z/35ch39_x42sc8_3pss6wly180000gn/T/ipykernel_6380/320306673.py:64: SettingWithCopyWarning: \n",
      "A value is trying to be set on a copy of a slice from a DataFrame\n",
      "\n",
      "See the caveats in the documentation: https://pandas.pydata.org/pandas-docs/stable/user_guide/indexing.html#returning-a-view-versus-a-copy\n",
      "  df['google_cumulative'][0:idx] = selection['google'].sum()\n",
      "/var/folders/6z/35ch39_x42sc8_3pss6wly180000gn/T/ipykernel_6380/320306673.py:67: SettingWithCopyWarning: \n",
      "A value is trying to be set on a copy of a slice from a DataFrame\n",
      "\n",
      "See the caveats in the documentation: https://pandas.pydata.org/pandas-docs/stable/user_guide/indexing.html#returning-a-view-versus-a-copy\n",
      "  df['tiktok_cumulative'][0:idx] = selection['tiktok'].sum()\n"
     ]
    },
    {
     "data": {
      "text/plain": [
       "Index(['orders', 'total_sales', 'facebook', 'google', 'tiktok', 'holiday',\n",
       "       'fri_sat', 'trend', 'sin_MonthYear', 'cos_MonthYear',\n",
       "       'google_cumulative', 'tiktok_cumulative', 'facebook_cumulative',\n",
       "       'sales_lag', 'sales_moving_avg', 'smoothed_sales'],\n",
       "      dtype='object')"
      ]
     },
     "execution_count": 35,
     "metadata": {},
     "output_type": "execute_result"
    }
   ],
   "source": [
    "copy = train_df.copy()\n",
    "df = add_holidays(copy)\n",
    "df = add_weekends(df)\n",
    "df = add_cyclical_months(df)\n",
    "df = add_cum_spending(df)\n",
    "df = add_sales_lag(df)\n",
    "df = add_sales_moving_avg(df)\n",
    "df = add_sales_exp_smoothing(df)\n",
    "df.columns"
   ]
  },
  {
   "cell_type": "code",
   "execution_count": 36,
   "metadata": {},
   "outputs": [],
   "source": [
    "def create_df(array: np.array):\n",
    "    columns = ['orders', 'total_sales', 'facebook', 'google', 'tiktok', 'holiday',\n",
    "       'fri_sat', 'trend', 'sin_MonthYear', 'cos_MonthYear',\n",
    "       'google_cumulative', 'tiktok_cumulative', 'facebook_cumulative',\n",
    "       'sales_lag', 'sales_moving_avg', 'smoothed_sales']\n",
    "    columns_ = ['facebook','google','tiktok']\n",
    "    df = pd.DataFrame(array, columns = columns_)\n",
    "    datetime_series = pd.Series(\n",
    "        pd.date_range(\"2021-07-01\", periods=len(df), freq=\"D\")\n",
    "        )\n",
    "    df = pd.concat([df,datetime_series],axis=1)\n",
    "    df = df.set_index(0)\n",
    "    df = df.rename(index={0: 'Day'})\n",
    "    return df"
   ]
  },
  {
   "cell_type": "code",
   "execution_count": 37,
   "metadata": {},
   "outputs": [],
   "source": [
    "def drop_col(df: pd.DataFrame):\n",
    "    df = pd.DataFrame(df)\n",
    "    df = df.drop(columns = 1)\n",
    "    return df"
   ]
  },
  {
   "cell_type": "markdown",
   "metadata": {},
   "source": [
    "## Transform Features"
   ]
  },
  {
   "cell_type": "markdown",
   "metadata": {},
   "source": [
    "#### Transform features to [advertising adstock](https://en.wikipedia.org/wiki/Advertising_adstock) features\n",
    "* Advertising adstock: lagged effect of advertising on consumer purchase behavior."
   ]
  },
  {
   "cell_type": "code",
   "execution_count": 38,
   "metadata": {},
   "outputs": [],
   "source": [
    "adstock = ColumnTransformer(\n",
    "    [\n",
    "     ('facebook_pipe', Pipeline([\n",
    "            ('carryover', ExponentialCarryover()),\n",
    "            ('saturation', ExponentialSaturation())\n",
    "     ]), ['facebook']),\n",
    "     ('google_pipe', Pipeline([\n",
    "            ('carryover', ExponentialCarryover()),\n",
    "            ('saturation', ExponentialSaturation())\n",
    "     ]), ['google']),\n",
    "     ('tiktok_pipe', Pipeline([\n",
    "            ('carryover', ExponentialCarryover()),\n",
    "            ('saturation', ExponentialSaturation())\n",
    "     ]), ['tiktok'])\n",
    "], passthrough)"
   ]
  },
  {
   "cell_type": "markdown",
   "metadata": {},
   "source": [
    "## Pipeline Prep"
   ]
  },
  {
   "cell_type": "markdown",
   "metadata": {},
   "source": [
    "### Create a 1. FunctionTransformer for stateless transformations and 2. FunctionTransformer + GridSearchCV for stateful transformation"
   ]
  },
  {
   "cell_type": "code",
   "execution_count": 39,
   "metadata": {},
   "outputs": [],
   "source": [
    "\n",
    "\n",
    "holidays_ft = FunctionTransformer(add_holidays)\n",
    "weekends = FunctionTransformer(add_weekends)\n",
    "months = FunctionTransformer(add_cyclical_months)\n",
    "drop_column_ft = FunctionTransformer(drop_column)\n",
    "create_df_ft = FunctionTransformer(create_df)\n",
    "drop_col_ft = FunctionTransformer(drop_col)\n",
    "\n",
    "###\n",
    "\n",
    "cum_spending = FunctionTransformer(add_cum_spending, kw_args = {'period': 'weekly', 'carryover': False})\n",
    "\n",
    "cum_spending_param_grid = dict(\n",
    "    union__preprocessing__cum_spending__kw_args = [\n",
    "        {'period': 'weekly', 'carryover': False},\n",
    "        {'period': 'monthly', 'carryover': False},\n",
    "        {'period': 'quarterly', 'carryover': False},\n",
    "        {'period': 'weekly', 'carryover': True},\n",
    "        {'period': 'monthly', 'carryover': True},\n",
    "        {'period': 'quarterly', 'carryover': True},\n",
    "    ]\n",
    ")\n",
    "\n",
    "###\n",
    "\n",
    "sales_lag = FunctionTransformer(add_sales_lag, kw_args = {'period': 7})\n",
    "\n",
    "sales_lag_param_grid = dict(\n",
    "    union__preprocessing__sales_lag__kw_args = [\n",
    "        {'period': 1},\n",
    "        {'period': 7},\n",
    "        {'period': 15},\n",
    "        {'period': 30}\n",
    "    ]\n",
    ")\n",
    "\n",
    "###\n",
    "\n",
    "sales_moving_avg = FunctionTransformer(add_sales_moving_avg, kw_args = {'window_size': 7})\n",
    "\n",
    "sales_moving_avg_param_grid = dict(\n",
    "    union__preprocessing__sales_moving_avg__kw_args = [\n",
    "        {'window_size': 7},\n",
    "        {'window_size': 15},\n",
    "        {'window_size': 30}\n",
    "    ]\n",
    ")\n",
    "\n",
    "###\n",
    "\n",
    "sales_exp_smoothing = FunctionTransformer(add_sales_exp_smoothing, kw_args = {'alpha': 0.5})\n",
    "\n",
    "sales_exp_smoothing_param_grid = dict(\n",
    "    union__preprocessing__sales_exp_smoothing__kw_args = [\n",
    "        {'alpha': 0.2},\n",
    "        {'alpha': 0.5},\n",
    "        {'alpha': 0.7}\n",
    "    ]\n",
    ")\n",
    "\n"
   ]
  },
  {
   "cell_type": "markdown",
   "metadata": {},
   "source": [
    "### Pipeline"
   ]
  },
  {
   "cell_type": "markdown",
   "metadata": {},
   "source": [
    "### Moment of Truth - Grid Search!"
   ]
  },
  {
   "cell_type": "code",
   "execution_count": 58,
   "metadata": {},
   "outputs": [
    {
     "data": {
      "text/html": [
       "<style>#sk-container-id-5 {color: black;}#sk-container-id-5 pre{padding: 0;}#sk-container-id-5 div.sk-toggleable {background-color: white;}#sk-container-id-5 label.sk-toggleable__label {cursor: pointer;display: block;width: 100%;margin-bottom: 0;padding: 0.3em;box-sizing: border-box;text-align: center;}#sk-container-id-5 label.sk-toggleable__label-arrow:before {content: \"▸\";float: left;margin-right: 0.25em;color: #696969;}#sk-container-id-5 label.sk-toggleable__label-arrow:hover:before {color: black;}#sk-container-id-5 div.sk-estimator:hover label.sk-toggleable__label-arrow:before {color: black;}#sk-container-id-5 div.sk-toggleable__content {max-height: 0;max-width: 0;overflow: hidden;text-align: left;background-color: #f0f8ff;}#sk-container-id-5 div.sk-toggleable__content pre {margin: 0.2em;color: black;border-radius: 0.25em;background-color: #f0f8ff;}#sk-container-id-5 input.sk-toggleable__control:checked~div.sk-toggleable__content {max-height: 200px;max-width: 100%;overflow: auto;}#sk-container-id-5 input.sk-toggleable__control:checked~label.sk-toggleable__label-arrow:before {content: \"▾\";}#sk-container-id-5 div.sk-estimator input.sk-toggleable__control:checked~label.sk-toggleable__label {background-color: #d4ebff;}#sk-container-id-5 div.sk-label input.sk-toggleable__control:checked~label.sk-toggleable__label {background-color: #d4ebff;}#sk-container-id-5 input.sk-hidden--visually {border: 0;clip: rect(1px 1px 1px 1px);clip: rect(1px, 1px, 1px, 1px);height: 1px;margin: -1px;overflow: hidden;padding: 0;position: absolute;width: 1px;}#sk-container-id-5 div.sk-estimator {font-family: monospace;background-color: #f0f8ff;border: 1px dotted black;border-radius: 0.25em;box-sizing: border-box;margin-bottom: 0.5em;}#sk-container-id-5 div.sk-estimator:hover {background-color: #d4ebff;}#sk-container-id-5 div.sk-parallel-item::after {content: \"\";width: 100%;border-bottom: 1px solid gray;flex-grow: 1;}#sk-container-id-5 div.sk-label:hover label.sk-toggleable__label {background-color: #d4ebff;}#sk-container-id-5 div.sk-serial::before {content: \"\";position: absolute;border-left: 1px solid gray;box-sizing: border-box;top: 0;bottom: 0;left: 50%;z-index: 0;}#sk-container-id-5 div.sk-serial {display: flex;flex-direction: column;align-items: center;background-color: white;padding-right: 0.2em;padding-left: 0.2em;position: relative;}#sk-container-id-5 div.sk-item {position: relative;z-index: 1;}#sk-container-id-5 div.sk-parallel {display: flex;align-items: stretch;justify-content: center;background-color: white;position: relative;}#sk-container-id-5 div.sk-item::before, #sk-container-id-5 div.sk-parallel-item::before {content: \"\";position: absolute;border-left: 1px solid gray;box-sizing: border-box;top: 0;bottom: 0;left: 50%;z-index: -1;}#sk-container-id-5 div.sk-parallel-item {display: flex;flex-direction: column;z-index: 1;position: relative;background-color: white;}#sk-container-id-5 div.sk-parallel-item:first-child::after {align-self: flex-end;width: 50%;}#sk-container-id-5 div.sk-parallel-item:last-child::after {align-self: flex-start;width: 50%;}#sk-container-id-5 div.sk-parallel-item:only-child::after {width: 0;}#sk-container-id-5 div.sk-dashed-wrapped {border: 1px dashed gray;margin: 0 0.4em 0.5em 0.4em;box-sizing: border-box;padding-bottom: 0.4em;background-color: white;}#sk-container-id-5 div.sk-label label {font-family: monospace;font-weight: bold;display: inline-block;line-height: 1.2em;}#sk-container-id-5 div.sk-label-container {text-align: center;}#sk-container-id-5 div.sk-container {/* jupyter's `normalize.less` sets `[hidden] { display: none; }` but bootstrap.min.css set `[hidden] { display: none !important; }` so we also need the `!important` here to be able to override the default hidden behavior on the sphinx rendered scikit-learn.org. See: https://github.com/scikit-learn/scikit-learn/issues/21755 */display: inline-block !important;position: relative;}#sk-container-id-5 div.sk-text-repr-fallback {display: none;}</style><div id=\"sk-container-id-5\" class=\"sk-top-container\"><div class=\"sk-text-repr-fallback\"><pre>GridSearchCV(cv=TimeSeriesSplit(gap=0, max_train_size=None, n_splits=5, test_size=None),\n",
       "             estimator=Pipeline(steps=[(&#x27;union&#x27;,\n",
       "                                        FeatureUnion(transformer_list=[(&#x27;adstock_pipeline&#x27;,\n",
       "                                                                        Pipeline(steps=[(&#x27;adstock&#x27;,\n",
       "                                                                                         ColumnTransformer(transformers=[(&#x27;facebook_pipe&#x27;,\n",
       "                                                                                                                          Pipeline(steps=[(&#x27;carryover&#x27;,\n",
       "                                                                                                                                           ExponentialCarryover()),\n",
       "                                                                                                                                          (&#x27;saturation&#x27;,\n",
       "                                                                                                                                           ExponentialSaturation())]),\n",
       "                                                                                                                          [&#x27;faceboo...\n",
       "                                                                                                                         (&#x27;tiktok_pipe&#x27;,\n",
       "                                                                                                                          Pipeline(steps=[(&#x27;carryover&#x27;,\n",
       "                                                                                                                                           ExponentialCarryover()),\n",
       "                                                                                                                                          (&#x27;saturation&#x27;,\n",
       "                                                                                                                                           ExponentialSaturation())]),\n",
       "                                                                                                                          [&#x27;tiktok&#x27;])])),\n",
       "                                                                                        (&#x27;create_df_ft&#x27;,\n",
       "                                                                                         FunctionTransformer(func=&lt;function create_df at 0x168c94670&gt;))]))])),\n",
       "                                       (&#x27;drop_col_ft&#x27;,\n",
       "                                        FunctionTransformer(func=&lt;function drop_col at 0x10371e4d0&gt;)),\n",
       "                                       (&#x27;model&#x27;, LinearRegression())]),\n",
       "             param_grid={}, scoring=&#x27;neg_mean_squared_error&#x27;)</pre><b>In a Jupyter environment, please rerun this cell to show the HTML representation or trust the notebook. <br />On GitHub, the HTML representation is unable to render, please try loading this page with nbviewer.org.</b></div><div class=\"sk-container\" hidden><div class=\"sk-item sk-dashed-wrapped\"><div class=\"sk-label-container\"><div class=\"sk-label sk-toggleable\"><input class=\"sk-toggleable__control sk-hidden--visually\" id=\"sk-estimator-id-90\" type=\"checkbox\" ><label for=\"sk-estimator-id-90\" class=\"sk-toggleable__label sk-toggleable__label-arrow\">GridSearchCV</label><div class=\"sk-toggleable__content\"><pre>GridSearchCV(cv=TimeSeriesSplit(gap=0, max_train_size=None, n_splits=5, test_size=None),\n",
       "             estimator=Pipeline(steps=[(&#x27;union&#x27;,\n",
       "                                        FeatureUnion(transformer_list=[(&#x27;adstock_pipeline&#x27;,\n",
       "                                                                        Pipeline(steps=[(&#x27;adstock&#x27;,\n",
       "                                                                                         ColumnTransformer(transformers=[(&#x27;facebook_pipe&#x27;,\n",
       "                                                                                                                          Pipeline(steps=[(&#x27;carryover&#x27;,\n",
       "                                                                                                                                           ExponentialCarryover()),\n",
       "                                                                                                                                          (&#x27;saturation&#x27;,\n",
       "                                                                                                                                           ExponentialSaturation())]),\n",
       "                                                                                                                          [&#x27;faceboo...\n",
       "                                                                                                                         (&#x27;tiktok_pipe&#x27;,\n",
       "                                                                                                                          Pipeline(steps=[(&#x27;carryover&#x27;,\n",
       "                                                                                                                                           ExponentialCarryover()),\n",
       "                                                                                                                                          (&#x27;saturation&#x27;,\n",
       "                                                                                                                                           ExponentialSaturation())]),\n",
       "                                                                                                                          [&#x27;tiktok&#x27;])])),\n",
       "                                                                                        (&#x27;create_df_ft&#x27;,\n",
       "                                                                                         FunctionTransformer(func=&lt;function create_df at 0x168c94670&gt;))]))])),\n",
       "                                       (&#x27;drop_col_ft&#x27;,\n",
       "                                        FunctionTransformer(func=&lt;function drop_col at 0x10371e4d0&gt;)),\n",
       "                                       (&#x27;model&#x27;, LinearRegression())]),\n",
       "             param_grid={}, scoring=&#x27;neg_mean_squared_error&#x27;)</pre></div></div></div><div class=\"sk-parallel\"><div class=\"sk-parallel-item\"><div class=\"sk-item\"><div class=\"sk-label-container\"><div class=\"sk-label sk-toggleable\"><input class=\"sk-toggleable__control sk-hidden--visually\" id=\"sk-estimator-id-91\" type=\"checkbox\" ><label for=\"sk-estimator-id-91\" class=\"sk-toggleable__label sk-toggleable__label-arrow\">estimator: Pipeline</label><div class=\"sk-toggleable__content\"><pre>Pipeline(steps=[(&#x27;union&#x27;,\n",
       "                 FeatureUnion(transformer_list=[(&#x27;adstock_pipeline&#x27;,\n",
       "                                                 Pipeline(steps=[(&#x27;adstock&#x27;,\n",
       "                                                                  ColumnTransformer(transformers=[(&#x27;facebook_pipe&#x27;,\n",
       "                                                                                                   Pipeline(steps=[(&#x27;carryover&#x27;,\n",
       "                                                                                                                    ExponentialCarryover()),\n",
       "                                                                                                                   (&#x27;saturation&#x27;,\n",
       "                                                                                                                    ExponentialSaturation())]),\n",
       "                                                                                                   [&#x27;facebook&#x27;]),\n",
       "                                                                                                  (&#x27;google_pipe&#x27;,\n",
       "                                                                                                   Pipeline(steps=[(&#x27;carryover&#x27;,\n",
       "                                                                                                                    ExponentialCarryover()),\n",
       "                                                                                                                   (&#x27;saturation&#x27;,\n",
       "                                                                                                                    ExponentialSaturation())]),\n",
       "                                                                                                   [&#x27;google&#x27;]),\n",
       "                                                                                                  (&#x27;tiktok_pipe&#x27;,\n",
       "                                                                                                   Pipeline(steps=[(&#x27;carryover&#x27;,\n",
       "                                                                                                                    ExponentialCarryover()),\n",
       "                                                                                                                   (&#x27;saturation&#x27;,\n",
       "                                                                                                                    ExponentialSaturation())]),\n",
       "                                                                                                   [&#x27;tiktok&#x27;])])),\n",
       "                                                                 (&#x27;create_df_ft&#x27;,\n",
       "                                                                  FunctionTransformer(func=&lt;function create_df at 0x168c94670&gt;))]))])),\n",
       "                (&#x27;drop_col_ft&#x27;,\n",
       "                 FunctionTransformer(func=&lt;function drop_col at 0x10371e4d0&gt;)),\n",
       "                (&#x27;model&#x27;, LinearRegression())])</pre></div></div></div><div class=\"sk-serial\"><div class=\"sk-item\"><div class=\"sk-serial\"><div class=\"sk-item sk-dashed-wrapped\"><div class=\"sk-label-container\"><div class=\"sk-label sk-toggleable\"><input class=\"sk-toggleable__control sk-hidden--visually\" id=\"sk-estimator-id-92\" type=\"checkbox\" ><label for=\"sk-estimator-id-92\" class=\"sk-toggleable__label sk-toggleable__label-arrow\">union: FeatureUnion</label><div class=\"sk-toggleable__content\"><pre>FeatureUnion(transformer_list=[(&#x27;adstock_pipeline&#x27;,\n",
       "                                Pipeline(steps=[(&#x27;adstock&#x27;,\n",
       "                                                 ColumnTransformer(transformers=[(&#x27;facebook_pipe&#x27;,\n",
       "                                                                                  Pipeline(steps=[(&#x27;carryover&#x27;,\n",
       "                                                                                                   ExponentialCarryover()),\n",
       "                                                                                                  (&#x27;saturation&#x27;,\n",
       "                                                                                                   ExponentialSaturation())]),\n",
       "                                                                                  [&#x27;facebook&#x27;]),\n",
       "                                                                                 (&#x27;google_pipe&#x27;,\n",
       "                                                                                  Pipeline(steps=[(&#x27;carryover&#x27;,\n",
       "                                                                                                   ExponentialCarryover()),\n",
       "                                                                                                  (&#x27;saturation&#x27;,\n",
       "                                                                                                   ExponentialSaturation())]),\n",
       "                                                                                  [&#x27;google&#x27;]),\n",
       "                                                                                 (&#x27;tiktok_pipe&#x27;,\n",
       "                                                                                  Pipeline(steps=[(&#x27;carryover&#x27;,\n",
       "                                                                                                   ExponentialCarryover()),\n",
       "                                                                                                  (&#x27;saturation&#x27;,\n",
       "                                                                                                   ExponentialSaturation())]),\n",
       "                                                                                  [&#x27;tiktok&#x27;])])),\n",
       "                                                (&#x27;create_df_ft&#x27;,\n",
       "                                                 FunctionTransformer(func=&lt;function create_df at 0x168c94670&gt;))]))])</pre></div></div></div><div class=\"sk-parallel\"><div class=\"sk-parallel-item\"><div class=\"sk-item\"><div class=\"sk-label-container\"><div class=\"sk-label sk-toggleable\"><label>adstock_pipeline</label></div></div><div class=\"sk-serial\"><div class=\"sk-item\"><div class=\"sk-serial\"><div class=\"sk-item sk-dashed-wrapped\"><div class=\"sk-label-container\"><div class=\"sk-label sk-toggleable\"><input class=\"sk-toggleable__control sk-hidden--visually\" id=\"sk-estimator-id-93\" type=\"checkbox\" ><label for=\"sk-estimator-id-93\" class=\"sk-toggleable__label sk-toggleable__label-arrow\">adstock: ColumnTransformer</label><div class=\"sk-toggleable__content\"><pre>ColumnTransformer(transformers=[(&#x27;facebook_pipe&#x27;,\n",
       "                                 Pipeline(steps=[(&#x27;carryover&#x27;,\n",
       "                                                  ExponentialCarryover()),\n",
       "                                                 (&#x27;saturation&#x27;,\n",
       "                                                  ExponentialSaturation())]),\n",
       "                                 [&#x27;facebook&#x27;]),\n",
       "                                (&#x27;google_pipe&#x27;,\n",
       "                                 Pipeline(steps=[(&#x27;carryover&#x27;,\n",
       "                                                  ExponentialCarryover()),\n",
       "                                                 (&#x27;saturation&#x27;,\n",
       "                                                  ExponentialSaturation())]),\n",
       "                                 [&#x27;google&#x27;]),\n",
       "                                (&#x27;tiktok_pipe&#x27;,\n",
       "                                 Pipeline(steps=[(&#x27;carryover&#x27;,\n",
       "                                                  ExponentialCarryover()),\n",
       "                                                 (&#x27;saturation&#x27;,\n",
       "                                                  ExponentialSaturation())]),\n",
       "                                 [&#x27;tiktok&#x27;])])</pre></div></div></div><div class=\"sk-parallel\"><div class=\"sk-parallel-item\"><div class=\"sk-item\"><div class=\"sk-label-container\"><div class=\"sk-label sk-toggleable\"><input class=\"sk-toggleable__control sk-hidden--visually\" id=\"sk-estimator-id-94\" type=\"checkbox\" ><label for=\"sk-estimator-id-94\" class=\"sk-toggleable__label sk-toggleable__label-arrow\">facebook_pipe</label><div class=\"sk-toggleable__content\"><pre>[&#x27;facebook&#x27;]</pre></div></div></div><div class=\"sk-serial\"><div class=\"sk-item\"><div class=\"sk-serial\"><div class=\"sk-item\"><div class=\"sk-estimator sk-toggleable\"><input class=\"sk-toggleable__control sk-hidden--visually\" id=\"sk-estimator-id-95\" type=\"checkbox\" ><label for=\"sk-estimator-id-95\" class=\"sk-toggleable__label sk-toggleable__label-arrow\">ExponentialCarryover</label><div class=\"sk-toggleable__content\"><pre>ExponentialCarryover()</pre></div></div></div><div class=\"sk-item\"><div class=\"sk-estimator sk-toggleable\"><input class=\"sk-toggleable__control sk-hidden--visually\" id=\"sk-estimator-id-96\" type=\"checkbox\" ><label for=\"sk-estimator-id-96\" class=\"sk-toggleable__label sk-toggleable__label-arrow\">ExponentialSaturation</label><div class=\"sk-toggleable__content\"><pre>ExponentialSaturation()</pre></div></div></div></div></div></div></div></div><div class=\"sk-parallel-item\"><div class=\"sk-item\"><div class=\"sk-label-container\"><div class=\"sk-label sk-toggleable\"><input class=\"sk-toggleable__control sk-hidden--visually\" id=\"sk-estimator-id-97\" type=\"checkbox\" ><label for=\"sk-estimator-id-97\" class=\"sk-toggleable__label sk-toggleable__label-arrow\">google_pipe</label><div class=\"sk-toggleable__content\"><pre>[&#x27;google&#x27;]</pre></div></div></div><div class=\"sk-serial\"><div class=\"sk-item\"><div class=\"sk-serial\"><div class=\"sk-item\"><div class=\"sk-estimator sk-toggleable\"><input class=\"sk-toggleable__control sk-hidden--visually\" id=\"sk-estimator-id-98\" type=\"checkbox\" ><label for=\"sk-estimator-id-98\" class=\"sk-toggleable__label sk-toggleable__label-arrow\">ExponentialCarryover</label><div class=\"sk-toggleable__content\"><pre>ExponentialCarryover()</pre></div></div></div><div class=\"sk-item\"><div class=\"sk-estimator sk-toggleable\"><input class=\"sk-toggleable__control sk-hidden--visually\" id=\"sk-estimator-id-99\" type=\"checkbox\" ><label for=\"sk-estimator-id-99\" class=\"sk-toggleable__label sk-toggleable__label-arrow\">ExponentialSaturation</label><div class=\"sk-toggleable__content\"><pre>ExponentialSaturation()</pre></div></div></div></div></div></div></div></div><div class=\"sk-parallel-item\"><div class=\"sk-item\"><div class=\"sk-label-container\"><div class=\"sk-label sk-toggleable\"><input class=\"sk-toggleable__control sk-hidden--visually\" id=\"sk-estimator-id-100\" type=\"checkbox\" ><label for=\"sk-estimator-id-100\" class=\"sk-toggleable__label sk-toggleable__label-arrow\">tiktok_pipe</label><div class=\"sk-toggleable__content\"><pre>[&#x27;tiktok&#x27;]</pre></div></div></div><div class=\"sk-serial\"><div class=\"sk-item\"><div class=\"sk-serial\"><div class=\"sk-item\"><div class=\"sk-estimator sk-toggleable\"><input class=\"sk-toggleable__control sk-hidden--visually\" id=\"sk-estimator-id-101\" type=\"checkbox\" ><label for=\"sk-estimator-id-101\" class=\"sk-toggleable__label sk-toggleable__label-arrow\">ExponentialCarryover</label><div class=\"sk-toggleable__content\"><pre>ExponentialCarryover()</pre></div></div></div><div class=\"sk-item\"><div class=\"sk-estimator sk-toggleable\"><input class=\"sk-toggleable__control sk-hidden--visually\" id=\"sk-estimator-id-102\" type=\"checkbox\" ><label for=\"sk-estimator-id-102\" class=\"sk-toggleable__label sk-toggleable__label-arrow\">ExponentialSaturation</label><div class=\"sk-toggleable__content\"><pre>ExponentialSaturation()</pre></div></div></div></div></div></div></div></div></div></div><div class=\"sk-item\"><div class=\"sk-estimator sk-toggleable\"><input class=\"sk-toggleable__control sk-hidden--visually\" id=\"sk-estimator-id-103\" type=\"checkbox\" ><label for=\"sk-estimator-id-103\" class=\"sk-toggleable__label sk-toggleable__label-arrow\">FunctionTransformer</label><div class=\"sk-toggleable__content\"><pre>FunctionTransformer(func=&lt;function create_df at 0x168c94670&gt;)</pre></div></div></div></div></div></div></div></div></div></div><div class=\"sk-item\"><div class=\"sk-estimator sk-toggleable\"><input class=\"sk-toggleable__control sk-hidden--visually\" id=\"sk-estimator-id-104\" type=\"checkbox\" ><label for=\"sk-estimator-id-104\" class=\"sk-toggleable__label sk-toggleable__label-arrow\">FunctionTransformer</label><div class=\"sk-toggleable__content\"><pre>FunctionTransformer(func=&lt;function drop_col at 0x10371e4d0&gt;)</pre></div></div></div><div class=\"sk-item\"><div class=\"sk-estimator sk-toggleable\"><input class=\"sk-toggleable__control sk-hidden--visually\" id=\"sk-estimator-id-105\" type=\"checkbox\" ><label for=\"sk-estimator-id-105\" class=\"sk-toggleable__label sk-toggleable__label-arrow\">LinearRegression</label><div class=\"sk-toggleable__content\"><pre>LinearRegression()</pre></div></div></div></div></div></div></div></div></div></div></div></div>"
      ],
      "text/plain": [
       "GridSearchCV(cv=TimeSeriesSplit(gap=0, max_train_size=None, n_splits=5, test_size=None),\n",
       "             estimator=Pipeline(steps=[('union',\n",
       "                                        FeatureUnion(transformer_list=[('adstock_pipeline',\n",
       "                                                                        Pipeline(steps=[('adstock',\n",
       "                                                                                         ColumnTransformer(transformers=[('facebook_pipe',\n",
       "                                                                                                                          Pipeline(steps=[('carryover',\n",
       "                                                                                                                                           ExponentialCarryover()),\n",
       "                                                                                                                                          ('saturation',\n",
       "                                                                                                                                           ExponentialSaturation())]),\n",
       "                                                                                                                          ['faceboo...\n",
       "                                                                                                                         ('tiktok_pipe',\n",
       "                                                                                                                          Pipeline(steps=[('carryover',\n",
       "                                                                                                                                           ExponentialCarryover()),\n",
       "                                                                                                                                          ('saturation',\n",
       "                                                                                                                                           ExponentialSaturation())]),\n",
       "                                                                                                                          ['tiktok'])])),\n",
       "                                                                                        ('create_df_ft',\n",
       "                                                                                         FunctionTransformer(func=<function create_df at 0x168c94670>))]))])),\n",
       "                                       ('drop_col_ft',\n",
       "                                        FunctionTransformer(func=<function drop_col at 0x10371e4d0>)),\n",
       "                                       ('model', LinearRegression())]),\n",
       "             param_grid={}, scoring='neg_mean_squared_error')"
      ]
     },
     "execution_count": 58,
     "metadata": {},
     "output_type": "execute_result"
    }
   ],
   "source": [
    "model = LinearRegression()\n",
    "\n",
    "# add dummy target column to user-given DF  so it can be dropped in the pipeline\n",
    "\n",
    "adstock_pipeline = Pipeline([\n",
    "    ('adstock', adstock),\n",
    "    ('create_df_ft', create_df_ft)\n",
    "])\n",
    "\n",
    "preprocessing = Pipeline([\n",
    "    ('holidays_ft', holidays_ft),\n",
    "    ('weekends', weekends),\n",
    "    ('months', months),\n",
    "    ('cum_spending', cum_spending),\n",
    "    ('sales_lag', sales_lag),\n",
    "    ('sales_moving_avg', sales_moving_avg),\n",
    "    ('sales_exp_smoothing', sales_exp_smoothing)\n",
    "])\n",
    "\n",
    "union = FeatureUnion([\n",
    "    #('preprocessing', preprocessing),\n",
    "    ('adstock_pipeline', adstock_pipeline)\n",
    "])\n",
    "\n",
    "pipeline = Pipeline([\n",
    "    ('union', union),\n",
    "    ('drop_col_ft', drop_col_ft),\n",
    "    ('model', model)\n",
    "])\n",
    "\n",
    "grid = {}\n",
    "combined_param_grid = [\n",
    "    {\n",
    "        **cum_spending_param_grid,\n",
    "        **sales_lag_param_grid,\n",
    "        **sales_moving_avg_param_grid,\n",
    "        **sales_exp_smoothing_param_grid\n",
    "    }\n",
    "]\n",
    "\n",
    "grid_search = GridSearchCV(pipeline, combined_param_grid, cv=tscv, scoring='neg_mean_squared_error')\n",
    "grid_search.get_params().keys()\n",
    "grid_search.fit(train_df, y_train)"
   ]
  },
  {
   "cell_type": "code",
   "execution_count": 59,
   "metadata": {},
   "outputs": [
    {
     "data": {
      "text/plain": [
       "{}"
      ]
     },
     "execution_count": 59,
     "metadata": {},
     "output_type": "execute_result"
    }
   ],
   "source": [
    "grid_search.best_params_"
   ]
  },
  {
   "cell_type": "code",
   "execution_count": 60,
   "metadata": {},
   "outputs": [
    {
     "data": {
      "text/plain": [
       "-1.1087291294489234"
      ]
     },
     "execution_count": 60,
     "metadata": {},
     "output_type": "execute_result"
    }
   ],
   "source": [
    "grid_search.best_estimator_.score(test_df, y_test)"
   ]
  },
  {
   "cell_type": "code",
   "execution_count": null,
   "metadata": {},
   "outputs": [],
   "source": []
  },
  {
   "cell_type": "markdown",
   "metadata": {},
   "source": [
    "## Check adstock"
   ]
  },
  {
   "cell_type": "code",
   "execution_count": 42,
   "metadata": {},
   "outputs": [
    {
     "data": {
      "text/plain": [
       "array([[1.        , 0.68963306, 0.        ],\n",
       "       [1.        , 0.56828948, 0.        ],\n",
       "       [1.        , 0.51324774, 0.        ],\n",
       "       ...,\n",
       "       [1.        , 1.        , 0.        ],\n",
       "       [1.        , 1.        , 0.        ],\n",
       "       [1.        , 1.        , 0.        ]])"
      ]
     },
     "execution_count": 42,
     "metadata": {},
     "output_type": "execute_result"
    }
   ],
   "source": [
    "adstock.fit_transform(train_df)"
   ]
  },
  {
   "cell_type": "markdown",
   "metadata": {},
   "source": [
    "## Check adstock pipeline"
   ]
  },
  {
   "cell_type": "code",
   "execution_count": 43,
   "metadata": {},
   "outputs": [],
   "source": [
    "mydf = adstock_pipeline.fit_transform(train_df)"
   ]
  },
  {
   "cell_type": "markdown",
   "metadata": {},
   "source": [
    "## Check union pipeline"
   ]
  },
  {
   "cell_type": "code",
   "execution_count": 44,
   "metadata": {},
   "outputs": [
    {
     "name": "stderr",
     "output_type": "stream",
     "text": [
      "/var/folders/6z/35ch39_x42sc8_3pss6wly180000gn/T/ipykernel_6380/320306673.py:61: SettingWithCopyWarning: \n",
      "A value is trying to be set on a copy of a slice from a DataFrame\n",
      "\n",
      "See the caveats in the documentation: https://pandas.pydata.org/pandas-docs/stable/user_guide/indexing.html#returning-a-view-versus-a-copy\n",
      "  df['facebook_cumulative'][0:idx] = selection['facebook'].sum()\n",
      "/var/folders/6z/35ch39_x42sc8_3pss6wly180000gn/T/ipykernel_6380/320306673.py:64: SettingWithCopyWarning: \n",
      "A value is trying to be set on a copy of a slice from a DataFrame\n",
      "\n",
      "See the caveats in the documentation: https://pandas.pydata.org/pandas-docs/stable/user_guide/indexing.html#returning-a-view-versus-a-copy\n",
      "  df['google_cumulative'][0:idx] = selection['google'].sum()\n",
      "/var/folders/6z/35ch39_x42sc8_3pss6wly180000gn/T/ipykernel_6380/320306673.py:67: SettingWithCopyWarning: \n",
      "A value is trying to be set on a copy of a slice from a DataFrame\n",
      "\n",
      "See the caveats in the documentation: https://pandas.pydata.org/pandas-docs/stable/user_guide/indexing.html#returning-a-view-versus-a-copy\n",
      "  df['tiktok_cumulative'][0:idx] = selection['tiktok'].sum()\n"
     ]
    },
    {
     "data": {
      "text/html": [
       "<div>\n",
       "<style scoped>\n",
       "    .dataframe tbody tr th:only-of-type {\n",
       "        vertical-align: middle;\n",
       "    }\n",
       "\n",
       "    .dataframe tbody tr th {\n",
       "        vertical-align: top;\n",
       "    }\n",
       "\n",
       "    .dataframe thead th {\n",
       "        text-align: right;\n",
       "    }\n",
       "</style>\n",
       "<table border=\"1\" class=\"dataframe\">\n",
       "  <thead>\n",
       "    <tr style=\"text-align: right;\">\n",
       "      <th></th>\n",
       "      <th>0</th>\n",
       "      <th>1</th>\n",
       "      <th>2</th>\n",
       "      <th>3</th>\n",
       "      <th>4</th>\n",
       "      <th>5</th>\n",
       "      <th>6</th>\n",
       "      <th>7</th>\n",
       "      <th>8</th>\n",
       "      <th>9</th>\n",
       "      <th>10</th>\n",
       "      <th>11</th>\n",
       "      <th>12</th>\n",
       "      <th>13</th>\n",
       "      <th>14</th>\n",
       "      <th>15</th>\n",
       "      <th>16</th>\n",
       "      <th>17</th>\n",
       "      <th>18</th>\n",
       "    </tr>\n",
       "  </thead>\n",
       "  <tbody>\n",
       "    <tr>\n",
       "      <th>0</th>\n",
       "      <td>10.0</td>\n",
       "      <td>414.85</td>\n",
       "      <td>257.01</td>\n",
       "      <td>1.17</td>\n",
       "      <td>0.0</td>\n",
       "      <td>0.0</td>\n",
       "      <td>0.0</td>\n",
       "      <td>0.0</td>\n",
       "      <td>-0.500000</td>\n",
       "      <td>-0.866025</td>\n",
       "      <td>2.80</td>\n",
       "      <td>0.0</td>\n",
       "      <td>1013.95</td>\n",
       "      <td>414.85</td>\n",
       "      <td>407.245714</td>\n",
       "      <td>414.850000</td>\n",
       "      <td>1.0</td>\n",
       "      <td>0.689633</td>\n",
       "      <td>0.0</td>\n",
       "    </tr>\n",
       "    <tr>\n",
       "      <th>1</th>\n",
       "      <td>6.0</td>\n",
       "      <td>229.95</td>\n",
       "      <td>250.30</td>\n",
       "      <td>0.84</td>\n",
       "      <td>0.0</td>\n",
       "      <td>0.0</td>\n",
       "      <td>1.0</td>\n",
       "      <td>1.0</td>\n",
       "      <td>-0.500000</td>\n",
       "      <td>-0.866025</td>\n",
       "      <td>2.80</td>\n",
       "      <td>0.0</td>\n",
       "      <td>1013.95</td>\n",
       "      <td>414.85</td>\n",
       "      <td>407.245714</td>\n",
       "      <td>322.400000</td>\n",
       "      <td>1.0</td>\n",
       "      <td>0.568289</td>\n",
       "      <td>0.0</td>\n",
       "    </tr>\n",
       "    <tr>\n",
       "      <th>2</th>\n",
       "      <td>10.0</td>\n",
       "      <td>459.89</td>\n",
       "      <td>248.59</td>\n",
       "      <td>0.72</td>\n",
       "      <td>0.0</td>\n",
       "      <td>0.0</td>\n",
       "      <td>1.0</td>\n",
       "      <td>2.0</td>\n",
       "      <td>-0.500000</td>\n",
       "      <td>-0.866025</td>\n",
       "      <td>2.80</td>\n",
       "      <td>0.0</td>\n",
       "      <td>1013.95</td>\n",
       "      <td>414.85</td>\n",
       "      <td>407.245714</td>\n",
       "      <td>391.145000</td>\n",
       "      <td>1.0</td>\n",
       "      <td>0.513248</td>\n",
       "      <td>0.0</td>\n",
       "    </tr>\n",
       "    <tr>\n",
       "      <th>3</th>\n",
       "      <td>17.0</td>\n",
       "      <td>508.36</td>\n",
       "      <td>258.05</td>\n",
       "      <td>0.07</td>\n",
       "      <td>0.0</td>\n",
       "      <td>0.0</td>\n",
       "      <td>0.0</td>\n",
       "      <td>3.0</td>\n",
       "      <td>-0.500000</td>\n",
       "      <td>-0.866025</td>\n",
       "      <td>2.80</td>\n",
       "      <td>0.0</td>\n",
       "      <td>1013.95</td>\n",
       "      <td>414.85</td>\n",
       "      <td>407.245714</td>\n",
       "      <td>449.752500</td>\n",
       "      <td>1.0</td>\n",
       "      <td>0.067606</td>\n",
       "      <td>0.0</td>\n",
       "    </tr>\n",
       "    <tr>\n",
       "      <th>4</th>\n",
       "      <td>13.0</td>\n",
       "      <td>399.88</td>\n",
       "      <td>257.47</td>\n",
       "      <td>0.38</td>\n",
       "      <td>0.0</td>\n",
       "      <td>0.0</td>\n",
       "      <td>0.0</td>\n",
       "      <td>4.0</td>\n",
       "      <td>-0.500000</td>\n",
       "      <td>-0.866025</td>\n",
       "      <td>3.18</td>\n",
       "      <td>0.0</td>\n",
       "      <td>1271.42</td>\n",
       "      <td>414.85</td>\n",
       "      <td>445.885714</td>\n",
       "      <td>424.816250</td>\n",
       "      <td>1.0</td>\n",
       "      <td>0.316139</td>\n",
       "      <td>0.0</td>\n",
       "    </tr>\n",
       "    <tr>\n",
       "      <th>...</th>\n",
       "      <td>...</td>\n",
       "      <td>...</td>\n",
       "      <td>...</td>\n",
       "      <td>...</td>\n",
       "      <td>...</td>\n",
       "      <td>...</td>\n",
       "      <td>...</td>\n",
       "      <td>...</td>\n",
       "      <td>...</td>\n",
       "      <td>...</td>\n",
       "      <td>...</td>\n",
       "      <td>...</td>\n",
       "      <td>...</td>\n",
       "      <td>...</td>\n",
       "      <td>...</td>\n",
       "      <td>...</td>\n",
       "      <td>...</td>\n",
       "      <td>...</td>\n",
       "      <td>...</td>\n",
       "    </tr>\n",
       "    <tr>\n",
       "      <th>650</th>\n",
       "      <td>83.0</td>\n",
       "      <td>3718.12</td>\n",
       "      <td>885.33</td>\n",
       "      <td>208.52</td>\n",
       "      <td>0.0</td>\n",
       "      <td>0.0</td>\n",
       "      <td>0.0</td>\n",
       "      <td>650.0</td>\n",
       "      <td>0.866025</td>\n",
       "      <td>-0.500000</td>\n",
       "      <td>2185.29</td>\n",
       "      <td>0.0</td>\n",
       "      <td>4793.34</td>\n",
       "      <td>3173.95</td>\n",
       "      <td>3026.895714</td>\n",
       "      <td>3845.153512</td>\n",
       "      <td>1.0</td>\n",
       "      <td>1.000000</td>\n",
       "      <td>0.0</td>\n",
       "    </tr>\n",
       "    <tr>\n",
       "      <th>651</th>\n",
       "      <td>75.0</td>\n",
       "      <td>2913.63</td>\n",
       "      <td>882.17</td>\n",
       "      <td>186.47</td>\n",
       "      <td>0.0</td>\n",
       "      <td>0.0</td>\n",
       "      <td>0.0</td>\n",
       "      <td>651.0</td>\n",
       "      <td>0.866025</td>\n",
       "      <td>-0.500000</td>\n",
       "      <td>2185.29</td>\n",
       "      <td>0.0</td>\n",
       "      <td>4793.34</td>\n",
       "      <td>1865.47</td>\n",
       "      <td>3237.397143</td>\n",
       "      <td>3379.391756</td>\n",
       "      <td>1.0</td>\n",
       "      <td>1.000000</td>\n",
       "      <td>0.0</td>\n",
       "    </tr>\n",
       "    <tr>\n",
       "      <th>652</th>\n",
       "      <td>53.0</td>\n",
       "      <td>1735.46</td>\n",
       "      <td>662.08</td>\n",
       "      <td>160.69</td>\n",
       "      <td>0.0</td>\n",
       "      <td>0.0</td>\n",
       "      <td>1.0</td>\n",
       "      <td>652.0</td>\n",
       "      <td>0.866025</td>\n",
       "      <td>-0.500000</td>\n",
       "      <td>2185.29</td>\n",
       "      <td>0.0</td>\n",
       "      <td>4793.34</td>\n",
       "      <td>2133.27</td>\n",
       "      <td>3237.397143</td>\n",
       "      <td>2557.425878</td>\n",
       "      <td>1.0</td>\n",
       "      <td>1.000000</td>\n",
       "      <td>0.0</td>\n",
       "    </tr>\n",
       "    <tr>\n",
       "      <th>653</th>\n",
       "      <td>41.0</td>\n",
       "      <td>1320.67</td>\n",
       "      <td>481.71</td>\n",
       "      <td>149.16</td>\n",
       "      <td>0.0</td>\n",
       "      <td>0.0</td>\n",
       "      <td>1.0</td>\n",
       "      <td>653.0</td>\n",
       "      <td>0.866025</td>\n",
       "      <td>-0.500000</td>\n",
       "      <td>2185.29</td>\n",
       "      <td>0.0</td>\n",
       "      <td>4793.34</td>\n",
       "      <td>1767.01</td>\n",
       "      <td>3237.397143</td>\n",
       "      <td>1939.047939</td>\n",
       "      <td>1.0</td>\n",
       "      <td>1.000000</td>\n",
       "      <td>0.0</td>\n",
       "    </tr>\n",
       "    <tr>\n",
       "      <th>654</th>\n",
       "      <td>79.0</td>\n",
       "      <td>3647.40</td>\n",
       "      <td>774.89</td>\n",
       "      <td>227.99</td>\n",
       "      <td>0.0</td>\n",
       "      <td>0.0</td>\n",
       "      <td>0.0</td>\n",
       "      <td>654.0</td>\n",
       "      <td>0.866025</td>\n",
       "      <td>-0.500000</td>\n",
       "      <td>2185.29</td>\n",
       "      <td>0.0</td>\n",
       "      <td>4793.34</td>\n",
       "      <td>2173.89</td>\n",
       "      <td>3237.397143</td>\n",
       "      <td>2793.223969</td>\n",
       "      <td>1.0</td>\n",
       "      <td>1.000000</td>\n",
       "      <td>0.0</td>\n",
       "    </tr>\n",
       "  </tbody>\n",
       "</table>\n",
       "<p>655 rows × 19 columns</p>\n",
       "</div>"
      ],
      "text/plain": [
       "       0        1       2       3    4    5    6      7         8         9   \\\n",
       "0    10.0   414.85  257.01    1.17  0.0  0.0  0.0    0.0 -0.500000 -0.866025   \n",
       "1     6.0   229.95  250.30    0.84  0.0  0.0  1.0    1.0 -0.500000 -0.866025   \n",
       "2    10.0   459.89  248.59    0.72  0.0  0.0  1.0    2.0 -0.500000 -0.866025   \n",
       "3    17.0   508.36  258.05    0.07  0.0  0.0  0.0    3.0 -0.500000 -0.866025   \n",
       "4    13.0   399.88  257.47    0.38  0.0  0.0  0.0    4.0 -0.500000 -0.866025   \n",
       "..    ...      ...     ...     ...  ...  ...  ...    ...       ...       ...   \n",
       "650  83.0  3718.12  885.33  208.52  0.0  0.0  0.0  650.0  0.866025 -0.500000   \n",
       "651  75.0  2913.63  882.17  186.47  0.0  0.0  0.0  651.0  0.866025 -0.500000   \n",
       "652  53.0  1735.46  662.08  160.69  0.0  0.0  1.0  652.0  0.866025 -0.500000   \n",
       "653  41.0  1320.67  481.71  149.16  0.0  0.0  1.0  653.0  0.866025 -0.500000   \n",
       "654  79.0  3647.40  774.89  227.99  0.0  0.0  0.0  654.0  0.866025 -0.500000   \n",
       "\n",
       "          10   11       12       13           14           15   16        17  \\\n",
       "0       2.80  0.0  1013.95   414.85   407.245714   414.850000  1.0  0.689633   \n",
       "1       2.80  0.0  1013.95   414.85   407.245714   322.400000  1.0  0.568289   \n",
       "2       2.80  0.0  1013.95   414.85   407.245714   391.145000  1.0  0.513248   \n",
       "3       2.80  0.0  1013.95   414.85   407.245714   449.752500  1.0  0.067606   \n",
       "4       3.18  0.0  1271.42   414.85   445.885714   424.816250  1.0  0.316139   \n",
       "..       ...  ...      ...      ...          ...          ...  ...       ...   \n",
       "650  2185.29  0.0  4793.34  3173.95  3026.895714  3845.153512  1.0  1.000000   \n",
       "651  2185.29  0.0  4793.34  1865.47  3237.397143  3379.391756  1.0  1.000000   \n",
       "652  2185.29  0.0  4793.34  2133.27  3237.397143  2557.425878  1.0  1.000000   \n",
       "653  2185.29  0.0  4793.34  1767.01  3237.397143  1939.047939  1.0  1.000000   \n",
       "654  2185.29  0.0  4793.34  2173.89  3237.397143  2793.223969  1.0  1.000000   \n",
       "\n",
       "      18  \n",
       "0    0.0  \n",
       "1    0.0  \n",
       "2    0.0  \n",
       "3    0.0  \n",
       "4    0.0  \n",
       "..   ...  \n",
       "650  0.0  \n",
       "651  0.0  \n",
       "652  0.0  \n",
       "653  0.0  \n",
       "654  0.0  \n",
       "\n",
       "[655 rows x 19 columns]"
      ]
     },
     "execution_count": 44,
     "metadata": {},
     "output_type": "execute_result"
    }
   ],
   "source": [
    "ar = union.fit_transform(train_df)\n",
    "ar = pd.DataFrame(ar)\n",
    "ar"
   ]
  },
  {
   "cell_type": "code",
   "execution_count": null,
   "metadata": {},
   "outputs": [],
   "source": []
  }
 ],
 "metadata": {
  "kernelspec": {
   "display_name": "MMM-project-lewagon",
   "language": "python",
   "name": "python3"
  },
  "language_info": {
   "codemirror_mode": {
    "name": "ipython",
    "version": 3
   },
   "file_extension": ".py",
   "mimetype": "text/x-python",
   "name": "python",
   "nbconvert_exporter": "python",
   "pygments_lexer": "ipython3",
   "version": "3.10.6"
  },
  "orig_nbformat": 4
 },
 "nbformat": 4,
 "nbformat_minor": 2
}
