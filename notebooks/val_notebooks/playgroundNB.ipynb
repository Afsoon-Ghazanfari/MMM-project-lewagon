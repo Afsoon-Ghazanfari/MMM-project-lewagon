{
 "cells": [
  {
   "cell_type": "markdown",
   "metadata": {},
   "source": [
    "# Imports"
   ]
  },
  {
   "cell_type": "code",
   "execution_count": 172,
   "metadata": {},
   "outputs": [],
   "source": [
    "import pandas as pd\n",
    "import numpy as np\n",
    "\n",
    "from mamimo.time_utils import add_time_features, PowerTrend\n",
    "from mamimo.carryover import ExponentialCarryover\n",
    "from mamimo.saturation import ExponentialSaturation, BoxCoxSaturation\n",
    "\n",
    "from sklearn.model_selection import TimeSeriesSplit, GridSearchCV, RandomizedSearchCV, learning_curve\n",
    "from sklearn.preprocessing import FunctionTransformer, OneHotEncoder\n",
    "from sklearn.base import BaseEstimator, TransformerMixin, OneToOneFeatureMixin\n",
    "\n",
    "from sklearn.linear_model import LinearRegression\n",
    "from sklearn.compose import ColumnTransformer\n",
    "from sklearn.pipeline import Pipeline, FeatureUnion\n",
    "\n",
    "from sklearn.metrics import mean_squared_error\n",
    "from sklearn.metrics import mean_absolute_error\n",
    "\n",
    "import scipy.stats as stats\n",
    "import statsmodels.api as sm\n",
    "\n",
    "import holidays\n",
    "\n",
    "import seaborn as sns\n",
    "import matplotlib.pyplot as plt"
   ]
  },
  {
   "cell_type": "markdown",
   "metadata": {},
   "source": [
    "# Load DataFrame"
   ]
  },
  {
   "cell_type": "code",
   "execution_count": 173,
   "metadata": {},
   "outputs": [],
   "source": [
    "df = pd.read_csv('../../raw_data/df.csv')\n",
    "df = df.drop(columns='Unnamed: 0')\n",
    "df['Day'] = pd.to_datetime(df['Day'])\n",
    "df.set_index('Day', inplace=True)\n",
    "df = df.rename(columns={\"fb_costs\": \"facebook\", \"google_costs\": \"google\", \"tt_costs\": \"tiktok\"})\n",
    "df['day'] = df.index # we will use this in our column transformer\n",
    "df = df.drop(columns = ['fb_impressions', 'fb_clicks', 'google_impressions', 'google_clicks', 'tt_impressions', 'tt_clicks'])"
   ]
  },
  {
   "cell_type": "code",
   "execution_count": 174,
   "metadata": {},
   "outputs": [
    {
     "data": {
      "text/html": [
       "<div>\n",
       "<style scoped>\n",
       "    .dataframe tbody tr th:only-of-type {\n",
       "        vertical-align: middle;\n",
       "    }\n",
       "\n",
       "    .dataframe tbody tr th {\n",
       "        vertical-align: top;\n",
       "    }\n",
       "\n",
       "    .dataframe thead th {\n",
       "        text-align: right;\n",
       "    }\n",
       "</style>\n",
       "<table border=\"1\" class=\"dataframe\">\n",
       "  <thead>\n",
       "    <tr style=\"text-align: right;\">\n",
       "      <th></th>\n",
       "      <th>orders</th>\n",
       "      <th>total_sales</th>\n",
       "      <th>facebook</th>\n",
       "      <th>google</th>\n",
       "      <th>tiktok</th>\n",
       "      <th>day</th>\n",
       "    </tr>\n",
       "    <tr>\n",
       "      <th>Day</th>\n",
       "      <th></th>\n",
       "      <th></th>\n",
       "      <th></th>\n",
       "      <th></th>\n",
       "      <th></th>\n",
       "      <th></th>\n",
       "    </tr>\n",
       "  </thead>\n",
       "  <tbody>\n",
       "    <tr>\n",
       "      <th>2021-07-01</th>\n",
       "      <td>10</td>\n",
       "      <td>414.85</td>\n",
       "      <td>257.01</td>\n",
       "      <td>1.17</td>\n",
       "      <td>0.00</td>\n",
       "      <td>2021-07-01</td>\n",
       "    </tr>\n",
       "    <tr>\n",
       "      <th>2021-07-02</th>\n",
       "      <td>6</td>\n",
       "      <td>229.95</td>\n",
       "      <td>250.30</td>\n",
       "      <td>0.84</td>\n",
       "      <td>0.00</td>\n",
       "      <td>2021-07-02</td>\n",
       "    </tr>\n",
       "    <tr>\n",
       "      <th>2021-07-03</th>\n",
       "      <td>10</td>\n",
       "      <td>459.89</td>\n",
       "      <td>248.59</td>\n",
       "      <td>0.72</td>\n",
       "      <td>0.00</td>\n",
       "      <td>2021-07-03</td>\n",
       "    </tr>\n",
       "    <tr>\n",
       "      <th>2021-07-04</th>\n",
       "      <td>17</td>\n",
       "      <td>508.36</td>\n",
       "      <td>258.05</td>\n",
       "      <td>0.07</td>\n",
       "      <td>0.00</td>\n",
       "      <td>2021-07-04</td>\n",
       "    </tr>\n",
       "    <tr>\n",
       "      <th>2021-07-05</th>\n",
       "      <td>13</td>\n",
       "      <td>399.88</td>\n",
       "      <td>257.47</td>\n",
       "      <td>0.38</td>\n",
       "      <td>0.00</td>\n",
       "      <td>2021-07-05</td>\n",
       "    </tr>\n",
       "    <tr>\n",
       "      <th>...</th>\n",
       "      <td>...</td>\n",
       "      <td>...</td>\n",
       "      <td>...</td>\n",
       "      <td>...</td>\n",
       "      <td>...</td>\n",
       "      <td>...</td>\n",
       "    </tr>\n",
       "    <tr>\n",
       "      <th>2023-08-20</th>\n",
       "      <td>294</td>\n",
       "      <td>13616.97</td>\n",
       "      <td>2148.53</td>\n",
       "      <td>466.56</td>\n",
       "      <td>368.86</td>\n",
       "      <td>2023-08-20</td>\n",
       "    </tr>\n",
       "    <tr>\n",
       "      <th>2023-08-21</th>\n",
       "      <td>356</td>\n",
       "      <td>15348.42</td>\n",
       "      <td>2210.01</td>\n",
       "      <td>400.58</td>\n",
       "      <td>391.14</td>\n",
       "      <td>2023-08-21</td>\n",
       "    </tr>\n",
       "    <tr>\n",
       "      <th>2023-08-22</th>\n",
       "      <td>150</td>\n",
       "      <td>6054.53</td>\n",
       "      <td>1335.84</td>\n",
       "      <td>289.46</td>\n",
       "      <td>218.61</td>\n",
       "      <td>2023-08-22</td>\n",
       "    </tr>\n",
       "    <tr>\n",
       "      <th>2023-08-23</th>\n",
       "      <td>130</td>\n",
       "      <td>4810.67</td>\n",
       "      <td>1315.81</td>\n",
       "      <td>275.86</td>\n",
       "      <td>90.21</td>\n",
       "      <td>2023-08-23</td>\n",
       "    </tr>\n",
       "    <tr>\n",
       "      <th>2023-08-24</th>\n",
       "      <td>128</td>\n",
       "      <td>4889.20</td>\n",
       "      <td>1487.41</td>\n",
       "      <td>299.70</td>\n",
       "      <td>76.87</td>\n",
       "      <td>2023-08-24</td>\n",
       "    </tr>\n",
       "  </tbody>\n",
       "</table>\n",
       "<p>785 rows × 6 columns</p>\n",
       "</div>"
      ],
      "text/plain": [
       "            orders  total_sales  facebook  google  tiktok        day\n",
       "Day                                                                 \n",
       "2021-07-01      10       414.85    257.01    1.17    0.00 2021-07-01\n",
       "2021-07-02       6       229.95    250.30    0.84    0.00 2021-07-02\n",
       "2021-07-03      10       459.89    248.59    0.72    0.00 2021-07-03\n",
       "2021-07-04      17       508.36    258.05    0.07    0.00 2021-07-04\n",
       "2021-07-05      13       399.88    257.47    0.38    0.00 2021-07-05\n",
       "...            ...          ...       ...     ...     ...        ...\n",
       "2023-08-20     294     13616.97   2148.53  466.56  368.86 2023-08-20\n",
       "2023-08-21     356     15348.42   2210.01  400.58  391.14 2023-08-21\n",
       "2023-08-22     150      6054.53   1335.84  289.46  218.61 2023-08-22\n",
       "2023-08-23     130      4810.67   1315.81  275.86   90.21 2023-08-23\n",
       "2023-08-24     128      4889.20   1487.41  299.70   76.87 2023-08-24\n",
       "\n",
       "[785 rows x 6 columns]"
      ]
     },
     "execution_count": 174,
     "metadata": {},
     "output_type": "execute_result"
    }
   ],
   "source": [
    "df"
   ]
  },
  {
   "cell_type": "code",
   "execution_count": 175,
   "metadata": {},
   "outputs": [
    {
     "data": {
      "text/plain": [
       "<Axes: xlabel='google', ylabel='Count'>"
      ]
     },
     "execution_count": 175,
     "metadata": {},
     "output_type": "execute_result"
    },
    {
     "data": {
      "image/png": "[encoded data removed]",
      "text/plain": [
       "<Figure size 640x480 with 1 Axes>"
      ]
     },
     "metadata": {},
     "output_type": "display_data"
    }
   ],
   "source": [
    "sns.histplot(data=df, x='google')"
   ]
  },
  {
   "cell_type": "markdown",
   "metadata": {},
   "source": [
    "# Split Data"
   ]
  },
  {
   "cell_type": "code",
   "execution_count": 176,
   "metadata": {},
   "outputs": [],
   "source": [
    "n_splits = 5  # Number of splits for cross-validation\n",
    "tscv = TimeSeriesSplit(n_splits=n_splits)\n",
    "\n",
    "for train_index, test_index in tscv.split(df):\n",
    "    train_df = df.iloc[train_index]\n",
    "    test_df = df.iloc[test_index]\n",
    "\n",
    "\n",
    "\n",
    "y_train = train_df['total_sales']\n",
    "X_train = train_df.drop(columns = ['total_sales', 'orders'])\n",
    "\n",
    "\n",
    "y_test = test_df['total_sales']\n",
    "X_test = test_df.drop(columns = ['total_sales', 'orders'])"
   ]
  },
  {
   "cell_type": "markdown",
   "metadata": {},
   "source": [
    "# Baseline Model"
   ]
  },
  {
   "cell_type": "code",
   "execution_count": 177,
   "metadata": {},
   "outputs": [
    {
     "data": {
      "text/plain": [
       "'595453.442743578 is our MSE to beat; 0.6398209085770498 is our R squared to beat!'"
      ]
     },
     "execution_count": 177,
     "metadata": {},
     "output_type": "execute_result"
    }
   ],
   "source": [
    "baseline = train_df.shift(1) # baseline['total_sales'] is equivalent to y_pred\n",
    "\n",
    "y_pred = baseline['total_sales']\n",
    "y_true = train_df['total_sales']\n",
    "\n",
    "# MSE\n",
    "mse = ((y_true - y_pred) ** 2).mean()\n",
    "\n",
    "# Calculate TSS (Total Sum of Squares)\n",
    "mean_y_true = np.mean(y_true)\n",
    "tss = np.sum((y_true - mean_y_true)**2)\n",
    "\n",
    "# Calculate RSS (Residual Sum of Squares)\n",
    "rss = np.sum((y_true - y_pred)**2)\n",
    "\n",
    "# Calculate R-squared (Coefficient of Determination)\n",
    "r_squared = 1 - (rss / tss)\n",
    "\n",
    "f\"{mse} is our MSE to beat; {r_squared} is our R squared to beat!\""
   ]
  },
  {
   "cell_type": "code",
   "execution_count": 178,
   "metadata": {},
   "outputs": [
    {
     "data": {
      "text/plain": [
       "'1650690.9137039694 is our MSE to beat; 0.0 is our R squared to beat!'"
      ]
     },
     "execution_count": 178,
     "metadata": {},
     "output_type": "execute_result"
    }
   ],
   "source": [
    "y_pred = train_df['total_sales'].mean()\n",
    "y_true = train_df['total_sales']\n",
    "\n",
    "# MSE\n",
    "mse = ((y_true - y_pred) ** 2).mean()\n",
    "\n",
    "# Calculate TSS (Total Sum of Squares)\n",
    "mean_y_true = np.mean(y_true)\n",
    "tss = np.sum((y_true - mean_y_true)**2)\n",
    "\n",
    "# Calculate RSS (Residual Sum of Squares)\n",
    "rss = np.sum((y_true - y_pred)**2)\n",
    "\n",
    "# Calculate R-squared (Coefficient of Determination)\n",
    "r_squared = 1 - (rss / tss)\n",
    "\n",
    "f\"{mse} is our MSE to beat; {r_squared} is our R squared to beat!\""
   ]
  },
  {
   "cell_type": "markdown",
   "metadata": {},
   "source": [
    "# Check for stationarity"
   ]
  },
  {
   "cell_type": "code",
   "execution_count": 179,
   "metadata": {},
   "outputs": [
    {
     "data": {
      "text/plain": [
       "0.062198848540433505"
      ]
     },
     "execution_count": 179,
     "metadata": {},
     "output_type": "execute_result"
    }
   ],
   "source": [
    "from statsmodels.tsa.stattools import adfuller\n",
    "\n",
    "adfuller(train_df.total_sales)[1] # close enough to 0.05, so our data is stationary enough"
   ]
  },
  {
   "cell_type": "markdown",
   "metadata": {},
   "source": [
    "# Create Custom Tranformers"
   ]
  },
  {
   "cell_type": "markdown",
   "metadata": {},
   "source": [
    "## Time Features"
   ]
  },
  {
   "cell_type": "markdown",
   "metadata": {},
   "source": [
    "### Holidays"
   ]
  },
  {
   "cell_type": "code",
   "execution_count": 180,
   "metadata": {},
   "outputs": [],
   "source": [
    "class AddHolidaysTransformer(BaseEstimator, TransformerMixin):\n",
    "    def fit(self, X, y=None):\n",
    "        # This transformer doesn't need to learn any parameters during fitting,\n",
    "        # so we simply return self.\n",
    "        return self\n",
    "\n",
    "    def transform(self, X):\n",
    "        \"\"\"Creates a new column with row value = 1 if the day is a Friday or Saturday and 0 if not.\"\"\"\n",
    "        df = X.copy()  # Create a copy of the input DataFrame to avoid modifying it directly\n",
    "        de_holiday_list = []\n",
    "        for holiday in holidays.Germany(years=[2021,2022,2023]).items():\n",
    "            de_holiday_list.append(holiday)\n",
    "        de_holidays_df = pd.DataFrame(de_holiday_list, columns=[\"date\", \"holiday\"])\n",
    "        de_holidays_df['date'] = pd.to_datetime(de_holidays_df['date'])\n",
    "        de_holidays_df.set_index('date', inplace=True)\n",
    "        \n",
    "        at_holiday_list = []\n",
    "        for holiday in holidays.Austria(years=[2021,2022,2023]).items():\n",
    "            at_holiday_list.append(holiday)\n",
    "        at_holidays_df = pd.DataFrame(at_holiday_list, columns=[\"date\", \"holiday\"])\n",
    "        at_holidays_df['date'] = pd.to_datetime(at_holidays_df['date'])\n",
    "        at_holidays_df.set_index('date', inplace=True)\n",
    "\n",
    "        # add DE holidays to df\n",
    "        merged_df = df.merge(de_holidays_df, how='left', left_index=True, right_index=True)\n",
    "        merged_df['de_holiday'] = merged_df.index.isin(de_holidays_df.index).astype(int)\n",
    "        merged_df.drop(columns=['holiday'], inplace=True)\n",
    "        \n",
    "        # add AT holidays to df\n",
    "        at_holidays_df['at_holiday'] = 1 # add a 1 column to austrian holidays dataframe to help us merge with DE holidays\n",
    "        merged_df = merged_df.merge(at_holidays_df[['at_holiday']], how='left', left_index=True, right_index=True)\n",
    "        merged_df.head() # creates two columns (at_holiday_x, at_holiday_y), we only need one\n",
    "        merged_df['at_holiday'].fillna(0, inplace=True) # replace NaN (no holiday) with 0\n",
    "        merged_df['at_holiday'] = merged_df['at_holiday'].astype(int) # convert 1 and 0 to integers\n",
    "        \n",
    "        # combine columns\n",
    "        merged_df['holiday'] = (merged_df['at_holiday'] | merged_df['de_holiday']).astype(int)\n",
    "        merged_df = merged_df.drop(columns = ['de_holiday', 'at_holiday']) # drop individual DE and AT rows\n",
    "        \n",
    "        return merged_df[['holiday']]#.reset_index(drop=True)\n"
   ]
  },
  {
   "cell_type": "markdown",
   "metadata": {},
   "source": [
    "#### Does it work?"
   ]
  },
  {
   "cell_type": "code",
   "execution_count": 181,
   "metadata": {},
   "outputs": [
    {
     "data": {
      "text/html": [
       "<div>\n",
       "<style scoped>\n",
       "    .dataframe tbody tr th:only-of-type {\n",
       "        vertical-align: middle;\n",
       "    }\n",
       "\n",
       "    .dataframe tbody tr th {\n",
       "        vertical-align: top;\n",
       "    }\n",
       "\n",
       "    .dataframe thead th {\n",
       "        text-align: right;\n",
       "    }\n",
       "</style>\n",
       "<table border=\"1\" class=\"dataframe\">\n",
       "  <thead>\n",
       "    <tr style=\"text-align: right;\">\n",
       "      <th></th>\n",
       "      <th>holiday</th>\n",
       "    </tr>\n",
       "    <tr>\n",
       "      <th>Day</th>\n",
       "      <th></th>\n",
       "    </tr>\n",
       "  </thead>\n",
       "  <tbody>\n",
       "    <tr>\n",
       "      <th>2021-07-01</th>\n",
       "      <td>0</td>\n",
       "    </tr>\n",
       "    <tr>\n",
       "      <th>2021-07-02</th>\n",
       "      <td>0</td>\n",
       "    </tr>\n",
       "    <tr>\n",
       "      <th>2021-07-03</th>\n",
       "      <td>0</td>\n",
       "    </tr>\n",
       "    <tr>\n",
       "      <th>2021-07-04</th>\n",
       "      <td>0</td>\n",
       "    </tr>\n",
       "    <tr>\n",
       "      <th>2021-07-05</th>\n",
       "      <td>0</td>\n",
       "    </tr>\n",
       "    <tr>\n",
       "      <th>...</th>\n",
       "      <td>...</td>\n",
       "    </tr>\n",
       "    <tr>\n",
       "      <th>2023-04-12</th>\n",
       "      <td>0</td>\n",
       "    </tr>\n",
       "    <tr>\n",
       "      <th>2023-04-13</th>\n",
       "      <td>0</td>\n",
       "    </tr>\n",
       "    <tr>\n",
       "      <th>2023-04-14</th>\n",
       "      <td>0</td>\n",
       "    </tr>\n",
       "    <tr>\n",
       "      <th>2023-04-15</th>\n",
       "      <td>0</td>\n",
       "    </tr>\n",
       "    <tr>\n",
       "      <th>2023-04-16</th>\n",
       "      <td>0</td>\n",
       "    </tr>\n",
       "  </tbody>\n",
       "</table>\n",
       "<p>655 rows × 1 columns</p>\n",
       "</div>"
      ],
      "text/plain": [
       "            holiday\n",
       "Day                \n",
       "2021-07-01        0\n",
       "2021-07-02        0\n",
       "2021-07-03        0\n",
       "2021-07-04        0\n",
       "2021-07-05        0\n",
       "...             ...\n",
       "2023-04-12        0\n",
       "2023-04-13        0\n",
       "2023-04-14        0\n",
       "2023-04-15        0\n",
       "2023-04-16        0\n",
       "\n",
       "[655 rows x 1 columns]"
      ]
     },
     "execution_count": 181,
     "metadata": {},
     "output_type": "execute_result"
    }
   ],
   "source": [
    "holidays_transformer = AddHolidaysTransformer()\n",
    "df = train_df.copy()\n",
    "holidays_transformer.fit_transform(df)"
   ]
  },
  {
   "cell_type": "markdown",
   "metadata": {},
   "source": [
    "#### Yes!"
   ]
  },
  {
   "cell_type": "markdown",
   "metadata": {},
   "source": [
    "### Weekends"
   ]
  },
  {
   "cell_type": "code",
   "execution_count": 182,
   "metadata": {},
   "outputs": [],
   "source": [
    "class AddWeekendsTransformer(BaseEstimator, TransformerMixin):\n",
    "    def fit(self, X, y=None):\n",
    "        # This transformer doesn't need to learn any parameters during fitting,\n",
    "        # so we simply return self.\n",
    "        return self\n",
    "\n",
    "    def transform(self, X):\n",
    "        \"\"\"Creates a new column with row value = 1 if the day is a Friday or Saturday and 0 if not.\"\"\"\n",
    "        df = X.copy()  # Create a copy of the input DataFrame to avoid modifying it directly\n",
    "        weekday_values = df.index.weekday\n",
    "        df['fri_sat'] = ((weekday_values == 4) | (weekday_values == 5)).astype(int)\n",
    "        return df[['fri_sat']]"
   ]
  },
  {
   "cell_type": "markdown",
   "metadata": {},
   "source": [
    "#### Does it work?"
   ]
  },
  {
   "cell_type": "code",
   "execution_count": 183,
   "metadata": {},
   "outputs": [
    {
     "data": {
      "text/html": [
       "<div>\n",
       "<style scoped>\n",
       "    .dataframe tbody tr th:only-of-type {\n",
       "        vertical-align: middle;\n",
       "    }\n",
       "\n",
       "    .dataframe tbody tr th {\n",
       "        vertical-align: top;\n",
       "    }\n",
       "\n",
       "    .dataframe thead th {\n",
       "        text-align: right;\n",
       "    }\n",
       "</style>\n",
       "<table border=\"1\" class=\"dataframe\">\n",
       "  <thead>\n",
       "    <tr style=\"text-align: right;\">\n",
       "      <th></th>\n",
       "      <th>fri_sat</th>\n",
       "    </tr>\n",
       "    <tr>\n",
       "      <th>Day</th>\n",
       "      <th></th>\n",
       "    </tr>\n",
       "  </thead>\n",
       "  <tbody>\n",
       "    <tr>\n",
       "      <th>2021-07-01</th>\n",
       "      <td>0</td>\n",
       "    </tr>\n",
       "    <tr>\n",
       "      <th>2021-07-02</th>\n",
       "      <td>1</td>\n",
       "    </tr>\n",
       "    <tr>\n",
       "      <th>2021-07-03</th>\n",
       "      <td>1</td>\n",
       "    </tr>\n",
       "    <tr>\n",
       "      <th>2021-07-04</th>\n",
       "      <td>0</td>\n",
       "    </tr>\n",
       "    <tr>\n",
       "      <th>2021-07-05</th>\n",
       "      <td>0</td>\n",
       "    </tr>\n",
       "    <tr>\n",
       "      <th>...</th>\n",
       "      <td>...</td>\n",
       "    </tr>\n",
       "    <tr>\n",
       "      <th>2023-04-12</th>\n",
       "      <td>0</td>\n",
       "    </tr>\n",
       "    <tr>\n",
       "      <th>2023-04-13</th>\n",
       "      <td>0</td>\n",
       "    </tr>\n",
       "    <tr>\n",
       "      <th>2023-04-14</th>\n",
       "      <td>1</td>\n",
       "    </tr>\n",
       "    <tr>\n",
       "      <th>2023-04-15</th>\n",
       "      <td>1</td>\n",
       "    </tr>\n",
       "    <tr>\n",
       "      <th>2023-04-16</th>\n",
       "      <td>0</td>\n",
       "    </tr>\n",
       "  </tbody>\n",
       "</table>\n",
       "<p>655 rows × 1 columns</p>\n",
       "</div>"
      ],
      "text/plain": [
       "            fri_sat\n",
       "Day                \n",
       "2021-07-01        0\n",
       "2021-07-02        1\n",
       "2021-07-03        1\n",
       "2021-07-04        0\n",
       "2021-07-05        0\n",
       "...             ...\n",
       "2023-04-12        0\n",
       "2023-04-13        0\n",
       "2023-04-14        1\n",
       "2023-04-15        1\n",
       "2023-04-16        0\n",
       "\n",
       "[655 rows x 1 columns]"
      ]
     },
     "execution_count": 183,
     "metadata": {},
     "output_type": "execute_result"
    }
   ],
   "source": [
    "weekends_transformer = AddWeekendsTransformer()\n",
    "df = train_df.copy()\n",
    "weekends_transformer.fit_transform(df)"
   ]
  },
  {
   "cell_type": "markdown",
   "metadata": {},
   "source": [
    "#### Yes!"
   ]
  },
  {
   "cell_type": "markdown",
   "metadata": {},
   "source": [
    "### Cyclical months"
   ]
  },
  {
   "cell_type": "code",
   "execution_count": 184,
   "metadata": {},
   "outputs": [],
   "source": [
    "class AddMonthsTransformer(BaseEstimator, TransformerMixin):\n",
    "    def fit(self, X, y=None):\n",
    "        # This transformer doesn't need to learn any parameters during fitting,\n",
    "        # so we simply return self.\n",
    "        return self\n",
    "\n",
    "    def transform(self, X):\n",
    "        df = X.copy()  # Create a copy of the input DataFrame to avoid modifying it directly\n",
    "        df = (df\n",
    "        .pipe(add_time_features, month=True)\n",
    "        )\n",
    "        \n",
    "        months_in_a_year = 12\n",
    "\n",
    "        df['sin_MonthYear'] = np.sin(2*np.pi*(df['month'])/months_in_a_year)\n",
    "        df['cos_MonthYear'] = np.cos(2*np.pi*(df['month'])/months_in_a_year)\n",
    "        df.drop(columns=['month'], inplace=True)\n",
    "        \n",
    "        return df[['sin_MonthYear', 'cos_MonthYear']]"
   ]
  },
  {
   "cell_type": "markdown",
   "metadata": {},
   "source": [
    "#### Does it work?"
   ]
  },
  {
   "cell_type": "code",
   "execution_count": 185,
   "metadata": {},
   "outputs": [
    {
     "data": {
      "text/html": [
       "<div>\n",
       "<style scoped>\n",
       "    .dataframe tbody tr th:only-of-type {\n",
       "        vertical-align: middle;\n",
       "    }\n",
       "\n",
       "    .dataframe tbody tr th {\n",
       "        vertical-align: top;\n",
       "    }\n",
       "\n",
       "    .dataframe thead th {\n",
       "        text-align: right;\n",
       "    }\n",
       "</style>\n",
       "<table border=\"1\" class=\"dataframe\">\n",
       "  <thead>\n",
       "    <tr style=\"text-align: right;\">\n",
       "      <th></th>\n",
       "      <th>sin_MonthYear</th>\n",
       "      <th>cos_MonthYear</th>\n",
       "    </tr>\n",
       "    <tr>\n",
       "      <th>Day</th>\n",
       "      <th></th>\n",
       "      <th></th>\n",
       "    </tr>\n",
       "  </thead>\n",
       "  <tbody>\n",
       "    <tr>\n",
       "      <th>2021-07-01</th>\n",
       "      <td>-0.500000</td>\n",
       "      <td>-0.866025</td>\n",
       "    </tr>\n",
       "    <tr>\n",
       "      <th>2021-07-02</th>\n",
       "      <td>-0.500000</td>\n",
       "      <td>-0.866025</td>\n",
       "    </tr>\n",
       "    <tr>\n",
       "      <th>2021-07-03</th>\n",
       "      <td>-0.500000</td>\n",
       "      <td>-0.866025</td>\n",
       "    </tr>\n",
       "    <tr>\n",
       "      <th>2021-07-04</th>\n",
       "      <td>-0.500000</td>\n",
       "      <td>-0.866025</td>\n",
       "    </tr>\n",
       "    <tr>\n",
       "      <th>2021-07-05</th>\n",
       "      <td>-0.500000</td>\n",
       "      <td>-0.866025</td>\n",
       "    </tr>\n",
       "    <tr>\n",
       "      <th>...</th>\n",
       "      <td>...</td>\n",
       "      <td>...</td>\n",
       "    </tr>\n",
       "    <tr>\n",
       "      <th>2023-04-12</th>\n",
       "      <td>0.866025</td>\n",
       "      <td>-0.500000</td>\n",
       "    </tr>\n",
       "    <tr>\n",
       "      <th>2023-04-13</th>\n",
       "      <td>0.866025</td>\n",
       "      <td>-0.500000</td>\n",
       "    </tr>\n",
       "    <tr>\n",
       "      <th>2023-04-14</th>\n",
       "      <td>0.866025</td>\n",
       "      <td>-0.500000</td>\n",
       "    </tr>\n",
       "    <tr>\n",
       "      <th>2023-04-15</th>\n",
       "      <td>0.866025</td>\n",
       "      <td>-0.500000</td>\n",
       "    </tr>\n",
       "    <tr>\n",
       "      <th>2023-04-16</th>\n",
       "      <td>0.866025</td>\n",
       "      <td>-0.500000</td>\n",
       "    </tr>\n",
       "  </tbody>\n",
       "</table>\n",
       "<p>655 rows × 2 columns</p>\n",
       "</div>"
      ],
      "text/plain": [
       "            sin_MonthYear  cos_MonthYear\n",
       "Day                                     \n",
       "2021-07-01      -0.500000      -0.866025\n",
       "2021-07-02      -0.500000      -0.866025\n",
       "2021-07-03      -0.500000      -0.866025\n",
       "2021-07-04      -0.500000      -0.866025\n",
       "2021-07-05      -0.500000      -0.866025\n",
       "...                   ...            ...\n",
       "2023-04-12       0.866025      -0.500000\n",
       "2023-04-13       0.866025      -0.500000\n",
       "2023-04-14       0.866025      -0.500000\n",
       "2023-04-15       0.866025      -0.500000\n",
       "2023-04-16       0.866025      -0.500000\n",
       "\n",
       "[655 rows x 2 columns]"
      ]
     },
     "execution_count": 185,
     "metadata": {},
     "output_type": "execute_result"
    }
   ],
   "source": [
    "add_months_transformer = AddMonthsTransformer()\n",
    "df = train_df.copy()\n",
    "add_months_transformer.fit_transform(df)"
   ]
  },
  {
   "cell_type": "markdown",
   "metadata": {},
   "source": [
    "#### Yes!"
   ]
  },
  {
   "cell_type": "markdown",
   "metadata": {},
   "source": [
    "### Power Trend"
   ]
  },
  {
   "cell_type": "code",
   "execution_count": 186,
   "metadata": {},
   "outputs": [],
   "source": [
    "class AddTrendTransformer(BaseEstimator, TransformerMixin):\n",
    "    def __init__(self, power=1):\n",
    "        self.power = power\n",
    "        \n",
    "    def fit(self, X, y=None):\n",
    "        # This transformer doesn't need to learn any parameters during fitting,\n",
    "        # so we simply return self.\n",
    "        return self\n",
    "\n",
    "    def transform(self, X):\n",
    "        df = X.copy()  # Create a copy of the input DataFrame to avoid modifying it directly\n",
    "\n",
    "        df['trend'] = PowerTrend(self.power).fit_transform(df[['trend']])\n",
    "        \n",
    "        return df[['trend']]"
   ]
  },
  {
   "cell_type": "markdown",
   "metadata": {},
   "source": [
    "#### Does it work?"
   ]
  },
  {
   "cell_type": "markdown",
   "metadata": {},
   "source": [
    "#### Yes!"
   ]
  },
  {
   "cell_type": "markdown",
   "metadata": {},
   "source": [
    "## Sales Features"
   ]
  },
  {
   "cell_type": "markdown",
   "metadata": {},
   "source": [
    "### Lag"
   ]
  },
  {
   "cell_type": "code",
   "execution_count": 188,
   "metadata": {},
   "outputs": [],
   "source": [
    "class AddSalesLagTransformer(BaseEstimator, TransformerMixin):\n",
    "    def __init__(self, period=7):\n",
    "        self.period = period\n",
    "\n",
    "    def fit(self, X, y=None):\n",
    "        # This transformer doesn't need to learn any parameters during fitting,\n",
    "        # so we simply return self.\n",
    "        return self\n",
    "\n",
    "    def transform(self, X):\n",
    "        \"\"\"Adds a sales lag column with the specified period.\"\"\"\n",
    "        df = X.copy()  # Create a copy of the input DataFrame to avoid modifying it directly\n",
    "        df['sales_lag'] = df['total_sales'].shift(self.period)\n",
    "        df['sales_lag'] = df['sales_lag'].bfill()  # Backfill missing values\n",
    "        return df[['sales_lag']]\n"
   ]
  },
  {
   "cell_type": "code",
   "execution_count": 189,
   "metadata": {},
   "outputs": [
    {
     "data": {
      "text/html": [
       "<div>\n",
       "<style scoped>\n",
       "    .dataframe tbody tr th:only-of-type {\n",
       "        vertical-align: middle;\n",
       "    }\n",
       "\n",
       "    .dataframe tbody tr th {\n",
       "        vertical-align: top;\n",
       "    }\n",
       "\n",
       "    .dataframe thead th {\n",
       "        text-align: right;\n",
       "    }\n",
       "</style>\n",
       "<table border=\"1\" class=\"dataframe\">\n",
       "  <thead>\n",
       "    <tr style=\"text-align: right;\">\n",
       "      <th></th>\n",
       "      <th>sales_lag</th>\n",
       "    </tr>\n",
       "    <tr>\n",
       "      <th>Day</th>\n",
       "      <th></th>\n",
       "    </tr>\n",
       "  </thead>\n",
       "  <tbody>\n",
       "    <tr>\n",
       "      <th>2021-07-01</th>\n",
       "      <td>414.85</td>\n",
       "    </tr>\n",
       "    <tr>\n",
       "      <th>2021-07-02</th>\n",
       "      <td>414.85</td>\n",
       "    </tr>\n",
       "    <tr>\n",
       "      <th>2021-07-03</th>\n",
       "      <td>414.85</td>\n",
       "    </tr>\n",
       "    <tr>\n",
       "      <th>2021-07-04</th>\n",
       "      <td>414.85</td>\n",
       "    </tr>\n",
       "    <tr>\n",
       "      <th>2021-07-05</th>\n",
       "      <td>414.85</td>\n",
       "    </tr>\n",
       "    <tr>\n",
       "      <th>...</th>\n",
       "      <td>...</td>\n",
       "    </tr>\n",
       "    <tr>\n",
       "      <th>2023-04-12</th>\n",
       "      <td>3173.95</td>\n",
       "    </tr>\n",
       "    <tr>\n",
       "      <th>2023-04-13</th>\n",
       "      <td>1865.47</td>\n",
       "    </tr>\n",
       "    <tr>\n",
       "      <th>2023-04-14</th>\n",
       "      <td>2133.27</td>\n",
       "    </tr>\n",
       "    <tr>\n",
       "      <th>2023-04-15</th>\n",
       "      <td>1767.01</td>\n",
       "    </tr>\n",
       "    <tr>\n",
       "      <th>2023-04-16</th>\n",
       "      <td>2173.89</td>\n",
       "    </tr>\n",
       "  </tbody>\n",
       "</table>\n",
       "<p>655 rows × 1 columns</p>\n",
       "</div>"
      ],
      "text/plain": [
       "            sales_lag\n",
       "Day                  \n",
       "2021-07-01     414.85\n",
       "2021-07-02     414.85\n",
       "2021-07-03     414.85\n",
       "2021-07-04     414.85\n",
       "2021-07-05     414.85\n",
       "...               ...\n",
       "2023-04-12    3173.95\n",
       "2023-04-13    1865.47\n",
       "2023-04-14    2133.27\n",
       "2023-04-15    1767.01\n",
       "2023-04-16    2173.89\n",
       "\n",
       "[655 rows x 1 columns]"
      ]
     },
     "execution_count": 189,
     "metadata": {},
     "output_type": "execute_result"
    }
   ],
   "source": [
    "sales_lag_transformer = AddSalesLagTransformer(period = 7)\n",
    "df = train_df.copy()\n",
    "sales_lag_transformer.fit_transform(df)"
   ]
  },
  {
   "cell_type": "markdown",
   "metadata": {},
   "source": [
    "### Moving Average"
   ]
  },
  {
   "cell_type": "code",
   "execution_count": 190,
   "metadata": {},
   "outputs": [],
   "source": [
    "class AddSalesMovAvgTransformer(BaseEstimator, TransformerMixin):\n",
    "    def __init__(self, window_size=7):\n",
    "        self.window_size = window_size\n",
    "\n",
    "    def fit(self, X, y=None):\n",
    "        # This transformer doesn't need to learn any parameters during fitting,\n",
    "        # so we simply return self.\n",
    "        return self\n",
    "\n",
    "    def transform(self, X):\n",
    "        \"\"\"Adds a sales moving average column. Indicate the window size (default = 7)\"\"\"\n",
    "        df = X.copy()  # Create a copy of the input DataFrame to avoid modifying it directly\n",
    "        df['sales_moving_avg'] = df['total_sales'].rolling(window=self.window_size, center=True).mean()\n",
    "        df['sales_moving_avg'] = df['sales_moving_avg'].bfill()  # Backfill missing values at beginning of df\n",
    "        df['sales_moving_avg'] = df['sales_moving_avg'].ffill()  # Forwardfill missing values at end of df\n",
    "        return df[['sales_moving_avg']]"
   ]
  },
  {
   "cell_type": "markdown",
   "metadata": {},
   "source": [
    "#### Does it work?"
   ]
  },
  {
   "cell_type": "code",
   "execution_count": 191,
   "metadata": {},
   "outputs": [
    {
     "data": {
      "text/html": [
       "<div>\n",
       "<style scoped>\n",
       "    .dataframe tbody tr th:only-of-type {\n",
       "        vertical-align: middle;\n",
       "    }\n",
       "\n",
       "    .dataframe tbody tr th {\n",
       "        vertical-align: top;\n",
       "    }\n",
       "\n",
       "    .dataframe thead th {\n",
       "        text-align: right;\n",
       "    }\n",
       "</style>\n",
       "<table border=\"1\" class=\"dataframe\">\n",
       "  <thead>\n",
       "    <tr style=\"text-align: right;\">\n",
       "      <th></th>\n",
       "      <th>sales_moving_avg</th>\n",
       "    </tr>\n",
       "    <tr>\n",
       "      <th>Day</th>\n",
       "      <th></th>\n",
       "    </tr>\n",
       "  </thead>\n",
       "  <tbody>\n",
       "    <tr>\n",
       "      <th>2021-07-01</th>\n",
       "      <td>407.245714</td>\n",
       "    </tr>\n",
       "    <tr>\n",
       "      <th>2021-07-02</th>\n",
       "      <td>407.245714</td>\n",
       "    </tr>\n",
       "    <tr>\n",
       "      <th>2021-07-03</th>\n",
       "      <td>407.245714</td>\n",
       "    </tr>\n",
       "    <tr>\n",
       "      <th>2021-07-04</th>\n",
       "      <td>407.245714</td>\n",
       "    </tr>\n",
       "    <tr>\n",
       "      <th>2021-07-05</th>\n",
       "      <td>445.885714</td>\n",
       "    </tr>\n",
       "    <tr>\n",
       "      <th>...</th>\n",
       "      <td>...</td>\n",
       "    </tr>\n",
       "    <tr>\n",
       "      <th>2023-04-12</th>\n",
       "      <td>3026.895714</td>\n",
       "    </tr>\n",
       "    <tr>\n",
       "      <th>2023-04-13</th>\n",
       "      <td>3237.397143</td>\n",
       "    </tr>\n",
       "    <tr>\n",
       "      <th>2023-04-14</th>\n",
       "      <td>3237.397143</td>\n",
       "    </tr>\n",
       "    <tr>\n",
       "      <th>2023-04-15</th>\n",
       "      <td>3237.397143</td>\n",
       "    </tr>\n",
       "    <tr>\n",
       "      <th>2023-04-16</th>\n",
       "      <td>3237.397143</td>\n",
       "    </tr>\n",
       "  </tbody>\n",
       "</table>\n",
       "<p>655 rows × 1 columns</p>\n",
       "</div>"
      ],
      "text/plain": [
       "            sales_moving_avg\n",
       "Day                         \n",
       "2021-07-01        407.245714\n",
       "2021-07-02        407.245714\n",
       "2021-07-03        407.245714\n",
       "2021-07-04        407.245714\n",
       "2021-07-05        445.885714\n",
       "...                      ...\n",
       "2023-04-12       3026.895714\n",
       "2023-04-13       3237.397143\n",
       "2023-04-14       3237.397143\n",
       "2023-04-15       3237.397143\n",
       "2023-04-16       3237.397143\n",
       "\n",
       "[655 rows x 1 columns]"
      ]
     },
     "execution_count": 191,
     "metadata": {},
     "output_type": "execute_result"
    }
   ],
   "source": [
    "sales_mov_avg_transformer = AddSalesMovAvgTransformer(window_size = 7)\n",
    "df = train_df.copy()\n",
    "sales_mov_avg_transformer.fit_transform(df)"
   ]
  },
  {
   "cell_type": "code",
   "execution_count": 192,
   "metadata": {},
   "outputs": [
    {
     "data": {
      "text/html": [
       "<div>\n",
       "<style scoped>\n",
       "    .dataframe tbody tr th:only-of-type {\n",
       "        vertical-align: middle;\n",
       "    }\n",
       "\n",
       "    .dataframe tbody tr th {\n",
       "        vertical-align: top;\n",
       "    }\n",
       "\n",
       "    .dataframe thead th {\n",
       "        text-align: right;\n",
       "    }\n",
       "</style>\n",
       "<table border=\"1\" class=\"dataframe\">\n",
       "  <thead>\n",
       "    <tr style=\"text-align: right;\">\n",
       "      <th></th>\n",
       "      <th>sales_moving_avg</th>\n",
       "      <th>total_sales</th>\n",
       "    </tr>\n",
       "    <tr>\n",
       "      <th>Day</th>\n",
       "      <th></th>\n",
       "      <th></th>\n",
       "    </tr>\n",
       "  </thead>\n",
       "  <tbody>\n",
       "    <tr>\n",
       "      <th>2021-07-01</th>\n",
       "      <td>407.245714</td>\n",
       "      <td>414.85</td>\n",
       "    </tr>\n",
       "    <tr>\n",
       "      <th>2021-07-02</th>\n",
       "      <td>407.245714</td>\n",
       "      <td>229.95</td>\n",
       "    </tr>\n",
       "    <tr>\n",
       "      <th>2021-07-03</th>\n",
       "      <td>407.245714</td>\n",
       "      <td>459.89</td>\n",
       "    </tr>\n",
       "    <tr>\n",
       "      <th>2021-07-04</th>\n",
       "      <td>407.245714</td>\n",
       "      <td>508.36</td>\n",
       "    </tr>\n",
       "    <tr>\n",
       "      <th>2021-07-05</th>\n",
       "      <td>445.885714</td>\n",
       "      <td>399.88</td>\n",
       "    </tr>\n",
       "    <tr>\n",
       "      <th>...</th>\n",
       "      <td>...</td>\n",
       "      <td>...</td>\n",
       "    </tr>\n",
       "    <tr>\n",
       "      <th>2023-04-12</th>\n",
       "      <td>3026.895714</td>\n",
       "      <td>3718.12</td>\n",
       "    </tr>\n",
       "    <tr>\n",
       "      <th>2023-04-13</th>\n",
       "      <td>3237.397143</td>\n",
       "      <td>2913.63</td>\n",
       "    </tr>\n",
       "    <tr>\n",
       "      <th>2023-04-14</th>\n",
       "      <td>3237.397143</td>\n",
       "      <td>1735.46</td>\n",
       "    </tr>\n",
       "    <tr>\n",
       "      <th>2023-04-15</th>\n",
       "      <td>3237.397143</td>\n",
       "      <td>1320.67</td>\n",
       "    </tr>\n",
       "    <tr>\n",
       "      <th>2023-04-16</th>\n",
       "      <td>3237.397143</td>\n",
       "      <td>3647.40</td>\n",
       "    </tr>\n",
       "  </tbody>\n",
       "</table>\n",
       "<p>655 rows × 2 columns</p>\n",
       "</div>"
      ],
      "text/plain": [
       "            sales_moving_avg  total_sales\n",
       "Day                                      \n",
       "2021-07-01        407.245714       414.85\n",
       "2021-07-02        407.245714       229.95\n",
       "2021-07-03        407.245714       459.89\n",
       "2021-07-04        407.245714       508.36\n",
       "2021-07-05        445.885714       399.88\n",
       "...                      ...          ...\n",
       "2023-04-12       3026.895714      3718.12\n",
       "2023-04-13       3237.397143      2913.63\n",
       "2023-04-14       3237.397143      1735.46\n",
       "2023-04-15       3237.397143      1320.67\n",
       "2023-04-16       3237.397143      3647.40\n",
       "\n",
       "[655 rows x 2 columns]"
      ]
     },
     "execution_count": 192,
     "metadata": {},
     "output_type": "execute_result"
    }
   ],
   "source": [
    "sales_df = sales_mov_avg_transformer.fit_transform(df)\n",
    "sales_df['total_sales'] = train_df['total_sales']\n",
    "sales_df"
   ]
  },
  {
   "cell_type": "code",
   "execution_count": 193,
   "metadata": {},
   "outputs": [
    {
     "data": {
      "image/png": "[encoded data removed]",
      "text/plain": [
       "<Figure size 640x480 with 2 Axes>"
      ]
     },
     "metadata": {},
     "output_type": "display_data"
    }
   ],
   "source": [
    "sns.heatmap(sales_df.corr());"
   ]
  },
  {
   "cell_type": "markdown",
   "metadata": {},
   "source": [
    "#### Yes!"
   ]
  },
  {
   "cell_type": "markdown",
   "metadata": {},
   "source": [
    "### Exponential Smoothing"
   ]
  },
  {
   "cell_type": "code",
   "execution_count": 194,
   "metadata": {},
   "outputs": [],
   "source": [
    "class AddSalesExpSmoothingTransformer(BaseEstimator, TransformerMixin):\n",
    "    def __init__(self, alpha = 0.5):\n",
    "        self.alpha = alpha\n",
    "    \n",
    "    def fit(self, X, y=None):\n",
    "        return self\n",
    "    \n",
    "    def transform(self, X):\n",
    "        \"\"\"Adds a sales (exponential smoothing) column. Indicate the alpha value (default = 0.5)\"\"\"\n",
    "        df = X.copy()\n",
    "        smoothed_series = [df['total_sales'].iloc[0]]\n",
    "        for i in range(1, len(df)):\n",
    "            smoothed_value = self.alpha * df['total_sales'].iloc[i] + (1 - self.alpha) * smoothed_series[-1]\n",
    "            smoothed_series.append(smoothed_value)\n",
    "        df['smoothed_sales'] = smoothed_series\n",
    "        return df[['smoothed_sales']]"
   ]
  },
  {
   "cell_type": "markdown",
   "metadata": {},
   "source": [
    "#### Does it work?"
   ]
  },
  {
   "cell_type": "code",
   "execution_count": 195,
   "metadata": {},
   "outputs": [
    {
     "data": {
      "text/html": [
       "<div>\n",
       "<style scoped>\n",
       "    .dataframe tbody tr th:only-of-type {\n",
       "        vertical-align: middle;\n",
       "    }\n",
       "\n",
       "    .dataframe tbody tr th {\n",
       "        vertical-align: top;\n",
       "    }\n",
       "\n",
       "    .dataframe thead th {\n",
       "        text-align: right;\n",
       "    }\n",
       "</style>\n",
       "<table border=\"1\" class=\"dataframe\">\n",
       "  <thead>\n",
       "    <tr style=\"text-align: right;\">\n",
       "      <th></th>\n",
       "      <th>smoothed_sales</th>\n",
       "    </tr>\n",
       "    <tr>\n",
       "      <th>Day</th>\n",
       "      <th></th>\n",
       "    </tr>\n",
       "  </thead>\n",
       "  <tbody>\n",
       "    <tr>\n",
       "      <th>2021-07-01</th>\n",
       "      <td>414.850000</td>\n",
       "    </tr>\n",
       "    <tr>\n",
       "      <th>2021-07-02</th>\n",
       "      <td>322.400000</td>\n",
       "    </tr>\n",
       "    <tr>\n",
       "      <th>2021-07-03</th>\n",
       "      <td>391.145000</td>\n",
       "    </tr>\n",
       "    <tr>\n",
       "      <th>2021-07-04</th>\n",
       "      <td>449.752500</td>\n",
       "    </tr>\n",
       "    <tr>\n",
       "      <th>2021-07-05</th>\n",
       "      <td>424.816250</td>\n",
       "    </tr>\n",
       "    <tr>\n",
       "      <th>...</th>\n",
       "      <td>...</td>\n",
       "    </tr>\n",
       "    <tr>\n",
       "      <th>2023-04-12</th>\n",
       "      <td>3845.153512</td>\n",
       "    </tr>\n",
       "    <tr>\n",
       "      <th>2023-04-13</th>\n",
       "      <td>3379.391756</td>\n",
       "    </tr>\n",
       "    <tr>\n",
       "      <th>2023-04-14</th>\n",
       "      <td>2557.425878</td>\n",
       "    </tr>\n",
       "    <tr>\n",
       "      <th>2023-04-15</th>\n",
       "      <td>1939.047939</td>\n",
       "    </tr>\n",
       "    <tr>\n",
       "      <th>2023-04-16</th>\n",
       "      <td>2793.223969</td>\n",
       "    </tr>\n",
       "  </tbody>\n",
       "</table>\n",
       "<p>655 rows × 1 columns</p>\n",
       "</div>"
      ],
      "text/plain": [
       "            smoothed_sales\n",
       "Day                       \n",
       "2021-07-01      414.850000\n",
       "2021-07-02      322.400000\n",
       "2021-07-03      391.145000\n",
       "2021-07-04      449.752500\n",
       "2021-07-05      424.816250\n",
       "...                    ...\n",
       "2023-04-12     3845.153512\n",
       "2023-04-13     3379.391756\n",
       "2023-04-14     2557.425878\n",
       "2023-04-15     1939.047939\n",
       "2023-04-16     2793.223969\n",
       "\n",
       "[655 rows x 1 columns]"
      ]
     },
     "execution_count": 195,
     "metadata": {},
     "output_type": "execute_result"
    }
   ],
   "source": [
    "sales_exp_smoothing_transformer = AddSalesExpSmoothingTransformer(alpha = 0.5)\n",
    "df = train_df.copy()\n",
    "sales_exp_smoothing_transformer.fit_transform(df)"
   ]
  },
  {
   "cell_type": "markdown",
   "metadata": {},
   "source": [
    "#### Yes!"
   ]
  },
  {
   "cell_type": "markdown",
   "metadata": {},
   "source": [
    "## Adstock\n",
    "* comes from `mamimo` package, explained [here](https://towardsdatascience.com/an-upgraded-marketing-mix-modeling-in-python-5ebb3bddc1b6)"
   ]
  },
  {
   "cell_type": "code",
   "execution_count": 196,
   "metadata": {},
   "outputs": [],
   "source": [
    "adstock = ColumnTransformer(\n",
    "    [\n",
    "     ('facebook_pipe', Pipeline([\n",
    "            ('carryover', ExponentialCarryover()),\n",
    "            ('saturation', BoxCoxSaturation())\n",
    "     ]), ['facebook']),\n",
    "     ('google_pipe', Pipeline([\n",
    "            ('carryover', ExponentialCarryover()),\n",
    "            ('saturation', BoxCoxSaturation())\n",
    "     ]), ['google']),\n",
    "     ('tiktok_pipe', Pipeline([\n",
    "            ('carryover', ExponentialCarryover()),\n",
    "            ('saturation', BoxCoxSaturation())\n",
    "     ]), ['tiktok'])\n",
    "])\n",
    "\n",
    "def create_df(array: np.array):\n",
    "    columns = ['orders', 'total_sales', 'facebook', 'google', 'tiktok', 'holiday',\n",
    "       'fri_sat', 'sin_MonthYear', 'cos_MonthYear',\n",
    "       'google_cumulative', 'tiktok_cumulative', 'facebook_cumulative',\n",
    "       'sales_lag', 'sales_moving_avg', 'smoothed_sales']\n",
    "    columns_ = ['facebook','google','tiktok']\n",
    "    df = pd.DataFrame(array, columns = columns_)\n",
    "    datetime_series = pd.Series(\n",
    "        pd.date_range(\"2021-07-01\", periods=len(df), freq=\"D\")\n",
    "        )\n",
    "    df = pd.concat([df,datetime_series],axis=1)\n",
    "    df = df.set_index(0)\n",
    "    df = df.rename(index={0: 'Day'})\n",
    "    return df"
   ]
  },
  {
   "cell_type": "markdown",
   "metadata": {},
   "source": [
    "# Instantiate Custom Transformers"
   ]
  },
  {
   "cell_type": "code",
   "execution_count": 197,
   "metadata": {},
   "outputs": [],
   "source": [
    "holidays_transformer = AddHolidaysTransformer()\n",
    "weekends_transformer = AddWeekendsTransformer()\n",
    "add_months_transformer = AddMonthsTransformer()\n",
    "add_trend_transformer = AddTrendTransformer()\n",
    "\n",
    "\n",
    "sales_lag_transformer = AddSalesLagTransformer(period = 7)\n",
    "sales_mov_avg_transformer = AddSalesMovAvgTransformer(window_size = 7)\n",
    "sales_exp_smoothing_transformer = AddSalesExpSmoothingTransformer(alpha = 0.5)"
   ]
  },
  {
   "cell_type": "markdown",
   "metadata": {},
   "source": [
    "# Debug CT"
   ]
  },
  {
   "cell_type": "markdown",
   "metadata": {},
   "source": [
    "## Time CT"
   ]
  },
  {
   "cell_type": "code",
   "execution_count": 198,
   "metadata": {},
   "outputs": [],
   "source": [
    "time_features = ColumnTransformer(\n",
    "    [\n",
    "     ('holidays_pipe', Pipeline([\n",
    "            ('add_holidays', AddHolidaysTransformer())\n",
    "     ]), ['day']),\n",
    "     ('weekends_pipe', Pipeline([\n",
    "            ('add_weekends', AddWeekendsTransformer())\n",
    "     ]), ['day']),\n",
    "     ('months_pipe', Pipeline([\n",
    "            ('add_months', AddMonthsTransformer())\n",
    "     ]), ['day'])#,\n",
    "    # ('trend_pipe', Pipeline([\n",
    "    #     ('add_trend', AddTrendTransformer())\n",
    "    # ]), ['trend'])\n",
    "], remainder = 'passthrough')"
   ]
  },
  {
   "cell_type": "markdown",
   "metadata": {},
   "source": [
    "#### It works!"
   ]
  },
  {
   "cell_type": "markdown",
   "metadata": {},
   "source": [
    "## Sales CT"
   ]
  },
  {
   "cell_type": "code",
   "execution_count": 200,
   "metadata": {},
   "outputs": [],
   "source": [
    "sales_lag_transformer = AddSalesLagTransformer(period = 7)\n",
    "sales_mov_avg_transformer = AddSalesMovAvgTransformer(window_size = 7)\n",
    "sales_exp_smoothing_transformer = AddSalesExpSmoothingTransformer(alpha = 0.5)\n",
    "\n",
    "sales_features = ColumnTransformer(\n",
    "    [\n",
    "     ('sales_lag_pipe', Pipeline([\n",
    "            ('add_sales_lag', sales_lag_transformer)\n",
    "     ]), ['total_sales']),\n",
    "     ('sales_mov_avg_pipe', Pipeline([\n",
    "            ('add_sales_mov_avg', sales_mov_avg_transformer)\n",
    "     ]), ['total_sales']),\n",
    "     ('sales_exp_smoothing_pipe', Pipeline([\n",
    "            ('add_sales_exp_smoothing', sales_exp_smoothing_transformer)\n",
    "     ]), ['total_sales'])\n",
    "])\n",
    "\n",
    "sales_preprocessing = Pipeline([\n",
    "    ('sales_features', sales_features)\n",
    "])"
   ]
  },
  {
   "cell_type": "code",
   "execution_count": 201,
   "metadata": {},
   "outputs": [
    {
     "data": {
      "text/html": [
       "<div>\n",
       "<style scoped>\n",
       "    .dataframe tbody tr th:only-of-type {\n",
       "        vertical-align: middle;\n",
       "    }\n",
       "\n",
       "    .dataframe tbody tr th {\n",
       "        vertical-align: top;\n",
       "    }\n",
       "\n",
       "    .dataframe thead th {\n",
       "        text-align: right;\n",
       "    }\n",
       "</style>\n",
       "<table border=\"1\" class=\"dataframe\">\n",
       "  <thead>\n",
       "    <tr style=\"text-align: right;\">\n",
       "      <th></th>\n",
       "      <th>0</th>\n",
       "      <th>1</th>\n",
       "      <th>2</th>\n",
       "    </tr>\n",
       "  </thead>\n",
       "  <tbody>\n",
       "    <tr>\n",
       "      <th>0</th>\n",
       "      <td>414.85</td>\n",
       "      <td>407.245714</td>\n",
       "      <td>414.850000</td>\n",
       "    </tr>\n",
       "    <tr>\n",
       "      <th>1</th>\n",
       "      <td>414.85</td>\n",
       "      <td>407.245714</td>\n",
       "      <td>322.400000</td>\n",
       "    </tr>\n",
       "    <tr>\n",
       "      <th>2</th>\n",
       "      <td>414.85</td>\n",
       "      <td>407.245714</td>\n",
       "      <td>391.145000</td>\n",
       "    </tr>\n",
       "    <tr>\n",
       "      <th>3</th>\n",
       "      <td>414.85</td>\n",
       "      <td>407.245714</td>\n",
       "      <td>449.752500</td>\n",
       "    </tr>\n",
       "    <tr>\n",
       "      <th>4</th>\n",
       "      <td>414.85</td>\n",
       "      <td>445.885714</td>\n",
       "      <td>424.816250</td>\n",
       "    </tr>\n",
       "    <tr>\n",
       "      <th>...</th>\n",
       "      <td>...</td>\n",
       "      <td>...</td>\n",
       "      <td>...</td>\n",
       "    </tr>\n",
       "    <tr>\n",
       "      <th>650</th>\n",
       "      <td>3173.95</td>\n",
       "      <td>3026.895714</td>\n",
       "      <td>3845.153512</td>\n",
       "    </tr>\n",
       "    <tr>\n",
       "      <th>651</th>\n",
       "      <td>1865.47</td>\n",
       "      <td>3237.397143</td>\n",
       "      <td>3379.391756</td>\n",
       "    </tr>\n",
       "    <tr>\n",
       "      <th>652</th>\n",
       "      <td>2133.27</td>\n",
       "      <td>3237.397143</td>\n",
       "      <td>2557.425878</td>\n",
       "    </tr>\n",
       "    <tr>\n",
       "      <th>653</th>\n",
       "      <td>1767.01</td>\n",
       "      <td>3237.397143</td>\n",
       "      <td>1939.047939</td>\n",
       "    </tr>\n",
       "    <tr>\n",
       "      <th>654</th>\n",
       "      <td>2173.89</td>\n",
       "      <td>3237.397143</td>\n",
       "      <td>2793.223969</td>\n",
       "    </tr>\n",
       "  </tbody>\n",
       "</table>\n",
       "<p>655 rows × 3 columns</p>\n",
       "</div>"
      ],
      "text/plain": [
       "           0            1            2\n",
       "0     414.85   407.245714   414.850000\n",
       "1     414.85   407.245714   322.400000\n",
       "2     414.85   407.245714   391.145000\n",
       "3     414.85   407.245714   449.752500\n",
       "4     414.85   445.885714   424.816250\n",
       "..       ...          ...          ...\n",
       "650  3173.95  3026.895714  3845.153512\n",
       "651  1865.47  3237.397143  3379.391756\n",
       "652  2133.27  3237.397143  2557.425878\n",
       "653  1767.01  3237.397143  1939.047939\n",
       "654  2173.89  3237.397143  2793.223969\n",
       "\n",
       "[655 rows x 3 columns]"
      ]
     },
     "execution_count": 201,
     "metadata": {},
     "output_type": "execute_result"
    }
   ],
   "source": [
    "df = train_df.copy()\n",
    "transformed_df = sales_preprocessing.fit_transform(df)\n",
    "transformed_df = pd.DataFrame(transformed_df)#, columns = ['facebook', 'google', 'tiktok'])\n",
    "transformed_df"
   ]
  },
  {
   "cell_type": "markdown",
   "metadata": {},
   "source": [
    "#### It works!"
   ]
  },
  {
   "cell_type": "markdown",
   "metadata": {},
   "source": [
    "# Pipeline"
   ]
  },
  {
   "cell_type": "code",
   "execution_count": 202,
   "metadata": {},
   "outputs": [],
   "source": [
    "model = LinearRegression()\n",
    "\n",
    "adstock_pipeline = Pipeline([\n",
    "    ('adstock', adstock)\n",
    "])\n",
    "\n",
    "time_preprocessing = Pipeline([\n",
    "    ('time_features', time_features)\n",
    "])\n",
    "\n",
    "union = FeatureUnion([\n",
    "    ('time_features', time_features)\n",
    "])\n",
    "\n",
    "pipeline = Pipeline([\n",
    "    ('union', union),\n",
    "    ('model', model)\n",
    "])\n",
    "\n",
    "\n",
    "param_grid = {'union__adstock_pipeline__adstock__tiktok_pipe__saturation__shift': [10],\n",
    "              'union__adstock_pipeline__adstock__tiktok_pipe__saturation__exponent': [0.8],\n",
    "              'union__adstock_pipeline__adstock__tiktok_pipe__carryover__window': [3],\n",
    "              'union__adstock_pipeline__adstock__tiktok_pipe__carryover__strength': [0.5],\n",
    "              'union__adstock_pipeline__adstock__google_pipe__saturation__shift': [8],\n",
    "              'union__adstock_pipeline__adstock__google_pipe__saturation__exponent': [1.1],\n",
    "              'union__adstock_pipeline__adstock__google_pipe__carryover__window': [2],\n",
    "              'union__adstock_pipeline__adstock__google_pipe__carryover__strength': [1.0],\n",
    "              'union__adstock_pipeline__adstock__facebook_pipe__saturation__shift': [7],\n",
    "              'union__adstock_pipeline__adstock__facebook_pipe__saturation__exponent': [1.1],\n",
    "              'union__adstock_pipeline__adstock__facebook_pipe__carryover__window': [1],\n",
    "              'union__adstock_pipeline__adstock__facebook_pipe__carryover__strength': [0.5]}"
   ]
  },
  {
   "cell_type": "code",
   "execution_count": 203,
   "metadata": {},
   "outputs": [],
   "source": [
    "def adstock_fb(X: float):\n",
    "    window = 1\n",
    "    strength = 0.5\n",
    "    peak = 0.0\n",
    "    exponent = 1.0\n",
    "    carryover = strength ** (np.abs(np.arange(window) - peak) ** exponent)\n",
    "    \n",
    "    exponent = 1.1\n",
    "    shift = 7\n",
    "    boxcoxsaturation = ((X + shift) ** exponent - 1) / exponent\n"
   ]
  },
  {
   "cell_type": "code",
   "execution_count": null,
   "metadata": {},
   "outputs": [],
   "source": []
  },
  {
   "cell_type": "code",
   "execution_count": 206,
   "metadata": {},
   "outputs": [
    {
     "data": {
      "text/plain": [
       "'tscv = TimeSeriesSplit(n_splits= 5)\\n\\n#random_search = RandomizedSearchCV(pipeline, param_grid_, n_iter=2000, n_jobs = -1, cv = tscv)\\n#random_search.fit(X_train, y_train)\\n#best_pipeline = random_search.best_estimator_\\n\\ngrid_search = GridSearchCV(pipeline, param_grid, cv = tscv)\\ngrid_search.fit(train_df, y_train)\\nbest_pipeline = grid_search.best_estimator_\\n\\nf\"R-squared: {best_pipeline.score(X_test, y_test)}'"
      ]
     },
     "execution_count": 206,
     "metadata": {},
     "output_type": "execute_result"
    }
   ],
   "source": [
    "\"\"\"tscv = TimeSeriesSplit(n_splits= 5)\n",
    "\n",
    "#random_search = RandomizedSearchCV(pipeline, param_grid_, n_iter=2000, n_jobs = -1, cv = tscv)\n",
    "#random_search.fit(X_train, y_train)\n",
    "#best_pipeline = random_search.best_estimator_\n",
    "\n",
    "grid_search = GridSearchCV(pipeline, param_grid, cv = tscv)\n",
    "grid_search.fit(train_df, y_train)\n",
    "best_pipeline = grid_search.best_estimator_\n",
    "\n",
    "f\"R-squared: {best_pipeline.score(X_test, y_test)}\"\"\""
   ]
  },
  {
   "cell_type": "code",
   "execution_count": 207,
   "metadata": {},
   "outputs": [],
   "source": [
    "#f\"Best Parameters: {random_search.best_params_}\""
   ]
  },
  {
   "cell_type": "code",
   "execution_count": 209,
   "metadata": {},
   "outputs": [
    {
     "data": {
      "text/plain": [
       "'best_pipeline = grid_search.best_estimator_\\n#best_pipeline = random_search.best_estimator_\\ny_true = test_df[\\'total_sales\\']\\ny_pred = best_pipeline.predict(X_test)\\nrmse = mean_squared_error(y_true, y_pred, squared = False)\\nmae = mean_absolute_error(y_true, y_pred)\\nf\"R-squared: {best_pipeline.score(test_df, y_test)}, MAE: {mae}, RMSE: {rmse}'"
      ]
     },
     "execution_count": 209,
     "metadata": {},
     "output_type": "execute_result"
    }
   ],
   "source": [
    "\"\"\"best_pipeline = grid_search.best_estimator_\n",
    "#best_pipeline = random_search.best_estimator_\n",
    "y_true = test_df['total_sales']\n",
    "y_pred = best_pipeline.predict(X_test)\n",
    "rmse = mean_squared_error(y_true, y_pred, squared = False)\n",
    "mae = mean_absolute_error(y_true, y_pred)\n",
    "f\"R-squared: {best_pipeline.score(test_df, y_test)}, MAE: {mae}, RMSE: {rmse}\"\"\""
   ]
  },
  {
   "cell_type": "code",
   "execution_count": 211,
   "metadata": {},
   "outputs": [],
   "source": [
    "#x = X_train.drop(columns = ['day', 'trend'])"
   ]
  },
  {
   "cell_type": "code",
   "execution_count": 212,
   "metadata": {},
   "outputs": [
    {
     "data": {
      "text/html": [
       "<style>#sk-container-id-7 {color: black;}#sk-container-id-7 pre{padding: 0;}#sk-container-id-7 div.sk-toggleable {background-color: white;}#sk-container-id-7 label.sk-toggleable__label {cursor: pointer;display: block;width: 100%;margin-bottom: 0;padding: 0.3em;box-sizing: border-box;text-align: center;}#sk-container-id-7 label.sk-toggleable__label-arrow:before {content: \"▸\";float: left;margin-right: 0.25em;color: #696969;}#sk-container-id-7 label.sk-toggleable__label-arrow:hover:before {color: black;}#sk-container-id-7 div.sk-estimator:hover label.sk-toggleable__label-arrow:before {color: black;}#sk-container-id-7 div.sk-toggleable__content {max-height: 0;max-width: 0;overflow: hidden;text-align: left;background-color: #f0f8ff;}#sk-container-id-7 div.sk-toggleable__content pre {margin: 0.2em;color: black;border-radius: 0.25em;background-color: #f0f8ff;}#sk-container-id-7 input.sk-toggleable__control:checked~div.sk-toggleable__content {max-height: 200px;max-width: 100%;overflow: auto;}#sk-container-id-7 input.sk-toggleable__control:checked~label.sk-toggleable__label-arrow:before {content: \"▾\";}#sk-container-id-7 div.sk-estimator input.sk-toggleable__control:checked~label.sk-toggleable__label {background-color: #d4ebff;}#sk-container-id-7 div.sk-label input.sk-toggleable__control:checked~label.sk-toggleable__label {background-color: #d4ebff;}#sk-container-id-7 input.sk-hidden--visually {border: 0;clip: rect(1px 1px 1px 1px);clip: rect(1px, 1px, 1px, 1px);height: 1px;margin: -1px;overflow: hidden;padding: 0;position: absolute;width: 1px;}#sk-container-id-7 div.sk-estimator {font-family: monospace;background-color: #f0f8ff;border: 1px dotted black;border-radius: 0.25em;box-sizing: border-box;margin-bottom: 0.5em;}#sk-container-id-7 div.sk-estimator:hover {background-color: #d4ebff;}#sk-container-id-7 div.sk-parallel-item::after {content: \"\";width: 100%;border-bottom: 1px solid gray;flex-grow: 1;}#sk-container-id-7 div.sk-label:hover label.sk-toggleable__label {background-color: #d4ebff;}#sk-container-id-7 div.sk-serial::before {content: \"\";position: absolute;border-left: 1px solid gray;box-sizing: border-box;top: 0;bottom: 0;left: 50%;z-index: 0;}#sk-container-id-7 div.sk-serial {display: flex;flex-direction: column;align-items: center;background-color: white;padding-right: 0.2em;padding-left: 0.2em;position: relative;}#sk-container-id-7 div.sk-item {position: relative;z-index: 1;}#sk-container-id-7 div.sk-parallel {display: flex;align-items: stretch;justify-content: center;background-color: white;position: relative;}#sk-container-id-7 div.sk-item::before, #sk-container-id-7 div.sk-parallel-item::before {content: \"\";position: absolute;border-left: 1px solid gray;box-sizing: border-box;top: 0;bottom: 0;left: 50%;z-index: -1;}#sk-container-id-7 div.sk-parallel-item {display: flex;flex-direction: column;z-index: 1;position: relative;background-color: white;}#sk-container-id-7 div.sk-parallel-item:first-child::after {align-self: flex-end;width: 50%;}#sk-container-id-7 div.sk-parallel-item:last-child::after {align-self: flex-start;width: 50%;}#sk-container-id-7 div.sk-parallel-item:only-child::after {width: 0;}#sk-container-id-7 div.sk-dashed-wrapped {border: 1px dashed gray;margin: 0 0.4em 0.5em 0.4em;box-sizing: border-box;padding-bottom: 0.4em;background-color: white;}#sk-container-id-7 div.sk-label label {font-family: monospace;font-weight: bold;display: inline-block;line-height: 1.2em;}#sk-container-id-7 div.sk-label-container {text-align: center;}#sk-container-id-7 div.sk-container {/* jupyter's `normalize.less` sets `[hidden] { display: none; }` but bootstrap.min.css set `[hidden] { display: none !important; }` so we also need the `!important` here to be able to override the default hidden behavior on the sphinx rendered scikit-learn.org. See: https://github.com/scikit-learn/scikit-learn/issues/21755 */display: inline-block !important;position: relative;}#sk-container-id-7 div.sk-text-repr-fallback {display: none;}</style><div id=\"sk-container-id-7\" class=\"sk-top-container\"><div class=\"sk-text-repr-fallback\"><pre>LinearRegression()</pre><b>In a Jupyter environment, please rerun this cell to show the HTML representation or trust the notebook. <br />On GitHub, the HTML representation is unable to render, please try loading this page with nbviewer.org.</b></div><div class=\"sk-container\" hidden><div class=\"sk-item\"><div class=\"sk-estimator sk-toggleable\"><input class=\"sk-toggleable__control sk-hidden--visually\" id=\"sk-estimator-id-36\" type=\"checkbox\" checked><label for=\"sk-estimator-id-36\" class=\"sk-toggleable__label sk-toggleable__label-arrow\">LinearRegression</label><div class=\"sk-toggleable__content\"><pre>LinearRegression()</pre></div></div></div></div></div>"
      ],
      "text/plain": [
       "LinearRegression()"
      ]
     },
     "execution_count": 212,
     "metadata": {},
     "output_type": "execute_result"
    }
   ],
   "source": [
    "model = LinearRegression()\n",
    "model.fit(x, y_train)"
   ]
  },
  {
   "cell_type": "code",
   "execution_count": 213,
   "metadata": {},
   "outputs": [
    {
     "data": {
      "text/html": [
       "<style>#sk-container-id-8 {color: black;}#sk-container-id-8 pre{padding: 0;}#sk-container-id-8 div.sk-toggleable {background-color: white;}#sk-container-id-8 label.sk-toggleable__label {cursor: pointer;display: block;width: 100%;margin-bottom: 0;padding: 0.3em;box-sizing: border-box;text-align: center;}#sk-container-id-8 label.sk-toggleable__label-arrow:before {content: \"▸\";float: left;margin-right: 0.25em;color: #696969;}#sk-container-id-8 label.sk-toggleable__label-arrow:hover:before {color: black;}#sk-container-id-8 div.sk-estimator:hover label.sk-toggleable__label-arrow:before {color: black;}#sk-container-id-8 div.sk-toggleable__content {max-height: 0;max-width: 0;overflow: hidden;text-align: left;background-color: #f0f8ff;}#sk-container-id-8 div.sk-toggleable__content pre {margin: 0.2em;color: black;border-radius: 0.25em;background-color: #f0f8ff;}#sk-container-id-8 input.sk-toggleable__control:checked~div.sk-toggleable__content {max-height: 200px;max-width: 100%;overflow: auto;}#sk-container-id-8 input.sk-toggleable__control:checked~label.sk-toggleable__label-arrow:before {content: \"▾\";}#sk-container-id-8 div.sk-estimator input.sk-toggleable__control:checked~label.sk-toggleable__label {background-color: #d4ebff;}#sk-container-id-8 div.sk-label input.sk-toggleable__control:checked~label.sk-toggleable__label {background-color: #d4ebff;}#sk-container-id-8 input.sk-hidden--visually {border: 0;clip: rect(1px 1px 1px 1px);clip: rect(1px, 1px, 1px, 1px);height: 1px;margin: -1px;overflow: hidden;padding: 0;position: absolute;width: 1px;}#sk-container-id-8 div.sk-estimator {font-family: monospace;background-color: #f0f8ff;border: 1px dotted black;border-radius: 0.25em;box-sizing: border-box;margin-bottom: 0.5em;}#sk-container-id-8 div.sk-estimator:hover {background-color: #d4ebff;}#sk-container-id-8 div.sk-parallel-item::after {content: \"\";width: 100%;border-bottom: 1px solid gray;flex-grow: 1;}#sk-container-id-8 div.sk-label:hover label.sk-toggleable__label {background-color: #d4ebff;}#sk-container-id-8 div.sk-serial::before {content: \"\";position: absolute;border-left: 1px solid gray;box-sizing: border-box;top: 0;bottom: 0;left: 50%;z-index: 0;}#sk-container-id-8 div.sk-serial {display: flex;flex-direction: column;align-items: center;background-color: white;padding-right: 0.2em;padding-left: 0.2em;position: relative;}#sk-container-id-8 div.sk-item {position: relative;z-index: 1;}#sk-container-id-8 div.sk-parallel {display: flex;align-items: stretch;justify-content: center;background-color: white;position: relative;}#sk-container-id-8 div.sk-item::before, #sk-container-id-8 div.sk-parallel-item::before {content: \"\";position: absolute;border-left: 1px solid gray;box-sizing: border-box;top: 0;bottom: 0;left: 50%;z-index: -1;}#sk-container-id-8 div.sk-parallel-item {display: flex;flex-direction: column;z-index: 1;position: relative;background-color: white;}#sk-container-id-8 div.sk-parallel-item:first-child::after {align-self: flex-end;width: 50%;}#sk-container-id-8 div.sk-parallel-item:last-child::after {align-self: flex-start;width: 50%;}#sk-container-id-8 div.sk-parallel-item:only-child::after {width: 0;}#sk-container-id-8 div.sk-dashed-wrapped {border: 1px dashed gray;margin: 0 0.4em 0.5em 0.4em;box-sizing: border-box;padding-bottom: 0.4em;background-color: white;}#sk-container-id-8 div.sk-label label {font-family: monospace;font-weight: bold;display: inline-block;line-height: 1.2em;}#sk-container-id-8 div.sk-label-container {text-align: center;}#sk-container-id-8 div.sk-container {/* jupyter's `normalize.less` sets `[hidden] { display: none; }` but bootstrap.min.css set `[hidden] { display: none !important; }` so we also need the `!important` here to be able to override the default hidden behavior on the sphinx rendered scikit-learn.org. See: https://github.com/scikit-learn/scikit-learn/issues/21755 */display: inline-block !important;position: relative;}#sk-container-id-8 div.sk-text-repr-fallback {display: none;}</style><div id=\"sk-container-id-8\" class=\"sk-top-container\"><div class=\"sk-text-repr-fallback\"><pre>Pipeline(steps=[(&#x27;union&#x27;,\n",
       "                 FeatureUnion(transformer_list=[(&#x27;time_features&#x27;,\n",
       "                                                 ColumnTransformer(remainder=&#x27;passthrough&#x27;,\n",
       "                                                                   transformers=[(&#x27;holidays_pipe&#x27;,\n",
       "                                                                                  Pipeline(steps=[(&#x27;add_holidays&#x27;,\n",
       "                                                                                                   AddHolidaysTransformer())]),\n",
       "                                                                                  [&#x27;day&#x27;]),\n",
       "                                                                                 (&#x27;weekends_pipe&#x27;,\n",
       "                                                                                  Pipeline(steps=[(&#x27;add_weekends&#x27;,\n",
       "                                                                                                   AddWeekendsTransformer())]),\n",
       "                                                                                  [&#x27;day&#x27;]),\n",
       "                                                                                 (&#x27;months_pipe&#x27;,\n",
       "                                                                                  Pipeline(steps=[(&#x27;add_months&#x27;,\n",
       "                                                                                                   AddMonthsTransformer())]),\n",
       "                                                                                  [&#x27;day&#x27;])]))])),\n",
       "                (&#x27;model&#x27;, LinearRegression())])</pre><b>In a Jupyter environment, please rerun this cell to show the HTML representation or trust the notebook. <br />On GitHub, the HTML representation is unable to render, please try loading this page with nbviewer.org.</b></div><div class=\"sk-container\" hidden><div class=\"sk-item sk-dashed-wrapped\"><div class=\"sk-label-container\"><div class=\"sk-label sk-toggleable\"><input class=\"sk-toggleable__control sk-hidden--visually\" id=\"sk-estimator-id-37\" type=\"checkbox\" ><label for=\"sk-estimator-id-37\" class=\"sk-toggleable__label sk-toggleable__label-arrow\">Pipeline</label><div class=\"sk-toggleable__content\"><pre>Pipeline(steps=[(&#x27;union&#x27;,\n",
       "                 FeatureUnion(transformer_list=[(&#x27;time_features&#x27;,\n",
       "                                                 ColumnTransformer(remainder=&#x27;passthrough&#x27;,\n",
       "                                                                   transformers=[(&#x27;holidays_pipe&#x27;,\n",
       "                                                                                  Pipeline(steps=[(&#x27;add_holidays&#x27;,\n",
       "                                                                                                   AddHolidaysTransformer())]),\n",
       "                                                                                  [&#x27;day&#x27;]),\n",
       "                                                                                 (&#x27;weekends_pipe&#x27;,\n",
       "                                                                                  Pipeline(steps=[(&#x27;add_weekends&#x27;,\n",
       "                                                                                                   AddWeekendsTransformer())]),\n",
       "                                                                                  [&#x27;day&#x27;]),\n",
       "                                                                                 (&#x27;months_pipe&#x27;,\n",
       "                                                                                  Pipeline(steps=[(&#x27;add_months&#x27;,\n",
       "                                                                                                   AddMonthsTransformer())]),\n",
       "                                                                                  [&#x27;day&#x27;])]))])),\n",
       "                (&#x27;model&#x27;, LinearRegression())])</pre></div></div></div><div class=\"sk-serial\"><div class=\"sk-item sk-dashed-wrapped\"><div class=\"sk-label-container\"><div class=\"sk-label sk-toggleable\"><input class=\"sk-toggleable__control sk-hidden--visually\" id=\"sk-estimator-id-38\" type=\"checkbox\" ><label for=\"sk-estimator-id-38\" class=\"sk-toggleable__label sk-toggleable__label-arrow\">union: FeatureUnion</label><div class=\"sk-toggleable__content\"><pre>FeatureUnion(transformer_list=[(&#x27;time_features&#x27;,\n",
       "                                ColumnTransformer(remainder=&#x27;passthrough&#x27;,\n",
       "                                                  transformers=[(&#x27;holidays_pipe&#x27;,\n",
       "                                                                 Pipeline(steps=[(&#x27;add_holidays&#x27;,\n",
       "                                                                                  AddHolidaysTransformer())]),\n",
       "                                                                 [&#x27;day&#x27;]),\n",
       "                                                                (&#x27;weekends_pipe&#x27;,\n",
       "                                                                 Pipeline(steps=[(&#x27;add_weekends&#x27;,\n",
       "                                                                                  AddWeekendsTransformer())]),\n",
       "                                                                 [&#x27;day&#x27;]),\n",
       "                                                                (&#x27;months_pipe&#x27;,\n",
       "                                                                 Pipeline(steps=[(&#x27;add_months&#x27;,\n",
       "                                                                                  AddMonthsTransformer())]),\n",
       "                                                                 [&#x27;day&#x27;])]))])</pre></div></div></div><div class=\"sk-parallel\"><div class=\"sk-parallel-item\"><div class=\"sk-item\"><div class=\"sk-label-container\"><div class=\"sk-label sk-toggleable\"><label>time_features</label></div></div><div class=\"sk-serial\"><div class=\"sk-item sk-dashed-wrapped\"><div class=\"sk-parallel\"><div class=\"sk-parallel-item\"><div class=\"sk-item\"><div class=\"sk-label-container\"><div class=\"sk-label sk-toggleable\"><input class=\"sk-toggleable__control sk-hidden--visually\" id=\"sk-estimator-id-39\" type=\"checkbox\" ><label for=\"sk-estimator-id-39\" class=\"sk-toggleable__label sk-toggleable__label-arrow\">holidays_pipe</label><div class=\"sk-toggleable__content\"><pre>[&#x27;day&#x27;]</pre></div></div></div><div class=\"sk-serial\"><div class=\"sk-item\"><div class=\"sk-serial\"><div class=\"sk-item\"><div class=\"sk-estimator sk-toggleable\"><input class=\"sk-toggleable__control sk-hidden--visually\" id=\"sk-estimator-id-40\" type=\"checkbox\" ><label for=\"sk-estimator-id-40\" class=\"sk-toggleable__label sk-toggleable__label-arrow\">AddHolidaysTransformer</label><div class=\"sk-toggleable__content\"><pre>AddHolidaysTransformer()</pre></div></div></div></div></div></div></div></div><div class=\"sk-parallel-item\"><div class=\"sk-item\"><div class=\"sk-label-container\"><div class=\"sk-label sk-toggleable\"><input class=\"sk-toggleable__control sk-hidden--visually\" id=\"sk-estimator-id-41\" type=\"checkbox\" ><label for=\"sk-estimator-id-41\" class=\"sk-toggleable__label sk-toggleable__label-arrow\">weekends_pipe</label><div class=\"sk-toggleable__content\"><pre>[&#x27;day&#x27;]</pre></div></div></div><div class=\"sk-serial\"><div class=\"sk-item\"><div class=\"sk-serial\"><div class=\"sk-item\"><div class=\"sk-estimator sk-toggleable\"><input class=\"sk-toggleable__control sk-hidden--visually\" id=\"sk-estimator-id-42\" type=\"checkbox\" ><label for=\"sk-estimator-id-42\" class=\"sk-toggleable__label sk-toggleable__label-arrow\">AddWeekendsTransformer</label><div class=\"sk-toggleable__content\"><pre>AddWeekendsTransformer()</pre></div></div></div></div></div></div></div></div><div class=\"sk-parallel-item\"><div class=\"sk-item\"><div class=\"sk-label-container\"><div class=\"sk-label sk-toggleable\"><input class=\"sk-toggleable__control sk-hidden--visually\" id=\"sk-estimator-id-43\" type=\"checkbox\" ><label for=\"sk-estimator-id-43\" class=\"sk-toggleable__label sk-toggleable__label-arrow\">months_pipe</label><div class=\"sk-toggleable__content\"><pre>[&#x27;day&#x27;]</pre></div></div></div><div class=\"sk-serial\"><div class=\"sk-item\"><div class=\"sk-serial\"><div class=\"sk-item\"><div class=\"sk-estimator sk-toggleable\"><input class=\"sk-toggleable__control sk-hidden--visually\" id=\"sk-estimator-id-44\" type=\"checkbox\" ><label for=\"sk-estimator-id-44\" class=\"sk-toggleable__label sk-toggleable__label-arrow\">AddMonthsTransformer</label><div class=\"sk-toggleable__content\"><pre>AddMonthsTransformer()</pre></div></div></div></div></div></div></div></div><div class=\"sk-parallel-item\"><div class=\"sk-item\"><div class=\"sk-label-container\"><div class=\"sk-label sk-toggleable\"><input class=\"sk-toggleable__control sk-hidden--visually\" id=\"sk-estimator-id-45\" type=\"checkbox\" ><label for=\"sk-estimator-id-45\" class=\"sk-toggleable__label sk-toggleable__label-arrow\">remainder</label><div class=\"sk-toggleable__content\"><pre>[&#x27;facebook&#x27;, &#x27;google&#x27;, &#x27;tiktok&#x27;]</pre></div></div></div><div class=\"sk-serial\"><div class=\"sk-item\"><div class=\"sk-estimator sk-toggleable\"><input class=\"sk-toggleable__control sk-hidden--visually\" id=\"sk-estimator-id-46\" type=\"checkbox\" ><label for=\"sk-estimator-id-46\" class=\"sk-toggleable__label sk-toggleable__label-arrow\">passthrough</label><div class=\"sk-toggleable__content\"><pre>passthrough</pre></div></div></div></div></div></div></div></div></div></div></div></div></div><div class=\"sk-item\"><div class=\"sk-estimator sk-toggleable\"><input class=\"sk-toggleable__control sk-hidden--visually\" id=\"sk-estimator-id-47\" type=\"checkbox\" ><label for=\"sk-estimator-id-47\" class=\"sk-toggleable__label sk-toggleable__label-arrow\">LinearRegression</label><div class=\"sk-toggleable__content\"><pre>LinearRegression()</pre></div></div></div></div></div></div></div>"
      ],
      "text/plain": [
       "Pipeline(steps=[('union',\n",
       "                 FeatureUnion(transformer_list=[('time_features',\n",
       "                                                 ColumnTransformer(remainder='passthrough',\n",
       "                                                                   transformers=[('holidays_pipe',\n",
       "                                                                                  Pipeline(steps=[('add_holidays',\n",
       "                                                                                                   AddHolidaysTransformer())]),\n",
       "                                                                                  ['day']),\n",
       "                                                                                 ('weekends_pipe',\n",
       "                                                                                  Pipeline(steps=[('add_weekends',\n",
       "                                                                                                   AddWeekendsTransformer())]),\n",
       "                                                                                  ['day']),\n",
       "                                                                                 ('months_pipe',\n",
       "                                                                                  Pipeline(steps=[('add_months',\n",
       "                                                                                                   AddMonthsTransformer())]),\n",
       "                                                                                  ['day'])]))])),\n",
       "                ('model', LinearRegression())])"
      ]
     },
     "execution_count": 213,
     "metadata": {},
     "output_type": "execute_result"
    }
   ],
   "source": [
    "pipeline.fit(X_train, y_train)"
   ]
  },
  {
   "cell_type": "code",
   "execution_count": 214,
   "metadata": {},
   "outputs": [
    {
     "data": {
      "text/plain": [
       "0.33800343493288865"
      ]
     },
     "execution_count": 214,
     "metadata": {},
     "output_type": "execute_result"
    }
   ],
   "source": [
    "pipeline.score(X_test, y_test)"
   ]
  },
  {
   "cell_type": "code",
   "execution_count": 222,
   "metadata": {},
   "outputs": [
    {
     "data": {
      "text/html": [
       "<div>\n",
       "<style scoped>\n",
       "    .dataframe tbody tr th:only-of-type {\n",
       "        vertical-align: middle;\n",
       "    }\n",
       "\n",
       "    .dataframe tbody tr th {\n",
       "        vertical-align: top;\n",
       "    }\n",
       "\n",
       "    .dataframe thead th {\n",
       "        text-align: right;\n",
       "    }\n",
       "</style>\n",
       "<table border=\"1\" class=\"dataframe\">\n",
       "  <thead>\n",
       "    <tr style=\"text-align: right;\">\n",
       "      <th></th>\n",
       "      <th>holiday</th>\n",
       "      <th>weekend</th>\n",
       "      <th>sin_months</th>\n",
       "      <th>cos_months</th>\n",
       "      <th>facebook</th>\n",
       "      <th>google</th>\n",
       "      <th>tiktok</th>\n",
       "    </tr>\n",
       "  </thead>\n",
       "  <tbody>\n",
       "    <tr>\n",
       "      <th>0</th>\n",
       "      <td>0.0</td>\n",
       "      <td>0.0</td>\n",
       "      <td>-0.500000</td>\n",
       "      <td>-0.866025</td>\n",
       "      <td>257.01</td>\n",
       "      <td>1.17</td>\n",
       "      <td>0.00</td>\n",
       "    </tr>\n",
       "    <tr>\n",
       "      <th>1</th>\n",
       "      <td>0.0</td>\n",
       "      <td>1.0</td>\n",
       "      <td>-0.500000</td>\n",
       "      <td>-0.866025</td>\n",
       "      <td>250.30</td>\n",
       "      <td>0.84</td>\n",
       "      <td>0.00</td>\n",
       "    </tr>\n",
       "    <tr>\n",
       "      <th>2</th>\n",
       "      <td>0.0</td>\n",
       "      <td>1.0</td>\n",
       "      <td>-0.500000</td>\n",
       "      <td>-0.866025</td>\n",
       "      <td>248.59</td>\n",
       "      <td>0.72</td>\n",
       "      <td>0.00</td>\n",
       "    </tr>\n",
       "    <tr>\n",
       "      <th>3</th>\n",
       "      <td>0.0</td>\n",
       "      <td>0.0</td>\n",
       "      <td>-0.500000</td>\n",
       "      <td>-0.866025</td>\n",
       "      <td>258.05</td>\n",
       "      <td>0.07</td>\n",
       "      <td>0.00</td>\n",
       "    </tr>\n",
       "    <tr>\n",
       "      <th>4</th>\n",
       "      <td>0.0</td>\n",
       "      <td>0.0</td>\n",
       "      <td>-0.500000</td>\n",
       "      <td>-0.866025</td>\n",
       "      <td>257.47</td>\n",
       "      <td>0.38</td>\n",
       "      <td>0.00</td>\n",
       "    </tr>\n",
       "    <tr>\n",
       "      <th>...</th>\n",
       "      <td>...</td>\n",
       "      <td>...</td>\n",
       "      <td>...</td>\n",
       "      <td>...</td>\n",
       "      <td>...</td>\n",
       "      <td>...</td>\n",
       "      <td>...</td>\n",
       "    </tr>\n",
       "    <tr>\n",
       "      <th>650</th>\n",
       "      <td>0.0</td>\n",
       "      <td>0.0</td>\n",
       "      <td>0.866025</td>\n",
       "      <td>-0.500000</td>\n",
       "      <td>885.33</td>\n",
       "      <td>208.52</td>\n",
       "      <td>209.03</td>\n",
       "    </tr>\n",
       "    <tr>\n",
       "      <th>651</th>\n",
       "      <td>0.0</td>\n",
       "      <td>0.0</td>\n",
       "      <td>0.866025</td>\n",
       "      <td>-0.500000</td>\n",
       "      <td>882.17</td>\n",
       "      <td>186.47</td>\n",
       "      <td>208.82</td>\n",
       "    </tr>\n",
       "    <tr>\n",
       "      <th>652</th>\n",
       "      <td>0.0</td>\n",
       "      <td>1.0</td>\n",
       "      <td>0.866025</td>\n",
       "      <td>-0.500000</td>\n",
       "      <td>662.08</td>\n",
       "      <td>160.69</td>\n",
       "      <td>216.38</td>\n",
       "    </tr>\n",
       "    <tr>\n",
       "      <th>653</th>\n",
       "      <td>0.0</td>\n",
       "      <td>1.0</td>\n",
       "      <td>0.866025</td>\n",
       "      <td>-0.500000</td>\n",
       "      <td>481.71</td>\n",
       "      <td>149.16</td>\n",
       "      <td>239.65</td>\n",
       "    </tr>\n",
       "    <tr>\n",
       "      <th>654</th>\n",
       "      <td>0.0</td>\n",
       "      <td>0.0</td>\n",
       "      <td>0.866025</td>\n",
       "      <td>-0.500000</td>\n",
       "      <td>774.89</td>\n",
       "      <td>227.99</td>\n",
       "      <td>239.66</td>\n",
       "    </tr>\n",
       "  </tbody>\n",
       "</table>\n",
       "<p>655 rows × 7 columns</p>\n",
       "</div>"
      ],
      "text/plain": [
       "     holiday  weekend  sin_months  cos_months  facebook  google  tiktok\n",
       "0        0.0      0.0   -0.500000   -0.866025    257.01    1.17    0.00\n",
       "1        0.0      1.0   -0.500000   -0.866025    250.30    0.84    0.00\n",
       "2        0.0      1.0   -0.500000   -0.866025    248.59    0.72    0.00\n",
       "3        0.0      0.0   -0.500000   -0.866025    258.05    0.07    0.00\n",
       "4        0.0      0.0   -0.500000   -0.866025    257.47    0.38    0.00\n",
       "..       ...      ...         ...         ...       ...     ...     ...\n",
       "650      0.0      0.0    0.866025   -0.500000    885.33  208.52  209.03\n",
       "651      0.0      0.0    0.866025   -0.500000    882.17  186.47  208.82\n",
       "652      0.0      1.0    0.866025   -0.500000    662.08  160.69  216.38\n",
       "653      0.0      1.0    0.866025   -0.500000    481.71  149.16  239.65\n",
       "654      0.0      0.0    0.866025   -0.500000    774.89  227.99  239.66\n",
       "\n",
       "[655 rows x 7 columns]"
      ]
     },
     "execution_count": 222,
     "metadata": {},
     "output_type": "execute_result"
    }
   ],
   "source": [
    "pipe_df = pd.DataFrame(pipeline[0].transform(X_train))\n",
    "pipe_df.columns = ['holiday','weekend', 'sin_months', 'cos_months', 'facebook', 'google', 'tiktok']\n",
    "pipe_df"
   ]
  },
  {
   "cell_type": "code",
   "execution_count": 226,
   "metadata": {},
   "outputs": [
    {
     "data": {
      "text/plain": [
       "238.56530283612096"
      ]
     },
     "execution_count": 226,
     "metadata": {},
     "output_type": "execute_result"
    }
   ],
   "source": [
    "pipeline[-1].intercept_"
   ]
  },
  {
   "cell_type": "code",
   "execution_count": 227,
   "metadata": {},
   "outputs": [
    {
     "data": {
      "text/plain": [
       "array([-164.05296127, -372.68612697,  265.07669913,  -23.34180812,\n",
       "          1.14417865,    5.50411718,    1.48381395])"
      ]
     },
     "execution_count": 227,
     "metadata": {},
     "output_type": "execute_result"
    }
   ],
   "source": [
    "pipeline[-1].coef_"
   ]
  },
  {
   "cell_type": "code",
   "execution_count": 228,
   "metadata": {},
   "outputs": [
    {
     "data": {
      "text/plain": [
       "holiday      -164.052961\n",
       "weekend      -372.686127\n",
       "sin_months    265.076699\n",
       "cos_months    -23.341808\n",
       "facebook        1.144179\n",
       "google          5.504117\n",
       "tiktok          1.483814\n",
       "dtype: float64"
      ]
     },
     "execution_count": 228,
     "metadata": {},
     "output_type": "execute_result"
    }
   ],
   "source": [
    "features = ['holiday','weekend', 'sin_months', 'cos_months', 'facebook', 'google', 'tiktok']\n",
    "pd.Series(\n",
    "    pipeline[-1].coef_,\n",
    "    index=features\n",
    ")"
   ]
  },
  {
   "cell_type": "markdown",
   "metadata": {},
   "source": [
    "# Check Coefficients"
   ]
  },
  {
   "cell_type": "code",
   "execution_count": 220,
   "metadata": {},
   "outputs": [
    {
     "data": {
      "text/plain": [
       "219.06840589945318"
      ]
     },
     "execution_count": 220,
     "metadata": {},
     "output_type": "execute_result"
    }
   ],
   "source": [
    "best_pipeline.named_steps['model'].intercept_"
   ]
  },
  {
   "cell_type": "code",
   "execution_count": 221,
   "metadata": {},
   "outputs": [
    {
     "ename": "ValueError",
     "evalue": "Length of values (7) does not match length of index (3)",
     "output_type": "error",
     "traceback": [
      "\u001b[0;31m---------------------------------------------------------------------------\u001b[0m",
      "\u001b[0;31mValueError\u001b[0m                                Traceback (most recent call last)",
      "Cell \u001b[0;32mIn[221], line 3\u001b[0m\n\u001b[1;32m      1\u001b[0m features \u001b[39m=\u001b[39m [\u001b[39m'\u001b[39m\u001b[39madstock_fb\u001b[39m\u001b[39m'\u001b[39m, \u001b[39m'\u001b[39m\u001b[39madstock_gg\u001b[39m\u001b[39m'\u001b[39m, \u001b[39m'\u001b[39m\u001b[39madstock_tt\u001b[39m\u001b[39m'\u001b[39m]\n\u001b[0;32m----> 3\u001b[0m pd\u001b[39m.\u001b[39;49mSeries(\n\u001b[1;32m      4\u001b[0m     best_pipeline\u001b[39m.\u001b[39;49mnamed_steps[\u001b[39m'\u001b[39;49m\u001b[39mmodel\u001b[39;49m\u001b[39m'\u001b[39;49m]\u001b[39m.\u001b[39;49mcoef_,\n\u001b[1;32m      5\u001b[0m     index\u001b[39m=\u001b[39;49mfeatures\n\u001b[1;32m      6\u001b[0m )\n",
      "File \u001b[0;32m~/.pyenv/versions/3.10.6/envs/MMM-project-lewagon/lib/python3.10/site-packages/pandas/core/series.py:461\u001b[0m, in \u001b[0;36mSeries.__init__\u001b[0;34m(self, data, index, dtype, name, copy, fastpath)\u001b[0m\n\u001b[1;32m    459\u001b[0m     index \u001b[39m=\u001b[39m default_index(\u001b[39mlen\u001b[39m(data))\n\u001b[1;32m    460\u001b[0m \u001b[39melif\u001b[39;00m is_list_like(data):\n\u001b[0;32m--> 461\u001b[0m     com\u001b[39m.\u001b[39;49mrequire_length_match(data, index)\n\u001b[1;32m    463\u001b[0m \u001b[39m# create/copy the manager\u001b[39;00m\n\u001b[1;32m    464\u001b[0m \u001b[39mif\u001b[39;00m \u001b[39misinstance\u001b[39m(data, (SingleBlockManager, SingleArrayManager)):\n",
      "File \u001b[0;32m~/.pyenv/versions/3.10.6/envs/MMM-project-lewagon/lib/python3.10/site-packages/pandas/core/common.py:571\u001b[0m, in \u001b[0;36mrequire_length_match\u001b[0;34m(data, index)\u001b[0m\n\u001b[1;32m    567\u001b[0m \u001b[39m\u001b[39m\u001b[39m\"\"\"\u001b[39;00m\n\u001b[1;32m    568\u001b[0m \u001b[39mCheck the length of data matches the length of the index.\u001b[39;00m\n\u001b[1;32m    569\u001b[0m \u001b[39m\"\"\"\u001b[39;00m\n\u001b[1;32m    570\u001b[0m \u001b[39mif\u001b[39;00m \u001b[39mlen\u001b[39m(data) \u001b[39m!=\u001b[39m \u001b[39mlen\u001b[39m(index):\n\u001b[0;32m--> 571\u001b[0m     \u001b[39mraise\u001b[39;00m \u001b[39mValueError\u001b[39;00m(\n\u001b[1;32m    572\u001b[0m         \u001b[39m\"\u001b[39m\u001b[39mLength of values \u001b[39m\u001b[39m\"\u001b[39m\n\u001b[1;32m    573\u001b[0m         \u001b[39mf\u001b[39m\u001b[39m\"\u001b[39m\u001b[39m(\u001b[39m\u001b[39m{\u001b[39;00m\u001b[39mlen\u001b[39m(data)\u001b[39m}\u001b[39;00m\u001b[39m) \u001b[39m\u001b[39m\"\u001b[39m\n\u001b[1;32m    574\u001b[0m         \u001b[39m\"\u001b[39m\u001b[39mdoes not match length of index \u001b[39m\u001b[39m\"\u001b[39m\n\u001b[1;32m    575\u001b[0m         \u001b[39mf\u001b[39m\u001b[39m\"\u001b[39m\u001b[39m(\u001b[39m\u001b[39m{\u001b[39;00m\u001b[39mlen\u001b[39m(index)\u001b[39m}\u001b[39;00m\u001b[39m)\u001b[39m\u001b[39m\"\u001b[39m\n\u001b[1;32m    576\u001b[0m     )\n",
      "\u001b[0;31mValueError\u001b[0m: Length of values (7) does not match length of index (3)"
     ]
    }
   ],
   "source": [
    "features = ['adstock_fb', 'adstock_gg', 'adstock_tt']\n",
    "\n",
    "pd.Series(\n",
    "    best_pipeline.named_steps['model'].coef_,\n",
    "    index=features\n",
    ")"
   ]
  },
  {
   "cell_type": "markdown",
   "metadata": {},
   "source": [
    "# Predicted vs. Observed Values"
   ]
  },
  {
   "cell_type": "markdown",
   "metadata": {},
   "source": [
    "## Train Set"
   ]
  },
  {
   "cell_type": "code",
   "execution_count": null,
   "metadata": {},
   "outputs": [
    {
     "data": {
      "image/png": "[encoded data removed]",
      "text/plain": [
       "<Figure size 1200x600 with 1 Axes>"
      ]
     },
     "metadata": {},
     "output_type": "display_data"
    }
   ],
   "source": [
    "# Extract the date index, observed values, and predicted values\n",
    "date_index = train_df.index\n",
    "y_true = train_df['total_sales']\n",
    "y_pred = best_pipeline.predict(train_df)\n",
    "\n",
    "# Create a line plot for observed values (blue)\n",
    "plt.figure(figsize=(12, 6))  # Optional: Adjust the figure size\n",
    "plt.plot(date_index, y_true, linestyle='-', color='blue', label='Observed')\n",
    "\n",
    "# Create a line plot for predicted values (red)\n",
    "plt.plot(date_index, y_pred, linestyle='-', color='red', label='Predicted')\n",
    "\n",
    "# Customize the plot\n",
    "plt.title('Observed vs. Predicted Time Series')\n",
    "plt.xlabel('Date')\n",
    "plt.ylabel('Value')\n",
    "plt.grid(True)\n",
    "\n",
    "# Add a legend to differentiate between observed and predicted lines\n",
    "plt.legend()\n",
    "\n",
    "# Show the plot\n",
    "plt.tight_layout()\n",
    "plt.show()\n"
   ]
  },
  {
   "cell_type": "markdown",
   "metadata": {},
   "source": [
    "## Test Set"
   ]
  },
  {
   "cell_type": "code",
   "execution_count": null,
   "metadata": {},
   "outputs": [
    {
     "data": {
      "image/png": "[encoded data removed]",
      "text/plain": [
       "<Figure size 1200x600 with 1 Axes>"
      ]
     },
     "metadata": {},
     "output_type": "display_data"
    }
   ],
   "source": [
    "# Extract the date index, observed values, and predicted values\n",
    "date_index = test_df.index\n",
    "y_true = test_df['total_sales']\n",
    "y_pred = best_pipeline.predict(test_df)\n",
    "\n",
    "# Create a line plot for observed values (blue)\n",
    "plt.figure(figsize=(12, 6))  # Optional: Adjust the figure size\n",
    "plt.plot(date_index, y_true, linestyle='-', color='blue', label='Observed')\n",
    "\n",
    "# Create a line plot for predicted values (red)\n",
    "plt.plot(date_index, y_pred, linestyle='-', color='red', label='Predicted')\n",
    "\n",
    "# Customize the plot\n",
    "plt.title('Observed vs. Predicted Time Series')\n",
    "plt.xlabel('Date')\n",
    "plt.ylabel('Value')\n",
    "plt.grid(True)\n",
    "\n",
    "# Add a legend to differentiate between observed and predicted lines\n",
    "plt.legend()\n",
    "\n",
    "# Show the plot\n",
    "plt.tight_layout()\n",
    "plt.show()\n"
   ]
  },
  {
   "cell_type": "markdown",
   "metadata": {},
   "source": [
    "# Check Contributions"
   ]
  },
  {
   "cell_type": "code",
   "execution_count": null,
   "metadata": {},
   "outputs": [],
   "source": [
    "def plot_learning_curve(estimator, title, X, y, cv, train_sizes=np.linspace(0.1, 1.0, 10)):\n",
    "    train_sizes, train_scores, test_scores = learning_curve(\n",
    "        estimator, X, y, cv=tscv, train_sizes=train_sizes, scoring='r2'\n",
    "    )\n",
    "    \n",
    "    train_scores_mean = np.mean(train_scores, axis=1)\n",
    "    test_scores_mean = np.mean(test_scores, axis=1)\n",
    "    \n",
    "    plt.plot(train_sizes, train_scores_mean, label = 'Training score')\n",
    "    plt.plot(train_sizes, test_scores_mean, label = 'Test score')\n",
    "    plt.ylabel('r2 score', fontsize = 14)\n",
    "    plt.xlabel('Training set size', fontsize = 14)\n",
    "    plt.title('Learning curves', fontsize = 18, y = 1.03)\n",
    "    plt.legend()\n",
    "    \n",
    "    return plt"
   ]
  },
  {
   "cell_type": "code",
   "execution_count": null,
   "metadata": {},
   "outputs": [
    {
     "data": {
      "text/plain": [
       "<module 'matplotlib.pyplot' from '/Users/valeriajimenez/.pyenv/versions/3.10.6/envs/MMM-project-lewagon/lib/python3.10/site-packages/matplotlib/pyplot.py'>"
      ]
     },
     "execution_count": 375,
     "metadata": {},
     "output_type": "execute_result"
    },
    {
     "data": {
      "image/png": "[encoded data removed]",
      "text/plain": [
       "<Figure size 640x480 with 1 Axes>"
      ]
     },
     "metadata": {},
     "output_type": "display_data"
    }
   ],
   "source": [
    "plot_learning_curve(best_pipeline, 'learning curve', X_train, y_train, cv = tscv)"
   ]
  },
  {
   "cell_type": "markdown",
   "metadata": {},
   "source": [
    "## Check pipeline output"
   ]
  },
  {
   "cell_type": "code",
   "execution_count": null,
   "metadata": {},
   "outputs": [
    {
     "data": {
      "text/html": [
       "<div>\n",
       "<style scoped>\n",
       "    .dataframe tbody tr th:only-of-type {\n",
       "        vertical-align: middle;\n",
       "    }\n",
       "\n",
       "    .dataframe tbody tr th {\n",
       "        vertical-align: top;\n",
       "    }\n",
       "\n",
       "    .dataframe thead th {\n",
       "        text-align: right;\n",
       "    }\n",
       "</style>\n",
       "<table border=\"1\" class=\"dataframe\">\n",
       "  <thead>\n",
       "    <tr style=\"text-align: right;\">\n",
       "      <th></th>\n",
       "      <th>holiday</th>\n",
       "      <th>weekend</th>\n",
       "      <th>sin_months</th>\n",
       "      <th>cos_months</th>\n",
       "      <th>adstock_fb</th>\n",
       "      <th>adstock_gg</th>\n",
       "      <th>adstock_tt</th>\n",
       "    </tr>\n",
       "  </thead>\n",
       "  <tbody>\n",
       "    <tr>\n",
       "      <th>0</th>\n",
       "      <td>0.0</td>\n",
       "      <td>0.0</td>\n",
       "      <td>-0.500000</td>\n",
       "      <td>-0.866025</td>\n",
       "      <td>418.260462</td>\n",
       "      <td>8.767484</td>\n",
       "      <td>6.636967</td>\n",
       "    </tr>\n",
       "    <tr>\n",
       "      <th>1</th>\n",
       "      <td>0.0</td>\n",
       "      <td>1.0</td>\n",
       "      <td>-0.500000</td>\n",
       "      <td>-0.866025</td>\n",
       "      <td>406.556631</td>\n",
       "      <td>9.289482</td>\n",
       "      <td>6.636967</td>\n",
       "    </tr>\n",
       "    <tr>\n",
       "      <th>2</th>\n",
       "      <td>0.0</td>\n",
       "      <td>1.0</td>\n",
       "      <td>-0.500000</td>\n",
       "      <td>-0.866025</td>\n",
       "      <td>403.578832</td>\n",
       "      <td>9.009530</td>\n",
       "      <td>6.636967</td>\n",
       "    </tr>\n",
       "    <tr>\n",
       "      <th>3</th>\n",
       "      <td>0.0</td>\n",
       "      <td>0.0</td>\n",
       "      <td>-0.500000</td>\n",
       "      <td>-0.866025</td>\n",
       "      <td>420.077152</td>\n",
       "      <td>8.532172</td>\n",
       "      <td>6.636967</td>\n",
       "    </tr>\n",
       "    <tr>\n",
       "      <th>4</th>\n",
       "      <td>0.0</td>\n",
       "      <td>0.0</td>\n",
       "      <td>-0.500000</td>\n",
       "      <td>-0.866025</td>\n",
       "      <td>419.063910</td>\n",
       "      <td>8.322080</td>\n",
       "      <td>6.636967</td>\n",
       "    </tr>\n",
       "    <tr>\n",
       "      <th>...</th>\n",
       "      <td>...</td>\n",
       "      <td>...</td>\n",
       "      <td>...</td>\n",
       "      <td>...</td>\n",
       "      <td>...</td>\n",
       "      <td>...</td>\n",
       "      <td>...</td>\n",
       "    </tr>\n",
       "    <tr>\n",
       "      <th>650</th>\n",
       "      <td>0.0</td>\n",
       "      <td>0.0</td>\n",
       "      <td>0.866025</td>\n",
       "      <td>-0.500000</td>\n",
       "      <td>1599.331780</td>\n",
       "      <td>352.996129</td>\n",
       "      <td>92.004704</td>\n",
       "    </tr>\n",
       "    <tr>\n",
       "      <th>651</th>\n",
       "      <td>0.0</td>\n",
       "      <td>0.0</td>\n",
       "      <td>0.866025</td>\n",
       "      <td>-0.500000</td>\n",
       "      <td>1593.099275</td>\n",
       "      <td>317.282502</td>\n",
       "      <td>91.910878</td>\n",
       "    </tr>\n",
       "    <tr>\n",
       "      <th>652</th>\n",
       "      <td>0.0</td>\n",
       "      <td>1.0</td>\n",
       "      <td>0.866025</td>\n",
       "      <td>-0.500000</td>\n",
       "      <td>1164.915382</td>\n",
       "      <td>276.794904</td>\n",
       "      <td>93.334215</td>\n",
       "    </tr>\n",
       "    <tr>\n",
       "      <th>653</th>\n",
       "      <td>0.0</td>\n",
       "      <td>1.0</td>\n",
       "      <td>0.866025</td>\n",
       "      <td>-0.500000</td>\n",
       "      <td>824.299353</td>\n",
       "      <td>245.577795</td>\n",
       "      <td>98.529702</td>\n",
       "    </tr>\n",
       "    <tr>\n",
       "      <th>654</th>\n",
       "      <td>0.0</td>\n",
       "      <td>0.0</td>\n",
       "      <td>0.866025</td>\n",
       "      <td>-0.500000</td>\n",
       "      <td>1382.872471</td>\n",
       "      <td>302.122864</td>\n",
       "      <td>101.108962</td>\n",
       "    </tr>\n",
       "  </tbody>\n",
       "</table>\n",
       "<p>655 rows × 7 columns</p>\n",
       "</div>"
      ],
      "text/plain": [
       "     holiday  weekend  sin_months  cos_months   adstock_fb  adstock_gg  \\\n",
       "0        0.0      0.0   -0.500000   -0.866025   418.260462    8.767484   \n",
       "1        0.0      1.0   -0.500000   -0.866025   406.556631    9.289482   \n",
       "2        0.0      1.0   -0.500000   -0.866025   403.578832    9.009530   \n",
       "3        0.0      0.0   -0.500000   -0.866025   420.077152    8.532172   \n",
       "4        0.0      0.0   -0.500000   -0.866025   419.063910    8.322080   \n",
       "..       ...      ...         ...         ...          ...         ...   \n",
       "650      0.0      0.0    0.866025   -0.500000  1599.331780  352.996129   \n",
       "651      0.0      0.0    0.866025   -0.500000  1593.099275  317.282502   \n",
       "652      0.0      1.0    0.866025   -0.500000  1164.915382  276.794904   \n",
       "653      0.0      1.0    0.866025   -0.500000   824.299353  245.577795   \n",
       "654      0.0      0.0    0.866025   -0.500000  1382.872471  302.122864   \n",
       "\n",
       "     adstock_tt  \n",
       "0      6.636967  \n",
       "1      6.636967  \n",
       "2      6.636967  \n",
       "3      6.636967  \n",
       "4      6.636967  \n",
       "..          ...  \n",
       "650   92.004704  \n",
       "651   91.910878  \n",
       "652   93.334215  \n",
       "653   98.529702  \n",
       "654  101.108962  \n",
       "\n",
       "[655 rows x 7 columns]"
      ]
     },
     "execution_count": 57,
     "metadata": {},
     "output_type": "execute_result"
    }
   ],
   "source": [
    "pipe_df = pd.DataFrame(best_pipeline[0].transform(X_train))\n",
    "pipe_df.columns = ['holiday','weekend', 'sin_months', 'cos_months', 'adstock_fb', 'adstock_gg', 'adstock_tt']\n",
    "pipe_df"
   ]
  },
  {
   "cell_type": "markdown",
   "metadata": {},
   "source": [
    "## Check for collinearity"
   ]
  },
  {
   "cell_type": "code",
   "execution_count": null,
   "metadata": {},
   "outputs": [
    {
     "data": {
      "image/png": "[encoded data removed]",
      "text/plain": [
       "<Figure size 640x480 with 2 Axes>"
      ]
     },
     "metadata": {},
     "output_type": "display_data"
    }
   ],
   "source": [
    "sns.heatmap(pipe_df.corr());"
   ]
  },
  {
   "cell_type": "markdown",
   "metadata": {},
   "source": [
    "## Fit and Score on Test"
   ]
  },
  {
   "cell_type": "code",
   "execution_count": null,
   "metadata": {},
   "outputs": [
    {
     "data": {
      "text/plain": [
       "'R-squared: 0.38024241000944925'"
      ]
     },
     "execution_count": 376,
     "metadata": {},
     "output_type": "execute_result"
    }
   ],
   "source": [
    "best_pipeline.fit(X_train, y_train)\n",
    "f\"R-squared: {best_pipeline.score(X_test, y_test)}\""
   ]
  },
  {
   "cell_type": "code",
   "execution_count": null,
   "metadata": {},
   "outputs": [
    {
     "data": {
      "text/plain": [
       "<module 'matplotlib.pyplot' from '/Users/valeriajimenez/.pyenv/versions/3.10.6/envs/MMM-project-lewagon/lib/python3.10/site-packages/matplotlib/pyplot.py'>"
      ]
     },
     "execution_count": 377,
     "metadata": {},
     "output_type": "execute_result"
    },
    {
     "data": {
      "image/png": "[encoded data removed]",
      "text/plain": [
       "<Figure size 640x480 with 1 Axes>"
      ]
     },
     "metadata": {},
     "output_type": "display_data"
    }
   ],
   "source": [
    "plot_learning_curve(best_pipeline, 'learning curve', X_train, y_train, cv = 3)"
   ]
  },
  {
   "cell_type": "markdown",
   "metadata": {},
   "source": [
    "### Check errors"
   ]
  },
  {
   "cell_type": "markdown",
   "metadata": {},
   "source": [
    "#### Test data"
   ]
  },
  {
   "cell_type": "code",
   "execution_count": null,
   "metadata": {},
   "outputs": [
    {
     "data": {
      "text/plain": [
       "'R-squared: 0.38024241000944925, MAE: 1350.588454601714, RMSE: 2082.2705803912822'"
      ]
     },
     "execution_count": 381,
     "metadata": {},
     "output_type": "execute_result"
    }
   ],
   "source": [
    "y_true = test_df['total_sales']\n",
    "y_pred = best_pipeline.predict(X_test)\n",
    "\n",
    "rmse = mean_squared_error(y_true, y_pred, squared = False)\n",
    "mae = mean_absolute_error(y_true, y_pred)\n",
    "f\"R-squared: {best_pipeline.score(X_test, y_test)}, MAE: {mae}, RMSE: {rmse}\""
   ]
  },
  {
   "cell_type": "markdown",
   "metadata": {},
   "source": [
    "#### Train data"
   ]
  },
  {
   "cell_type": "code",
   "execution_count": null,
   "metadata": {},
   "outputs": [
    {
     "data": {
      "text/plain": [
       "'R-squared: 0.6810208528533321, MAE: 456.6125851582648, RMSE: 725.6279899893926'"
      ]
     },
     "execution_count": 380,
     "metadata": {},
     "output_type": "execute_result"
    }
   ],
   "source": [
    "y_true = train_df['total_sales']\n",
    "y_pred = best_pipeline.predict(X_train)\n",
    "\n",
    "rmse = mean_squared_error(y_true, y_pred, squared = False)\n",
    "mae = mean_absolute_error(y_true, y_pred)\n",
    "f\"R-squared: {best_pipeline.score(X_train, y_train)}, MAE: {mae}, RMSE: {rmse}\""
   ]
  },
  {
   "cell_type": "code",
   "execution_count": null,
   "metadata": {},
   "outputs": [],
   "source": []
  }
 ],
 "metadata": {
  "kernelspec": {
   "display_name": "MMM-project-lewagon",
   "language": "python",
   "name": "python3"
  },
  "language_info": {
   "codemirror_mode": {
    "name": "ipython",
    "version": 3
   },
   "file_extension": ".py",
   "mimetype": "text/x-python",
   "name": "python",
   "nbconvert_exporter": "python",
   "pygments_lexer": "ipython3",
   "version": "3.10.6"
  },
  "orig_nbformat": 4
 },
 "nbformat": 4,
 "nbformat_minor": 2
}
