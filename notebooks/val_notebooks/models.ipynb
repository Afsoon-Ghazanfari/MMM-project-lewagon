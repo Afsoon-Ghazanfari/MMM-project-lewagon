{
 "cells": [
  {
   "cell_type": "markdown",
   "metadata": {},
   "source": [
    "# Load dataset"
   ]
  },
  {
   "cell_type": "code",
   "execution_count": 1,
   "metadata": {},
   "outputs": [],
   "source": [
    "import pandas as pd\n",
    "\n",
    "df = pd.read_csv('../../raw_data/df_clean.csv')\n",
    "df = df.drop(columns='Unnamed: 0')\n",
    "df['Day'] = pd.to_datetime(df['Day'])\n",
    "df.set_index('Day', inplace=True)\n",
    "df = df.rename(columns={\"fb_costs\": \"facebook\", \"google_costs\": \"google\", \"tt_costs\": \"tiktok\"})"
   ]
  },
  {
   "cell_type": "markdown",
   "metadata": {},
   "source": [
    "# Create a simple dataframe"
   ]
  },
  {
   "cell_type": "code",
   "execution_count": 2,
   "metadata": {},
   "outputs": [],
   "source": [
    "simple_df = df.drop(columns = ['fb_impressions', 'fb_clicks', 'google_impressions', 'google_clicks', 'tt_impressions', 'tt_clicks'])\n",
    "\n",
    "X_simple = simple_df.drop(columns = ['orders', 'total_sales']) # 3 channels: facebook, google, tiktok\n",
    "y_simple = simple_df['total_sales'] # for now lets just use total_sales and exclude orders"
   ]
  },
  {
   "cell_type": "markdown",
   "metadata": {},
   "source": [
    "# Split data"
   ]
  },
  {
   "cell_type": "code",
   "execution_count": 3,
   "metadata": {},
   "outputs": [],
   "source": [
    "from sklearn.model_selection import TimeSeriesSplit\n",
    "\n",
    "n_splits = 5  # Number of splits for cross-validation\n",
    "tscv = TimeSeriesSplit(n_splits=n_splits)\n",
    "\n",
    "for train_index, test_index in tscv.split(simple_df):\n",
    "    X_train = simple_df.iloc[train_index]\n",
    "    X_test = simple_df.iloc[test_index]\n",
    "    \n",
    "y_train = X_train['total_sales']\n",
    "y_test = X_test['total_sales']"
   ]
  },
  {
   "cell_type": "markdown",
   "metadata": {},
   "source": [
    "# Confirm chronological split (test data should have the most recent dates)"
   ]
  },
  {
   "cell_type": "code",
   "execution_count": 4,
   "metadata": {},
   "outputs": [
    {
     "data": {
      "text/plain": [
       "Day\n",
       "2021-07-01     414.85\n",
       "2021-07-02     229.95\n",
       "2021-07-03     459.89\n",
       "2021-07-04     508.36\n",
       "2021-07-05     399.88\n",
       "               ...   \n",
       "2023-04-12    3718.12\n",
       "2023-04-13    2913.63\n",
       "2023-04-14    1735.46\n",
       "2023-04-15    1320.67\n",
       "2023-04-16    3647.40\n",
       "Name: total_sales, Length: 655, dtype: float64"
      ]
     },
     "execution_count": 4,
     "metadata": {},
     "output_type": "execute_result"
    }
   ],
   "source": [
    "y_train"
   ]
  },
  {
   "cell_type": "code",
   "execution_count": 5,
   "metadata": {},
   "outputs": [
    {
     "data": {
      "text/plain": [
       "Day\n",
       "2023-04-17     3121.57\n",
       "2023-04-18     3851.15\n",
       "2023-04-19     2858.61\n",
       "2023-04-20     3623.44\n",
       "2023-04-21     1804.11\n",
       "                ...   \n",
       "2023-08-20    13616.97\n",
       "2023-08-21    15348.42\n",
       "2023-08-22     6054.53\n",
       "2023-08-23     4810.67\n",
       "2023-08-24     4889.20\n",
       "Name: total_sales, Length: 130, dtype: float64"
      ]
     },
     "execution_count": 5,
     "metadata": {},
     "output_type": "execute_result"
    }
   ],
   "source": [
    "y_test"
   ]
  },
  {
   "cell_type": "markdown",
   "metadata": {},
   "source": [
    "# Feature Engineering"
   ]
  },
  {
   "cell_type": "markdown",
   "metadata": {},
   "source": [
    "### Date Time Features\n",
    "* Weekend or not\n",
    "* Holiday or not\n",
    "\n",
    "### Lag and Window Features\n",
    "* Carryover effect\n",
    "* Saturation\n"
   ]
  },
  {
   "cell_type": "markdown",
   "metadata": {},
   "source": [
    "## Add holidays with `holidays`"
   ]
  },
  {
   "cell_type": "code",
   "execution_count": 6,
   "metadata": {},
   "outputs": [],
   "source": [
    "from datetime import date\n",
    "import holidays"
   ]
  },
  {
   "cell_type": "markdown",
   "metadata": {},
   "source": [
    "### Create German holiday dataframe"
   ]
  },
  {
   "cell_type": "code",
   "execution_count": 7,
   "metadata": {},
   "outputs": [],
   "source": [
    "de_holiday_list = []\n",
    "for holiday in holidays.Germany(years=[2021,2022,2023]).items():\n",
    "    de_holiday_list.append(holiday)\n",
    "de_holidays_df = pd.DataFrame(de_holiday_list, columns=[\"date\", \"holiday\"])\n",
    "de_holidays_df['date'] = pd.to_datetime(de_holidays_df['date'])\n",
    "de_holidays_df.set_index('date', inplace=True)"
   ]
  },
  {
   "cell_type": "markdown",
   "metadata": {},
   "source": [
    "### Create Austrian holiday dataframe"
   ]
  },
  {
   "cell_type": "code",
   "execution_count": 8,
   "metadata": {},
   "outputs": [],
   "source": [
    "at_holiday_list = []\n",
    "for holiday in holidays.Austria(years=[2021,2022,2023]).items():\n",
    "    at_holiday_list.append(holiday)\n",
    "at_holidays_df = pd.DataFrame(at_holiday_list, columns=[\"date\", \"holiday\"])\n",
    "at_holidays_df['date'] = pd.to_datetime(at_holidays_df['date'])\n",
    "at_holidays_df.set_index('date', inplace=True)"
   ]
  },
  {
   "cell_type": "markdown",
   "metadata": {},
   "source": [
    "### Add DE holidays"
   ]
  },
  {
   "cell_type": "code",
   "execution_count": 9,
   "metadata": {},
   "outputs": [
    {
     "data": {
      "text/html": [
       "<div>\n",
       "<style scoped>\n",
       "    .dataframe tbody tr th:only-of-type {\n",
       "        vertical-align: middle;\n",
       "    }\n",
       "\n",
       "    .dataframe tbody tr th {\n",
       "        vertical-align: top;\n",
       "    }\n",
       "\n",
       "    .dataframe thead th {\n",
       "        text-align: right;\n",
       "    }\n",
       "</style>\n",
       "<table border=\"1\" class=\"dataframe\">\n",
       "  <thead>\n",
       "    <tr style=\"text-align: right;\">\n",
       "      <th></th>\n",
       "      <th>orders</th>\n",
       "      <th>total_sales</th>\n",
       "      <th>facebook</th>\n",
       "      <th>google</th>\n",
       "      <th>tiktok</th>\n",
       "      <th>de_holiday</th>\n",
       "    </tr>\n",
       "    <tr>\n",
       "      <th>Day</th>\n",
       "      <th></th>\n",
       "      <th></th>\n",
       "      <th></th>\n",
       "      <th></th>\n",
       "      <th></th>\n",
       "      <th></th>\n",
       "    </tr>\n",
       "  </thead>\n",
       "  <tbody>\n",
       "    <tr>\n",
       "      <th>2021-07-01</th>\n",
       "      <td>10</td>\n",
       "      <td>414.85</td>\n",
       "      <td>257.01</td>\n",
       "      <td>1.17</td>\n",
       "      <td>0.0</td>\n",
       "      <td>0</td>\n",
       "    </tr>\n",
       "    <tr>\n",
       "      <th>2021-07-02</th>\n",
       "      <td>6</td>\n",
       "      <td>229.95</td>\n",
       "      <td>250.30</td>\n",
       "      <td>0.84</td>\n",
       "      <td>0.0</td>\n",
       "      <td>0</td>\n",
       "    </tr>\n",
       "    <tr>\n",
       "      <th>2021-07-03</th>\n",
       "      <td>10</td>\n",
       "      <td>459.89</td>\n",
       "      <td>248.59</td>\n",
       "      <td>0.72</td>\n",
       "      <td>0.0</td>\n",
       "      <td>0</td>\n",
       "    </tr>\n",
       "    <tr>\n",
       "      <th>2021-07-04</th>\n",
       "      <td>17</td>\n",
       "      <td>508.36</td>\n",
       "      <td>258.05</td>\n",
       "      <td>0.07</td>\n",
       "      <td>0.0</td>\n",
       "      <td>0</td>\n",
       "    </tr>\n",
       "    <tr>\n",
       "      <th>2021-07-05</th>\n",
       "      <td>13</td>\n",
       "      <td>399.88</td>\n",
       "      <td>257.47</td>\n",
       "      <td>0.38</td>\n",
       "      <td>0.0</td>\n",
       "      <td>0</td>\n",
       "    </tr>\n",
       "  </tbody>\n",
       "</table>\n",
       "</div>"
      ],
      "text/plain": [
       "            orders  total_sales  facebook  google  tiktok  de_holiday\n",
       "Day                                                                  \n",
       "2021-07-01      10       414.85    257.01    1.17     0.0           0\n",
       "2021-07-02       6       229.95    250.30    0.84     0.0           0\n",
       "2021-07-03      10       459.89    248.59    0.72     0.0           0\n",
       "2021-07-04      17       508.36    258.05    0.07     0.0           0\n",
       "2021-07-05      13       399.88    257.47    0.38     0.0           0"
      ]
     },
     "execution_count": 9,
     "metadata": {},
     "output_type": "execute_result"
    }
   ],
   "source": [
    "merged_df = simple_df.merge(de_holidays_df, how='left', left_index=True, right_index=True)\n",
    "merged_df['de_holiday'] = merged_df.index.isin(de_holidays_df.index).astype(int)\n",
    "merged_df.drop(columns=['holiday'], inplace=True)\n",
    "merged_df.head() # new column with 1 for german holiday, 0 for no german holiday"
   ]
  },
  {
   "cell_type": "markdown",
   "metadata": {},
   "source": [
    "### Check a random holiday"
   ]
  },
  {
   "cell_type": "code",
   "execution_count": 10,
   "metadata": {},
   "outputs": [
    {
     "data": {
      "text/plain": [
       "0"
      ]
     },
     "execution_count": 10,
     "metadata": {},
     "output_type": "execute_result"
    }
   ],
   "source": [
    "specific_date = pd.to_datetime('2023-05-10')  # Change to the date you want to check\n",
    "is_holiday_value = merged_df.loc[specific_date, 'de_holiday']\n",
    "is_holiday_value"
   ]
  },
  {
   "cell_type": "markdown",
   "metadata": {},
   "source": [
    "### Add AT holidays"
   ]
  },
  {
   "cell_type": "code",
   "execution_count": 11,
   "metadata": {},
   "outputs": [
    {
     "data": {
      "text/html": [
       "<div>\n",
       "<style scoped>\n",
       "    .dataframe tbody tr th:only-of-type {\n",
       "        vertical-align: middle;\n",
       "    }\n",
       "\n",
       "    .dataframe tbody tr th {\n",
       "        vertical-align: top;\n",
       "    }\n",
       "\n",
       "    .dataframe thead th {\n",
       "        text-align: right;\n",
       "    }\n",
       "</style>\n",
       "<table border=\"1\" class=\"dataframe\">\n",
       "  <thead>\n",
       "    <tr style=\"text-align: right;\">\n",
       "      <th></th>\n",
       "      <th>orders</th>\n",
       "      <th>total_sales</th>\n",
       "      <th>facebook</th>\n",
       "      <th>google</th>\n",
       "      <th>tiktok</th>\n",
       "      <th>de_holiday</th>\n",
       "      <th>at_holiday</th>\n",
       "    </tr>\n",
       "    <tr>\n",
       "      <th>Day</th>\n",
       "      <th></th>\n",
       "      <th></th>\n",
       "      <th></th>\n",
       "      <th></th>\n",
       "      <th></th>\n",
       "      <th></th>\n",
       "      <th></th>\n",
       "    </tr>\n",
       "  </thead>\n",
       "  <tbody>\n",
       "    <tr>\n",
       "      <th>2021-07-01</th>\n",
       "      <td>10</td>\n",
       "      <td>414.85</td>\n",
       "      <td>257.01</td>\n",
       "      <td>1.17</td>\n",
       "      <td>0.0</td>\n",
       "      <td>0</td>\n",
       "      <td>0</td>\n",
       "    </tr>\n",
       "    <tr>\n",
       "      <th>2021-07-02</th>\n",
       "      <td>6</td>\n",
       "      <td>229.95</td>\n",
       "      <td>250.30</td>\n",
       "      <td>0.84</td>\n",
       "      <td>0.0</td>\n",
       "      <td>0</td>\n",
       "      <td>0</td>\n",
       "    </tr>\n",
       "    <tr>\n",
       "      <th>2021-07-03</th>\n",
       "      <td>10</td>\n",
       "      <td>459.89</td>\n",
       "      <td>248.59</td>\n",
       "      <td>0.72</td>\n",
       "      <td>0.0</td>\n",
       "      <td>0</td>\n",
       "      <td>0</td>\n",
       "    </tr>\n",
       "    <tr>\n",
       "      <th>2021-07-04</th>\n",
       "      <td>17</td>\n",
       "      <td>508.36</td>\n",
       "      <td>258.05</td>\n",
       "      <td>0.07</td>\n",
       "      <td>0.0</td>\n",
       "      <td>0</td>\n",
       "      <td>0</td>\n",
       "    </tr>\n",
       "    <tr>\n",
       "      <th>2021-07-05</th>\n",
       "      <td>13</td>\n",
       "      <td>399.88</td>\n",
       "      <td>257.47</td>\n",
       "      <td>0.38</td>\n",
       "      <td>0.0</td>\n",
       "      <td>0</td>\n",
       "      <td>0</td>\n",
       "    </tr>\n",
       "  </tbody>\n",
       "</table>\n",
       "</div>"
      ],
      "text/plain": [
       "            orders  total_sales  facebook  google  tiktok  de_holiday  \\\n",
       "Day                                                                     \n",
       "2021-07-01      10       414.85    257.01    1.17     0.0           0   \n",
       "2021-07-02       6       229.95    250.30    0.84     0.0           0   \n",
       "2021-07-03      10       459.89    248.59    0.72     0.0           0   \n",
       "2021-07-04      17       508.36    258.05    0.07     0.0           0   \n",
       "2021-07-05      13       399.88    257.47    0.38     0.0           0   \n",
       "\n",
       "            at_holiday  \n",
       "Day                     \n",
       "2021-07-01           0  \n",
       "2021-07-02           0  \n",
       "2021-07-03           0  \n",
       "2021-07-04           0  \n",
       "2021-07-05           0  "
      ]
     },
     "execution_count": 11,
     "metadata": {},
     "output_type": "execute_result"
    }
   ],
   "source": [
    "at_holidays_df['at_holiday'] = 1 # add a 1 column to austrian holidays dataframe to help us merge with DE holidays\n",
    "merged_df = merged_df.merge(at_holidays_df[['at_holiday']], how='left', left_index=True, right_index=True)\n",
    "merged_df.head() # creates two columns (at_holiday_x, at_holiday_y), we only need one\n",
    "merged_df['at_holiday'].fillna(0, inplace=True) # replace NaN (no holiday) with 0\n",
    "merged_df['at_holiday'] = merged_df['at_holiday'].astype(int) # convert 1 and 0 to integers\n",
    "merged_df.head() # new column with 1 for austrian holiday, 0 for no austrian holiday"
   ]
  },
  {
   "cell_type": "markdown",
   "metadata": {},
   "source": [
    "### Check a random holiday"
   ]
  },
  {
   "cell_type": "code",
   "execution_count": 12,
   "metadata": {},
   "outputs": [
    {
     "data": {
      "text/plain": [
       "0"
      ]
     },
     "execution_count": 12,
     "metadata": {},
     "output_type": "execute_result"
    }
   ],
   "source": [
    "specific_date = pd.to_datetime('2023-05-10')  # Change to the date you want to check\n",
    "is_holiday_value = merged_df.loc[specific_date, 'at_holiday']\n",
    "is_holiday_value"
   ]
  },
  {
   "cell_type": "markdown",
   "metadata": {},
   "source": [
    "### Combine DE and AT holiday columns\n",
    "* 1: holiday in Germany or Austria\n",
    "* 0: no holiday in either country"
   ]
  },
  {
   "cell_type": "code",
   "execution_count": 13,
   "metadata": {},
   "outputs": [
    {
     "data": {
      "text/html": [
       "<div>\n",
       "<style scoped>\n",
       "    .dataframe tbody tr th:only-of-type {\n",
       "        vertical-align: middle;\n",
       "    }\n",
       "\n",
       "    .dataframe tbody tr th {\n",
       "        vertical-align: top;\n",
       "    }\n",
       "\n",
       "    .dataframe thead th {\n",
       "        text-align: right;\n",
       "    }\n",
       "</style>\n",
       "<table border=\"1\" class=\"dataframe\">\n",
       "  <thead>\n",
       "    <tr style=\"text-align: right;\">\n",
       "      <th></th>\n",
       "      <th>orders</th>\n",
       "      <th>total_sales</th>\n",
       "      <th>facebook</th>\n",
       "      <th>google</th>\n",
       "      <th>tiktok</th>\n",
       "      <th>holiday</th>\n",
       "    </tr>\n",
       "    <tr>\n",
       "      <th>Day</th>\n",
       "      <th></th>\n",
       "      <th></th>\n",
       "      <th></th>\n",
       "      <th></th>\n",
       "      <th></th>\n",
       "      <th></th>\n",
       "    </tr>\n",
       "  </thead>\n",
       "  <tbody>\n",
       "    <tr>\n",
       "      <th>2021-07-01</th>\n",
       "      <td>10</td>\n",
       "      <td>414.85</td>\n",
       "      <td>257.01</td>\n",
       "      <td>1.17</td>\n",
       "      <td>0.0</td>\n",
       "      <td>0</td>\n",
       "    </tr>\n",
       "    <tr>\n",
       "      <th>2021-07-02</th>\n",
       "      <td>6</td>\n",
       "      <td>229.95</td>\n",
       "      <td>250.30</td>\n",
       "      <td>0.84</td>\n",
       "      <td>0.0</td>\n",
       "      <td>0</td>\n",
       "    </tr>\n",
       "    <tr>\n",
       "      <th>2021-07-03</th>\n",
       "      <td>10</td>\n",
       "      <td>459.89</td>\n",
       "      <td>248.59</td>\n",
       "      <td>0.72</td>\n",
       "      <td>0.0</td>\n",
       "      <td>0</td>\n",
       "    </tr>\n",
       "    <tr>\n",
       "      <th>2021-07-04</th>\n",
       "      <td>17</td>\n",
       "      <td>508.36</td>\n",
       "      <td>258.05</td>\n",
       "      <td>0.07</td>\n",
       "      <td>0.0</td>\n",
       "      <td>0</td>\n",
       "    </tr>\n",
       "    <tr>\n",
       "      <th>2021-07-05</th>\n",
       "      <td>13</td>\n",
       "      <td>399.88</td>\n",
       "      <td>257.47</td>\n",
       "      <td>0.38</td>\n",
       "      <td>0.0</td>\n",
       "      <td>0</td>\n",
       "    </tr>\n",
       "  </tbody>\n",
       "</table>\n",
       "</div>"
      ],
      "text/plain": [
       "            orders  total_sales  facebook  google  tiktok  holiday\n",
       "Day                                                               \n",
       "2021-07-01      10       414.85    257.01    1.17     0.0        0\n",
       "2021-07-02       6       229.95    250.30    0.84     0.0        0\n",
       "2021-07-03      10       459.89    248.59    0.72     0.0        0\n",
       "2021-07-04      17       508.36    258.05    0.07     0.0        0\n",
       "2021-07-05      13       399.88    257.47    0.38     0.0        0"
      ]
     },
     "execution_count": 13,
     "metadata": {},
     "output_type": "execute_result"
    }
   ],
   "source": [
    "merged_df['holiday'] = (merged_df['at_holiday'] | merged_df['de_holiday']).astype(int)\n",
    "merged_df = merged_df.drop(columns = ['de_holiday', 'at_holiday']) # drop individual DE and AT rows\n",
    "merged_df.head()"
   ]
  },
  {
   "cell_type": "markdown",
   "metadata": {},
   "source": [
    "### Check a random holiday"
   ]
  },
  {
   "cell_type": "code",
   "execution_count": 14,
   "metadata": {},
   "outputs": [
    {
     "data": {
      "text/plain": [
       "1"
      ]
     },
     "execution_count": 14,
     "metadata": {},
     "output_type": "execute_result"
    }
   ],
   "source": [
    "specific_date = pd.to_datetime('2022-04-15')  # Checking Good Friday - only a holiday in Germany\n",
    "is_holiday_value = merged_df.loc[specific_date, 'holiday']\n",
    "is_holiday_value"
   ]
  },
  {
   "cell_type": "code",
   "execution_count": 15,
   "metadata": {},
   "outputs": [
    {
     "data": {
      "text/plain": [
       "1"
      ]
     },
     "execution_count": 15,
     "metadata": {},
     "output_type": "execute_result"
    }
   ],
   "source": [
    "specific_date = pd.to_datetime('2022-06-16')  # Checking Corpus Christi - only a holiday in Austria\n",
    "is_holiday_value = merged_df.loc[specific_date, 'holiday']\n",
    "is_holiday_value"
   ]
  },
  {
   "cell_type": "code",
   "execution_count": 16,
   "metadata": {},
   "outputs": [
    {
     "data": {
      "text/plain": [
       "0"
      ]
     },
     "execution_count": 16,
     "metadata": {},
     "output_type": "execute_result"
    }
   ],
   "source": [
    "specific_date = pd.to_datetime('2022-06-02')  # Checking random non-holiday date\n",
    "is_holiday_value = merged_df.loc[specific_date, 'holiday']\n",
    "is_holiday_value"
   ]
  },
  {
   "cell_type": "markdown",
   "metadata": {},
   "source": [
    "## New column: Friday or Saturday = 1"
   ]
  },
  {
   "cell_type": "code",
   "execution_count": 17,
   "metadata": {},
   "outputs": [
    {
     "data": {
      "text/html": [
       "<div>\n",
       "<style scoped>\n",
       "    .dataframe tbody tr th:only-of-type {\n",
       "        vertical-align: middle;\n",
       "    }\n",
       "\n",
       "    .dataframe tbody tr th {\n",
       "        vertical-align: top;\n",
       "    }\n",
       "\n",
       "    .dataframe thead th {\n",
       "        text-align: right;\n",
       "    }\n",
       "</style>\n",
       "<table border=\"1\" class=\"dataframe\">\n",
       "  <thead>\n",
       "    <tr style=\"text-align: right;\">\n",
       "      <th></th>\n",
       "      <th>orders</th>\n",
       "      <th>total_sales</th>\n",
       "      <th>facebook</th>\n",
       "      <th>google</th>\n",
       "      <th>tiktok</th>\n",
       "      <th>holiday</th>\n",
       "      <th>fri_sat</th>\n",
       "    </tr>\n",
       "    <tr>\n",
       "      <th>Day</th>\n",
       "      <th></th>\n",
       "      <th></th>\n",
       "      <th></th>\n",
       "      <th></th>\n",
       "      <th></th>\n",
       "      <th></th>\n",
       "      <th></th>\n",
       "    </tr>\n",
       "  </thead>\n",
       "  <tbody>\n",
       "    <tr>\n",
       "      <th>2021-07-01</th>\n",
       "      <td>10</td>\n",
       "      <td>414.85</td>\n",
       "      <td>257.01</td>\n",
       "      <td>1.17</td>\n",
       "      <td>0.0</td>\n",
       "      <td>0</td>\n",
       "      <td>0</td>\n",
       "    </tr>\n",
       "    <tr>\n",
       "      <th>2021-07-02</th>\n",
       "      <td>6</td>\n",
       "      <td>229.95</td>\n",
       "      <td>250.30</td>\n",
       "      <td>0.84</td>\n",
       "      <td>0.0</td>\n",
       "      <td>0</td>\n",
       "      <td>1</td>\n",
       "    </tr>\n",
       "    <tr>\n",
       "      <th>2021-07-03</th>\n",
       "      <td>10</td>\n",
       "      <td>459.89</td>\n",
       "      <td>248.59</td>\n",
       "      <td>0.72</td>\n",
       "      <td>0.0</td>\n",
       "      <td>0</td>\n",
       "      <td>1</td>\n",
       "    </tr>\n",
       "    <tr>\n",
       "      <th>2021-07-04</th>\n",
       "      <td>17</td>\n",
       "      <td>508.36</td>\n",
       "      <td>258.05</td>\n",
       "      <td>0.07</td>\n",
       "      <td>0.0</td>\n",
       "      <td>0</td>\n",
       "      <td>0</td>\n",
       "    </tr>\n",
       "    <tr>\n",
       "      <th>2021-07-05</th>\n",
       "      <td>13</td>\n",
       "      <td>399.88</td>\n",
       "      <td>257.47</td>\n",
       "      <td>0.38</td>\n",
       "      <td>0.0</td>\n",
       "      <td>0</td>\n",
       "      <td>0</td>\n",
       "    </tr>\n",
       "  </tbody>\n",
       "</table>\n",
       "</div>"
      ],
      "text/plain": [
       "            orders  total_sales  facebook  google  tiktok  holiday  fri_sat\n",
       "Day                                                                        \n",
       "2021-07-01      10       414.85    257.01    1.17     0.0        0        0\n",
       "2021-07-02       6       229.95    250.30    0.84     0.0        0        1\n",
       "2021-07-03      10       459.89    248.59    0.72     0.0        0        1\n",
       "2021-07-04      17       508.36    258.05    0.07     0.0        0        0\n",
       "2021-07-05      13       399.88    257.47    0.38     0.0        0        0"
      ]
     },
     "execution_count": 17,
     "metadata": {},
     "output_type": "execute_result"
    }
   ],
   "source": [
    "weekday_values = merged_df.index.weekday\n",
    "merged_df['fri_sat'] = ((weekday_values == 4) | (weekday_values == 5)).astype(int)\n",
    "merged_df.head()"
   ]
  }
 ],
 "metadata": {
  "kernelspec": {
   "display_name": "MMM-project-lewagon",
   "language": "python",
   "name": "python3"
  },
  "language_info": {
   "codemirror_mode": {
    "name": "ipython",
    "version": 3
   },
   "file_extension": ".py",
   "mimetype": "text/x-python",
   "name": "python",
   "nbconvert_exporter": "python",
   "pygments_lexer": "ipython3",
   "version": "3.10.6"
  },
  "orig_nbformat": 4
 },
 "nbformat": 4,
 "nbformat_minor": 2
}
