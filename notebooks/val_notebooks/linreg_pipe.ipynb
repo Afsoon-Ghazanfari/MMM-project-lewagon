{
 "cells": [
  {
   "cell_type": "code",
   "execution_count": 165,
   "metadata": {},
   "outputs": [],
   "source": [
    "import pandas as pd\n",
    "import numpy as np\n",
    "\n",
    "from mamimo.time_utils import add_time_features\n",
    "\n",
    "from sklearn.model_selection import TimeSeriesSplit\n",
    "from sklearn.base import BaseEstimator, TransformerMixin, OneToOneFeatureMixin\n",
    "\n",
    "from sklearn.linear_model import LinearRegression\n",
    "from sklearn.compose import ColumnTransformer\n",
    "from sklearn.pipeline import Pipeline, FeatureUnion\n",
    "from sklearn.preprocessing import MinMaxScaler\n",
    "\n",
    "from sklearn.metrics import mean_squared_error\n",
    "from sklearn.metrics import mean_absolute_error\n",
    "\n",
    "import statsmodels.formula.api as smf\n",
    "\n",
    "import seaborn as sns\n",
    "import matplotlib.pyplot as plt"
   ]
  },
  {
   "cell_type": "markdown",
   "metadata": {},
   "source": [
    "# Load Dataframe"
   ]
  },
  {
   "cell_type": "code",
   "execution_count": 166,
   "metadata": {},
   "outputs": [],
   "source": [
    "df = pd.read_csv('../../raw_data/df.csv')\n",
    "df = df.drop(columns='Unnamed: 0')\n",
    "df['Day'] = pd.to_datetime(df['Day'])\n",
    "df.set_index('Day', inplace=True)\n",
    "df = df.rename(columns={\"fb_costs\": \"facebook\", \"google_costs\": \"google\", \"tt_costs\": \"tiktok\"})\n",
    "df['day'] = df.index # we will use this in our column transformer\n",
    "df = df.drop(columns = ['fb_impressions', 'google_impressions', 'tt_impressions'])"
   ]
  },
  {
   "cell_type": "code",
   "execution_count": 167,
   "metadata": {},
   "outputs": [
    {
     "data": {
      "text/html": [
       "<div>\n",
       "<style scoped>\n",
       "    .dataframe tbody tr th:only-of-type {\n",
       "        vertical-align: middle;\n",
       "    }\n",
       "\n",
       "    .dataframe tbody tr th {\n",
       "        vertical-align: top;\n",
       "    }\n",
       "\n",
       "    .dataframe thead th {\n",
       "        text-align: right;\n",
       "    }\n",
       "</style>\n",
       "<table border=\"1\" class=\"dataframe\">\n",
       "  <thead>\n",
       "    <tr style=\"text-align: right;\">\n",
       "      <th></th>\n",
       "      <th>orders</th>\n",
       "      <th>total_sales</th>\n",
       "      <th>facebook</th>\n",
       "      <th>fb_clicks</th>\n",
       "      <th>google</th>\n",
       "      <th>google_clicks</th>\n",
       "      <th>tiktok</th>\n",
       "      <th>tt_clicks</th>\n",
       "      <th>day</th>\n",
       "      <th>total_clicks</th>\n",
       "    </tr>\n",
       "    <tr>\n",
       "      <th>Day</th>\n",
       "      <th></th>\n",
       "      <th></th>\n",
       "      <th></th>\n",
       "      <th></th>\n",
       "      <th></th>\n",
       "      <th></th>\n",
       "      <th></th>\n",
       "      <th></th>\n",
       "      <th></th>\n",
       "      <th></th>\n",
       "    </tr>\n",
       "  </thead>\n",
       "  <tbody>\n",
       "    <tr>\n",
       "      <th>2021-07-01</th>\n",
       "      <td>10</td>\n",
       "      <td>414.85</td>\n",
       "      <td>257.01</td>\n",
       "      <td>129.0</td>\n",
       "      <td>1.17</td>\n",
       "      <td>20.0</td>\n",
       "      <td>0.00</td>\n",
       "      <td>0.0</td>\n",
       "      <td>2021-07-01</td>\n",
       "      <td>149.0</td>\n",
       "    </tr>\n",
       "    <tr>\n",
       "      <th>2021-07-02</th>\n",
       "      <td>6</td>\n",
       "      <td>229.95</td>\n",
       "      <td>250.30</td>\n",
       "      <td>150.0</td>\n",
       "      <td>0.84</td>\n",
       "      <td>7.0</td>\n",
       "      <td>0.00</td>\n",
       "      <td>0.0</td>\n",
       "      <td>2021-07-02</td>\n",
       "      <td>157.0</td>\n",
       "    </tr>\n",
       "    <tr>\n",
       "      <th>2021-07-03</th>\n",
       "      <td>10</td>\n",
       "      <td>459.89</td>\n",
       "      <td>248.59</td>\n",
       "      <td>129.0</td>\n",
       "      <td>0.72</td>\n",
       "      <td>6.0</td>\n",
       "      <td>0.00</td>\n",
       "      <td>0.0</td>\n",
       "      <td>2021-07-03</td>\n",
       "      <td>135.0</td>\n",
       "    </tr>\n",
       "    <tr>\n",
       "      <th>2021-07-04</th>\n",
       "      <td>17</td>\n",
       "      <td>508.36</td>\n",
       "      <td>258.05</td>\n",
       "      <td>119.0</td>\n",
       "      <td>0.07</td>\n",
       "      <td>5.0</td>\n",
       "      <td>0.00</td>\n",
       "      <td>0.0</td>\n",
       "      <td>2021-07-04</td>\n",
       "      <td>124.0</td>\n",
       "    </tr>\n",
       "    <tr>\n",
       "      <th>2021-07-05</th>\n",
       "      <td>13</td>\n",
       "      <td>399.88</td>\n",
       "      <td>257.47</td>\n",
       "      <td>142.0</td>\n",
       "      <td>0.38</td>\n",
       "      <td>16.0</td>\n",
       "      <td>0.00</td>\n",
       "      <td>0.0</td>\n",
       "      <td>2021-07-05</td>\n",
       "      <td>158.0</td>\n",
       "    </tr>\n",
       "    <tr>\n",
       "      <th>...</th>\n",
       "      <td>...</td>\n",
       "      <td>...</td>\n",
       "      <td>...</td>\n",
       "      <td>...</td>\n",
       "      <td>...</td>\n",
       "      <td>...</td>\n",
       "      <td>...</td>\n",
       "      <td>...</td>\n",
       "      <td>...</td>\n",
       "      <td>...</td>\n",
       "    </tr>\n",
       "    <tr>\n",
       "      <th>2023-08-20</th>\n",
       "      <td>294</td>\n",
       "      <td>13616.97</td>\n",
       "      <td>2148.53</td>\n",
       "      <td>1366.0</td>\n",
       "      <td>466.56</td>\n",
       "      <td>801.0</td>\n",
       "      <td>368.86</td>\n",
       "      <td>644.0</td>\n",
       "      <td>2023-08-20</td>\n",
       "      <td>2811.0</td>\n",
       "    </tr>\n",
       "    <tr>\n",
       "      <th>2023-08-21</th>\n",
       "      <td>356</td>\n",
       "      <td>15348.42</td>\n",
       "      <td>2210.01</td>\n",
       "      <td>1284.0</td>\n",
       "      <td>400.58</td>\n",
       "      <td>782.0</td>\n",
       "      <td>391.14</td>\n",
       "      <td>494.0</td>\n",
       "      <td>2023-08-21</td>\n",
       "      <td>2560.0</td>\n",
       "    </tr>\n",
       "    <tr>\n",
       "      <th>2023-08-22</th>\n",
       "      <td>150</td>\n",
       "      <td>6054.53</td>\n",
       "      <td>1335.84</td>\n",
       "      <td>839.0</td>\n",
       "      <td>289.46</td>\n",
       "      <td>619.0</td>\n",
       "      <td>218.61</td>\n",
       "      <td>398.0</td>\n",
       "      <td>2023-08-22</td>\n",
       "      <td>1856.0</td>\n",
       "    </tr>\n",
       "    <tr>\n",
       "      <th>2023-08-23</th>\n",
       "      <td>130</td>\n",
       "      <td>4810.67</td>\n",
       "      <td>1315.81</td>\n",
       "      <td>841.0</td>\n",
       "      <td>275.86</td>\n",
       "      <td>537.0</td>\n",
       "      <td>90.21</td>\n",
       "      <td>133.0</td>\n",
       "      <td>2023-08-23</td>\n",
       "      <td>1511.0</td>\n",
       "    </tr>\n",
       "    <tr>\n",
       "      <th>2023-08-24</th>\n",
       "      <td>128</td>\n",
       "      <td>4889.20</td>\n",
       "      <td>1487.41</td>\n",
       "      <td>839.0</td>\n",
       "      <td>299.70</td>\n",
       "      <td>554.0</td>\n",
       "      <td>76.87</td>\n",
       "      <td>132.0</td>\n",
       "      <td>2023-08-24</td>\n",
       "      <td>1525.0</td>\n",
       "    </tr>\n",
       "  </tbody>\n",
       "</table>\n",
       "<p>785 rows × 10 columns</p>\n",
       "</div>"
      ],
      "text/plain": [
       "            orders  total_sales  facebook  fb_clicks  google  google_clicks  \\\n",
       "Day                                                                           \n",
       "2021-07-01      10       414.85    257.01      129.0    1.17           20.0   \n",
       "2021-07-02       6       229.95    250.30      150.0    0.84            7.0   \n",
       "2021-07-03      10       459.89    248.59      129.0    0.72            6.0   \n",
       "2021-07-04      17       508.36    258.05      119.0    0.07            5.0   \n",
       "2021-07-05      13       399.88    257.47      142.0    0.38           16.0   \n",
       "...            ...          ...       ...        ...     ...            ...   \n",
       "2023-08-20     294     13616.97   2148.53     1366.0  466.56          801.0   \n",
       "2023-08-21     356     15348.42   2210.01     1284.0  400.58          782.0   \n",
       "2023-08-22     150      6054.53   1335.84      839.0  289.46          619.0   \n",
       "2023-08-23     130      4810.67   1315.81      841.0  275.86          537.0   \n",
       "2023-08-24     128      4889.20   1487.41      839.0  299.70          554.0   \n",
       "\n",
       "            tiktok  tt_clicks        day  total_clicks  \n",
       "Day                                                     \n",
       "2021-07-01    0.00        0.0 2021-07-01         149.0  \n",
       "2021-07-02    0.00        0.0 2021-07-02         157.0  \n",
       "2021-07-03    0.00        0.0 2021-07-03         135.0  \n",
       "2021-07-04    0.00        0.0 2021-07-04         124.0  \n",
       "2021-07-05    0.00        0.0 2021-07-05         158.0  \n",
       "...            ...        ...        ...           ...  \n",
       "2023-08-20  368.86      644.0 2023-08-20        2811.0  \n",
       "2023-08-21  391.14      494.0 2023-08-21        2560.0  \n",
       "2023-08-22  218.61      398.0 2023-08-22        1856.0  \n",
       "2023-08-23   90.21      133.0 2023-08-23        1511.0  \n",
       "2023-08-24   76.87      132.0 2023-08-24        1525.0  \n",
       "\n",
       "[785 rows x 10 columns]"
      ]
     },
     "execution_count": 167,
     "metadata": {},
     "output_type": "execute_result"
    }
   ],
   "source": [
    "# Sum clicks for each channel\n",
    "df = df.eval('total_clicks = fb_clicks + tt_clicks + google_clicks')\n",
    "df"
   ]
  },
  {
   "cell_type": "markdown",
   "metadata": {},
   "source": [
    "# Split data"
   ]
  },
  {
   "cell_type": "code",
   "execution_count": 168,
   "metadata": {},
   "outputs": [],
   "source": [
    "n_splits = 5  # Number of splits for cross-validation\n",
    "tscv = TimeSeriesSplit(n_splits=n_splits)\n",
    "\n",
    "for train_index, test_index in tscv.split(df):\n",
    "    train_df = df.iloc[train_index]\n",
    "    test_df = df.iloc[test_index]\n",
    "\n",
    "y_train = train_df['total_clicks']\n",
    "X_train = train_df.drop(columns = ['total_sales', 'orders', 'total_clicks', 'fb_clicks', 'google_clicks', 'tt_clicks'])\n",
    "\n",
    "y_test = test_df['total_clicks']\n",
    "X_test = test_df.drop(columns = ['total_sales', 'orders', 'total_clicks', 'fb_clicks', 'google_clicks', 'tt_clicks'])"
   ]
  },
  {
   "cell_type": "markdown",
   "metadata": {},
   "source": [
    "# Custom Transformers"
   ]
  },
  {
   "cell_type": "code",
   "execution_count": 169,
   "metadata": {},
   "outputs": [],
   "source": [
    "class AddWeekendsTransformer(BaseEstimator, TransformerMixin):\n",
    "    def fit(self, X, y=None):\n",
    "        # This transformer doesn't need to learn any parameters during fitting,\n",
    "        # so we simply return self.\n",
    "        return self\n",
    "\n",
    "    def transform(self, X):\n",
    "        \"\"\"Creates a new column with row value = 1 if the day is a Friday or Saturday and 0 if not.\"\"\"\n",
    "        df = X.copy()  # Create a copy of the input DataFrame to avoid modifying it directly\n",
    "        weekday_values = df.index.weekday\n",
    "        df['fri_sat'] = ((weekday_values == 4) | (weekday_values == 5)).astype(int)\n",
    "        return df[['fri_sat']]"
   ]
  },
  {
   "cell_type": "code",
   "execution_count": 170,
   "metadata": {},
   "outputs": [],
   "source": [
    "class ReturnChannels(BaseEstimator, TransformerMixin):\n",
    "    def fit(self, X, y=None):\n",
    "        # This transformer doesn't need to learn any parameters during fitting,\n",
    "        # so we simply return self.\n",
    "        return self\n",
    "\n",
    "    def transform(self, X):\n",
    "        \"\"\"Creates a new column with row value = 1 if the day is a Friday or Saturday and 0 if not.\"\"\"\n",
    "        df = X.copy()  # Create a copy of the input DataFrame to avoid modifying it directly\n",
    "        return df[['facebook', 'google', 'tiktok']]"
   ]
  },
  {
   "cell_type": "markdown",
   "metadata": {},
   "source": [
    "# CT"
   ]
  },
  {
   "cell_type": "code",
   "execution_count": 171,
   "metadata": {},
   "outputs": [],
   "source": [
    "time_features = ColumnTransformer([\n",
    "     ('weekends_pipe', Pipeline([\n",
    "            ('add_weekends', AddWeekendsTransformer())\n",
    "     ]), ['day'])\n",
    "])\n",
    "\n",
    "channel_features = ColumnTransformer([\n",
    "    ('channel_pipe', Pipeline([\n",
    "        ('add_channels', ReturnChannels())\n",
    "        ]), ['facebook', 'google','tiktok'])\n",
    "])\n",
    "\n",
    "scaler = ColumnTransformer(\n",
    "    transformers=[\n",
    "        ('minmax', MinMaxScaler(), ['facebook','google','tiktok'])\n",
    "    ])"
   ]
  },
  {
   "cell_type": "markdown",
   "metadata": {},
   "source": [
    "# Optimization"
   ]
  },
  {
   "cell_type": "code",
   "execution_count": 172,
   "metadata": {},
   "outputs": [],
   "source": [
    "# 0: Weekend\n",
    "# 1: fb\n",
    "# 2: google\n",
    "# 3: tiktok\n",
    "\n",
    "google_bound = 0"
   ]
  },
  {
   "cell_type": "code",
   "execution_count": 173,
   "metadata": {},
   "outputs": [],
   "source": [
    "def linfunction(b, X):\n",
    "    return b[0] + np.dot(X, b[1:])\n",
    "\n",
    "def sumsquareerrors(b, X, y_true):\n",
    "    y_pred = linfunction(b, X)\n",
    "    return np.mean((y_true - y_pred)**2)"
   ]
  },
  {
   "cell_type": "code",
   "execution_count": 174,
   "metadata": {},
   "outputs": [],
   "source": [
    "b0 = np.ones(5)"
   ]
  },
  {
   "cell_type": "code",
   "execution_count": 175,
   "metadata": {},
   "outputs": [
    {
     "data": {
      "text/plain": [
       "(5,)"
      ]
     },
     "execution_count": 175,
     "metadata": {},
     "output_type": "execute_result"
    }
   ],
   "source": [
    "b0.shape"
   ]
  },
  {
   "cell_type": "code",
   "execution_count": 176,
   "metadata": {},
   "outputs": [],
   "source": [
    "X_train_scaled = pipe_df_minmax.drop(columns = ['spending_sum', 'total_clicks'])\n",
    "y_train_clicks = pipe_df_minmax['total_clicks']"
   ]
  },
  {
   "cell_type": "code",
   "execution_count": 218,
   "metadata": {},
   "outputs": [
    {
     "data": {
      "text/plain": [
       "day\n",
       "2021-07-01     149.0\n",
       "2021-07-02     157.0\n",
       "2021-07-03     135.0\n",
       "2021-07-04     124.0\n",
       "2021-07-05     158.0\n",
       "               ...  \n",
       "2023-04-12    1430.0\n",
       "2023-04-13    1337.0\n",
       "2023-04-14    1101.0\n",
       "2023-04-15    1017.0\n",
       "2023-04-16    1366.0\n",
       "Name: total_clicks, Length: 655, dtype: float64"
      ]
     },
     "execution_count": 218,
     "metadata": {},
     "output_type": "execute_result"
    }
   ],
   "source": [
    "pipe_df_minmax['total_clicks']"
   ]
  },
  {
   "cell_type": "code",
   "execution_count": 220,
   "metadata": {},
   "outputs": [
    {
     "data": {
      "text/html": [
       "<div>\n",
       "<style scoped>\n",
       "    .dataframe tbody tr th:only-of-type {\n",
       "        vertical-align: middle;\n",
       "    }\n",
       "\n",
       "    .dataframe tbody tr th {\n",
       "        vertical-align: top;\n",
       "    }\n",
       "\n",
       "    .dataframe thead th {\n",
       "        text-align: right;\n",
       "    }\n",
       "</style>\n",
       "<table border=\"1\" class=\"dataframe\">\n",
       "  <thead>\n",
       "    <tr style=\"text-align: right;\">\n",
       "      <th></th>\n",
       "      <th>0</th>\n",
       "    </tr>\n",
       "    <tr>\n",
       "      <th>day</th>\n",
       "      <th></th>\n",
       "    </tr>\n",
       "  </thead>\n",
       "  <tbody>\n",
       "    <tr>\n",
       "      <th>2021-07-01</th>\n",
       "      <td>259.686760</td>\n",
       "    </tr>\n",
       "    <tr>\n",
       "      <th>2021-07-02</th>\n",
       "      <td>255.929115</td>\n",
       "    </tr>\n",
       "    <tr>\n",
       "      <th>2021-07-03</th>\n",
       "      <td>254.971280</td>\n",
       "    </tr>\n",
       "    <tr>\n",
       "      <th>2021-07-04</th>\n",
       "      <td>260.261982</td>\n",
       "    </tr>\n",
       "    <tr>\n",
       "      <th>2021-07-05</th>\n",
       "      <td>259.939291</td>\n",
       "    </tr>\n",
       "    <tr>\n",
       "      <th>...</th>\n",
       "      <td>...</td>\n",
       "    </tr>\n",
       "    <tr>\n",
       "      <th>2023-04-12</th>\n",
       "      <td>1088.362461</td>\n",
       "    </tr>\n",
       "    <tr>\n",
       "      <th>2023-04-13</th>\n",
       "      <td>1085.978268</td>\n",
       "    </tr>\n",
       "    <tr>\n",
       "      <th>2023-04-14</th>\n",
       "      <td>979.838128</td>\n",
       "    </tr>\n",
       "    <tr>\n",
       "      <th>2023-04-15</th>\n",
       "      <td>931.771060</td>\n",
       "    </tr>\n",
       "    <tr>\n",
       "      <th>2023-04-16</th>\n",
       "      <td>1096.378584</td>\n",
       "    </tr>\n",
       "  </tbody>\n",
       "</table>\n",
       "<p>655 rows × 1 columns</p>\n",
       "</div>"
      ],
      "text/plain": [
       "                      0\n",
       "day                    \n",
       "2021-07-01   259.686760\n",
       "2021-07-02   255.929115\n",
       "2021-07-03   254.971280\n",
       "2021-07-04   260.261982\n",
       "2021-07-05   259.939291\n",
       "...                 ...\n",
       "2023-04-12  1088.362461\n",
       "2023-04-13  1085.978268\n",
       "2023-04-14   979.838128\n",
       "2023-04-15   931.771060\n",
       "2023-04-16  1096.378584\n",
       "\n",
       "[655 rows x 1 columns]"
      ]
     },
     "execution_count": 220,
     "metadata": {},
     "output_type": "execute_result"
    }
   ],
   "source": [
    "y_pred = pd.DataFrame(y_pred).set_index(pipe_df_minmax.index)"
   ]
  },
  {
   "cell_type": "code",
   "execution_count": 199,
   "metadata": {},
   "outputs": [
    {
     "data": {
      "text/plain": [
       "array([1., 1., 1., 1., 1.])"
      ]
     },
     "execution_count": 199,
     "metadata": {},
     "output_type": "execute_result"
    }
   ],
   "source": [
    "b0"
   ]
  },
  {
   "cell_type": "code",
   "execution_count": 177,
   "metadata": {},
   "outputs": [
    {
     "data": {
      "text/plain": [
       "(655, 4)"
      ]
     },
     "execution_count": 177,
     "metadata": {},
     "output_type": "execute_result"
    }
   ],
   "source": [
    "X_train_scaled.shape"
   ]
  },
  {
   "cell_type": "code",
   "execution_count": 178,
   "metadata": {},
   "outputs": [
    {
     "data": {
      "text/plain": [
       "0.543250559629288"
      ]
     },
     "execution_count": 178,
     "metadata": {},
     "output_type": "execute_result"
    }
   ],
   "source": [
    "np.mean((linfunction(b0, X_train_scaled[0:10]) - linfunction(b0, X_train_scaled[10:20]))**2)"
   ]
  },
  {
   "cell_type": "code",
   "execution_count": 179,
   "metadata": {},
   "outputs": [
    {
     "data": {
      "text/plain": [
       "(10, 4)"
      ]
     },
     "execution_count": 179,
     "metadata": {},
     "output_type": "execute_result"
    }
   ],
   "source": [
    "X_train_scaled[-10:].shape"
   ]
  },
  {
   "cell_type": "code",
   "execution_count": 180,
   "metadata": {},
   "outputs": [
    {
     "data": {
      "text/plain": [
       "array([3.35286364, 3.04556866, 2.26028628, 2.17831559, 2.10564614,\n",
       "       2.06837266, 2.02087126, 2.88031997, 2.80541909, 2.09719919])"
      ]
     },
     "execution_count": 180,
     "metadata": {},
     "output_type": "execute_result"
    }
   ],
   "source": [
    "np.dot(X_train_scaled[-10:], b0[1:]) + b0[0]"
   ]
  },
  {
   "cell_type": "code",
   "execution_count": 181,
   "metadata": {},
   "outputs": [
    {
     "data": {
      "text/html": [
       "<div>\n",
       "<style scoped>\n",
       "    .dataframe tbody tr th:only-of-type {\n",
       "        vertical-align: middle;\n",
       "    }\n",
       "\n",
       "    .dataframe tbody tr th {\n",
       "        vertical-align: top;\n",
       "    }\n",
       "\n",
       "    .dataframe thead th {\n",
       "        text-align: right;\n",
       "    }\n",
       "</style>\n",
       "<table border=\"1\" class=\"dataframe\">\n",
       "  <thead>\n",
       "    <tr style=\"text-align: right;\">\n",
       "      <th></th>\n",
       "      <th>weekend</th>\n",
       "      <th>facebook</th>\n",
       "      <th>google</th>\n",
       "      <th>tiktok</th>\n",
       "    </tr>\n",
       "    <tr>\n",
       "      <th>day</th>\n",
       "      <th></th>\n",
       "      <th></th>\n",
       "      <th></th>\n",
       "      <th></th>\n",
       "    </tr>\n",
       "  </thead>\n",
       "  <tbody>\n",
       "    <tr>\n",
       "      <th>2023-04-07</th>\n",
       "      <td>1.0</td>\n",
       "      <td>0.255499</td>\n",
       "      <td>0.776828</td>\n",
       "      <td>0.320537</td>\n",
       "    </tr>\n",
       "    <tr>\n",
       "      <th>2023-04-08</th>\n",
       "      <td>1.0</td>\n",
       "      <td>0.192035</td>\n",
       "      <td>0.558128</td>\n",
       "      <td>0.295406</td>\n",
       "    </tr>\n",
       "    <tr>\n",
       "      <th>2023-04-09</th>\n",
       "      <td>0.0</td>\n",
       "      <td>0.387251</td>\n",
       "      <td>0.623538</td>\n",
       "      <td>0.249497</td>\n",
       "    </tr>\n",
       "    <tr>\n",
       "      <th>2023-04-10</th>\n",
       "      <td>0.0</td>\n",
       "      <td>0.396681</td>\n",
       "      <td>0.532185</td>\n",
       "      <td>0.249450</td>\n",
       "    </tr>\n",
       "    <tr>\n",
       "      <th>2023-04-11</th>\n",
       "      <td>0.0</td>\n",
       "      <td>0.381564</td>\n",
       "      <td>0.474764</td>\n",
       "      <td>0.249319</td>\n",
       "    </tr>\n",
       "    <tr>\n",
       "      <th>2023-04-12</th>\n",
       "      <td>0.0</td>\n",
       "      <td>0.385817</td>\n",
       "      <td>0.433820</td>\n",
       "      <td>0.248736</td>\n",
       "    </tr>\n",
       "    <tr>\n",
       "      <th>2023-04-13</th>\n",
       "      <td>0.0</td>\n",
       "      <td>0.384440</td>\n",
       "      <td>0.387946</td>\n",
       "      <td>0.248486</td>\n",
       "    </tr>\n",
       "    <tr>\n",
       "      <th>2023-04-14</th>\n",
       "      <td>1.0</td>\n",
       "      <td>0.288527</td>\n",
       "      <td>0.334311</td>\n",
       "      <td>0.257482</td>\n",
       "    </tr>\n",
       "    <tr>\n",
       "      <th>2023-04-15</th>\n",
       "      <td>1.0</td>\n",
       "      <td>0.209924</td>\n",
       "      <td>0.310323</td>\n",
       "      <td>0.285172</td>\n",
       "    </tr>\n",
       "    <tr>\n",
       "      <th>2023-04-16</th>\n",
       "      <td>0.0</td>\n",
       "      <td>0.337688</td>\n",
       "      <td>0.474327</td>\n",
       "      <td>0.285184</td>\n",
       "    </tr>\n",
       "  </tbody>\n",
       "</table>\n",
       "</div>"
      ],
      "text/plain": [
       "            weekend  facebook    google    tiktok\n",
       "day                                              \n",
       "2023-04-07      1.0  0.255499  0.776828  0.320537\n",
       "2023-04-08      1.0  0.192035  0.558128  0.295406\n",
       "2023-04-09      0.0  0.387251  0.623538  0.249497\n",
       "2023-04-10      0.0  0.396681  0.532185  0.249450\n",
       "2023-04-11      0.0  0.381564  0.474764  0.249319\n",
       "2023-04-12      0.0  0.385817  0.433820  0.248736\n",
       "2023-04-13      0.0  0.384440  0.387946  0.248486\n",
       "2023-04-14      1.0  0.288527  0.334311  0.257482\n",
       "2023-04-15      1.0  0.209924  0.310323  0.285172\n",
       "2023-04-16      0.0  0.337688  0.474327  0.285184"
      ]
     },
     "execution_count": 181,
     "metadata": {},
     "output_type": "execute_result"
    }
   ],
   "source": [
    "X_train_scaled[-10:]"
   ]
  },
  {
   "cell_type": "code",
   "execution_count": 249,
   "metadata": {},
   "outputs": [],
   "source": [
    "google_bound = 5\n",
    "bounds = ((None, None), (None, None), (0, None), (google_bound, None), (0, None))"
   ]
  },
  {
   "cell_type": "code",
   "execution_count": 250,
   "metadata": {},
   "outputs": [],
   "source": [
    "from scipy.optimize import minimize\n",
    "\n",
    "res = minimize(sumsquareerrors, x0=b0, args=(X_train_scaled, y_train_clicks), bounds=bounds)"
   ]
  },
  {
   "cell_type": "code",
   "execution_count": 251,
   "metadata": {},
   "outputs": [
    {
     "data": {
      "text/plain": [
       "array([ 139.42158475,  -77.72024552, 1279.41081961,    5.        ,\n",
       "       1911.27351691])"
      ]
     },
     "execution_count": 251,
     "metadata": {},
     "output_type": "execute_result"
    }
   ],
   "source": [
    "res.x"
   ]
  },
  {
   "cell_type": "code",
   "execution_count": 286,
   "metadata": {},
   "outputs": [],
   "source": [
    "r2_list = []\n",
    "mse_list = []\n",
    "mae_list = []\n",
    "rmse_list = []\n",
    "\n",
    "for i in range(1,2000):\n",
    "    google_bound = i\n",
    "    bounds = ((None, None), (None, None), (0, None), (google_bound, None), (0, None))\n",
    "    res = minimize(sumsquareerrors, x0=b0, args=(X_train_scaled, y_train_clicks), bounds=bounds)\n",
    "    res.x\n",
    "    y_pred = linfunction(res.x, X_train_scaled)\n",
    "    y_pred = pd.DataFrame(y_pred).set_index(pipe_df_minmax.index)\n",
    "    y_pred = y_pred[0]\n",
    "    y_true = y_train_clicks\n",
    "    rss = ((y_pred - y_true)**2).sum()\n",
    "    tss = ((y_true - np.mean(y_true))**2).sum()\n",
    "    r2 = 1- (rss/tss)\n",
    "    mae = mean_absolute_error(y_true, y_pred)\n",
    "    rmse = mean_squared_error(y_true, y_pred, squared = False)\n",
    "    mse = mean_squared_error(y_true, y_pred, squared = True)\n",
    "    r2_list.append(r2)\n",
    "    mse_list.append(mse)\n",
    "    mae_list.append(mae)\n",
    "    rmse_list.append(rmse)"
   ]
  },
  {
   "cell_type": "code",
   "execution_count": 266,
   "metadata": {},
   "outputs": [
    {
     "data": {
      "text/plain": [
       "[0.8594373471780127,\n",
       " 0.8594119305862481,\n",
       " 0.8593864006852976,\n",
       " 0.8593607575153943,\n",
       " 0.8593350010277364,\n",
       " 0.8593091313043795,\n",
       " 0.8592831482553382,\n",
       " 0.8592570519319214,\n",
       " 0.8592308422792014,\n",
       " 0.8592045194014502]"
      ]
     },
     "execution_count": 266,
     "metadata": {},
     "output_type": "execute_result"
    }
   ],
   "source": [
    "r2_list"
   ]
  },
  {
   "cell_type": "code",
   "execution_count": 287,
   "metadata": {},
   "outputs": [
    {
     "data": {
      "text/plain": [
       "[<matplotlib.lines.Line2D at 0x177c98490>]"
      ]
     },
     "execution_count": 287,
     "metadata": {},
     "output_type": "execute_result"
    },
    {
     "data": {
      "image/png": "[encoded data removed]",
      "text/plain": [
       "<Figure size 640x480 with 1 Axes>"
      ]
     },
     "metadata": {},
     "output_type": "display_data"
    }
   ],
   "source": [
    "plt.plot(np.arange(1,2000), r2_list)"
   ]
  },
  {
   "cell_type": "code",
   "execution_count": 288,
   "metadata": {},
   "outputs": [
    {
     "data": {
      "text/plain": [
       "[<matplotlib.lines.Line2D at 0x177d3c190>]"
      ]
     },
     "execution_count": 288,
     "metadata": {},
     "output_type": "execute_result"
    },
    {
     "data": {
      "image/png": "[encoded data removed]",
      "text/plain": [
       "<Figure size 640x480 with 1 Axes>"
      ]
     },
     "metadata": {},
     "output_type": "display_data"
    }
   ],
   "source": [
    "plt.plot(np.arange(1,2000), rmse_list)"
   ]
  },
  {
   "cell_type": "code",
   "execution_count": 289,
   "metadata": {},
   "outputs": [
    {
     "data": {
      "text/plain": [
       "[<matplotlib.lines.Line2D at 0x177db1f30>]"
      ]
     },
     "execution_count": 289,
     "metadata": {},
     "output_type": "execute_result"
    },
    {
     "data": {
      "image/png": "[encoded data removed]",
      "text/plain": [
       "<Figure size 640x480 with 1 Axes>"
      ]
     },
     "metadata": {},
     "output_type": "display_data"
    }
   ],
   "source": [
    "plt.plot(np.arange(1,2000), mae_list)\n",
    "plt.plot(np.arange(1,2000), rmse_list)"
   ]
  },
  {
   "cell_type": "markdown",
   "metadata": {},
   "source": [
    "# Scores"
   ]
  },
  {
   "cell_type": "code",
   "execution_count": 252,
   "metadata": {},
   "outputs": [
    {
     "data": {
      "text/plain": [
       "'R-squared: 0.8593350010277364, MAE: 168.77196902939713, RMSE: 230.78210225207337, MSE: 53260.37871988645'"
      ]
     },
     "execution_count": 252,
     "metadata": {},
     "output_type": "execute_result"
    }
   ],
   "source": [
    "y_pred = linfunction(res.x, X_train_scaled)\n",
    "y_pred = pd.DataFrame(y_pred).set_index(pipe_df_minmax.index)\n",
    "y_pred = y_pred[0]\n",
    "\n",
    "y_true = y_train_clicks\n",
    "\n",
    "mae = mean_absolute_error(y_true, y_pred)\n",
    "rmse = mean_squared_error(y_true, y_pred, squared = False)\n",
    "mse = mean_squared_error(y_true, y_pred, squared = True)\n",
    "rss = ((y_pred - y_true)**2).sum()\n",
    "tss = ((y_true - np.mean(y_true))**2).sum()\n",
    "r2 = 1- (rss/tss)\n",
    "\n",
    "f\"R-squared: {r2}, MAE: {mae}, RMSE: {rmse}, MSE: {mse}\""
   ]
  },
  {
   "cell_type": "code",
   "execution_count": 197,
   "metadata": {},
   "outputs": [
    {
     "data": {
      "text/plain": [
       "intercept     115.874067\n",
       "weekend         0.000000\n",
       "facebook     1284.799218\n",
       "google          0.000000\n",
       "tiktok       1913.931497\n",
       "dtype: float64"
      ]
     },
     "execution_count": 197,
     "metadata": {},
     "output_type": "execute_result"
    }
   ],
   "source": [
    "features = ['intercept', 'weekend', 'facebook', 'google', 'tiktok']\n",
    "pd.Series(\n",
    "    res.x,\n",
    "    index=features\n",
    ")"
   ]
  },
  {
   "cell_type": "code",
   "execution_count": 189,
   "metadata": {},
   "outputs": [
    {
     "data": {
      "text/plain": [
       "count    655.000000\n",
       "mean       0.162953\n",
       "std        0.189648\n",
       "min        0.000000\n",
       "25%        0.005087\n",
       "50%        0.114405\n",
       "75%        0.288499\n",
       "max        1.000000\n",
       "Name: google, dtype: float64"
      ]
     },
     "execution_count": 189,
     "metadata": {},
     "output_type": "execute_result"
    }
   ],
   "source": [
    "X_train_scaled.google.describe()"
   ]
  },
  {
   "cell_type": "code",
   "execution_count": 188,
   "metadata": {},
   "outputs": [
    {
     "data": {
      "text/plain": [
       "count    655.000000\n",
       "mean      78.324779\n",
       "std       91.156360\n",
       "min        0.000000\n",
       "25%        2.445000\n",
       "50%       54.990000\n",
       "75%      138.670000\n",
       "max      480.660000\n",
       "Name: google, dtype: float64"
      ]
     },
     "execution_count": 188,
     "metadata": {},
     "output_type": "execute_result"
    }
   ],
   "source": [
    "train_df.google.describe()"
   ]
  },
  {
   "cell_type": "markdown",
   "metadata": {},
   "source": [
    "# Pipeline"
   ]
  },
  {
   "cell_type": "code",
   "execution_count": 27,
   "metadata": {},
   "outputs": [],
   "source": [
    "model = LinearRegression()\n",
    "\n",
    "time_preprocessing = Pipeline([\n",
    "    ('time_features', time_features)\n",
    "])\n",
    "\n",
    "channels = Pipeline([\n",
    "    ('channel_features', channel_features)\n",
    "])\n",
    "\n",
    "union1 = FeatureUnion([\n",
    "    ('time_preprocessing', time_preprocessing),\n",
    "    ('channels', channels)\n",
    "])\n",
    "\n",
    "union2 = FeatureUnion([\n",
    "    ('time_preprocessing', time_preprocessing),\n",
    "    ('scaler', scaler)\n",
    "])\n",
    "\n",
    "pipeline = Pipeline([\n",
    "    ('union1', union1),\n",
    "    ('model', model)\n",
    "])\n",
    "\n",
    "pipeline_minmax = Pipeline([\n",
    "    ('union2', union2),\n",
    "    ('model', model)\n",
    "])"
   ]
  },
  {
   "cell_type": "markdown",
   "metadata": {},
   "source": [
    "# Linear Regression - No scaling"
   ]
  },
  {
   "cell_type": "code",
   "execution_count": 9,
   "metadata": {},
   "outputs": [
    {
     "data": {
      "text/html": [
       "<style>#sk-container-id-1 {color: black;}#sk-container-id-1 pre{padding: 0;}#sk-container-id-1 div.sk-toggleable {background-color: white;}#sk-container-id-1 label.sk-toggleable__label {cursor: pointer;display: block;width: 100%;margin-bottom: 0;padding: 0.3em;box-sizing: border-box;text-align: center;}#sk-container-id-1 label.sk-toggleable__label-arrow:before {content: \"▸\";float: left;margin-right: 0.25em;color: #696969;}#sk-container-id-1 label.sk-toggleable__label-arrow:hover:before {color: black;}#sk-container-id-1 div.sk-estimator:hover label.sk-toggleable__label-arrow:before {color: black;}#sk-container-id-1 div.sk-toggleable__content {max-height: 0;max-width: 0;overflow: hidden;text-align: left;background-color: #f0f8ff;}#sk-container-id-1 div.sk-toggleable__content pre {margin: 0.2em;color: black;border-radius: 0.25em;background-color: #f0f8ff;}#sk-container-id-1 input.sk-toggleable__control:checked~div.sk-toggleable__content {max-height: 200px;max-width: 100%;overflow: auto;}#sk-container-id-1 input.sk-toggleable__control:checked~label.sk-toggleable__label-arrow:before {content: \"▾\";}#sk-container-id-1 div.sk-estimator input.sk-toggleable__control:checked~label.sk-toggleable__label {background-color: #d4ebff;}#sk-container-id-1 div.sk-label input.sk-toggleable__control:checked~label.sk-toggleable__label {background-color: #d4ebff;}#sk-container-id-1 input.sk-hidden--visually {border: 0;clip: rect(1px 1px 1px 1px);clip: rect(1px, 1px, 1px, 1px);height: 1px;margin: -1px;overflow: hidden;padding: 0;position: absolute;width: 1px;}#sk-container-id-1 div.sk-estimator {font-family: monospace;background-color: #f0f8ff;border: 1px dotted black;border-radius: 0.25em;box-sizing: border-box;margin-bottom: 0.5em;}#sk-container-id-1 div.sk-estimator:hover {background-color: #d4ebff;}#sk-container-id-1 div.sk-parallel-item::after {content: \"\";width: 100%;border-bottom: 1px solid gray;flex-grow: 1;}#sk-container-id-1 div.sk-label:hover label.sk-toggleable__label {background-color: #d4ebff;}#sk-container-id-1 div.sk-serial::before {content: \"\";position: absolute;border-left: 1px solid gray;box-sizing: border-box;top: 0;bottom: 0;left: 50%;z-index: 0;}#sk-container-id-1 div.sk-serial {display: flex;flex-direction: column;align-items: center;background-color: white;padding-right: 0.2em;padding-left: 0.2em;position: relative;}#sk-container-id-1 div.sk-item {position: relative;z-index: 1;}#sk-container-id-1 div.sk-parallel {display: flex;align-items: stretch;justify-content: center;background-color: white;position: relative;}#sk-container-id-1 div.sk-item::before, #sk-container-id-1 div.sk-parallel-item::before {content: \"\";position: absolute;border-left: 1px solid gray;box-sizing: border-box;top: 0;bottom: 0;left: 50%;z-index: -1;}#sk-container-id-1 div.sk-parallel-item {display: flex;flex-direction: column;z-index: 1;position: relative;background-color: white;}#sk-container-id-1 div.sk-parallel-item:first-child::after {align-self: flex-end;width: 50%;}#sk-container-id-1 div.sk-parallel-item:last-child::after {align-self: flex-start;width: 50%;}#sk-container-id-1 div.sk-parallel-item:only-child::after {width: 0;}#sk-container-id-1 div.sk-dashed-wrapped {border: 1px dashed gray;margin: 0 0.4em 0.5em 0.4em;box-sizing: border-box;padding-bottom: 0.4em;background-color: white;}#sk-container-id-1 div.sk-label label {font-family: monospace;font-weight: bold;display: inline-block;line-height: 1.2em;}#sk-container-id-1 div.sk-label-container {text-align: center;}#sk-container-id-1 div.sk-container {/* jupyter's `normalize.less` sets `[hidden] { display: none; }` but bootstrap.min.css set `[hidden] { display: none !important; }` so we also need the `!important` here to be able to override the default hidden behavior on the sphinx rendered scikit-learn.org. See: https://github.com/scikit-learn/scikit-learn/issues/21755 */display: inline-block !important;position: relative;}#sk-container-id-1 div.sk-text-repr-fallback {display: none;}</style><div id=\"sk-container-id-1\" class=\"sk-top-container\"><div class=\"sk-text-repr-fallback\"><pre>Pipeline(steps=[(&#x27;union1&#x27;,\n",
       "                 FeatureUnion(transformer_list=[(&#x27;time_preprocessing&#x27;,\n",
       "                                                 Pipeline(steps=[(&#x27;time_features&#x27;,\n",
       "                                                                  ColumnTransformer(transformers=[(&#x27;weekends_pipe&#x27;,\n",
       "                                                                                                   Pipeline(steps=[(&#x27;add_weekends&#x27;,\n",
       "                                                                                                                    AddWeekendsTransformer())]),\n",
       "                                                                                                   [&#x27;day&#x27;])]))])),\n",
       "                                                (&#x27;channels&#x27;,\n",
       "                                                 Pipeline(steps=[(&#x27;channel_features&#x27;,\n",
       "                                                                  ColumnTransformer(transformers=[(&#x27;channel_pipe&#x27;,\n",
       "                                                                                                   Pipeline(steps=[(&#x27;add_channels&#x27;,\n",
       "                                                                                                                    ReturnChannels())]),\n",
       "                                                                                                   [&#x27;facebook&#x27;,\n",
       "                                                                                                    &#x27;google&#x27;,\n",
       "                                                                                                    &#x27;tiktok&#x27;])]))]))])),\n",
       "                (&#x27;model&#x27;, LinearRegression())])</pre><b>In a Jupyter environment, please rerun this cell to show the HTML representation or trust the notebook. <br />On GitHub, the HTML representation is unable to render, please try loading this page with nbviewer.org.</b></div><div class=\"sk-container\" hidden><div class=\"sk-item sk-dashed-wrapped\"><div class=\"sk-label-container\"><div class=\"sk-label sk-toggleable\"><input class=\"sk-toggleable__control sk-hidden--visually\" id=\"sk-estimator-id-1\" type=\"checkbox\" ><label for=\"sk-estimator-id-1\" class=\"sk-toggleable__label sk-toggleable__label-arrow\">Pipeline</label><div class=\"sk-toggleable__content\"><pre>Pipeline(steps=[(&#x27;union1&#x27;,\n",
       "                 FeatureUnion(transformer_list=[(&#x27;time_preprocessing&#x27;,\n",
       "                                                 Pipeline(steps=[(&#x27;time_features&#x27;,\n",
       "                                                                  ColumnTransformer(transformers=[(&#x27;weekends_pipe&#x27;,\n",
       "                                                                                                   Pipeline(steps=[(&#x27;add_weekends&#x27;,\n",
       "                                                                                                                    AddWeekendsTransformer())]),\n",
       "                                                                                                   [&#x27;day&#x27;])]))])),\n",
       "                                                (&#x27;channels&#x27;,\n",
       "                                                 Pipeline(steps=[(&#x27;channel_features&#x27;,\n",
       "                                                                  ColumnTransformer(transformers=[(&#x27;channel_pipe&#x27;,\n",
       "                                                                                                   Pipeline(steps=[(&#x27;add_channels&#x27;,\n",
       "                                                                                                                    ReturnChannels())]),\n",
       "                                                                                                   [&#x27;facebook&#x27;,\n",
       "                                                                                                    &#x27;google&#x27;,\n",
       "                                                                                                    &#x27;tiktok&#x27;])]))]))])),\n",
       "                (&#x27;model&#x27;, LinearRegression())])</pre></div></div></div><div class=\"sk-serial\"><div class=\"sk-item sk-dashed-wrapped\"><div class=\"sk-label-container\"><div class=\"sk-label sk-toggleable\"><input class=\"sk-toggleable__control sk-hidden--visually\" id=\"sk-estimator-id-2\" type=\"checkbox\" ><label for=\"sk-estimator-id-2\" class=\"sk-toggleable__label sk-toggleable__label-arrow\">union1: FeatureUnion</label><div class=\"sk-toggleable__content\"><pre>FeatureUnion(transformer_list=[(&#x27;time_preprocessing&#x27;,\n",
       "                                Pipeline(steps=[(&#x27;time_features&#x27;,\n",
       "                                                 ColumnTransformer(transformers=[(&#x27;weekends_pipe&#x27;,\n",
       "                                                                                  Pipeline(steps=[(&#x27;add_weekends&#x27;,\n",
       "                                                                                                   AddWeekendsTransformer())]),\n",
       "                                                                                  [&#x27;day&#x27;])]))])),\n",
       "                               (&#x27;channels&#x27;,\n",
       "                                Pipeline(steps=[(&#x27;channel_features&#x27;,\n",
       "                                                 ColumnTransformer(transformers=[(&#x27;channel_pipe&#x27;,\n",
       "                                                                                  Pipeline(steps=[(&#x27;add_channels&#x27;,\n",
       "                                                                                                   ReturnChannels())]),\n",
       "                                                                                  [&#x27;facebook&#x27;,\n",
       "                                                                                   &#x27;google&#x27;,\n",
       "                                                                                   &#x27;tiktok&#x27;])]))]))])</pre></div></div></div><div class=\"sk-parallel\"><div class=\"sk-parallel-item\"><div class=\"sk-item\"><div class=\"sk-label-container\"><div class=\"sk-label sk-toggleable\"><label>time_preprocessing</label></div></div><div class=\"sk-serial\"><div class=\"sk-item\"><div class=\"sk-serial\"><div class=\"sk-item sk-dashed-wrapped\"><div class=\"sk-label-container\"><div class=\"sk-label sk-toggleable\"><input class=\"sk-toggleable__control sk-hidden--visually\" id=\"sk-estimator-id-3\" type=\"checkbox\" ><label for=\"sk-estimator-id-3\" class=\"sk-toggleable__label sk-toggleable__label-arrow\">time_features: ColumnTransformer</label><div class=\"sk-toggleable__content\"><pre>ColumnTransformer(transformers=[(&#x27;weekends_pipe&#x27;,\n",
       "                                 Pipeline(steps=[(&#x27;add_weekends&#x27;,\n",
       "                                                  AddWeekendsTransformer())]),\n",
       "                                 [&#x27;day&#x27;])])</pre></div></div></div><div class=\"sk-parallel\"><div class=\"sk-parallel-item\"><div class=\"sk-item\"><div class=\"sk-label-container\"><div class=\"sk-label sk-toggleable\"><input class=\"sk-toggleable__control sk-hidden--visually\" id=\"sk-estimator-id-4\" type=\"checkbox\" ><label for=\"sk-estimator-id-4\" class=\"sk-toggleable__label sk-toggleable__label-arrow\">weekends_pipe</label><div class=\"sk-toggleable__content\"><pre>[&#x27;day&#x27;]</pre></div></div></div><div class=\"sk-serial\"><div class=\"sk-item\"><div class=\"sk-serial\"><div class=\"sk-item\"><div class=\"sk-estimator sk-toggleable\"><input class=\"sk-toggleable__control sk-hidden--visually\" id=\"sk-estimator-id-5\" type=\"checkbox\" ><label for=\"sk-estimator-id-5\" class=\"sk-toggleable__label sk-toggleable__label-arrow\">AddWeekendsTransformer</label><div class=\"sk-toggleable__content\"><pre>AddWeekendsTransformer()</pre></div></div></div></div></div></div></div></div></div></div></div></div></div></div></div><div class=\"sk-parallel-item\"><div class=\"sk-item\"><div class=\"sk-label-container\"><div class=\"sk-label sk-toggleable\"><label>channels</label></div></div><div class=\"sk-serial\"><div class=\"sk-item\"><div class=\"sk-serial\"><div class=\"sk-item sk-dashed-wrapped\"><div class=\"sk-label-container\"><div class=\"sk-label sk-toggleable\"><input class=\"sk-toggleable__control sk-hidden--visually\" id=\"sk-estimator-id-6\" type=\"checkbox\" ><label for=\"sk-estimator-id-6\" class=\"sk-toggleable__label sk-toggleable__label-arrow\">channel_features: ColumnTransformer</label><div class=\"sk-toggleable__content\"><pre>ColumnTransformer(transformers=[(&#x27;channel_pipe&#x27;,\n",
       "                                 Pipeline(steps=[(&#x27;add_channels&#x27;,\n",
       "                                                  ReturnChannels())]),\n",
       "                                 [&#x27;facebook&#x27;, &#x27;google&#x27;, &#x27;tiktok&#x27;])])</pre></div></div></div><div class=\"sk-parallel\"><div class=\"sk-parallel-item\"><div class=\"sk-item\"><div class=\"sk-label-container\"><div class=\"sk-label sk-toggleable\"><input class=\"sk-toggleable__control sk-hidden--visually\" id=\"sk-estimator-id-7\" type=\"checkbox\" ><label for=\"sk-estimator-id-7\" class=\"sk-toggleable__label sk-toggleable__label-arrow\">channel_pipe</label><div class=\"sk-toggleable__content\"><pre>[&#x27;facebook&#x27;, &#x27;google&#x27;, &#x27;tiktok&#x27;]</pre></div></div></div><div class=\"sk-serial\"><div class=\"sk-item\"><div class=\"sk-serial\"><div class=\"sk-item\"><div class=\"sk-estimator sk-toggleable\"><input class=\"sk-toggleable__control sk-hidden--visually\" id=\"sk-estimator-id-8\" type=\"checkbox\" ><label for=\"sk-estimator-id-8\" class=\"sk-toggleable__label sk-toggleable__label-arrow\">ReturnChannels</label><div class=\"sk-toggleable__content\"><pre>ReturnChannels()</pre></div></div></div></div></div></div></div></div></div></div></div></div></div></div></div></div></div><div class=\"sk-item\"><div class=\"sk-estimator sk-toggleable\"><input class=\"sk-toggleable__control sk-hidden--visually\" id=\"sk-estimator-id-9\" type=\"checkbox\" ><label for=\"sk-estimator-id-9\" class=\"sk-toggleable__label sk-toggleable__label-arrow\">LinearRegression</label><div class=\"sk-toggleable__content\"><pre>LinearRegression()</pre></div></div></div></div></div></div></div>"
      ],
      "text/plain": [
       "Pipeline(steps=[('union1',\n",
       "                 FeatureUnion(transformer_list=[('time_preprocessing',\n",
       "                                                 Pipeline(steps=[('time_features',\n",
       "                                                                  ColumnTransformer(transformers=[('weekends_pipe',\n",
       "                                                                                                   Pipeline(steps=[('add_weekends',\n",
       "                                                                                                                    AddWeekendsTransformer())]),\n",
       "                                                                                                   ['day'])]))])),\n",
       "                                                ('channels',\n",
       "                                                 Pipeline(steps=[('channel_features',\n",
       "                                                                  ColumnTransformer(transformers=[('channel_pipe',\n",
       "                                                                                                   Pipeline(steps=[('add_channels',\n",
       "                                                                                                                    ReturnChannels())]),\n",
       "                                                                                                   ['facebook',\n",
       "                                                                                                    'google',\n",
       "                                                                                                    'tiktok'])]))]))])),\n",
       "                ('model', LinearRegression())])"
      ]
     },
     "execution_count": 9,
     "metadata": {},
     "output_type": "execute_result"
    }
   ],
   "source": [
    "pipeline.fit(X_train, y_train)"
   ]
  },
  {
   "cell_type": "markdown",
   "metadata": {},
   "source": [
    "# Intercept + Coefficients"
   ]
  },
  {
   "cell_type": "code",
   "execution_count": 10,
   "metadata": {},
   "outputs": [
    {
     "data": {
      "text/plain": [
       "144.6378477173514"
      ]
     },
     "execution_count": 10,
     "metadata": {},
     "output_type": "execute_result"
    }
   ],
   "source": [
    "pipeline[-1].intercept_"
   ]
  },
  {
   "cell_type": "code",
   "execution_count": 11,
   "metadata": {},
   "outputs": [
    {
     "data": {
      "text/plain": [
       "weekend    -84.802133\n",
       "facebook     0.573037\n",
       "google      -0.463640\n",
       "tiktok       2.401787\n",
       "dtype: float64"
      ]
     },
     "execution_count": 11,
     "metadata": {},
     "output_type": "execute_result"
    }
   ],
   "source": [
    "features = ['weekend', 'facebook', 'google', 'tiktok']\n",
    "pd.Series(\n",
    "    pipeline[-1].coef_,\n",
    "    index=features\n",
    ")"
   ]
  },
  {
   "cell_type": "markdown",
   "metadata": {},
   "source": [
    "## Pipeline Output"
   ]
  },
  {
   "cell_type": "code",
   "execution_count": 12,
   "metadata": {},
   "outputs": [
    {
     "data": {
      "text/html": [
       "<div>\n",
       "<style scoped>\n",
       "    .dataframe tbody tr th:only-of-type {\n",
       "        vertical-align: middle;\n",
       "    }\n",
       "\n",
       "    .dataframe tbody tr th {\n",
       "        vertical-align: top;\n",
       "    }\n",
       "\n",
       "    .dataframe thead th {\n",
       "        text-align: right;\n",
       "    }\n",
       "</style>\n",
       "<table border=\"1\" class=\"dataframe\">\n",
       "  <thead>\n",
       "    <tr style=\"text-align: right;\">\n",
       "      <th></th>\n",
       "      <th>weekend</th>\n",
       "      <th>facebook</th>\n",
       "      <th>google</th>\n",
       "      <th>tiktok</th>\n",
       "      <th>spending_sum</th>\n",
       "    </tr>\n",
       "    <tr>\n",
       "      <th>day</th>\n",
       "      <th></th>\n",
       "      <th></th>\n",
       "      <th></th>\n",
       "      <th></th>\n",
       "      <th></th>\n",
       "    </tr>\n",
       "  </thead>\n",
       "  <tbody>\n",
       "    <tr>\n",
       "      <th>2021-07-01</th>\n",
       "      <td>0.0</td>\n",
       "      <td>257.01</td>\n",
       "      <td>1.17</td>\n",
       "      <td>0.00</td>\n",
       "      <td>258.18</td>\n",
       "    </tr>\n",
       "    <tr>\n",
       "      <th>2021-07-02</th>\n",
       "      <td>1.0</td>\n",
       "      <td>250.30</td>\n",
       "      <td>0.84</td>\n",
       "      <td>0.00</td>\n",
       "      <td>251.14</td>\n",
       "    </tr>\n",
       "    <tr>\n",
       "      <th>2021-07-03</th>\n",
       "      <td>1.0</td>\n",
       "      <td>248.59</td>\n",
       "      <td>0.72</td>\n",
       "      <td>0.00</td>\n",
       "      <td>249.31</td>\n",
       "    </tr>\n",
       "    <tr>\n",
       "      <th>2021-07-04</th>\n",
       "      <td>0.0</td>\n",
       "      <td>258.05</td>\n",
       "      <td>0.07</td>\n",
       "      <td>0.00</td>\n",
       "      <td>258.12</td>\n",
       "    </tr>\n",
       "    <tr>\n",
       "      <th>2021-07-05</th>\n",
       "      <td>0.0</td>\n",
       "      <td>257.47</td>\n",
       "      <td>0.38</td>\n",
       "      <td>0.00</td>\n",
       "      <td>257.85</td>\n",
       "    </tr>\n",
       "    <tr>\n",
       "      <th>...</th>\n",
       "      <td>...</td>\n",
       "      <td>...</td>\n",
       "      <td>...</td>\n",
       "      <td>...</td>\n",
       "      <td>...</td>\n",
       "    </tr>\n",
       "    <tr>\n",
       "      <th>2023-04-12</th>\n",
       "      <td>0.0</td>\n",
       "      <td>885.33</td>\n",
       "      <td>208.52</td>\n",
       "      <td>209.03</td>\n",
       "      <td>1302.88</td>\n",
       "    </tr>\n",
       "    <tr>\n",
       "      <th>2023-04-13</th>\n",
       "      <td>0.0</td>\n",
       "      <td>882.17</td>\n",
       "      <td>186.47</td>\n",
       "      <td>208.82</td>\n",
       "      <td>1277.46</td>\n",
       "    </tr>\n",
       "    <tr>\n",
       "      <th>2023-04-14</th>\n",
       "      <td>1.0</td>\n",
       "      <td>662.08</td>\n",
       "      <td>160.69</td>\n",
       "      <td>216.38</td>\n",
       "      <td>1039.15</td>\n",
       "    </tr>\n",
       "    <tr>\n",
       "      <th>2023-04-15</th>\n",
       "      <td>1.0</td>\n",
       "      <td>481.71</td>\n",
       "      <td>149.16</td>\n",
       "      <td>239.65</td>\n",
       "      <td>870.52</td>\n",
       "    </tr>\n",
       "    <tr>\n",
       "      <th>2023-04-16</th>\n",
       "      <td>0.0</td>\n",
       "      <td>774.89</td>\n",
       "      <td>227.99</td>\n",
       "      <td>239.66</td>\n",
       "      <td>1242.54</td>\n",
       "    </tr>\n",
       "  </tbody>\n",
       "</table>\n",
       "<p>655 rows × 5 columns</p>\n",
       "</div>"
      ],
      "text/plain": [
       "            weekend  facebook  google  tiktok  spending_sum\n",
       "day                                                        \n",
       "2021-07-01      0.0    257.01    1.17    0.00        258.18\n",
       "2021-07-02      1.0    250.30    0.84    0.00        251.14\n",
       "2021-07-03      1.0    248.59    0.72    0.00        249.31\n",
       "2021-07-04      0.0    258.05    0.07    0.00        258.12\n",
       "2021-07-05      0.0    257.47    0.38    0.00        257.85\n",
       "...             ...       ...     ...     ...           ...\n",
       "2023-04-12      0.0    885.33  208.52  209.03       1302.88\n",
       "2023-04-13      0.0    882.17  186.47  208.82       1277.46\n",
       "2023-04-14      1.0    662.08  160.69  216.38       1039.15\n",
       "2023-04-15      1.0    481.71  149.16  239.65        870.52\n",
       "2023-04-16      0.0    774.89  227.99  239.66       1242.54\n",
       "\n",
       "[655 rows x 5 columns]"
      ]
     },
     "execution_count": 12,
     "metadata": {},
     "output_type": "execute_result"
    }
   ],
   "source": [
    "X_pipe = pd.DataFrame(pipeline[0].transform(X_train))\n",
    "X_pipe.columns = ['weekend', 'facebook', 'google', 'tiktok']\n",
    "X_pipe['spending_sum'] = X_pipe['facebook'] + X_pipe['google'] + X_pipe['tiktok']\n",
    "X_pipe['day'] = train_df.index\n",
    "X_pipe.set_index('day', inplace=True)\n",
    "X_pipe"
   ]
  },
  {
   "cell_type": "code",
   "execution_count": 13,
   "metadata": {},
   "outputs": [
    {
     "data": {
      "text/html": [
       "<div>\n",
       "<style scoped>\n",
       "    .dataframe tbody tr th:only-of-type {\n",
       "        vertical-align: middle;\n",
       "    }\n",
       "\n",
       "    .dataframe tbody tr th {\n",
       "        vertical-align: top;\n",
       "    }\n",
       "\n",
       "    .dataframe thead th {\n",
       "        text-align: right;\n",
       "    }\n",
       "</style>\n",
       "<table border=\"1\" class=\"dataframe\">\n",
       "  <thead>\n",
       "    <tr style=\"text-align: right;\">\n",
       "      <th></th>\n",
       "      <th>weekend</th>\n",
       "      <th>facebook</th>\n",
       "      <th>google</th>\n",
       "      <th>tiktok</th>\n",
       "      <th>spending_sum</th>\n",
       "      <th>total_clicks</th>\n",
       "    </tr>\n",
       "    <tr>\n",
       "      <th>day</th>\n",
       "      <th></th>\n",
       "      <th></th>\n",
       "      <th></th>\n",
       "      <th></th>\n",
       "      <th></th>\n",
       "      <th></th>\n",
       "    </tr>\n",
       "  </thead>\n",
       "  <tbody>\n",
       "    <tr>\n",
       "      <th>2021-07-01</th>\n",
       "      <td>0.0</td>\n",
       "      <td>257.01</td>\n",
       "      <td>1.17</td>\n",
       "      <td>0.00</td>\n",
       "      <td>258.18</td>\n",
       "      <td>149.0</td>\n",
       "    </tr>\n",
       "    <tr>\n",
       "      <th>2021-07-02</th>\n",
       "      <td>1.0</td>\n",
       "      <td>250.30</td>\n",
       "      <td>0.84</td>\n",
       "      <td>0.00</td>\n",
       "      <td>251.14</td>\n",
       "      <td>157.0</td>\n",
       "    </tr>\n",
       "    <tr>\n",
       "      <th>2021-07-03</th>\n",
       "      <td>1.0</td>\n",
       "      <td>248.59</td>\n",
       "      <td>0.72</td>\n",
       "      <td>0.00</td>\n",
       "      <td>249.31</td>\n",
       "      <td>135.0</td>\n",
       "    </tr>\n",
       "    <tr>\n",
       "      <th>2021-07-04</th>\n",
       "      <td>0.0</td>\n",
       "      <td>258.05</td>\n",
       "      <td>0.07</td>\n",
       "      <td>0.00</td>\n",
       "      <td>258.12</td>\n",
       "      <td>124.0</td>\n",
       "    </tr>\n",
       "    <tr>\n",
       "      <th>2021-07-05</th>\n",
       "      <td>0.0</td>\n",
       "      <td>257.47</td>\n",
       "      <td>0.38</td>\n",
       "      <td>0.00</td>\n",
       "      <td>257.85</td>\n",
       "      <td>158.0</td>\n",
       "    </tr>\n",
       "    <tr>\n",
       "      <th>...</th>\n",
       "      <td>...</td>\n",
       "      <td>...</td>\n",
       "      <td>...</td>\n",
       "      <td>...</td>\n",
       "      <td>...</td>\n",
       "      <td>...</td>\n",
       "    </tr>\n",
       "    <tr>\n",
       "      <th>2023-04-12</th>\n",
       "      <td>0.0</td>\n",
       "      <td>885.33</td>\n",
       "      <td>208.52</td>\n",
       "      <td>209.03</td>\n",
       "      <td>1302.88</td>\n",
       "      <td>1430.0</td>\n",
       "    </tr>\n",
       "    <tr>\n",
       "      <th>2023-04-13</th>\n",
       "      <td>0.0</td>\n",
       "      <td>882.17</td>\n",
       "      <td>186.47</td>\n",
       "      <td>208.82</td>\n",
       "      <td>1277.46</td>\n",
       "      <td>1337.0</td>\n",
       "    </tr>\n",
       "    <tr>\n",
       "      <th>2023-04-14</th>\n",
       "      <td>1.0</td>\n",
       "      <td>662.08</td>\n",
       "      <td>160.69</td>\n",
       "      <td>216.38</td>\n",
       "      <td>1039.15</td>\n",
       "      <td>1101.0</td>\n",
       "    </tr>\n",
       "    <tr>\n",
       "      <th>2023-04-15</th>\n",
       "      <td>1.0</td>\n",
       "      <td>481.71</td>\n",
       "      <td>149.16</td>\n",
       "      <td>239.65</td>\n",
       "      <td>870.52</td>\n",
       "      <td>1017.0</td>\n",
       "    </tr>\n",
       "    <tr>\n",
       "      <th>2023-04-16</th>\n",
       "      <td>0.0</td>\n",
       "      <td>774.89</td>\n",
       "      <td>227.99</td>\n",
       "      <td>239.66</td>\n",
       "      <td>1242.54</td>\n",
       "      <td>1366.0</td>\n",
       "    </tr>\n",
       "  </tbody>\n",
       "</table>\n",
       "<p>655 rows × 6 columns</p>\n",
       "</div>"
      ],
      "text/plain": [
       "            weekend  facebook  google  tiktok  spending_sum  total_clicks\n",
       "day                                                                      \n",
       "2021-07-01      0.0    257.01    1.17    0.00        258.18         149.0\n",
       "2021-07-02      1.0    250.30    0.84    0.00        251.14         157.0\n",
       "2021-07-03      1.0    248.59    0.72    0.00        249.31         135.0\n",
       "2021-07-04      0.0    258.05    0.07    0.00        258.12         124.0\n",
       "2021-07-05      0.0    257.47    0.38    0.00        257.85         158.0\n",
       "...             ...       ...     ...     ...           ...           ...\n",
       "2023-04-12      0.0    885.33  208.52  209.03       1302.88        1430.0\n",
       "2023-04-13      0.0    882.17  186.47  208.82       1277.46        1337.0\n",
       "2023-04-14      1.0    662.08  160.69  216.38       1039.15        1101.0\n",
       "2023-04-15      1.0    481.71  149.16  239.65        870.52        1017.0\n",
       "2023-04-16      0.0    774.89  227.99  239.66       1242.54        1366.0\n",
       "\n",
       "[655 rows x 6 columns]"
      ]
     },
     "execution_count": 13,
     "metadata": {},
     "output_type": "execute_result"
    }
   ],
   "source": [
    "pipe_df = X_pipe.copy()\n",
    "pipe_df['total_clicks'] = train_df['total_clicks']\n",
    "pipe_df"
   ]
  },
  {
   "cell_type": "markdown",
   "metadata": {},
   "source": [
    "# Scores"
   ]
  },
  {
   "cell_type": "code",
   "execution_count": 14,
   "metadata": {},
   "outputs": [
    {
     "data": {
      "text/plain": [
       "'R-squared: 0.5688070039485994, MAE: 168.29542308810872, RMSE: 228.35694750702535, MSE: 52146.89547472633'"
      ]
     },
     "execution_count": 14,
     "metadata": {},
     "output_type": "execute_result"
    }
   ],
   "source": [
    "y_pred = pipeline.predict(X_train)\n",
    "y_true = y_train\n",
    "\n",
    "rmse = mean_squared_error(y_true, y_pred, squared = False)\n",
    "mse = mean_squared_error(y_true, y_pred, squared = True)\n",
    "mae = mean_absolute_error(y_true, y_pred)\n",
    "r2 = pipeline.score(X_test, y_test)\n",
    "\n",
    "f\"R-squared: {r2}, MAE: {mae}, RMSE: {rmse}, MSE: {mse}\""
   ]
  },
  {
   "cell_type": "code",
   "execution_count": 15,
   "metadata": {},
   "outputs": [
    {
     "data": {
      "text/plain": [
       "<Axes: xlabel='spending_sum', ylabel='total_clicks'>"
      ]
     },
     "execution_count": 15,
     "metadata": {},
     "output_type": "execute_result"
    },
    {
     "data": {
      "image/png": "[encoded data removed]",
      "text/plain": [
       "<Figure size 640x480 with 1 Axes>"
      ]
     },
     "metadata": {},
     "output_type": "display_data"
    }
   ],
   "source": [
    "sns.scatterplot(data = pipe_df, x = 'spending_sum', y = 'total_clicks')"
   ]
  },
  {
   "cell_type": "markdown",
   "metadata": {},
   "source": [
    "# OLS"
   ]
  },
  {
   "cell_type": "code",
   "execution_count": 16,
   "metadata": {},
   "outputs": [
    {
     "data": {
      "text/html": [
       "<table class=\"simpletable\">\n",
       "<caption>OLS Regression Results</caption>\n",
       "<tr>\n",
       "  <th>Dep. Variable:</th>      <td>total_clicks</td>   <th>  R-squared:         </th> <td>   0.862</td> \n",
       "</tr>\n",
       "<tr>\n",
       "  <th>Model:</th>                   <td>OLS</td>       <th>  Adj. R-squared:    </th> <td>   0.861</td> \n",
       "</tr>\n",
       "<tr>\n",
       "  <th>Method:</th>             <td>Least Squares</td>  <th>  F-statistic:       </th> <td>   1017.</td> \n",
       "</tr>\n",
       "<tr>\n",
       "  <th>Date:</th>             <td>Wed, 06 Sep 2023</td> <th>  Prob (F-statistic):</th> <td>4.24e-278</td>\n",
       "</tr>\n",
       "<tr>\n",
       "  <th>Time:</th>                 <td>14:18:54</td>     <th>  Log-Likelihood:    </th> <td> -4486.7</td> \n",
       "</tr>\n",
       "<tr>\n",
       "  <th>No. Observations:</th>      <td>   655</td>      <th>  AIC:               </th> <td>   8983.</td> \n",
       "</tr>\n",
       "<tr>\n",
       "  <th>Df Residuals:</th>          <td>   650</td>      <th>  BIC:               </th> <td>   9006.</td> \n",
       "</tr>\n",
       "<tr>\n",
       "  <th>Df Model:</th>              <td>     4</td>      <th>                     </th>     <td> </td>    \n",
       "</tr>\n",
       "<tr>\n",
       "  <th>Covariance Type:</th>      <td>nonrobust</td>    <th>                     </th>     <td> </td>    \n",
       "</tr>\n",
       "</table>\n",
       "<table class=\"simpletable\">\n",
       "<tr>\n",
       "      <td></td>         <th>coef</th>     <th>std err</th>      <th>t</th>      <th>P>|t|</th>  <th>[0.025</th>    <th>0.975]</th>  \n",
       "</tr>\n",
       "<tr>\n",
       "  <th>Intercept</th> <td>  144.6378</td> <td>   17.313</td> <td>    8.354</td> <td> 0.000</td> <td>  110.641</td> <td>  178.635</td>\n",
       "</tr>\n",
       "<tr>\n",
       "  <th>weekend</th>   <td>  -84.8021</td> <td>   19.897</td> <td>   -4.262</td> <td> 0.000</td> <td> -123.873</td> <td>  -45.731</td>\n",
       "</tr>\n",
       "<tr>\n",
       "  <th>facebook</th>  <td>    0.5730</td> <td>    0.023</td> <td>   24.502</td> <td> 0.000</td> <td>    0.527</td> <td>    0.619</td>\n",
       "</tr>\n",
       "<tr>\n",
       "  <th>google</th>    <td>   -0.4636</td> <td>    0.127</td> <td>   -3.644</td> <td> 0.000</td> <td>   -0.713</td> <td>   -0.214</td>\n",
       "</tr>\n",
       "<tr>\n",
       "  <th>tiktok</th>    <td>    2.4018</td> <td>    0.064</td> <td>   37.762</td> <td> 0.000</td> <td>    2.277</td> <td>    2.527</td>\n",
       "</tr>\n",
       "</table>\n",
       "<table class=\"simpletable\">\n",
       "<tr>\n",
       "  <th>Omnibus:</th>       <td>61.416</td> <th>  Durbin-Watson:     </th> <td>   0.395</td>\n",
       "</tr>\n",
       "<tr>\n",
       "  <th>Prob(Omnibus):</th> <td> 0.000</td> <th>  Jarque-Bera (JB):  </th> <td> 230.175</td>\n",
       "</tr>\n",
       "<tr>\n",
       "  <th>Skew:</th>          <td> 0.353</td> <th>  Prob(JB):          </th> <td>1.04e-50</td>\n",
       "</tr>\n",
       "<tr>\n",
       "  <th>Kurtosis:</th>      <td> 5.817</td> <th>  Cond. No.          </th> <td>1.92e+03</td>\n",
       "</tr>\n",
       "</table><br/><br/>Notes:<br/>[1] Standard Errors assume that the covariance matrix of the errors is correctly specified.<br/>[2] The condition number is large, 1.92e+03. This might indicate that there are<br/>strong multicollinearity or other numerical problems."
      ],
      "text/latex": [
       "\\begin{center}\n",
       "\\begin{tabular}{lclc}\n",
       "\\toprule\n",
       "\\textbf{Dep. Variable:}    &  total\\_clicks   & \\textbf{  R-squared:         } &     0.862   \\\\\n",
       "\\textbf{Model:}            &       OLS        & \\textbf{  Adj. R-squared:    } &     0.861   \\\\\n",
       "\\textbf{Method:}           &  Least Squares   & \\textbf{  F-statistic:       } &     1017.   \\\\\n",
       "\\textbf{Date:}             & Wed, 06 Sep 2023 & \\textbf{  Prob (F-statistic):} & 4.24e-278   \\\\\n",
       "\\textbf{Time:}             &     14:18:54     & \\textbf{  Log-Likelihood:    } &   -4486.7   \\\\\n",
       "\\textbf{No. Observations:} &         655      & \\textbf{  AIC:               } &     8983.   \\\\\n",
       "\\textbf{Df Residuals:}     &         650      & \\textbf{  BIC:               } &     9006.   \\\\\n",
       "\\textbf{Df Model:}         &           4      & \\textbf{                     } &             \\\\\n",
       "\\textbf{Covariance Type:}  &    nonrobust     & \\textbf{                     } &             \\\\\n",
       "\\bottomrule\n",
       "\\end{tabular}\n",
       "\\begin{tabular}{lcccccc}\n",
       "                   & \\textbf{coef} & \\textbf{std err} & \\textbf{t} & \\textbf{P$> |$t$|$} & \\textbf{[0.025} & \\textbf{0.975]}  \\\\\n",
       "\\midrule\n",
       "\\textbf{Intercept} &     144.6378  &       17.313     &     8.354  &         0.000        &      110.641    &      178.635     \\\\\n",
       "\\textbf{weekend}   &     -84.8021  &       19.897     &    -4.262  &         0.000        &     -123.873    &      -45.731     \\\\\n",
       "\\textbf{facebook}  &       0.5730  &        0.023     &    24.502  &         0.000        &        0.527    &        0.619     \\\\\n",
       "\\textbf{google}    &      -0.4636  &        0.127     &    -3.644  &         0.000        &       -0.713    &       -0.214     \\\\\n",
       "\\textbf{tiktok}    &       2.4018  &        0.064     &    37.762  &         0.000        &        2.277    &        2.527     \\\\\n",
       "\\bottomrule\n",
       "\\end{tabular}\n",
       "\\begin{tabular}{lclc}\n",
       "\\textbf{Omnibus:}       & 61.416 & \\textbf{  Durbin-Watson:     } &    0.395  \\\\\n",
       "\\textbf{Prob(Omnibus):} &  0.000 & \\textbf{  Jarque-Bera (JB):  } &  230.175  \\\\\n",
       "\\textbf{Skew:}          &  0.353 & \\textbf{  Prob(JB):          } & 1.04e-50  \\\\\n",
       "\\textbf{Kurtosis:}      &  5.817 & \\textbf{  Cond. No.          } & 1.92e+03  \\\\\n",
       "\\bottomrule\n",
       "\\end{tabular}\n",
       "%\\caption{OLS Regression Results}\n",
       "\\end{center}\n",
       "\n",
       "Notes: \\newline\n",
       " [1] Standard Errors assume that the covariance matrix of the errors is correctly specified. \\newline\n",
       " [2] The condition number is large, 1.92e+03. This might indicate that there are \\newline\n",
       " strong multicollinearity or other numerical problems."
      ],
      "text/plain": [
       "<class 'statsmodels.iolib.summary.Summary'>\n",
       "\"\"\"\n",
       "                            OLS Regression Results                            \n",
       "==============================================================================\n",
       "Dep. Variable:           total_clicks   R-squared:                       0.862\n",
       "Model:                            OLS   Adj. R-squared:                  0.861\n",
       "Method:                 Least Squares   F-statistic:                     1017.\n",
       "Date:                Wed, 06 Sep 2023   Prob (F-statistic):          4.24e-278\n",
       "Time:                        14:18:54   Log-Likelihood:                -4486.7\n",
       "No. Observations:                 655   AIC:                             8983.\n",
       "Df Residuals:                     650   BIC:                             9006.\n",
       "Df Model:                           4                                         \n",
       "Covariance Type:            nonrobust                                         \n",
       "==============================================================================\n",
       "                 coef    std err          t      P>|t|      [0.025      0.975]\n",
       "------------------------------------------------------------------------------\n",
       "Intercept    144.6378     17.313      8.354      0.000     110.641     178.635\n",
       "weekend      -84.8021     19.897     -4.262      0.000    -123.873     -45.731\n",
       "facebook       0.5730      0.023     24.502      0.000       0.527       0.619\n",
       "google        -0.4636      0.127     -3.644      0.000      -0.713      -0.214\n",
       "tiktok         2.4018      0.064     37.762      0.000       2.277       2.527\n",
       "==============================================================================\n",
       "Omnibus:                       61.416   Durbin-Watson:                   0.395\n",
       "Prob(Omnibus):                  0.000   Jarque-Bera (JB):              230.175\n",
       "Skew:                           0.353   Prob(JB):                     1.04e-50\n",
       "Kurtosis:                       5.817   Cond. No.                     1.92e+03\n",
       "==============================================================================\n",
       "\n",
       "Notes:\n",
       "[1] Standard Errors assume that the covariance matrix of the errors is correctly specified.\n",
       "[2] The condition number is large, 1.92e+03. This might indicate that there are\n",
       "strong multicollinearity or other numerical problems.\n",
       "\"\"\""
      ]
     },
     "execution_count": 16,
     "metadata": {},
     "output_type": "execute_result"
    }
   ],
   "source": [
    "model = smf.ols(formula='total_clicks ~ weekend+facebook+google+tiktok', data=pipe_df).fit()\n",
    "model.summary()"
   ]
  },
  {
   "cell_type": "code",
   "execution_count": 17,
   "metadata": {},
   "outputs": [
    {
     "data": {
      "text/plain": [
       "weekend      2.326111e-05\n",
       "facebook     2.077798e-94\n",
       "google       2.901377e-04\n",
       "tiktok      4.747323e-166\n",
       "dtype: float64"
      ]
     },
     "execution_count": 17,
     "metadata": {},
     "output_type": "execute_result"
    }
   ],
   "source": [
    "model.pvalues[1:]"
   ]
  },
  {
   "cell_type": "markdown",
   "metadata": {},
   "source": [
    "# Linear Regression - MinMax Scaling"
   ]
  },
  {
   "cell_type": "code",
   "execution_count": 18,
   "metadata": {},
   "outputs": [
    {
     "data": {
      "text/html": [
       "<style>#sk-container-id-2 {color: black;}#sk-container-id-2 pre{padding: 0;}#sk-container-id-2 div.sk-toggleable {background-color: white;}#sk-container-id-2 label.sk-toggleable__label {cursor: pointer;display: block;width: 100%;margin-bottom: 0;padding: 0.3em;box-sizing: border-box;text-align: center;}#sk-container-id-2 label.sk-toggleable__label-arrow:before {content: \"▸\";float: left;margin-right: 0.25em;color: #696969;}#sk-container-id-2 label.sk-toggleable__label-arrow:hover:before {color: black;}#sk-container-id-2 div.sk-estimator:hover label.sk-toggleable__label-arrow:before {color: black;}#sk-container-id-2 div.sk-toggleable__content {max-height: 0;max-width: 0;overflow: hidden;text-align: left;background-color: #f0f8ff;}#sk-container-id-2 div.sk-toggleable__content pre {margin: 0.2em;color: black;border-radius: 0.25em;background-color: #f0f8ff;}#sk-container-id-2 input.sk-toggleable__control:checked~div.sk-toggleable__content {max-height: 200px;max-width: 100%;overflow: auto;}#sk-container-id-2 input.sk-toggleable__control:checked~label.sk-toggleable__label-arrow:before {content: \"▾\";}#sk-container-id-2 div.sk-estimator input.sk-toggleable__control:checked~label.sk-toggleable__label {background-color: #d4ebff;}#sk-container-id-2 div.sk-label input.sk-toggleable__control:checked~label.sk-toggleable__label {background-color: #d4ebff;}#sk-container-id-2 input.sk-hidden--visually {border: 0;clip: rect(1px 1px 1px 1px);clip: rect(1px, 1px, 1px, 1px);height: 1px;margin: -1px;overflow: hidden;padding: 0;position: absolute;width: 1px;}#sk-container-id-2 div.sk-estimator {font-family: monospace;background-color: #f0f8ff;border: 1px dotted black;border-radius: 0.25em;box-sizing: border-box;margin-bottom: 0.5em;}#sk-container-id-2 div.sk-estimator:hover {background-color: #d4ebff;}#sk-container-id-2 div.sk-parallel-item::after {content: \"\";width: 100%;border-bottom: 1px solid gray;flex-grow: 1;}#sk-container-id-2 div.sk-label:hover label.sk-toggleable__label {background-color: #d4ebff;}#sk-container-id-2 div.sk-serial::before {content: \"\";position: absolute;border-left: 1px solid gray;box-sizing: border-box;top: 0;bottom: 0;left: 50%;z-index: 0;}#sk-container-id-2 div.sk-serial {display: flex;flex-direction: column;align-items: center;background-color: white;padding-right: 0.2em;padding-left: 0.2em;position: relative;}#sk-container-id-2 div.sk-item {position: relative;z-index: 1;}#sk-container-id-2 div.sk-parallel {display: flex;align-items: stretch;justify-content: center;background-color: white;position: relative;}#sk-container-id-2 div.sk-item::before, #sk-container-id-2 div.sk-parallel-item::before {content: \"\";position: absolute;border-left: 1px solid gray;box-sizing: border-box;top: 0;bottom: 0;left: 50%;z-index: -1;}#sk-container-id-2 div.sk-parallel-item {display: flex;flex-direction: column;z-index: 1;position: relative;background-color: white;}#sk-container-id-2 div.sk-parallel-item:first-child::after {align-self: flex-end;width: 50%;}#sk-container-id-2 div.sk-parallel-item:last-child::after {align-self: flex-start;width: 50%;}#sk-container-id-2 div.sk-parallel-item:only-child::after {width: 0;}#sk-container-id-2 div.sk-dashed-wrapped {border: 1px dashed gray;margin: 0 0.4em 0.5em 0.4em;box-sizing: border-box;padding-bottom: 0.4em;background-color: white;}#sk-container-id-2 div.sk-label label {font-family: monospace;font-weight: bold;display: inline-block;line-height: 1.2em;}#sk-container-id-2 div.sk-label-container {text-align: center;}#sk-container-id-2 div.sk-container {/* jupyter's `normalize.less` sets `[hidden] { display: none; }` but bootstrap.min.css set `[hidden] { display: none !important; }` so we also need the `!important` here to be able to override the default hidden behavior on the sphinx rendered scikit-learn.org. See: https://github.com/scikit-learn/scikit-learn/issues/21755 */display: inline-block !important;position: relative;}#sk-container-id-2 div.sk-text-repr-fallback {display: none;}</style><div id=\"sk-container-id-2\" class=\"sk-top-container\"><div class=\"sk-text-repr-fallback\"><pre>Pipeline(steps=[(&#x27;union2&#x27;,\n",
       "                 FeatureUnion(transformer_list=[(&#x27;time_preprocessing&#x27;,\n",
       "                                                 Pipeline(steps=[(&#x27;time_features&#x27;,\n",
       "                                                                  ColumnTransformer(transformers=[(&#x27;weekends_pipe&#x27;,\n",
       "                                                                                                   Pipeline(steps=[(&#x27;add_weekends&#x27;,\n",
       "                                                                                                                    AddWeekendsTransformer())]),\n",
       "                                                                                                   [&#x27;day&#x27;])]))])),\n",
       "                                                (&#x27;scaler&#x27;,\n",
       "                                                 ColumnTransformer(transformers=[(&#x27;minmax&#x27;,\n",
       "                                                                                  MinMaxScaler(),\n",
       "                                                                                  [&#x27;facebook&#x27;,\n",
       "                                                                                   &#x27;google&#x27;,\n",
       "                                                                                   &#x27;tiktok&#x27;])]))])),\n",
       "                (&#x27;model&#x27;, LinearRegression())])</pre><b>In a Jupyter environment, please rerun this cell to show the HTML representation or trust the notebook. <br />On GitHub, the HTML representation is unable to render, please try loading this page with nbviewer.org.</b></div><div class=\"sk-container\" hidden><div class=\"sk-item sk-dashed-wrapped\"><div class=\"sk-label-container\"><div class=\"sk-label sk-toggleable\"><input class=\"sk-toggleable__control sk-hidden--visually\" id=\"sk-estimator-id-10\" type=\"checkbox\" ><label for=\"sk-estimator-id-10\" class=\"sk-toggleable__label sk-toggleable__label-arrow\">Pipeline</label><div class=\"sk-toggleable__content\"><pre>Pipeline(steps=[(&#x27;union2&#x27;,\n",
       "                 FeatureUnion(transformer_list=[(&#x27;time_preprocessing&#x27;,\n",
       "                                                 Pipeline(steps=[(&#x27;time_features&#x27;,\n",
       "                                                                  ColumnTransformer(transformers=[(&#x27;weekends_pipe&#x27;,\n",
       "                                                                                                   Pipeline(steps=[(&#x27;add_weekends&#x27;,\n",
       "                                                                                                                    AddWeekendsTransformer())]),\n",
       "                                                                                                   [&#x27;day&#x27;])]))])),\n",
       "                                                (&#x27;scaler&#x27;,\n",
       "                                                 ColumnTransformer(transformers=[(&#x27;minmax&#x27;,\n",
       "                                                                                  MinMaxScaler(),\n",
       "                                                                                  [&#x27;facebook&#x27;,\n",
       "                                                                                   &#x27;google&#x27;,\n",
       "                                                                                   &#x27;tiktok&#x27;])]))])),\n",
       "                (&#x27;model&#x27;, LinearRegression())])</pre></div></div></div><div class=\"sk-serial\"><div class=\"sk-item sk-dashed-wrapped\"><div class=\"sk-label-container\"><div class=\"sk-label sk-toggleable\"><input class=\"sk-toggleable__control sk-hidden--visually\" id=\"sk-estimator-id-11\" type=\"checkbox\" ><label for=\"sk-estimator-id-11\" class=\"sk-toggleable__label sk-toggleable__label-arrow\">union2: FeatureUnion</label><div class=\"sk-toggleable__content\"><pre>FeatureUnion(transformer_list=[(&#x27;time_preprocessing&#x27;,\n",
       "                                Pipeline(steps=[(&#x27;time_features&#x27;,\n",
       "                                                 ColumnTransformer(transformers=[(&#x27;weekends_pipe&#x27;,\n",
       "                                                                                  Pipeline(steps=[(&#x27;add_weekends&#x27;,\n",
       "                                                                                                   AddWeekendsTransformer())]),\n",
       "                                                                                  [&#x27;day&#x27;])]))])),\n",
       "                               (&#x27;scaler&#x27;,\n",
       "                                ColumnTransformer(transformers=[(&#x27;minmax&#x27;,\n",
       "                                                                 MinMaxScaler(),\n",
       "                                                                 [&#x27;facebook&#x27;,\n",
       "                                                                  &#x27;google&#x27;,\n",
       "                                                                  &#x27;tiktok&#x27;])]))])</pre></div></div></div><div class=\"sk-parallel\"><div class=\"sk-parallel-item\"><div class=\"sk-item\"><div class=\"sk-label-container\"><div class=\"sk-label sk-toggleable\"><label>time_preprocessing</label></div></div><div class=\"sk-serial\"><div class=\"sk-item\"><div class=\"sk-serial\"><div class=\"sk-item sk-dashed-wrapped\"><div class=\"sk-label-container\"><div class=\"sk-label sk-toggleable\"><input class=\"sk-toggleable__control sk-hidden--visually\" id=\"sk-estimator-id-12\" type=\"checkbox\" ><label for=\"sk-estimator-id-12\" class=\"sk-toggleable__label sk-toggleable__label-arrow\">time_features: ColumnTransformer</label><div class=\"sk-toggleable__content\"><pre>ColumnTransformer(transformers=[(&#x27;weekends_pipe&#x27;,\n",
       "                                 Pipeline(steps=[(&#x27;add_weekends&#x27;,\n",
       "                                                  AddWeekendsTransformer())]),\n",
       "                                 [&#x27;day&#x27;])])</pre></div></div></div><div class=\"sk-parallel\"><div class=\"sk-parallel-item\"><div class=\"sk-item\"><div class=\"sk-label-container\"><div class=\"sk-label sk-toggleable\"><input class=\"sk-toggleable__control sk-hidden--visually\" id=\"sk-estimator-id-13\" type=\"checkbox\" ><label for=\"sk-estimator-id-13\" class=\"sk-toggleable__label sk-toggleable__label-arrow\">weekends_pipe</label><div class=\"sk-toggleable__content\"><pre>[&#x27;day&#x27;]</pre></div></div></div><div class=\"sk-serial\"><div class=\"sk-item\"><div class=\"sk-serial\"><div class=\"sk-item\"><div class=\"sk-estimator sk-toggleable\"><input class=\"sk-toggleable__control sk-hidden--visually\" id=\"sk-estimator-id-14\" type=\"checkbox\" ><label for=\"sk-estimator-id-14\" class=\"sk-toggleable__label sk-toggleable__label-arrow\">AddWeekendsTransformer</label><div class=\"sk-toggleable__content\"><pre>AddWeekendsTransformer()</pre></div></div></div></div></div></div></div></div></div></div></div></div></div></div></div><div class=\"sk-parallel-item\"><div class=\"sk-item\"><div class=\"sk-label-container\"><div class=\"sk-label sk-toggleable\"><label>scaler</label></div></div><div class=\"sk-serial\"><div class=\"sk-item sk-dashed-wrapped\"><div class=\"sk-parallel\"><div class=\"sk-parallel-item\"><div class=\"sk-item\"><div class=\"sk-label-container\"><div class=\"sk-label sk-toggleable\"><input class=\"sk-toggleable__control sk-hidden--visually\" id=\"sk-estimator-id-15\" type=\"checkbox\" ><label for=\"sk-estimator-id-15\" class=\"sk-toggleable__label sk-toggleable__label-arrow\">minmax</label><div class=\"sk-toggleable__content\"><pre>[&#x27;facebook&#x27;, &#x27;google&#x27;, &#x27;tiktok&#x27;]</pre></div></div></div><div class=\"sk-serial\"><div class=\"sk-item\"><div class=\"sk-estimator sk-toggleable\"><input class=\"sk-toggleable__control sk-hidden--visually\" id=\"sk-estimator-id-16\" type=\"checkbox\" ><label for=\"sk-estimator-id-16\" class=\"sk-toggleable__label sk-toggleable__label-arrow\">MinMaxScaler</label><div class=\"sk-toggleable__content\"><pre>MinMaxScaler()</pre></div></div></div></div></div></div></div></div></div></div></div></div></div><div class=\"sk-item\"><div class=\"sk-estimator sk-toggleable\"><input class=\"sk-toggleable__control sk-hidden--visually\" id=\"sk-estimator-id-17\" type=\"checkbox\" ><label for=\"sk-estimator-id-17\" class=\"sk-toggleable__label sk-toggleable__label-arrow\">LinearRegression</label><div class=\"sk-toggleable__content\"><pre>LinearRegression()</pre></div></div></div></div></div></div></div>"
      ],
      "text/plain": [
       "Pipeline(steps=[('union2',\n",
       "                 FeatureUnion(transformer_list=[('time_preprocessing',\n",
       "                                                 Pipeline(steps=[('time_features',\n",
       "                                                                  ColumnTransformer(transformers=[('weekends_pipe',\n",
       "                                                                                                   Pipeline(steps=[('add_weekends',\n",
       "                                                                                                                    AddWeekendsTransformer())]),\n",
       "                                                                                                   ['day'])]))])),\n",
       "                                                ('scaler',\n",
       "                                                 ColumnTransformer(transformers=[('minmax',\n",
       "                                                                                  MinMaxScaler(),\n",
       "                                                                                  ['facebook',\n",
       "                                                                                   'google',\n",
       "                                                                                   'tiktok'])]))])),\n",
       "                ('model', LinearRegression())])"
      ]
     },
     "execution_count": 18,
     "metadata": {},
     "output_type": "execute_result"
    }
   ],
   "source": [
    "pipeline_minmax.fit(X_train, y_train)"
   ]
  },
  {
   "cell_type": "markdown",
   "metadata": {},
   "source": [
    "# Intercept + Coefficients"
   ]
  },
  {
   "cell_type": "code",
   "execution_count": 19,
   "metadata": {},
   "outputs": [
    {
     "data": {
      "text/plain": [
       "144.6378477173521"
      ]
     },
     "execution_count": 19,
     "metadata": {},
     "output_type": "execute_result"
    }
   ],
   "source": [
    "pipeline_minmax[-1].intercept_"
   ]
  },
  {
   "cell_type": "code",
   "execution_count": 20,
   "metadata": {},
   "outputs": [
    {
     "data": {
      "text/plain": [
       "weekend      -84.802133\n",
       "facebook    1314.942671\n",
       "google      -222.853218\n",
       "tiktok      2018.389665\n",
       "dtype: float64"
      ]
     },
     "execution_count": 20,
     "metadata": {},
     "output_type": "execute_result"
    }
   ],
   "source": [
    "features = ['weekend', 'facebook', 'google', 'tiktok']\n",
    "pd.Series(\n",
    "    pipeline_minmax[-1].coef_,\n",
    "    index=features\n",
    ")"
   ]
  },
  {
   "cell_type": "markdown",
   "metadata": {},
   "source": [
    "## Pipeline Output"
   ]
  },
  {
   "cell_type": "code",
   "execution_count": 21,
   "metadata": {},
   "outputs": [
    {
     "data": {
      "text/html": [
       "<div>\n",
       "<style scoped>\n",
       "    .dataframe tbody tr th:only-of-type {\n",
       "        vertical-align: middle;\n",
       "    }\n",
       "\n",
       "    .dataframe tbody tr th {\n",
       "        vertical-align: top;\n",
       "    }\n",
       "\n",
       "    .dataframe thead th {\n",
       "        text-align: right;\n",
       "    }\n",
       "</style>\n",
       "<table border=\"1\" class=\"dataframe\">\n",
       "  <thead>\n",
       "    <tr style=\"text-align: right;\">\n",
       "      <th></th>\n",
       "      <th>weekend</th>\n",
       "      <th>facebook</th>\n",
       "      <th>google</th>\n",
       "      <th>tiktok</th>\n",
       "      <th>spending_sum</th>\n",
       "    </tr>\n",
       "    <tr>\n",
       "      <th>day</th>\n",
       "      <th></th>\n",
       "      <th></th>\n",
       "      <th></th>\n",
       "      <th></th>\n",
       "      <th></th>\n",
       "    </tr>\n",
       "  </thead>\n",
       "  <tbody>\n",
       "    <tr>\n",
       "      <th>2021-07-01</th>\n",
       "      <td>0.0</td>\n",
       "      <td>0.112002</td>\n",
       "      <td>0.002434</td>\n",
       "      <td>0.000000</td>\n",
       "      <td>0.114436</td>\n",
       "    </tr>\n",
       "    <tr>\n",
       "      <th>2021-07-02</th>\n",
       "      <td>1.0</td>\n",
       "      <td>0.109078</td>\n",
       "      <td>0.001748</td>\n",
       "      <td>0.000000</td>\n",
       "      <td>0.110826</td>\n",
       "    </tr>\n",
       "    <tr>\n",
       "      <th>2021-07-03</th>\n",
       "      <td>1.0</td>\n",
       "      <td>0.108333</td>\n",
       "      <td>0.001498</td>\n",
       "      <td>0.000000</td>\n",
       "      <td>0.109831</td>\n",
       "    </tr>\n",
       "    <tr>\n",
       "      <th>2021-07-04</th>\n",
       "      <td>0.0</td>\n",
       "      <td>0.112455</td>\n",
       "      <td>0.000146</td>\n",
       "      <td>0.000000</td>\n",
       "      <td>0.112601</td>\n",
       "    </tr>\n",
       "    <tr>\n",
       "      <th>2021-07-05</th>\n",
       "      <td>0.0</td>\n",
       "      <td>0.112203</td>\n",
       "      <td>0.000791</td>\n",
       "      <td>0.000000</td>\n",
       "      <td>0.112993</td>\n",
       "    </tr>\n",
       "    <tr>\n",
       "      <th>...</th>\n",
       "      <td>...</td>\n",
       "      <td>...</td>\n",
       "      <td>...</td>\n",
       "      <td>...</td>\n",
       "      <td>...</td>\n",
       "    </tr>\n",
       "    <tr>\n",
       "      <th>2023-04-12</th>\n",
       "      <td>0.0</td>\n",
       "      <td>0.385817</td>\n",
       "      <td>0.433820</td>\n",
       "      <td>0.248736</td>\n",
       "      <td>1.068373</td>\n",
       "    </tr>\n",
       "    <tr>\n",
       "      <th>2023-04-13</th>\n",
       "      <td>0.0</td>\n",
       "      <td>0.384440</td>\n",
       "      <td>0.387946</td>\n",
       "      <td>0.248486</td>\n",
       "      <td>1.020871</td>\n",
       "    </tr>\n",
       "    <tr>\n",
       "      <th>2023-04-14</th>\n",
       "      <td>1.0</td>\n",
       "      <td>0.288527</td>\n",
       "      <td>0.334311</td>\n",
       "      <td>0.257482</td>\n",
       "      <td>0.880320</td>\n",
       "    </tr>\n",
       "    <tr>\n",
       "      <th>2023-04-15</th>\n",
       "      <td>1.0</td>\n",
       "      <td>0.209924</td>\n",
       "      <td>0.310323</td>\n",
       "      <td>0.285172</td>\n",
       "      <td>0.805419</td>\n",
       "    </tr>\n",
       "    <tr>\n",
       "      <th>2023-04-16</th>\n",
       "      <td>0.0</td>\n",
       "      <td>0.337688</td>\n",
       "      <td>0.474327</td>\n",
       "      <td>0.285184</td>\n",
       "      <td>1.097199</td>\n",
       "    </tr>\n",
       "  </tbody>\n",
       "</table>\n",
       "<p>655 rows × 5 columns</p>\n",
       "</div>"
      ],
      "text/plain": [
       "            weekend  facebook    google    tiktok  spending_sum\n",
       "day                                                            \n",
       "2021-07-01      0.0  0.112002  0.002434  0.000000      0.114436\n",
       "2021-07-02      1.0  0.109078  0.001748  0.000000      0.110826\n",
       "2021-07-03      1.0  0.108333  0.001498  0.000000      0.109831\n",
       "2021-07-04      0.0  0.112455  0.000146  0.000000      0.112601\n",
       "2021-07-05      0.0  0.112203  0.000791  0.000000      0.112993\n",
       "...             ...       ...       ...       ...           ...\n",
       "2023-04-12      0.0  0.385817  0.433820  0.248736      1.068373\n",
       "2023-04-13      0.0  0.384440  0.387946  0.248486      1.020871\n",
       "2023-04-14      1.0  0.288527  0.334311  0.257482      0.880320\n",
       "2023-04-15      1.0  0.209924  0.310323  0.285172      0.805419\n",
       "2023-04-16      0.0  0.337688  0.474327  0.285184      1.097199\n",
       "\n",
       "[655 rows x 5 columns]"
      ]
     },
     "execution_count": 21,
     "metadata": {},
     "output_type": "execute_result"
    }
   ],
   "source": [
    "X_pipe_minmax = pd.DataFrame(pipeline_minmax[0].transform(X_train))\n",
    "X_pipe_minmax.columns = ['weekend', 'facebook', 'google', 'tiktok']\n",
    "X_pipe_minmax['spending_sum'] = X_pipe_minmax['facebook'] + X_pipe_minmax['google'] + X_pipe_minmax['tiktok']\n",
    "X_pipe_minmax['day'] = train_df.index\n",
    "X_pipe_minmax.set_index('day', inplace=True)\n",
    "X_pipe_minmax"
   ]
  },
  {
   "cell_type": "code",
   "execution_count": 22,
   "metadata": {},
   "outputs": [
    {
     "data": {
      "text/html": [
       "<div>\n",
       "<style scoped>\n",
       "    .dataframe tbody tr th:only-of-type {\n",
       "        vertical-align: middle;\n",
       "    }\n",
       "\n",
       "    .dataframe tbody tr th {\n",
       "        vertical-align: top;\n",
       "    }\n",
       "\n",
       "    .dataframe thead th {\n",
       "        text-align: right;\n",
       "    }\n",
       "</style>\n",
       "<table border=\"1\" class=\"dataframe\">\n",
       "  <thead>\n",
       "    <tr style=\"text-align: right;\">\n",
       "      <th></th>\n",
       "      <th>weekend</th>\n",
       "      <th>facebook</th>\n",
       "      <th>google</th>\n",
       "      <th>tiktok</th>\n",
       "      <th>spending_sum</th>\n",
       "      <th>total_clicks</th>\n",
       "    </tr>\n",
       "    <tr>\n",
       "      <th>day</th>\n",
       "      <th></th>\n",
       "      <th></th>\n",
       "      <th></th>\n",
       "      <th></th>\n",
       "      <th></th>\n",
       "      <th></th>\n",
       "    </tr>\n",
       "  </thead>\n",
       "  <tbody>\n",
       "    <tr>\n",
       "      <th>2021-07-01</th>\n",
       "      <td>0.0</td>\n",
       "      <td>0.112002</td>\n",
       "      <td>0.002434</td>\n",
       "      <td>0.000000</td>\n",
       "      <td>0.114436</td>\n",
       "      <td>149.0</td>\n",
       "    </tr>\n",
       "    <tr>\n",
       "      <th>2021-07-02</th>\n",
       "      <td>1.0</td>\n",
       "      <td>0.109078</td>\n",
       "      <td>0.001748</td>\n",
       "      <td>0.000000</td>\n",
       "      <td>0.110826</td>\n",
       "      <td>157.0</td>\n",
       "    </tr>\n",
       "    <tr>\n",
       "      <th>2021-07-03</th>\n",
       "      <td>1.0</td>\n",
       "      <td>0.108333</td>\n",
       "      <td>0.001498</td>\n",
       "      <td>0.000000</td>\n",
       "      <td>0.109831</td>\n",
       "      <td>135.0</td>\n",
       "    </tr>\n",
       "    <tr>\n",
       "      <th>2021-07-04</th>\n",
       "      <td>0.0</td>\n",
       "      <td>0.112455</td>\n",
       "      <td>0.000146</td>\n",
       "      <td>0.000000</td>\n",
       "      <td>0.112601</td>\n",
       "      <td>124.0</td>\n",
       "    </tr>\n",
       "    <tr>\n",
       "      <th>2021-07-05</th>\n",
       "      <td>0.0</td>\n",
       "      <td>0.112203</td>\n",
       "      <td>0.000791</td>\n",
       "      <td>0.000000</td>\n",
       "      <td>0.112993</td>\n",
       "      <td>158.0</td>\n",
       "    </tr>\n",
       "    <tr>\n",
       "      <th>...</th>\n",
       "      <td>...</td>\n",
       "      <td>...</td>\n",
       "      <td>...</td>\n",
       "      <td>...</td>\n",
       "      <td>...</td>\n",
       "      <td>...</td>\n",
       "    </tr>\n",
       "    <tr>\n",
       "      <th>2023-04-12</th>\n",
       "      <td>0.0</td>\n",
       "      <td>0.385817</td>\n",
       "      <td>0.433820</td>\n",
       "      <td>0.248736</td>\n",
       "      <td>1.068373</td>\n",
       "      <td>1430.0</td>\n",
       "    </tr>\n",
       "    <tr>\n",
       "      <th>2023-04-13</th>\n",
       "      <td>0.0</td>\n",
       "      <td>0.384440</td>\n",
       "      <td>0.387946</td>\n",
       "      <td>0.248486</td>\n",
       "      <td>1.020871</td>\n",
       "      <td>1337.0</td>\n",
       "    </tr>\n",
       "    <tr>\n",
       "      <th>2023-04-14</th>\n",
       "      <td>1.0</td>\n",
       "      <td>0.288527</td>\n",
       "      <td>0.334311</td>\n",
       "      <td>0.257482</td>\n",
       "      <td>0.880320</td>\n",
       "      <td>1101.0</td>\n",
       "    </tr>\n",
       "    <tr>\n",
       "      <th>2023-04-15</th>\n",
       "      <td>1.0</td>\n",
       "      <td>0.209924</td>\n",
       "      <td>0.310323</td>\n",
       "      <td>0.285172</td>\n",
       "      <td>0.805419</td>\n",
       "      <td>1017.0</td>\n",
       "    </tr>\n",
       "    <tr>\n",
       "      <th>2023-04-16</th>\n",
       "      <td>0.0</td>\n",
       "      <td>0.337688</td>\n",
       "      <td>0.474327</td>\n",
       "      <td>0.285184</td>\n",
       "      <td>1.097199</td>\n",
       "      <td>1366.0</td>\n",
       "    </tr>\n",
       "  </tbody>\n",
       "</table>\n",
       "<p>655 rows × 6 columns</p>\n",
       "</div>"
      ],
      "text/plain": [
       "            weekend  facebook    google    tiktok  spending_sum  total_clicks\n",
       "day                                                                          \n",
       "2021-07-01      0.0  0.112002  0.002434  0.000000      0.114436         149.0\n",
       "2021-07-02      1.0  0.109078  0.001748  0.000000      0.110826         157.0\n",
       "2021-07-03      1.0  0.108333  0.001498  0.000000      0.109831         135.0\n",
       "2021-07-04      0.0  0.112455  0.000146  0.000000      0.112601         124.0\n",
       "2021-07-05      0.0  0.112203  0.000791  0.000000      0.112993         158.0\n",
       "...             ...       ...       ...       ...           ...           ...\n",
       "2023-04-12      0.0  0.385817  0.433820  0.248736      1.068373        1430.0\n",
       "2023-04-13      0.0  0.384440  0.387946  0.248486      1.020871        1337.0\n",
       "2023-04-14      1.0  0.288527  0.334311  0.257482      0.880320        1101.0\n",
       "2023-04-15      1.0  0.209924  0.310323  0.285172      0.805419        1017.0\n",
       "2023-04-16      0.0  0.337688  0.474327  0.285184      1.097199        1366.0\n",
       "\n",
       "[655 rows x 6 columns]"
      ]
     },
     "execution_count": 22,
     "metadata": {},
     "output_type": "execute_result"
    }
   ],
   "source": [
    "pipe_df_minmax = X_pipe_minmax.copy()\n",
    "pipe_df_minmax['total_clicks'] = train_df['total_clicks']\n",
    "pipe_df_minmax"
   ]
  },
  {
   "cell_type": "markdown",
   "metadata": {},
   "source": [
    "# Scores"
   ]
  },
  {
   "cell_type": "code",
   "execution_count": 23,
   "metadata": {},
   "outputs": [
    {
     "data": {
      "text/plain": [
       "'R-squared: 0.5688070039486002, MAE: 168.2954230881088, RMSE: 228.35694750702535, MSE: 52146.89547472633'"
      ]
     },
     "execution_count": 23,
     "metadata": {},
     "output_type": "execute_result"
    }
   ],
   "source": [
    "y_pred = pipeline_minmax.predict(X_train)\n",
    "y_true = y_train\n",
    "\n",
    "rmse = mean_squared_error(y_true, y_pred, squared = False)\n",
    "mse = mean_squared_error(y_true, y_pred, squared = True)\n",
    "mae = mean_absolute_error(y_true, y_pred)\n",
    "r2 = pipeline_minmax.score(X_test, y_test)\n",
    "\n",
    "f\"R-squared: {r2}, MAE: {mae}, RMSE: {rmse}, MSE: {mse}\""
   ]
  },
  {
   "cell_type": "code",
   "execution_count": 24,
   "metadata": {},
   "outputs": [
    {
     "data": {
      "text/plain": [
       "<Axes: xlabel='spending_sum', ylabel='total_clicks'>"
      ]
     },
     "execution_count": 24,
     "metadata": {},
     "output_type": "execute_result"
    },
    {
     "data": {
      "image/png": "[encoded data removed]",
      "text/plain": [
       "<Figure size 640x480 with 1 Axes>"
      ]
     },
     "metadata": {},
     "output_type": "display_data"
    }
   ],
   "source": [
    "sns.scatterplot(data = pipe_df_minmax, x = 'spending_sum', y = 'total_clicks')"
   ]
  },
  {
   "cell_type": "markdown",
   "metadata": {},
   "source": [
    "# OLS"
   ]
  },
  {
   "cell_type": "code",
   "execution_count": 25,
   "metadata": {},
   "outputs": [
    {
     "data": {
      "text/html": [
       "<table class=\"simpletable\">\n",
       "<caption>OLS Regression Results</caption>\n",
       "<tr>\n",
       "  <th>Dep. Variable:</th>      <td>total_clicks</td>   <th>  R-squared:         </th> <td>   0.862</td> \n",
       "</tr>\n",
       "<tr>\n",
       "  <th>Model:</th>                   <td>OLS</td>       <th>  Adj. R-squared:    </th> <td>   0.861</td> \n",
       "</tr>\n",
       "<tr>\n",
       "  <th>Method:</th>             <td>Least Squares</td>  <th>  F-statistic:       </th> <td>   1017.</td> \n",
       "</tr>\n",
       "<tr>\n",
       "  <th>Date:</th>             <td>Wed, 06 Sep 2023</td> <th>  Prob (F-statistic):</th> <td>4.24e-278</td>\n",
       "</tr>\n",
       "<tr>\n",
       "  <th>Time:</th>                 <td>14:18:55</td>     <th>  Log-Likelihood:    </th> <td> -4486.7</td> \n",
       "</tr>\n",
       "<tr>\n",
       "  <th>No. Observations:</th>      <td>   655</td>      <th>  AIC:               </th> <td>   8983.</td> \n",
       "</tr>\n",
       "<tr>\n",
       "  <th>Df Residuals:</th>          <td>   650</td>      <th>  BIC:               </th> <td>   9006.</td> \n",
       "</tr>\n",
       "<tr>\n",
       "  <th>Df Model:</th>              <td>     4</td>      <th>                     </th>     <td> </td>    \n",
       "</tr>\n",
       "<tr>\n",
       "  <th>Covariance Type:</th>      <td>nonrobust</td>    <th>                     </th>     <td> </td>    \n",
       "</tr>\n",
       "</table>\n",
       "<table class=\"simpletable\">\n",
       "<tr>\n",
       "      <td></td>         <th>coef</th>     <th>std err</th>      <th>t</th>      <th>P>|t|</th>  <th>[0.025</th>    <th>0.975]</th>  \n",
       "</tr>\n",
       "<tr>\n",
       "  <th>Intercept</th> <td>  144.6378</td> <td>   17.313</td> <td>    8.354</td> <td> 0.000</td> <td>  110.641</td> <td>  178.635</td>\n",
       "</tr>\n",
       "<tr>\n",
       "  <th>weekend</th>   <td>  -84.8021</td> <td>   19.897</td> <td>   -4.262</td> <td> 0.000</td> <td> -123.873</td> <td>  -45.731</td>\n",
       "</tr>\n",
       "<tr>\n",
       "  <th>facebook</th>  <td> 1314.9427</td> <td>   53.667</td> <td>   24.502</td> <td> 0.000</td> <td> 1209.560</td> <td> 1420.325</td>\n",
       "</tr>\n",
       "<tr>\n",
       "  <th>google</th>    <td> -222.8532</td> <td>   61.160</td> <td>   -3.644</td> <td> 0.000</td> <td> -342.949</td> <td> -102.757</td>\n",
       "</tr>\n",
       "<tr>\n",
       "  <th>tiktok</th>    <td> 2018.3897</td> <td>   53.450</td> <td>   37.762</td> <td> 0.000</td> <td> 1913.434</td> <td> 2123.346</td>\n",
       "</tr>\n",
       "</table>\n",
       "<table class=\"simpletable\">\n",
       "<tr>\n",
       "  <th>Omnibus:</th>       <td>61.416</td> <th>  Durbin-Watson:     </th> <td>   0.395</td>\n",
       "</tr>\n",
       "<tr>\n",
       "  <th>Prob(Omnibus):</th> <td> 0.000</td> <th>  Jarque-Bera (JB):  </th> <td> 230.175</td>\n",
       "</tr>\n",
       "<tr>\n",
       "  <th>Skew:</th>          <td> 0.353</td> <th>  Prob(JB):          </th> <td>1.04e-50</td>\n",
       "</tr>\n",
       "<tr>\n",
       "  <th>Kurtosis:</th>      <td> 5.817</td> <th>  Cond. No.          </th> <td>    8.95</td>\n",
       "</tr>\n",
       "</table><br/><br/>Notes:<br/>[1] Standard Errors assume that the covariance matrix of the errors is correctly specified."
      ],
      "text/latex": [
       "\\begin{center}\n",
       "\\begin{tabular}{lclc}\n",
       "\\toprule\n",
       "\\textbf{Dep. Variable:}    &  total\\_clicks   & \\textbf{  R-squared:         } &     0.862   \\\\\n",
       "\\textbf{Model:}            &       OLS        & \\textbf{  Adj. R-squared:    } &     0.861   \\\\\n",
       "\\textbf{Method:}           &  Least Squares   & \\textbf{  F-statistic:       } &     1017.   \\\\\n",
       "\\textbf{Date:}             & Wed, 06 Sep 2023 & \\textbf{  Prob (F-statistic):} & 4.24e-278   \\\\\n",
       "\\textbf{Time:}             &     14:18:55     & \\textbf{  Log-Likelihood:    } &   -4486.7   \\\\\n",
       "\\textbf{No. Observations:} &         655      & \\textbf{  AIC:               } &     8983.   \\\\\n",
       "\\textbf{Df Residuals:}     &         650      & \\textbf{  BIC:               } &     9006.   \\\\\n",
       "\\textbf{Df Model:}         &           4      & \\textbf{                     } &             \\\\\n",
       "\\textbf{Covariance Type:}  &    nonrobust     & \\textbf{                     } &             \\\\\n",
       "\\bottomrule\n",
       "\\end{tabular}\n",
       "\\begin{tabular}{lcccccc}\n",
       "                   & \\textbf{coef} & \\textbf{std err} & \\textbf{t} & \\textbf{P$> |$t$|$} & \\textbf{[0.025} & \\textbf{0.975]}  \\\\\n",
       "\\midrule\n",
       "\\textbf{Intercept} &     144.6378  &       17.313     &     8.354  &         0.000        &      110.641    &      178.635     \\\\\n",
       "\\textbf{weekend}   &     -84.8021  &       19.897     &    -4.262  &         0.000        &     -123.873    &      -45.731     \\\\\n",
       "\\textbf{facebook}  &    1314.9427  &       53.667     &    24.502  &         0.000        &     1209.560    &     1420.325     \\\\\n",
       "\\textbf{google}    &    -222.8532  &       61.160     &    -3.644  &         0.000        &     -342.949    &     -102.757     \\\\\n",
       "\\textbf{tiktok}    &    2018.3897  &       53.450     &    37.762  &         0.000        &     1913.434    &     2123.346     \\\\\n",
       "\\bottomrule\n",
       "\\end{tabular}\n",
       "\\begin{tabular}{lclc}\n",
       "\\textbf{Omnibus:}       & 61.416 & \\textbf{  Durbin-Watson:     } &    0.395  \\\\\n",
       "\\textbf{Prob(Omnibus):} &  0.000 & \\textbf{  Jarque-Bera (JB):  } &  230.175  \\\\\n",
       "\\textbf{Skew:}          &  0.353 & \\textbf{  Prob(JB):          } & 1.04e-50  \\\\\n",
       "\\textbf{Kurtosis:}      &  5.817 & \\textbf{  Cond. No.          } &     8.95  \\\\\n",
       "\\bottomrule\n",
       "\\end{tabular}\n",
       "%\\caption{OLS Regression Results}\n",
       "\\end{center}\n",
       "\n",
       "Notes: \\newline\n",
       " [1] Standard Errors assume that the covariance matrix of the errors is correctly specified."
      ],
      "text/plain": [
       "<class 'statsmodels.iolib.summary.Summary'>\n",
       "\"\"\"\n",
       "                            OLS Regression Results                            \n",
       "==============================================================================\n",
       "Dep. Variable:           total_clicks   R-squared:                       0.862\n",
       "Model:                            OLS   Adj. R-squared:                  0.861\n",
       "Method:                 Least Squares   F-statistic:                     1017.\n",
       "Date:                Wed, 06 Sep 2023   Prob (F-statistic):          4.24e-278\n",
       "Time:                        14:18:55   Log-Likelihood:                -4486.7\n",
       "No. Observations:                 655   AIC:                             8983.\n",
       "Df Residuals:                     650   BIC:                             9006.\n",
       "Df Model:                           4                                         \n",
       "Covariance Type:            nonrobust                                         \n",
       "==============================================================================\n",
       "                 coef    std err          t      P>|t|      [0.025      0.975]\n",
       "------------------------------------------------------------------------------\n",
       "Intercept    144.6378     17.313      8.354      0.000     110.641     178.635\n",
       "weekend      -84.8021     19.897     -4.262      0.000    -123.873     -45.731\n",
       "facebook    1314.9427     53.667     24.502      0.000    1209.560    1420.325\n",
       "google      -222.8532     61.160     -3.644      0.000    -342.949    -102.757\n",
       "tiktok      2018.3897     53.450     37.762      0.000    1913.434    2123.346\n",
       "==============================================================================\n",
       "Omnibus:                       61.416   Durbin-Watson:                   0.395\n",
       "Prob(Omnibus):                  0.000   Jarque-Bera (JB):              230.175\n",
       "Skew:                           0.353   Prob(JB):                     1.04e-50\n",
       "Kurtosis:                       5.817   Cond. No.                         8.95\n",
       "==============================================================================\n",
       "\n",
       "Notes:\n",
       "[1] Standard Errors assume that the covariance matrix of the errors is correctly specified.\n",
       "\"\"\""
      ]
     },
     "execution_count": 25,
     "metadata": {},
     "output_type": "execute_result"
    }
   ],
   "source": [
    "model_minmax = smf.ols(formula='total_clicks ~ weekend+facebook+google+tiktok', data=pipe_df_minmax).fit()\n",
    "model_minmax.summary()"
   ]
  },
  {
   "cell_type": "code",
   "execution_count": 26,
   "metadata": {},
   "outputs": [
    {
     "data": {
      "text/plain": [
       "weekend      2.326111e-05\n",
       "facebook     2.077798e-94\n",
       "google       2.901377e-04\n",
       "tiktok      4.747323e-166\n",
       "dtype: float64"
      ]
     },
     "execution_count": 26,
     "metadata": {},
     "output_type": "execute_result"
    }
   ],
   "source": [
    "model_minmax.pvalues[1:]"
   ]
  },
  {
   "cell_type": "code",
   "execution_count": 29,
   "metadata": {},
   "outputs": [
    {
     "data": {
      "text/html": [
       "<div>\n",
       "<style scoped>\n",
       "    .dataframe tbody tr th:only-of-type {\n",
       "        vertical-align: middle;\n",
       "    }\n",
       "\n",
       "    .dataframe tbody tr th {\n",
       "        vertical-align: top;\n",
       "    }\n",
       "\n",
       "    .dataframe thead th {\n",
       "        text-align: right;\n",
       "    }\n",
       "</style>\n",
       "<table border=\"1\" class=\"dataframe\">\n",
       "  <thead>\n",
       "    <tr style=\"text-align: right;\">\n",
       "      <th></th>\n",
       "      <th>orders</th>\n",
       "      <th>total_sales</th>\n",
       "      <th>facebook</th>\n",
       "      <th>fb_clicks</th>\n",
       "      <th>google</th>\n",
       "      <th>google_clicks</th>\n",
       "      <th>tiktok</th>\n",
       "      <th>tt_clicks</th>\n",
       "      <th>day</th>\n",
       "      <th>total_clicks</th>\n",
       "    </tr>\n",
       "    <tr>\n",
       "      <th>Day</th>\n",
       "      <th></th>\n",
       "      <th></th>\n",
       "      <th></th>\n",
       "      <th></th>\n",
       "      <th></th>\n",
       "      <th></th>\n",
       "      <th></th>\n",
       "      <th></th>\n",
       "      <th></th>\n",
       "      <th></th>\n",
       "    </tr>\n",
       "  </thead>\n",
       "  <tbody>\n",
       "    <tr>\n",
       "      <th>2021-07-01</th>\n",
       "      <td>10</td>\n",
       "      <td>414.85</td>\n",
       "      <td>257.01</td>\n",
       "      <td>129.0</td>\n",
       "      <td>1.17</td>\n",
       "      <td>20.0</td>\n",
       "      <td>0.00</td>\n",
       "      <td>0.0</td>\n",
       "      <td>2021-07-01</td>\n",
       "      <td>149.0</td>\n",
       "    </tr>\n",
       "    <tr>\n",
       "      <th>2021-07-02</th>\n",
       "      <td>6</td>\n",
       "      <td>229.95</td>\n",
       "      <td>250.30</td>\n",
       "      <td>150.0</td>\n",
       "      <td>0.84</td>\n",
       "      <td>7.0</td>\n",
       "      <td>0.00</td>\n",
       "      <td>0.0</td>\n",
       "      <td>2021-07-02</td>\n",
       "      <td>157.0</td>\n",
       "    </tr>\n",
       "    <tr>\n",
       "      <th>2021-07-03</th>\n",
       "      <td>10</td>\n",
       "      <td>459.89</td>\n",
       "      <td>248.59</td>\n",
       "      <td>129.0</td>\n",
       "      <td>0.72</td>\n",
       "      <td>6.0</td>\n",
       "      <td>0.00</td>\n",
       "      <td>0.0</td>\n",
       "      <td>2021-07-03</td>\n",
       "      <td>135.0</td>\n",
       "    </tr>\n",
       "    <tr>\n",
       "      <th>2021-07-04</th>\n",
       "      <td>17</td>\n",
       "      <td>508.36</td>\n",
       "      <td>258.05</td>\n",
       "      <td>119.0</td>\n",
       "      <td>0.07</td>\n",
       "      <td>5.0</td>\n",
       "      <td>0.00</td>\n",
       "      <td>0.0</td>\n",
       "      <td>2021-07-04</td>\n",
       "      <td>124.0</td>\n",
       "    </tr>\n",
       "    <tr>\n",
       "      <th>2021-07-05</th>\n",
       "      <td>13</td>\n",
       "      <td>399.88</td>\n",
       "      <td>257.47</td>\n",
       "      <td>142.0</td>\n",
       "      <td>0.38</td>\n",
       "      <td>16.0</td>\n",
       "      <td>0.00</td>\n",
       "      <td>0.0</td>\n",
       "      <td>2021-07-05</td>\n",
       "      <td>158.0</td>\n",
       "    </tr>\n",
       "    <tr>\n",
       "      <th>...</th>\n",
       "      <td>...</td>\n",
       "      <td>...</td>\n",
       "      <td>...</td>\n",
       "      <td>...</td>\n",
       "      <td>...</td>\n",
       "      <td>...</td>\n",
       "      <td>...</td>\n",
       "      <td>...</td>\n",
       "      <td>...</td>\n",
       "      <td>...</td>\n",
       "    </tr>\n",
       "    <tr>\n",
       "      <th>2023-04-12</th>\n",
       "      <td>83</td>\n",
       "      <td>3718.12</td>\n",
       "      <td>885.33</td>\n",
       "      <td>640.0</td>\n",
       "      <td>208.52</td>\n",
       "      <td>349.0</td>\n",
       "      <td>209.03</td>\n",
       "      <td>441.0</td>\n",
       "      <td>2023-04-12</td>\n",
       "      <td>1430.0</td>\n",
       "    </tr>\n",
       "    <tr>\n",
       "      <th>2023-04-13</th>\n",
       "      <td>75</td>\n",
       "      <td>2913.63</td>\n",
       "      <td>882.17</td>\n",
       "      <td>740.0</td>\n",
       "      <td>186.47</td>\n",
       "      <td>272.0</td>\n",
       "      <td>208.82</td>\n",
       "      <td>325.0</td>\n",
       "      <td>2023-04-13</td>\n",
       "      <td>1337.0</td>\n",
       "    </tr>\n",
       "    <tr>\n",
       "      <th>2023-04-14</th>\n",
       "      <td>53</td>\n",
       "      <td>1735.46</td>\n",
       "      <td>662.08</td>\n",
       "      <td>497.0</td>\n",
       "      <td>160.69</td>\n",
       "      <td>258.0</td>\n",
       "      <td>216.38</td>\n",
       "      <td>346.0</td>\n",
       "      <td>2023-04-14</td>\n",
       "      <td>1101.0</td>\n",
       "    </tr>\n",
       "    <tr>\n",
       "      <th>2023-04-15</th>\n",
       "      <td>41</td>\n",
       "      <td>1320.67</td>\n",
       "      <td>481.71</td>\n",
       "      <td>383.0</td>\n",
       "      <td>149.16</td>\n",
       "      <td>215.0</td>\n",
       "      <td>239.65</td>\n",
       "      <td>419.0</td>\n",
       "      <td>2023-04-15</td>\n",
       "      <td>1017.0</td>\n",
       "    </tr>\n",
       "    <tr>\n",
       "      <th>2023-04-16</th>\n",
       "      <td>79</td>\n",
       "      <td>3647.40</td>\n",
       "      <td>774.89</td>\n",
       "      <td>621.0</td>\n",
       "      <td>227.99</td>\n",
       "      <td>328.0</td>\n",
       "      <td>239.66</td>\n",
       "      <td>417.0</td>\n",
       "      <td>2023-04-16</td>\n",
       "      <td>1366.0</td>\n",
       "    </tr>\n",
       "  </tbody>\n",
       "</table>\n",
       "<p>655 rows × 10 columns</p>\n",
       "</div>"
      ],
      "text/plain": [
       "            orders  total_sales  facebook  fb_clicks  google  google_clicks  \\\n",
       "Day                                                                           \n",
       "2021-07-01      10       414.85    257.01      129.0    1.17           20.0   \n",
       "2021-07-02       6       229.95    250.30      150.0    0.84            7.0   \n",
       "2021-07-03      10       459.89    248.59      129.0    0.72            6.0   \n",
       "2021-07-04      17       508.36    258.05      119.0    0.07            5.0   \n",
       "2021-07-05      13       399.88    257.47      142.0    0.38           16.0   \n",
       "...            ...          ...       ...        ...     ...            ...   \n",
       "2023-04-12      83      3718.12    885.33      640.0  208.52          349.0   \n",
       "2023-04-13      75      2913.63    882.17      740.0  186.47          272.0   \n",
       "2023-04-14      53      1735.46    662.08      497.0  160.69          258.0   \n",
       "2023-04-15      41      1320.67    481.71      383.0  149.16          215.0   \n",
       "2023-04-16      79      3647.40    774.89      621.0  227.99          328.0   \n",
       "\n",
       "            tiktok  tt_clicks        day  total_clicks  \n",
       "Day                                                     \n",
       "2021-07-01    0.00        0.0 2021-07-01         149.0  \n",
       "2021-07-02    0.00        0.0 2021-07-02         157.0  \n",
       "2021-07-03    0.00        0.0 2021-07-03         135.0  \n",
       "2021-07-04    0.00        0.0 2021-07-04         124.0  \n",
       "2021-07-05    0.00        0.0 2021-07-05         158.0  \n",
       "...            ...        ...        ...           ...  \n",
       "2023-04-12  209.03      441.0 2023-04-12        1430.0  \n",
       "2023-04-13  208.82      325.0 2023-04-13        1337.0  \n",
       "2023-04-14  216.38      346.0 2023-04-14        1101.0  \n",
       "2023-04-15  239.65      419.0 2023-04-15        1017.0  \n",
       "2023-04-16  239.66      417.0 2023-04-16        1366.0  \n",
       "\n",
       "[655 rows x 10 columns]"
      ]
     },
     "execution_count": 29,
     "metadata": {},
     "output_type": "execute_result"
    }
   ],
   "source": [
    "train_df"
   ]
  },
  {
   "cell_type": "markdown",
   "metadata": {},
   "source": [
    "# Time Series"
   ]
  },
  {
   "cell_type": "markdown",
   "metadata": {},
   "source": [
    "## Check Stationarity"
   ]
  },
  {
   "cell_type": "code",
   "execution_count": 34,
   "metadata": {},
   "outputs": [
    {
     "data": {
      "text/plain": [
       "'Total Clicks ADF: 0.0020324002857303376, Facebook ADF: 0.0019783239166436856, Google ADF: 0.6267680385529537, Tiktok ADF: 0.05238247446221673'"
      ]
     },
     "execution_count": 34,
     "metadata": {},
     "output_type": "execute_result"
    }
   ],
   "source": [
    "from statsmodels.tsa.stattools import adfuller\n",
    "\n",
    "clicks_adf = adfuller(df.total_clicks)[1]\n",
    "fb_adf = adfuller(pipe_df_minmax.facebook)[1]\n",
    "gg_adf = adfuller(pipe_df_minmax.google)[1] \n",
    "tt_adf = adfuller(pipe_df_minmax.tiktok)[1] \n",
    "\n",
    "f\"Total Clicks ADF: {clicks_adf}, Facebook ADF: {fb_adf}, Google ADF: {gg_adf}, Tiktok ADF: {tt_adf}\""
   ]
  },
  {
   "cell_type": "markdown",
   "metadata": {},
   "source": [
    "## Total Clicks"
   ]
  },
  {
   "cell_type": "code",
   "execution_count": 38,
   "metadata": {},
   "outputs": [
    {
     "data": {
      "image/png": "[encoded data removed]",
      "text/plain": [
       "<Figure size 1600x300 with 2 Axes>"
      ]
     },
     "metadata": {},
     "output_type": "display_data"
    }
   ],
   "source": [
    "from statsmodels.graphics.tsaplots import plot_pacf, plot_acf\n",
    "\n",
    "fig, axes = plt.subplots(1,2, figsize=(16,3))\n",
    "\n",
    "plot_acf(train_df['total_clicks'], lags=50, ax=axes[0]);\n",
    "plot_pacf(train_df['total_clicks'], lags=50, ax=axes[1], color='r');"
   ]
  },
  {
   "cell_type": "code",
   "execution_count": 103,
   "metadata": {},
   "outputs": [
    {
     "name": "stdout",
     "output_type": "stream",
     "text": [
      "Performing stepwise search to minimize aic\n",
      " ARIMA(1,1,18)(0,0,0)[0] intercept   : AIC=8809.017, Time=2.42 sec\n",
      " ARIMA(0,1,0)(0,0,0)[0] intercept   : AIC=8860.701, Time=0.01 sec\n",
      " ARIMA(1,1,0)(0,0,0)[0] intercept   : AIC=8856.363, Time=0.01 sec\n",
      " ARIMA(0,1,1)(0,0,0)[0] intercept   : AIC=8852.138, Time=0.03 sec\n",
      " ARIMA(0,1,0)(0,0,0)[0]             : AIC=8860.701, Time=0.01 sec\n",
      " ARIMA(0,1,18)(0,0,0)[0] intercept   : AIC=8807.106, Time=1.63 sec\n",
      " ARIMA(0,1,17)(0,0,0)[0] intercept   : AIC=8805.555, Time=1.17 sec\n",
      " ARIMA(0,1,16)(0,0,0)[0] intercept   : AIC=8803.987, Time=1.97 sec\n",
      " ARIMA(0,1,15)(0,0,0)[0] intercept   : AIC=8814.498, Time=1.71 sec\n",
      " ARIMA(1,1,16)(0,0,0)[0] intercept   : AIC=8805.609, Time=2.53 sec\n",
      " ARIMA(1,1,15)(0,0,0)[0] intercept   : AIC=inf, Time=2.84 sec\n",
      " ARIMA(1,1,17)(0,0,0)[0] intercept   : AIC=8807.240, Time=2.16 sec\n",
      " ARIMA(0,1,16)(0,0,0)[0]             : AIC=8803.987, Time=1.88 sec\n",
      "\n",
      "Best model:  ARIMA(0,1,16)(0,0,0)[0]          \n",
      "Total fit time: 18.377 seconds\n"
     ]
    }
   ],
   "source": [
    "smodel = pm.auto_arima(train_df['total_clicks'],\n",
    "                       start_p=1, max_p=5,\n",
    "                       start_q=18, max_q=22,\n",
    "                       seasonal=False,\n",
    "                       trend = 'n',\n",
    "                       trace=True)\n",
    "\n",
    "# ARIMA(0,1,16)(0,0,0)[0], AIC=8803.987"
   ]
  },
  {
   "cell_type": "code",
   "execution_count": 104,
   "metadata": {},
   "outputs": [
    {
     "name": "stdout",
     "output_type": "stream",
     "text": [
      "Performing stepwise search to minimize aic\n",
      " ARIMA(1,1,18)(0,0,0)[0] intercept   : AIC=8810.960, Time=3.49 sec\n",
      " ARIMA(0,1,0)(0,0,0)[0] intercept   : AIC=8862.678, Time=0.03 sec\n",
      " ARIMA(1,1,0)(0,0,0)[0] intercept   : AIC=8858.339, Time=0.02 sec\n",
      " ARIMA(0,1,1)(0,0,0)[0] intercept   : AIC=8854.132, Time=0.04 sec\n",
      " ARIMA(0,1,0)(0,0,0)[0]             : AIC=8862.678, Time=0.03 sec\n",
      " ARIMA(0,1,18)(0,0,0)[0] intercept   : AIC=8809.050, Time=1.98 sec\n",
      " ARIMA(0,1,17)(0,0,0)[0] intercept   : AIC=8807.487, Time=1.50 sec\n",
      " ARIMA(0,1,16)(0,0,0)[0] intercept   : AIC=8805.932, Time=3.26 sec\n",
      " ARIMA(0,1,15)(0,0,0)[0] intercept   : AIC=8816.474, Time=1.80 sec\n",
      " ARIMA(1,1,16)(0,0,0)[0] intercept   : AIC=8807.541, Time=3.57 sec\n",
      " ARIMA(1,1,15)(0,0,0)[0] intercept   : AIC=8808.917, Time=4.02 sec\n",
      " ARIMA(1,1,17)(0,0,0)[0] intercept   : AIC=8809.175, Time=4.47 sec\n",
      " ARIMA(0,1,16)(0,0,0)[0]             : AIC=8805.932, Time=3.04 sec\n",
      "\n",
      "Best model:  ARIMA(0,1,16)(0,0,0)[0]          \n",
      "Total fit time: 27.269 seconds\n"
     ]
    }
   ],
   "source": [
    "import pmdarima as pm\n",
    "smodel = pm.auto_arima(train_df['total_clicks'],\n",
    "                       start_p=1, max_p=5,\n",
    "                       start_q=18, max_q=22,\n",
    "                       seasonal=False,\n",
    "                       trend = 't',\n",
    "                       trace=True)\n",
    "\n",
    "# ARIMA(0,1,16)(0,0,0)[0], AIC=8805.932"
   ]
  },
  {
   "cell_type": "code",
   "execution_count": 105,
   "metadata": {},
   "outputs": [
    {
     "name": "stdout",
     "output_type": "stream",
     "text": [
      "Performing stepwise search to minimize aic\n",
      " ARIMA(1,1,18)(0,0,0)[0] intercept   : AIC=8810.895, Time=3.57 sec\n",
      " ARIMA(0,1,0)(0,0,0)[0] intercept   : AIC=8862.650, Time=0.02 sec\n",
      " ARIMA(1,1,0)(0,0,0)[0] intercept   : AIC=8858.305, Time=0.03 sec\n",
      " ARIMA(0,1,1)(0,0,0)[0] intercept   : AIC=8854.071, Time=0.07 sec\n",
      " ARIMA(0,1,0)(0,0,0)[0]             : AIC=8862.650, Time=0.01 sec\n",
      " ARIMA(0,1,18)(0,0,0)[0] intercept   : AIC=8809.001, Time=1.94 sec\n",
      " ARIMA(0,1,17)(0,0,0)[0] intercept   : AIC=8807.420, Time=1.78 sec\n",
      " ARIMA(0,1,16)(0,0,0)[0] intercept   : AIC=8805.869, Time=2.64 sec\n",
      " ARIMA(0,1,15)(0,0,0)[0] intercept   : AIC=8816.439, Time=2.79 sec\n",
      " ARIMA(1,1,16)(0,0,0)[0] intercept   : AIC=8807.507, Time=4.51 sec\n",
      " ARIMA(1,1,15)(0,0,0)[0] intercept   : AIC=inf, Time=5.14 sec\n",
      " ARIMA(1,1,17)(0,0,0)[0] intercept   : AIC=8809.124, Time=4.93 sec\n",
      " ARIMA(0,1,16)(0,0,0)[0]             : AIC=8805.869, Time=3.53 sec\n",
      "\n",
      "Best model:  ARIMA(0,1,16)(0,0,0)[0] intercept\n",
      "Total fit time: 30.979 seconds\n"
     ]
    }
   ],
   "source": [
    "smodel = pm.auto_arima(train_df['total_clicks'],\n",
    "                       start_p=1, max_p=5,\n",
    "                       start_q=18, max_q=22,\n",
    "                       seasonal=False,\n",
    "                       trend = 'c',\n",
    "                       trace=True)\n",
    "\n",
    "# ARIMA(0,1,16)(0,0,0)[0], AIC=8805.869"
   ]
  },
  {
   "cell_type": "code",
   "execution_count": 106,
   "metadata": {},
   "outputs": [
    {
     "name": "stdout",
     "output_type": "stream",
     "text": [
      "Performing stepwise search to minimize aic\n",
      " ARIMA(1,1,18)(0,0,0)[0] intercept   : AIC=8812.882, Time=3.67 sec\n",
      " ARIMA(0,1,0)(0,0,0)[0] intercept   : AIC=8864.642, Time=0.05 sec\n",
      " ARIMA(1,1,0)(0,0,0)[0] intercept   : AIC=8860.293, Time=0.02 sec\n",
      " ARIMA(0,1,1)(0,0,0)[0] intercept   : AIC=8856.076, Time=0.03 sec\n",
      " ARIMA(0,1,0)(0,0,0)[0]             : AIC=8864.642, Time=0.04 sec\n",
      " ARIMA(0,1,18)(0,0,0)[0] intercept   : AIC=8810.968, Time=1.83 sec\n",
      " ARIMA(0,1,17)(0,0,0)[0] intercept   : AIC=8809.653, Time=1.88 sec\n",
      " ARIMA(0,1,16)(0,0,0)[0] intercept   : AIC=8808.210, Time=3.23 sec\n",
      " ARIMA(0,1,15)(0,0,0)[0] intercept   : AIC=8818.953, Time=2.85 sec\n",
      " ARIMA(1,1,16)(0,0,0)[0] intercept   : AIC=8809.768, Time=4.84 sec\n",
      " ARIMA(1,1,15)(0,0,0)[0] intercept   : AIC=8818.993, Time=4.61 sec\n",
      " ARIMA(1,1,17)(0,0,0)[0] intercept   : AIC=8811.275, Time=4.09 sec\n",
      " ARIMA(0,1,16)(0,0,0)[0]             : AIC=8808.210, Time=3.22 sec\n",
      "\n",
      "Best model:  ARIMA(0,1,16)(0,0,0)[0]          \n",
      "Total fit time: 30.385 seconds\n"
     ]
    }
   ],
   "source": [
    "smodel = pm.auto_arima(train_df['total_clicks'],\n",
    "                       start_p=1, max_p=5,\n",
    "                       start_q=18, max_q=22,\n",
    "                       seasonal=False,\n",
    "                       trend = 'ct',\n",
    "                       trace=True)\n",
    "\n",
    "# ARIMA(0,1,16)(0,0,0)[0], AIC=8808.210"
   ]
  },
  {
   "cell_type": "code",
   "execution_count": 110,
   "metadata": {},
   "outputs": [
    {
     "name": "stderr",
     "output_type": "stream",
     "text": [
      "/Users/valeriajimenez/.pyenv/versions/3.10.6/envs/MMM-project-lewagon/lib/python3.10/site-packages/statsmodels/tsa/base/tsa_model.py:473: ValueWarning: No frequency information was provided, so inferred frequency D will be used.\n",
      "  self._init_dates(dates, freq)\n",
      "/Users/valeriajimenez/.pyenv/versions/3.10.6/envs/MMM-project-lewagon/lib/python3.10/site-packages/statsmodels/tsa/base/tsa_model.py:473: ValueWarning: No frequency information was provided, so inferred frequency D will be used.\n",
      "  self._init_dates(dates, freq)\n",
      "/Users/valeriajimenez/.pyenv/versions/3.10.6/envs/MMM-project-lewagon/lib/python3.10/site-packages/statsmodels/tsa/base/tsa_model.py:473: ValueWarning: No frequency information was provided, so inferred frequency D will be used.\n",
      "  self._init_dates(dates, freq)\n"
     ]
    },
    {
     "data": {
      "text/html": [
       "<table class=\"simpletable\">\n",
       "<caption>SARIMAX Results</caption>\n",
       "<tr>\n",
       "  <th>Dep. Variable:</th>     <td>total_clicks</td>   <th>  No. Observations:  </th>    <td>655</td>   \n",
       "</tr>\n",
       "<tr>\n",
       "  <th>Model:</th>            <td>ARIMA(0, 1, 16)</td> <th>  Log Likelihood     </th> <td>-4384.994</td>\n",
       "</tr>\n",
       "<tr>\n",
       "  <th>Date:</th>            <td>Wed, 06 Sep 2023</td> <th>  AIC                </th> <td>8803.987</td> \n",
       "</tr>\n",
       "<tr>\n",
       "  <th>Time:</th>                <td>15:34:20</td>     <th>  BIC                </th> <td>8880.200</td> \n",
       "</tr>\n",
       "<tr>\n",
       "  <th>Sample:</th>             <td>07-01-2021</td>    <th>  HQIC               </th> <td>8833.540</td> \n",
       "</tr>\n",
       "<tr>\n",
       "  <th></th>                   <td>- 04-16-2023</td>   <th>                     </th>     <td> </td>    \n",
       "</tr>\n",
       "<tr>\n",
       "  <th>Covariance Type:</th>        <td>opg</td>       <th>                     </th>     <td> </td>    \n",
       "</tr>\n",
       "</table>\n",
       "<table class=\"simpletable\">\n",
       "<tr>\n",
       "     <td></td>       <th>coef</th>     <th>std err</th>      <th>z</th>      <th>P>|z|</th>  <th>[0.025</th>    <th>0.975]</th>  \n",
       "</tr>\n",
       "<tr>\n",
       "  <th>ma.L1</th>  <td>   -0.1104</td> <td>    0.034</td> <td>   -3.280</td> <td> 0.001</td> <td>   -0.176</td> <td>   -0.044</td>\n",
       "</tr>\n",
       "<tr>\n",
       "  <th>ma.L2</th>  <td>   -0.1677</td> <td>    0.038</td> <td>   -4.468</td> <td> 0.000</td> <td>   -0.241</td> <td>   -0.094</td>\n",
       "</tr>\n",
       "<tr>\n",
       "  <th>ma.L3</th>  <td>   -0.0123</td> <td>    0.039</td> <td>   -0.318</td> <td> 0.750</td> <td>   -0.088</td> <td>    0.063</td>\n",
       "</tr>\n",
       "<tr>\n",
       "  <th>ma.L4</th>  <td>   -0.0257</td> <td>    0.036</td> <td>   -0.718</td> <td> 0.473</td> <td>   -0.096</td> <td>    0.044</td>\n",
       "</tr>\n",
       "<tr>\n",
       "  <th>ma.L5</th>  <td>    0.0675</td> <td>    0.039</td> <td>    1.731</td> <td> 0.084</td> <td>   -0.009</td> <td>    0.144</td>\n",
       "</tr>\n",
       "<tr>\n",
       "  <th>ma.L6</th>  <td>   -0.0053</td> <td>    0.039</td> <td>   -0.138</td> <td> 0.891</td> <td>   -0.081</td> <td>    0.070</td>\n",
       "</tr>\n",
       "<tr>\n",
       "  <th>ma.L7</th>  <td>    0.0328</td> <td>    0.043</td> <td>    0.758</td> <td> 0.448</td> <td>   -0.052</td> <td>    0.118</td>\n",
       "</tr>\n",
       "<tr>\n",
       "  <th>ma.L8</th>  <td>    0.0254</td> <td>    0.033</td> <td>    0.766</td> <td> 0.443</td> <td>   -0.040</td> <td>    0.091</td>\n",
       "</tr>\n",
       "<tr>\n",
       "  <th>ma.L9</th>  <td>   -0.1744</td> <td>    0.035</td> <td>   -5.032</td> <td> 0.000</td> <td>   -0.242</td> <td>   -0.106</td>\n",
       "</tr>\n",
       "<tr>\n",
       "  <th>ma.L10</th> <td>    0.1106</td> <td>    0.043</td> <td>    2.569</td> <td> 0.010</td> <td>    0.026</td> <td>    0.195</td>\n",
       "</tr>\n",
       "<tr>\n",
       "  <th>ma.L11</th> <td>    0.0560</td> <td>    0.030</td> <td>    1.861</td> <td> 0.063</td> <td>   -0.003</td> <td>    0.115</td>\n",
       "</tr>\n",
       "<tr>\n",
       "  <th>ma.L12</th> <td>   -0.0580</td> <td>    0.039</td> <td>   -1.471</td> <td> 0.141</td> <td>   -0.135</td> <td>    0.019</td>\n",
       "</tr>\n",
       "<tr>\n",
       "  <th>ma.L13</th> <td>   -0.0364</td> <td>    0.038</td> <td>   -0.962</td> <td> 0.336</td> <td>   -0.111</td> <td>    0.038</td>\n",
       "</tr>\n",
       "<tr>\n",
       "  <th>ma.L14</th> <td>    0.0775</td> <td>    0.037</td> <td>    2.072</td> <td> 0.038</td> <td>    0.004</td> <td>    0.151</td>\n",
       "</tr>\n",
       "<tr>\n",
       "  <th>ma.L15</th> <td>   -0.0011</td> <td>    0.042</td> <td>   -0.025</td> <td> 0.980</td> <td>   -0.084</td> <td>    0.082</td>\n",
       "</tr>\n",
       "<tr>\n",
       "  <th>ma.L16</th> <td>   -0.1495</td> <td>    0.042</td> <td>   -3.523</td> <td> 0.000</td> <td>   -0.233</td> <td>   -0.066</td>\n",
       "</tr>\n",
       "<tr>\n",
       "  <th>sigma2</th> <td> 3.896e+04</td> <td> 1375.287</td> <td>   28.332</td> <td> 0.000</td> <td> 3.63e+04</td> <td> 4.17e+04</td>\n",
       "</tr>\n",
       "</table>\n",
       "<table class=\"simpletable\">\n",
       "<tr>\n",
       "  <th>Ljung-Box (L1) (Q):</th>     <td>0.01</td> <th>  Jarque-Bera (JB):  </th> <td>710.60</td>\n",
       "</tr>\n",
       "<tr>\n",
       "  <th>Prob(Q):</th>                <td>0.93</td> <th>  Prob(JB):          </th>  <td>0.00</td> \n",
       "</tr>\n",
       "<tr>\n",
       "  <th>Heteroskedasticity (H):</th> <td>0.94</td> <th>  Skew:              </th>  <td>1.01</td> \n",
       "</tr>\n",
       "<tr>\n",
       "  <th>Prob(H) (two-sided):</th>    <td>0.63</td> <th>  Kurtosis:          </th>  <td>7.69</td> \n",
       "</tr>\n",
       "</table><br/><br/>Warnings:<br/>[1] Covariance matrix calculated using the outer product of gradients (complex-step)."
      ],
      "text/latex": [
       "\\begin{center}\n",
       "\\begin{tabular}{lclc}\n",
       "\\toprule\n",
       "\\textbf{Dep. Variable:}          &  total\\_clicks   & \\textbf{  No. Observations:  } &    655      \\\\\n",
       "\\textbf{Model:}                  & ARIMA(0, 1, 16)  & \\textbf{  Log Likelihood     } & -4384.994   \\\\\n",
       "\\textbf{Date:}                   & Wed, 06 Sep 2023 & \\textbf{  AIC                } &  8803.987   \\\\\n",
       "\\textbf{Time:}                   &     15:34:20     & \\textbf{  BIC                } &  8880.200   \\\\\n",
       "\\textbf{Sample:}                 &    07-01-2021    & \\textbf{  HQIC               } &  8833.540   \\\\\n",
       "\\textbf{}                        &   - 04-16-2023   & \\textbf{                     } &             \\\\\n",
       "\\textbf{Covariance Type:}        &       opg        & \\textbf{                     } &             \\\\\n",
       "\\bottomrule\n",
       "\\end{tabular}\n",
       "\\begin{tabular}{lcccccc}\n",
       "                & \\textbf{coef} & \\textbf{std err} & \\textbf{z} & \\textbf{P$> |$z$|$} & \\textbf{[0.025} & \\textbf{0.975]}  \\\\\n",
       "\\midrule\n",
       "\\textbf{ma.L1}  &      -0.1104  &        0.034     &    -3.280  &         0.001        &       -0.176    &       -0.044     \\\\\n",
       "\\textbf{ma.L2}  &      -0.1677  &        0.038     &    -4.468  &         0.000        &       -0.241    &       -0.094     \\\\\n",
       "\\textbf{ma.L3}  &      -0.0123  &        0.039     &    -0.318  &         0.750        &       -0.088    &        0.063     \\\\\n",
       "\\textbf{ma.L4}  &      -0.0257  &        0.036     &    -0.718  &         0.473        &       -0.096    &        0.044     \\\\\n",
       "\\textbf{ma.L5}  &       0.0675  &        0.039     &     1.731  &         0.084        &       -0.009    &        0.144     \\\\\n",
       "\\textbf{ma.L6}  &      -0.0053  &        0.039     &    -0.138  &         0.891        &       -0.081    &        0.070     \\\\\n",
       "\\textbf{ma.L7}  &       0.0328  &        0.043     &     0.758  &         0.448        &       -0.052    &        0.118     \\\\\n",
       "\\textbf{ma.L8}  &       0.0254  &        0.033     &     0.766  &         0.443        &       -0.040    &        0.091     \\\\\n",
       "\\textbf{ma.L9}  &      -0.1744  &        0.035     &    -5.032  &         0.000        &       -0.242    &       -0.106     \\\\\n",
       "\\textbf{ma.L10} &       0.1106  &        0.043     &     2.569  &         0.010        &        0.026    &        0.195     \\\\\n",
       "\\textbf{ma.L11} &       0.0560  &        0.030     &     1.861  &         0.063        &       -0.003    &        0.115     \\\\\n",
       "\\textbf{ma.L12} &      -0.0580  &        0.039     &    -1.471  &         0.141        &       -0.135    &        0.019     \\\\\n",
       "\\textbf{ma.L13} &      -0.0364  &        0.038     &    -0.962  &         0.336        &       -0.111    &        0.038     \\\\\n",
       "\\textbf{ma.L14} &       0.0775  &        0.037     &     2.072  &         0.038        &        0.004    &        0.151     \\\\\n",
       "\\textbf{ma.L15} &      -0.0011  &        0.042     &    -0.025  &         0.980        &       -0.084    &        0.082     \\\\\n",
       "\\textbf{ma.L16} &      -0.1495  &        0.042     &    -3.523  &         0.000        &       -0.233    &       -0.066     \\\\\n",
       "\\textbf{sigma2} &    3.896e+04  &     1375.287     &    28.332  &         0.000        &     3.63e+04    &     4.17e+04     \\\\\n",
       "\\bottomrule\n",
       "\\end{tabular}\n",
       "\\begin{tabular}{lclc}\n",
       "\\textbf{Ljung-Box (L1) (Q):}     & 0.01 & \\textbf{  Jarque-Bera (JB):  } & 710.60  \\\\\n",
       "\\textbf{Prob(Q):}                & 0.93 & \\textbf{  Prob(JB):          } &  0.00   \\\\\n",
       "\\textbf{Heteroskedasticity (H):} & 0.94 & \\textbf{  Skew:              } &  1.01   \\\\\n",
       "\\textbf{Prob(H) (two-sided):}    & 0.63 & \\textbf{  Kurtosis:          } &  7.69   \\\\\n",
       "\\bottomrule\n",
       "\\end{tabular}\n",
       "%\\caption{SARIMAX Results}\n",
       "\\end{center}\n",
       "\n",
       "Warnings: \\newline\n",
       " [1] Covariance matrix calculated using the outer product of gradients (complex-step)."
      ],
      "text/plain": [
       "<class 'statsmodels.iolib.summary.Summary'>\n",
       "\"\"\"\n",
       "                               SARIMAX Results                                \n",
       "==============================================================================\n",
       "Dep. Variable:           total_clicks   No. Observations:                  655\n",
       "Model:                ARIMA(0, 1, 16)   Log Likelihood               -4384.994\n",
       "Date:                Wed, 06 Sep 2023   AIC                           8803.987\n",
       "Time:                        15:34:20   BIC                           8880.200\n",
       "Sample:                    07-01-2021   HQIC                          8833.540\n",
       "                         - 04-16-2023                                         \n",
       "Covariance Type:                  opg                                         \n",
       "==============================================================================\n",
       "                 coef    std err          z      P>|z|      [0.025      0.975]\n",
       "------------------------------------------------------------------------------\n",
       "ma.L1         -0.1104      0.034     -3.280      0.001      -0.176      -0.044\n",
       "ma.L2         -0.1677      0.038     -4.468      0.000      -0.241      -0.094\n",
       "ma.L3         -0.0123      0.039     -0.318      0.750      -0.088       0.063\n",
       "ma.L4         -0.0257      0.036     -0.718      0.473      -0.096       0.044\n",
       "ma.L5          0.0675      0.039      1.731      0.084      -0.009       0.144\n",
       "ma.L6         -0.0053      0.039     -0.138      0.891      -0.081       0.070\n",
       "ma.L7          0.0328      0.043      0.758      0.448      -0.052       0.118\n",
       "ma.L8          0.0254      0.033      0.766      0.443      -0.040       0.091\n",
       "ma.L9         -0.1744      0.035     -5.032      0.000      -0.242      -0.106\n",
       "ma.L10         0.1106      0.043      2.569      0.010       0.026       0.195\n",
       "ma.L11         0.0560      0.030      1.861      0.063      -0.003       0.115\n",
       "ma.L12        -0.0580      0.039     -1.471      0.141      -0.135       0.019\n",
       "ma.L13        -0.0364      0.038     -0.962      0.336      -0.111       0.038\n",
       "ma.L14         0.0775      0.037      2.072      0.038       0.004       0.151\n",
       "ma.L15        -0.0011      0.042     -0.025      0.980      -0.084       0.082\n",
       "ma.L16        -0.1495      0.042     -3.523      0.000      -0.233      -0.066\n",
       "sigma2      3.896e+04   1375.287     28.332      0.000    3.63e+04    4.17e+04\n",
       "===================================================================================\n",
       "Ljung-Box (L1) (Q):                   0.01   Jarque-Bera (JB):               710.60\n",
       "Prob(Q):                              0.93   Prob(JB):                         0.00\n",
       "Heteroskedasticity (H):               0.94   Skew:                             1.01\n",
       "Prob(H) (two-sided):                  0.63   Kurtosis:                         7.69\n",
       "===================================================================================\n",
       "\n",
       "Warnings:\n",
       "[1] Covariance matrix calculated using the outer product of gradients (complex-step).\n",
       "\"\"\""
      ]
     },
     "execution_count": 110,
     "metadata": {},
     "output_type": "execute_result"
    }
   ],
   "source": [
    "clicks_arima = ARIMA(pipe_df_minmax['total_clicks'], order=(0,1,16), trend='n')\n",
    "clicks_arima = clicks_arima.fit()\n",
    "clicks_arima.summary()"
   ]
  },
  {
   "cell_type": "code",
   "execution_count": 112,
   "metadata": {},
   "outputs": [
    {
     "data": {
      "image/png": "[encoded data removed]",
      "text/plain": [
       "<Figure size 1200x500 with 1 Axes>"
      ]
     },
     "metadata": {},
     "output_type": "display_data"
    }
   ],
   "source": [
    "clicks_forecast = clicks_arima.forecast(len(test_df_minmax))\n",
    "clicks_forecast = pd.DataFrame(clicks_forecast)\n",
    "\n",
    "pipe_df_minmax['total_clicks'][-129:].plot(figsize=(12,5),legend=True).autoscale(axis='x',tight=True)\n",
    "clicks_forecast['predicted_mean'][-129:].plot(legend=True);"
   ]
  },
  {
   "cell_type": "markdown",
   "metadata": {},
   "source": [
    "## Facebook"
   ]
  },
  {
   "cell_type": "code",
   "execution_count": 39,
   "metadata": {},
   "outputs": [
    {
     "data": {
      "image/png": "[encoded data removed]",
      "text/plain": [
       "<Figure size 1600x300 with 2 Axes>"
      ]
     },
     "metadata": {},
     "output_type": "display_data"
    }
   ],
   "source": [
    "fig, axes = plt.subplots(1,2, figsize=(16,3))\n",
    "\n",
    "plot_acf(pipe_df_minmax['facebook'], lags=50, ax=axes[0]);\n",
    "plot_pacf(pipe_df_minmax['facebook'], lags=50, ax=axes[1], color='r');"
   ]
  },
  {
   "cell_type": "code",
   "execution_count": 78,
   "metadata": {},
   "outputs": [
    {
     "name": "stdout",
     "output_type": "stream",
     "text": [
      "Performing stepwise search to minimize aic\n",
      " ARIMA(1,0,13)(0,0,0)[0]             : AIC=-1647.126, Time=2.13 sec\n",
      " ARIMA(0,0,0)(0,0,0)[0]             : AIC=-102.593, Time=0.05 sec\n",
      " ARIMA(1,0,0)(0,0,0)[0]             : AIC=-1618.889, Time=0.08 sec\n",
      " ARIMA(0,0,1)(0,0,0)[0]             : AIC=-701.536, Time=0.17 sec\n",
      " ARIMA(0,0,13)(0,0,0)[0]             : AIC=-1538.124, Time=4.36 sec\n",
      " ARIMA(1,0,12)(0,0,0)[0]             : AIC=-1639.531, Time=1.91 sec\n",
      " ARIMA(2,0,13)(0,0,0)[0]             : AIC=-1646.620, Time=1.24 sec\n",
      " ARIMA(1,0,14)(0,0,0)[0]             : AIC=-1635.661, Time=2.58 sec\n",
      " ARIMA(0,0,12)(0,0,0)[0]             : AIC=33.293, Time=1.97 sec\n",
      " ARIMA(0,0,14)(0,0,0)[0]             : AIC=inf, Time=4.46 sec\n",
      " ARIMA(2,0,12)(0,0,0)[0]             : AIC=-1634.862, Time=1.27 sec\n",
      " ARIMA(2,0,14)(0,0,0)[0]             : AIC=-1631.107, Time=1.66 sec\n",
      " ARIMA(1,0,13)(0,0,0)[0] intercept   : AIC=-1647.126, Time=1.83 sec\n",
      "\n",
      "Best model:  ARIMA(1,0,13)(0,0,0)[0] intercept\n",
      "Total fit time: 23.730 seconds\n"
     ]
    }
   ],
   "source": [
    "fb_model = pm.auto_arima(pipe_df_minmax['facebook'],\n",
    "                       start_p=1, max_p=4,\n",
    "                       start_q=13, max_q=19,\n",
    "                       seasonal=False,\n",
    "                       trend='t',\n",
    "                       trace=True)\n",
    "\n",
    "# ARIMA(1,0,13)(0,0,0)[0], AIC=-1647.126"
   ]
  },
  {
   "cell_type": "code",
   "execution_count": 107,
   "metadata": {},
   "outputs": [
    {
     "name": "stdout",
     "output_type": "stream",
     "text": [
      "Performing stepwise search to minimize aic\n",
      " ARIMA(1,0,13)(0,0,0)[0]             : AIC=-1660.961, Time=2.03 sec\n",
      " ARIMA(0,0,0)(0,0,0)[0]             : AIC=401.885, Time=0.02 sec\n",
      " ARIMA(1,0,0)(0,0,0)[0]             : AIC=-1611.176, Time=0.02 sec\n",
      " ARIMA(0,0,1)(0,0,0)[0]             : AIC=-281.261, Time=0.10 sec\n",
      " ARIMA(0,0,13)(0,0,0)[0]             : AIC=-1553.876, Time=2.50 sec\n",
      " ARIMA(1,0,12)(0,0,0)[0]             : AIC=-1653.858, Time=2.12 sec\n",
      " ARIMA(2,0,13)(0,0,0)[0]             : AIC=-1660.507, Time=2.30 sec\n",
      " ARIMA(1,0,14)(0,0,0)[0]             : AIC=-1661.256, Time=2.82 sec\n",
      " ARIMA(0,0,14)(0,0,0)[0]             : AIC=inf, Time=4.02 sec\n",
      " ARIMA(2,0,14)(0,0,0)[0]             : AIC=-1658.620, Time=3.42 sec\n",
      " ARIMA(1,0,15)(0,0,0)[0]             : AIC=-1659.685, Time=2.70 sec\n",
      " ARIMA(0,0,15)(0,0,0)[0]             : AIC=-1587.689, Time=3.54 sec\n",
      " ARIMA(2,0,15)(0,0,0)[0]             : AIC=-1658.745, Time=3.94 sec\n",
      " ARIMA(1,0,14)(0,0,0)[0] intercept   : AIC=-1661.256, Time=3.24 sec\n",
      "\n",
      "Best model:  ARIMA(1,0,14)(0,0,0)[0]          \n",
      "Total fit time: 32.783 seconds\n"
     ]
    }
   ],
   "source": [
    "fb_model = pm.auto_arima(pipe_df_minmax['facebook'],\n",
    "                       start_p=1, max_p=4,\n",
    "                       start_q=13, max_q=19,\n",
    "                       seasonal=False,\n",
    "                       trend='n',\n",
    "                       trace=True)\n",
    "\n",
    "# ARIMA(1,0,14)(0,0,0)[0], AIC=-1661.256"
   ]
  },
  {
   "cell_type": "code",
   "execution_count": 85,
   "metadata": {},
   "outputs": [
    {
     "name": "stdout",
     "output_type": "stream",
     "text": [
      "Performing stepwise search to minimize aic\n",
      " ARIMA(1,0,13)(0,0,0)[0]             : AIC=-1671.488, Time=3.43 sec\n",
      " ARIMA(0,0,0)(0,0,0)[0]             : AIC=-326.244, Time=0.06 sec\n",
      " ARIMA(1,0,0)(0,0,0)[0]             : AIC=-1626.412, Time=0.02 sec\n",
      " ARIMA(0,0,1)(0,0,0)[0]             : AIC=-878.228, Time=0.05 sec\n",
      " ARIMA(0,0,13)(0,0,0)[0]             : AIC=-1653.955, Time=2.98 sec\n",
      " ARIMA(1,0,12)(0,0,0)[0]             : AIC=-1666.190, Time=2.51 sec\n",
      " ARIMA(2,0,13)(0,0,0)[0]             : AIC=-1671.337, Time=3.17 sec\n",
      " ARIMA(1,0,14)(0,0,0)[0]             : AIC=-1672.605, Time=3.41 sec\n",
      " ARIMA(0,0,14)(0,0,0)[0]             : AIC=-1573.667, Time=3.49 sec\n",
      " ARIMA(2,0,14)(0,0,0)[0]             : AIC=-1669.841, Time=3.46 sec\n",
      " ARIMA(1,0,15)(0,0,0)[0]             : AIC=-1671.766, Time=3.35 sec\n",
      " ARIMA(0,0,15)(0,0,0)[0]             : AIC=-1665.430, Time=3.27 sec\n",
      " ARIMA(2,0,15)(0,0,0)[0]             : AIC=-1670.699, Time=3.44 sec\n",
      " ARIMA(1,0,14)(0,0,0)[0] intercept   : AIC=-1672.605, Time=3.15 sec\n",
      "\n",
      "Best model:  ARIMA(1,0,14)(0,0,0)[0] intercept\n",
      "Total fit time: 35.810 seconds\n"
     ]
    }
   ],
   "source": [
    "fb_model = pm.auto_arima(pipe_df_minmax['facebook'],\n",
    "                       start_p=1, max_p=4,\n",
    "                       start_q=13, max_q=19,\n",
    "                       seasonal=False,\n",
    "                       trend='c',\n",
    "                       trace=True)\n",
    "\n",
    "# ARIMA(1,0,14)(0,0,0)[0], AIC=-1672.605"
   ]
  },
  {
   "cell_type": "code",
   "execution_count": 86,
   "metadata": {},
   "outputs": [
    {
     "name": "stdout",
     "output_type": "stream",
     "text": [
      "Performing stepwise search to minimize aic\n",
      " ARIMA(1,0,13)(0,0,0)[0]             : AIC=-1649.040, Time=1.29 sec\n",
      " ARIMA(0,0,0)(0,0,0)[0]             : AIC=-328.914, Time=0.07 sec\n",
      " ARIMA(1,0,0)(0,0,0)[0]             : AIC=-1624.676, Time=0.09 sec\n",
      " ARIMA(0,0,1)(0,0,0)[0]             : AIC=-868.573, Time=0.19 sec\n",
      " ARIMA(0,0,13)(0,0,0)[0]             : AIC=-110.901, Time=1.81 sec\n",
      " ARIMA(1,0,12)(0,0,0)[0]             : AIC=-1643.755, Time=1.08 sec\n",
      " ARIMA(2,0,13)(0,0,0)[0]             : AIC=-1648.688, Time=1.60 sec\n",
      " ARIMA(1,0,14)(0,0,0)[0]             : AIC=-1637.600, Time=1.24 sec\n",
      " ARIMA(0,0,12)(0,0,0)[0]             : AIC=inf, Time=2.61 sec\n",
      " ARIMA(0,0,14)(0,0,0)[0]             : AIC=inf, Time=3.08 sec\n",
      " ARIMA(2,0,12)(0,0,0)[0]             : AIC=-1657.676, Time=3.71 sec\n",
      " ARIMA(2,0,11)(0,0,0)[0]             : AIC=-1652.852, Time=1.51 sec\n",
      " ARIMA(3,0,12)(0,0,0)[0]             : AIC=-1646.463, Time=1.94 sec\n",
      " ARIMA(1,0,11)(0,0,0)[0]             : AIC=-1656.028, Time=1.51 sec\n",
      " ARIMA(3,0,11)(0,0,0)[0]             : AIC=-1635.517, Time=1.54 sec\n",
      " ARIMA(3,0,13)(0,0,0)[0]             : AIC=-1667.721, Time=2.66 sec\n",
      " ARIMA(4,0,13)(0,0,0)[0]             : AIC=-1658.852, Time=3.19 sec\n",
      " ARIMA(3,0,14)(0,0,0)[0]             : AIC=-1661.202, Time=3.41 sec\n",
      " ARIMA(2,0,14)(0,0,0)[0]             : AIC=-1632.601, Time=1.77 sec\n",
      " ARIMA(4,0,12)(0,0,0)[0]             : AIC=-1653.261, Time=2.69 sec\n",
      " ARIMA(4,0,14)(0,0,0)[0]             : AIC=-1629.838, Time=1.82 sec\n",
      " ARIMA(3,0,13)(0,0,0)[0] intercept   : AIC=-1667.721, Time=2.91 sec\n",
      "\n",
      "Best model:  ARIMA(3,0,13)(0,0,0)[0]          \n",
      "Total fit time: 41.741 seconds\n"
     ]
    }
   ],
   "source": [
    "fb_model = pm.auto_arima(pipe_df_minmax['facebook'],\n",
    "                       start_p=1, max_p=4,\n",
    "                       start_q=13, max_q=19,\n",
    "                       seasonal=False,\n",
    "                       trend='ct',\n",
    "                       trace=True)\n",
    "\n",
    "# ARIMA(3,0,13)(0,0,0)[0], AIC=-1667.721"
   ]
  },
  {
   "cell_type": "code",
   "execution_count": 113,
   "metadata": {},
   "outputs": [
    {
     "name": "stderr",
     "output_type": "stream",
     "text": [
      "/Users/valeriajimenez/.pyenv/versions/3.10.6/envs/MMM-project-lewagon/lib/python3.10/site-packages/statsmodels/tsa/base/tsa_model.py:473: ValueWarning: No frequency information was provided, so inferred frequency D will be used.\n",
      "  self._init_dates(dates, freq)\n",
      "/Users/valeriajimenez/.pyenv/versions/3.10.6/envs/MMM-project-lewagon/lib/python3.10/site-packages/statsmodels/tsa/base/tsa_model.py:473: ValueWarning: No frequency information was provided, so inferred frequency D will be used.\n",
      "  self._init_dates(dates, freq)\n",
      "/Users/valeriajimenez/.pyenv/versions/3.10.6/envs/MMM-project-lewagon/lib/python3.10/site-packages/statsmodels/tsa/base/tsa_model.py:473: ValueWarning: No frequency information was provided, so inferred frequency D will be used.\n",
      "  self._init_dates(dates, freq)\n",
      "/Users/valeriajimenez/.pyenv/versions/3.10.6/envs/MMM-project-lewagon/lib/python3.10/site-packages/statsmodels/base/model.py:607: ConvergenceWarning: Maximum Likelihood optimization failed to converge. Check mle_retvals\n",
      "  warnings.warn(\"Maximum Likelihood optimization failed to \"\n"
     ]
    },
    {
     "data": {
      "text/html": [
       "<table class=\"simpletable\">\n",
       "<caption>SARIMAX Results</caption>\n",
       "<tr>\n",
       "  <th>Dep. Variable:</th>       <td>facebook</td>     <th>  No. Observations:  </th>    <td>655</td>   \n",
       "</tr>\n",
       "<tr>\n",
       "  <th>Model:</th>            <td>ARIMA(1, 0, 14)</td> <th>  Log Likelihood     </th>  <td>853.022</td> \n",
       "</tr>\n",
       "<tr>\n",
       "  <th>Date:</th>            <td>Wed, 06 Sep 2023</td> <th>  AIC                </th> <td>-1672.043</td>\n",
       "</tr>\n",
       "<tr>\n",
       "  <th>Time:</th>                <td>15:37:19</td>     <th>  BIC                </th> <td>-1595.805</td>\n",
       "</tr>\n",
       "<tr>\n",
       "  <th>Sample:</th>             <td>07-01-2021</td>    <th>  HQIC               </th> <td>-1642.483</td>\n",
       "</tr>\n",
       "<tr>\n",
       "  <th></th>                   <td>- 04-16-2023</td>   <th>                     </th>     <td> </td>    \n",
       "</tr>\n",
       "<tr>\n",
       "  <th>Covariance Type:</th>        <td>opg</td>       <th>                     </th>     <td> </td>    \n",
       "</tr>\n",
       "</table>\n",
       "<table class=\"simpletable\">\n",
       "<tr>\n",
       "     <td></td>       <th>coef</th>     <th>std err</th>      <th>z</th>      <th>P>|z|</th>  <th>[0.025</th>    <th>0.975]</th>  \n",
       "</tr>\n",
       "<tr>\n",
       "  <th>const</th>  <td>    0.2678</td> <td>    0.045</td> <td>    5.934</td> <td> 0.000</td> <td>    0.179</td> <td>    0.356</td>\n",
       "</tr>\n",
       "<tr>\n",
       "  <th>ar.L1</th>  <td>    0.9018</td> <td>    0.052</td> <td>   17.344</td> <td> 0.000</td> <td>    0.800</td> <td>    1.004</td>\n",
       "</tr>\n",
       "<tr>\n",
       "  <th>ma.L1</th>  <td>   -0.1279</td> <td>    0.057</td> <td>   -2.245</td> <td> 0.025</td> <td>   -0.239</td> <td>   -0.016</td>\n",
       "</tr>\n",
       "<tr>\n",
       "  <th>ma.L2</th>  <td>    0.0160</td> <td>    0.054</td> <td>    0.299</td> <td> 0.765</td> <td>   -0.089</td> <td>    0.121</td>\n",
       "</tr>\n",
       "<tr>\n",
       "  <th>ma.L3</th>  <td>    0.0623</td> <td>    0.048</td> <td>    1.294</td> <td> 0.196</td> <td>   -0.032</td> <td>    0.157</td>\n",
       "</tr>\n",
       "<tr>\n",
       "  <th>ma.L4</th>  <td>    0.0905</td> <td>    0.047</td> <td>    1.906</td> <td> 0.057</td> <td>   -0.003</td> <td>    0.184</td>\n",
       "</tr>\n",
       "<tr>\n",
       "  <th>ma.L5</th>  <td>    0.0464</td> <td>    0.049</td> <td>    0.947</td> <td> 0.344</td> <td>   -0.050</td> <td>    0.143</td>\n",
       "</tr>\n",
       "<tr>\n",
       "  <th>ma.L6</th>  <td>    0.0770</td> <td>    0.048</td> <td>    1.620</td> <td> 0.105</td> <td>   -0.016</td> <td>    0.170</td>\n",
       "</tr>\n",
       "<tr>\n",
       "  <th>ma.L7</th>  <td>    0.0988</td> <td>    0.044</td> <td>    2.255</td> <td> 0.024</td> <td>    0.013</td> <td>    0.185</td>\n",
       "</tr>\n",
       "<tr>\n",
       "  <th>ma.L8</th>  <td>    0.0501</td> <td>    0.052</td> <td>    0.970</td> <td> 0.332</td> <td>   -0.051</td> <td>    0.151</td>\n",
       "</tr>\n",
       "<tr>\n",
       "  <th>ma.L9</th>  <td>   -0.1156</td> <td>    0.052</td> <td>   -2.221</td> <td> 0.026</td> <td>   -0.218</td> <td>   -0.014</td>\n",
       "</tr>\n",
       "<tr>\n",
       "  <th>ma.L10</th> <td>    0.2281</td> <td>    0.045</td> <td>    5.094</td> <td> 0.000</td> <td>    0.140</td> <td>    0.316</td>\n",
       "</tr>\n",
       "<tr>\n",
       "  <th>ma.L11</th> <td>   -0.0863</td> <td>    0.043</td> <td>   -2.003</td> <td> 0.045</td> <td>   -0.171</td> <td>   -0.002</td>\n",
       "</tr>\n",
       "<tr>\n",
       "  <th>ma.L12</th> <td>    0.0066</td> <td>    0.037</td> <td>    0.179</td> <td> 0.858</td> <td>   -0.066</td> <td>    0.079</td>\n",
       "</tr>\n",
       "<tr>\n",
       "  <th>ma.L13</th> <td>   -0.1361</td> <td>    0.039</td> <td>   -3.507</td> <td> 0.000</td> <td>   -0.212</td> <td>   -0.060</td>\n",
       "</tr>\n",
       "<tr>\n",
       "  <th>ma.L14</th> <td>    0.0971</td> <td>    0.039</td> <td>    2.476</td> <td> 0.013</td> <td>    0.020</td> <td>    0.174</td>\n",
       "</tr>\n",
       "<tr>\n",
       "  <th>sigma2</th> <td>    0.0043</td> <td>    0.000</td> <td>   28.324</td> <td> 0.000</td> <td>    0.004</td> <td>    0.005</td>\n",
       "</tr>\n",
       "</table>\n",
       "<table class=\"simpletable\">\n",
       "<tr>\n",
       "  <th>Ljung-Box (L1) (Q):</th>     <td>0.00</td> <th>  Jarque-Bera (JB):  </th> <td>2475.35</td>\n",
       "</tr>\n",
       "<tr>\n",
       "  <th>Prob(Q):</th>                <td>0.96</td> <th>  Prob(JB):          </th>  <td>0.00</td>  \n",
       "</tr>\n",
       "<tr>\n",
       "  <th>Heteroskedasticity (H):</th> <td>0.33</td> <th>  Skew:              </th>  <td>0.99</td>  \n",
       "</tr>\n",
       "<tr>\n",
       "  <th>Prob(H) (two-sided):</th>    <td>0.00</td> <th>  Kurtosis:          </th>  <td>12.31</td> \n",
       "</tr>\n",
       "</table><br/><br/>Warnings:<br/>[1] Covariance matrix calculated using the outer product of gradients (complex-step)."
      ],
      "text/latex": [
       "\\begin{center}\n",
       "\\begin{tabular}{lclc}\n",
       "\\toprule\n",
       "\\textbf{Dep. Variable:}          &     facebook     & \\textbf{  No. Observations:  } &    655      \\\\\n",
       "\\textbf{Model:}                  & ARIMA(1, 0, 14)  & \\textbf{  Log Likelihood     } &  853.022    \\\\\n",
       "\\textbf{Date:}                   & Wed, 06 Sep 2023 & \\textbf{  AIC                } & -1672.043   \\\\\n",
       "\\textbf{Time:}                   &     15:37:19     & \\textbf{  BIC                } & -1595.805   \\\\\n",
       "\\textbf{Sample:}                 &    07-01-2021    & \\textbf{  HQIC               } & -1642.483   \\\\\n",
       "\\textbf{}                        &   - 04-16-2023   & \\textbf{                     } &             \\\\\n",
       "\\textbf{Covariance Type:}        &       opg        & \\textbf{                     } &             \\\\\n",
       "\\bottomrule\n",
       "\\end{tabular}\n",
       "\\begin{tabular}{lcccccc}\n",
       "                & \\textbf{coef} & \\textbf{std err} & \\textbf{z} & \\textbf{P$> |$z$|$} & \\textbf{[0.025} & \\textbf{0.975]}  \\\\\n",
       "\\midrule\n",
       "\\textbf{const}  &       0.2678  &        0.045     &     5.934  &         0.000        &        0.179    &        0.356     \\\\\n",
       "\\textbf{ar.L1}  &       0.9018  &        0.052     &    17.344  &         0.000        &        0.800    &        1.004     \\\\\n",
       "\\textbf{ma.L1}  &      -0.1279  &        0.057     &    -2.245  &         0.025        &       -0.239    &       -0.016     \\\\\n",
       "\\textbf{ma.L2}  &       0.0160  &        0.054     &     0.299  &         0.765        &       -0.089    &        0.121     \\\\\n",
       "\\textbf{ma.L3}  &       0.0623  &        0.048     &     1.294  &         0.196        &       -0.032    &        0.157     \\\\\n",
       "\\textbf{ma.L4}  &       0.0905  &        0.047     &     1.906  &         0.057        &       -0.003    &        0.184     \\\\\n",
       "\\textbf{ma.L5}  &       0.0464  &        0.049     &     0.947  &         0.344        &       -0.050    &        0.143     \\\\\n",
       "\\textbf{ma.L6}  &       0.0770  &        0.048     &     1.620  &         0.105        &       -0.016    &        0.170     \\\\\n",
       "\\textbf{ma.L7}  &       0.0988  &        0.044     &     2.255  &         0.024        &        0.013    &        0.185     \\\\\n",
       "\\textbf{ma.L8}  &       0.0501  &        0.052     &     0.970  &         0.332        &       -0.051    &        0.151     \\\\\n",
       "\\textbf{ma.L9}  &      -0.1156  &        0.052     &    -2.221  &         0.026        &       -0.218    &       -0.014     \\\\\n",
       "\\textbf{ma.L10} &       0.2281  &        0.045     &     5.094  &         0.000        &        0.140    &        0.316     \\\\\n",
       "\\textbf{ma.L11} &      -0.0863  &        0.043     &    -2.003  &         0.045        &       -0.171    &       -0.002     \\\\\n",
       "\\textbf{ma.L12} &       0.0066  &        0.037     &     0.179  &         0.858        &       -0.066    &        0.079     \\\\\n",
       "\\textbf{ma.L13} &      -0.1361  &        0.039     &    -3.507  &         0.000        &       -0.212    &       -0.060     \\\\\n",
       "\\textbf{ma.L14} &       0.0971  &        0.039     &     2.476  &         0.013        &        0.020    &        0.174     \\\\\n",
       "\\textbf{sigma2} &       0.0043  &        0.000     &    28.324  &         0.000        &        0.004    &        0.005     \\\\\n",
       "\\bottomrule\n",
       "\\end{tabular}\n",
       "\\begin{tabular}{lclc}\n",
       "\\textbf{Ljung-Box (L1) (Q):}     & 0.00 & \\textbf{  Jarque-Bera (JB):  } & 2475.35  \\\\\n",
       "\\textbf{Prob(Q):}                & 0.96 & \\textbf{  Prob(JB):          } &   0.00   \\\\\n",
       "\\textbf{Heteroskedasticity (H):} & 0.33 & \\textbf{  Skew:              } &   0.99   \\\\\n",
       "\\textbf{Prob(H) (two-sided):}    & 0.00 & \\textbf{  Kurtosis:          } &  12.31   \\\\\n",
       "\\bottomrule\n",
       "\\end{tabular}\n",
       "%\\caption{SARIMAX Results}\n",
       "\\end{center}\n",
       "\n",
       "Warnings: \\newline\n",
       " [1] Covariance matrix calculated using the outer product of gradients (complex-step)."
      ],
      "text/plain": [
       "<class 'statsmodels.iolib.summary.Summary'>\n",
       "\"\"\"\n",
       "                               SARIMAX Results                                \n",
       "==============================================================================\n",
       "Dep. Variable:               facebook   No. Observations:                  655\n",
       "Model:                ARIMA(1, 0, 14)   Log Likelihood                 853.022\n",
       "Date:                Wed, 06 Sep 2023   AIC                          -1672.043\n",
       "Time:                        15:37:19   BIC                          -1595.805\n",
       "Sample:                    07-01-2021   HQIC                         -1642.483\n",
       "                         - 04-16-2023                                         \n",
       "Covariance Type:                  opg                                         \n",
       "==============================================================================\n",
       "                 coef    std err          z      P>|z|      [0.025      0.975]\n",
       "------------------------------------------------------------------------------\n",
       "const          0.2678      0.045      5.934      0.000       0.179       0.356\n",
       "ar.L1          0.9018      0.052     17.344      0.000       0.800       1.004\n",
       "ma.L1         -0.1279      0.057     -2.245      0.025      -0.239      -0.016\n",
       "ma.L2          0.0160      0.054      0.299      0.765      -0.089       0.121\n",
       "ma.L3          0.0623      0.048      1.294      0.196      -0.032       0.157\n",
       "ma.L4          0.0905      0.047      1.906      0.057      -0.003       0.184\n",
       "ma.L5          0.0464      0.049      0.947      0.344      -0.050       0.143\n",
       "ma.L6          0.0770      0.048      1.620      0.105      -0.016       0.170\n",
       "ma.L7          0.0988      0.044      2.255      0.024       0.013       0.185\n",
       "ma.L8          0.0501      0.052      0.970      0.332      -0.051       0.151\n",
       "ma.L9         -0.1156      0.052     -2.221      0.026      -0.218      -0.014\n",
       "ma.L10         0.2281      0.045      5.094      0.000       0.140       0.316\n",
       "ma.L11        -0.0863      0.043     -2.003      0.045      -0.171      -0.002\n",
       "ma.L12         0.0066      0.037      0.179      0.858      -0.066       0.079\n",
       "ma.L13        -0.1361      0.039     -3.507      0.000      -0.212      -0.060\n",
       "ma.L14         0.0971      0.039      2.476      0.013       0.020       0.174\n",
       "sigma2         0.0043      0.000     28.324      0.000       0.004       0.005\n",
       "===================================================================================\n",
       "Ljung-Box (L1) (Q):                   0.00   Jarque-Bera (JB):              2475.35\n",
       "Prob(Q):                              0.96   Prob(JB):                         0.00\n",
       "Heteroskedasticity (H):               0.33   Skew:                             0.99\n",
       "Prob(H) (two-sided):                  0.00   Kurtosis:                        12.31\n",
       "===================================================================================\n",
       "\n",
       "Warnings:\n",
       "[1] Covariance matrix calculated using the outer product of gradients (complex-step).\n",
       "\"\"\""
      ]
     },
     "execution_count": 113,
     "metadata": {},
     "output_type": "execute_result"
    }
   ],
   "source": [
    "from statsmodels.tsa.arima.model import ARIMA  #statsmodels 0.12+\n",
    "\n",
    "fb_arima = ARIMA(pipe_df_minmax['facebook'], order=(1,0,14), trend='c')\n",
    "fb_arima = fb_arima.fit()\n",
    "fb_arima.summary()"
   ]
  },
  {
   "cell_type": "code",
   "execution_count": 80,
   "metadata": {},
   "outputs": [
    {
     "name": "stderr",
     "output_type": "stream",
     "text": [
      "/var/folders/6z/35ch39_x42sc8_3pss6wly180000gn/T/ipykernel_4365/432568575.py:4: SettingWithCopyWarning: \n",
      "A value is trying to be set on a copy of a slice from a DataFrame.\n",
      "Try using .loc[row_indexer,col_indexer] = value instead\n",
      "\n",
      "See the caveats in the documentation: https://pandas.pydata.org/pandas-docs/stable/user_guide/indexing.html#returning-a-view-versus-a-copy\n",
      "  test_df_minmax['facebook'] = mm.fit_transform(test_df_minmax[['facebook']])\n",
      "/var/folders/6z/35ch39_x42sc8_3pss6wly180000gn/T/ipykernel_4365/432568575.py:5: SettingWithCopyWarning: \n",
      "A value is trying to be set on a copy of a slice from a DataFrame.\n",
      "Try using .loc[row_indexer,col_indexer] = value instead\n",
      "\n",
      "See the caveats in the documentation: https://pandas.pydata.org/pandas-docs/stable/user_guide/indexing.html#returning-a-view-versus-a-copy\n",
      "  test_df_minmax['google'] = mm.fit_transform(test_df_minmax[['google']])\n",
      "/var/folders/6z/35ch39_x42sc8_3pss6wly180000gn/T/ipykernel_4365/432568575.py:6: SettingWithCopyWarning: \n",
      "A value is trying to be set on a copy of a slice from a DataFrame.\n",
      "Try using .loc[row_indexer,col_indexer] = value instead\n",
      "\n",
      "See the caveats in the documentation: https://pandas.pydata.org/pandas-docs/stable/user_guide/indexing.html#returning-a-view-versus-a-copy\n",
      "  test_df_minmax['tiktok'] = mm.fit_transform(test_df_minmax[['tiktok']])\n"
     ]
    },
    {
     "data": {
      "text/html": [
       "<div>\n",
       "<style scoped>\n",
       "    .dataframe tbody tr th:only-of-type {\n",
       "        vertical-align: middle;\n",
       "    }\n",
       "\n",
       "    .dataframe tbody tr th {\n",
       "        vertical-align: top;\n",
       "    }\n",
       "\n",
       "    .dataframe thead th {\n",
       "        text-align: right;\n",
       "    }\n",
       "</style>\n",
       "<table border=\"1\" class=\"dataframe\">\n",
       "  <thead>\n",
       "    <tr style=\"text-align: right;\">\n",
       "      <th></th>\n",
       "      <th>facebook</th>\n",
       "      <th>google</th>\n",
       "      <th>tiktok</th>\n",
       "    </tr>\n",
       "    <tr>\n",
       "      <th>Day</th>\n",
       "      <th></th>\n",
       "      <th></th>\n",
       "      <th></th>\n",
       "    </tr>\n",
       "  </thead>\n",
       "  <tbody>\n",
       "    <tr>\n",
       "      <th>2023-04-17</th>\n",
       "      <td>0.308123</td>\n",
       "      <td>0.191324</td>\n",
       "      <td>0.486626</td>\n",
       "    </tr>\n",
       "    <tr>\n",
       "      <th>2023-04-18</th>\n",
       "      <td>0.344826</td>\n",
       "      <td>0.185894</td>\n",
       "      <td>0.462568</td>\n",
       "    </tr>\n",
       "    <tr>\n",
       "      <th>2023-04-19</th>\n",
       "      <td>0.353498</td>\n",
       "      <td>0.107421</td>\n",
       "      <td>0.625540</td>\n",
       "    </tr>\n",
       "    <tr>\n",
       "      <th>2023-04-20</th>\n",
       "      <td>0.297869</td>\n",
       "      <td>0.124552</td>\n",
       "      <td>0.666047</td>\n",
       "    </tr>\n",
       "    <tr>\n",
       "      <th>2023-04-21</th>\n",
       "      <td>0.255013</td>\n",
       "      <td>0.080851</td>\n",
       "      <td>0.611551</td>\n",
       "    </tr>\n",
       "    <tr>\n",
       "      <th>...</th>\n",
       "      <td>...</td>\n",
       "      <td>...</td>\n",
       "      <td>...</td>\n",
       "    </tr>\n",
       "    <tr>\n",
       "      <th>2023-08-20</th>\n",
       "      <td>0.970332</td>\n",
       "      <td>0.455110</td>\n",
       "      <td>0.839403</td>\n",
       "    </tr>\n",
       "    <tr>\n",
       "      <th>2023-08-21</th>\n",
       "      <td>1.000000</td>\n",
       "      <td>0.386604</td>\n",
       "      <td>0.903138</td>\n",
       "    </tr>\n",
       "    <tr>\n",
       "      <th>2023-08-22</th>\n",
       "      <td>0.578162</td>\n",
       "      <td>0.271230</td>\n",
       "      <td>0.409589</td>\n",
       "    </tr>\n",
       "    <tr>\n",
       "      <th>2023-08-23</th>\n",
       "      <td>0.568497</td>\n",
       "      <td>0.257110</td>\n",
       "      <td>0.042281</td>\n",
       "    </tr>\n",
       "    <tr>\n",
       "      <th>2023-08-24</th>\n",
       "      <td>0.651304</td>\n",
       "      <td>0.281862</td>\n",
       "      <td>0.004119</td>\n",
       "    </tr>\n",
       "  </tbody>\n",
       "</table>\n",
       "<p>130 rows × 3 columns</p>\n",
       "</div>"
      ],
      "text/plain": [
       "            facebook    google    tiktok\n",
       "Day                                     \n",
       "2023-04-17  0.308123  0.191324  0.486626\n",
       "2023-04-18  0.344826  0.185894  0.462568\n",
       "2023-04-19  0.353498  0.107421  0.625540\n",
       "2023-04-20  0.297869  0.124552  0.666047\n",
       "2023-04-21  0.255013  0.080851  0.611551\n",
       "...              ...       ...       ...\n",
       "2023-08-20  0.970332  0.455110  0.839403\n",
       "2023-08-21  1.000000  0.386604  0.903138\n",
       "2023-08-22  0.578162  0.271230  0.409589\n",
       "2023-08-23  0.568497  0.257110  0.042281\n",
       "2023-08-24  0.651304  0.281862  0.004119\n",
       "\n",
       "[130 rows x 3 columns]"
      ]
     },
     "execution_count": 80,
     "metadata": {},
     "output_type": "execute_result"
    }
   ],
   "source": [
    "mm = MinMaxScaler()\n",
    "\n",
    "test_df_minmax = test_df[['facebook', 'google', 'tiktok']]\n",
    "test_df_minmax['facebook'] = mm.fit_transform(test_df_minmax[['facebook']])\n",
    "test_df_minmax['google'] = mm.fit_transform(test_df_minmax[['google']])\n",
    "test_df_minmax['tiktok'] = mm.fit_transform(test_df_minmax[['tiktok']])\n",
    "test_df_minmax"
   ]
  },
  {
   "cell_type": "code",
   "execution_count": 114,
   "metadata": {},
   "outputs": [],
   "source": [
    "fb_forecast = fb_arima.forecast(len(test_df_minmax))\n",
    "fb_forecast = pd.DataFrame(fb_forecast)"
   ]
  },
  {
   "cell_type": "code",
   "execution_count": 115,
   "metadata": {},
   "outputs": [
    {
     "data": {
      "image/png": "[encoded data removed]",
      "text/plain": [
       "<Figure size 1200x500 with 1 Axes>"
      ]
     },
     "metadata": {},
     "output_type": "display_data"
    }
   ],
   "source": [
    "pipe_df_minmax['facebook'][-129:].plot(figsize=(12,5),legend=True).autoscale(axis='x',tight=True)\n",
    "fb_forecast['predicted_mean'][-129:].plot(legend=True);"
   ]
  },
  {
   "cell_type": "markdown",
   "metadata": {},
   "source": [
    "## Google"
   ]
  },
  {
   "cell_type": "code",
   "execution_count": 40,
   "metadata": {},
   "outputs": [
    {
     "data": {
      "image/png": "[encoded data removed]",
      "text/plain": [
       "<Figure size 1600x300 with 2 Axes>"
      ]
     },
     "metadata": {},
     "output_type": "display_data"
    }
   ],
   "source": [
    "fig, axes = plt.subplots(1,2, figsize=(16,3))\n",
    "\n",
    "plot_acf(pipe_df_minmax['google'], lags=50, ax=axes[0]);\n",
    "plot_pacf(pipe_df_minmax['google'], lags=50, ax=axes[1], color='r');"
   ]
  },
  {
   "cell_type": "code",
   "execution_count": 108,
   "metadata": {},
   "outputs": [
    {
     "name": "stdout",
     "output_type": "stream",
     "text": [
      "Performing stepwise search to minimize aic\n",
      " ARIMA(1,1,6)(1,0,1)[7] intercept   : AIC=-1795.594, Time=2.05 sec\n",
      " ARIMA(0,1,0)(0,0,0)[7] intercept   : AIC=-1682.128, Time=0.02 sec\n",
      " ARIMA(1,1,0)(1,0,0)[7] intercept   : AIC=-1728.166, Time=0.15 sec\n",
      " ARIMA(0,1,1)(0,0,1)[7] intercept   : AIC=-1742.592, Time=0.61 sec\n",
      " ARIMA(0,1,0)(0,0,0)[7]             : AIC=-1682.128, Time=0.02 sec\n",
      " ARIMA(1,1,6)(0,0,1)[7] intercept   : AIC=-1753.614, Time=1.62 sec\n",
      " ARIMA(1,1,6)(1,0,0)[7] intercept   : AIC=-1754.812, Time=1.13 sec\n",
      " ARIMA(1,1,6)(2,0,1)[7] intercept   : AIC=-1794.833, Time=2.49 sec\n",
      " ARIMA(1,1,6)(1,0,2)[7] intercept   : AIC=-1788.295, Time=3.78 sec\n",
      " ARIMA(1,1,6)(0,0,0)[7] intercept   : AIC=-1750.227, Time=0.68 sec\n",
      " ARIMA(1,1,6)(0,0,2)[7] intercept   : AIC=-1757.583, Time=2.40 sec\n",
      " ARIMA(1,1,6)(2,0,0)[7] intercept   : AIC=-1760.087, Time=1.53 sec\n",
      " ARIMA(1,1,6)(2,0,2)[7] intercept   : AIC=-1794.620, Time=4.56 sec\n",
      " ARIMA(0,1,6)(1,0,1)[7] intercept   : AIC=-1796.352, Time=1.69 sec\n",
      " ARIMA(0,1,6)(0,0,1)[7] intercept   : AIC=-1755.583, Time=1.04 sec\n",
      " ARIMA(0,1,6)(1,0,0)[7] intercept   : AIC=-1756.865, Time=0.41 sec\n",
      " ARIMA(0,1,6)(2,0,1)[7] intercept   : AIC=-1794.879, Time=2.36 sec\n",
      " ARIMA(0,1,6)(1,0,2)[7] intercept   : AIC=-1795.924, Time=3.74 sec\n",
      " ARIMA(0,1,6)(0,0,0)[7] intercept   : AIC=-1751.937, Time=0.31 sec\n",
      " ARIMA(0,1,6)(0,0,2)[7] intercept   : AIC=-1759.597, Time=1.79 sec\n",
      " ARIMA(0,1,6)(2,0,0)[7] intercept   : AIC=-1761.968, Time=0.99 sec\n",
      " ARIMA(0,1,6)(2,0,2)[7] intercept   : AIC=inf, Time=3.66 sec\n",
      " ARIMA(0,1,5)(1,0,1)[7] intercept   : AIC=-1800.494, Time=1.67 sec\n",
      " ARIMA(0,1,5)(0,0,1)[7] intercept   : AIC=-1757.415, Time=1.09 sec\n",
      " ARIMA(0,1,5)(1,0,0)[7] intercept   : AIC=-1758.810, Time=0.56 sec\n",
      " ARIMA(0,1,5)(2,0,1)[7] intercept   : AIC=-1790.754, Time=1.90 sec\n",
      " ARIMA(0,1,5)(1,0,2)[7] intercept   : AIC=-1798.519, Time=2.67 sec\n",
      " ARIMA(0,1,5)(0,0,0)[7] intercept   : AIC=-1752.745, Time=0.41 sec\n",
      " ARIMA(0,1,5)(0,0,2)[7] intercept   : AIC=-1761.580, Time=1.89 sec\n",
      " ARIMA(0,1,5)(2,0,0)[7] intercept   : AIC=-1763.960, Time=0.99 sec\n",
      " ARIMA(0,1,5)(2,0,2)[7] intercept   : AIC=-1796.869, Time=3.22 sec\n",
      " ARIMA(0,1,4)(1,0,1)[7] intercept   : AIC=-1802.409, Time=1.32 sec\n",
      " ARIMA(0,1,4)(0,0,1)[7] intercept   : AIC=-1756.066, Time=0.60 sec\n",
      " ARIMA(0,1,4)(1,0,0)[7] intercept   : AIC=-1757.226, Time=0.18 sec\n",
      " ARIMA(0,1,4)(2,0,1)[7] intercept   : AIC=-1801.638, Time=1.66 sec\n",
      " ARIMA(0,1,4)(1,0,2)[7] intercept   : AIC=-1801.634, Time=2.15 sec\n",
      " ARIMA(0,1,4)(0,0,0)[7] intercept   : AIC=-1752.995, Time=0.14 sec\n",
      " ARIMA(0,1,4)(0,0,2)[7] intercept   : AIC=-1761.691, Time=1.85 sec\n",
      " ARIMA(0,1,4)(2,0,0)[7] intercept   : AIC=-1764.638, Time=0.56 sec\n",
      " ARIMA(0,1,4)(2,0,2)[7] intercept   : AIC=inf, Time=3.65 sec\n",
      " ARIMA(0,1,3)(1,0,1)[7] intercept   : AIC=-1798.161, Time=1.07 sec\n",
      " ARIMA(1,1,4)(1,0,1)[7] intercept   : AIC=-1801.672, Time=1.94 sec\n",
      " ARIMA(1,1,3)(1,0,1)[7] intercept   : AIC=-1798.421, Time=1.74 sec\n",
      " ARIMA(1,1,5)(1,0,1)[7] intercept   : AIC=-1793.496, Time=1.52 sec\n",
      " ARIMA(0,1,4)(1,0,1)[7]             : AIC=-1802.409, Time=1.31 sec\n",
      "\n",
      "Best model:  ARIMA(0,1,4)(1,0,1)[7]          \n",
      "Total fit time: 71.257 seconds\n"
     ]
    }
   ],
   "source": [
    "gg_model = pm.auto_arima(pipe_df_minmax['google'],\n",
    "                       start_p=1, max_p=5,\n",
    "                       start_q=35, max_q=45,\n",
    "                       seasonal=True,\n",
    "                       m = 7,\n",
    "                       trend = 'n',\n",
    "                       trace=True)\n",
    "# ARIMA(0,1,4)(1,0,1)[7], AIC=-1802.409"
   ]
  },
  {
   "cell_type": "code",
   "execution_count": 83,
   "metadata": {},
   "outputs": [
    {
     "name": "stdout",
     "output_type": "stream",
     "text": [
      "Performing stepwise search to minimize aic\n",
      " ARIMA(1,1,6)(1,0,1)[7] intercept   : AIC=-1749.376, Time=2.47 sec\n",
      " ARIMA(0,1,0)(0,0,0)[7] intercept   : AIC=-1680.228, Time=0.06 sec\n",
      " ARIMA(1,1,0)(1,0,0)[7] intercept   : AIC=-1725.805, Time=0.62 sec\n",
      " ARIMA(0,1,1)(0,0,1)[7] intercept   : AIC=-1737.040, Time=0.78 sec\n",
      " ARIMA(0,1,0)(0,0,0)[7]             : AIC=-1680.228, Time=0.08 sec\n",
      " ARIMA(1,1,6)(0,0,1)[7] intercept   : AIC=-1747.509, Time=1.80 sec\n",
      " ARIMA(1,1,6)(1,0,0)[7] intercept   : AIC=-1748.465, Time=1.26 sec\n",
      " ARIMA(1,1,6)(2,0,1)[7] intercept   : AIC=-1755.701, Time=2.37 sec\n",
      " ARIMA(1,1,6)(2,0,0)[7] intercept   : AIC=-1754.059, Time=2.03 sec\n",
      " ARIMA(1,1,6)(2,0,2)[7] intercept   : AIC=-1749.533, Time=4.17 sec\n",
      " ARIMA(1,1,6)(1,0,2)[7] intercept   : AIC=-1748.392, Time=3.67 sec\n",
      " ARIMA(0,1,6)(2,0,1)[7] intercept   : AIC=-1758.021, Time=2.10 sec\n",
      " ARIMA(0,1,6)(1,0,1)[7] intercept   : AIC=-1751.611, Time=2.01 sec\n",
      " ARIMA(0,1,6)(2,0,0)[7] intercept   : AIC=-1756.797, Time=2.23 sec\n",
      " ARIMA(0,1,6)(2,0,2)[7] intercept   : AIC=-1751.408, Time=3.32 sec\n",
      " ARIMA(0,1,6)(1,0,0)[7] intercept   : AIC=-1751.294, Time=0.56 sec\n",
      " ARIMA(0,1,6)(1,0,2)[7] intercept   : AIC=-1750.247, Time=3.33 sec\n",
      " ARIMA(0,1,5)(2,0,1)[7] intercept   : AIC=-1761.683, Time=2.09 sec\n",
      " ARIMA(0,1,5)(1,0,1)[7] intercept   : AIC=-1754.456, Time=1.57 sec\n",
      " ARIMA(0,1,5)(2,0,0)[7] intercept   : AIC=-1760.390, Time=1.17 sec\n",
      " ARIMA(0,1,5)(2,0,2)[7] intercept   : AIC=-1754.290, Time=3.72 sec\n",
      " ARIMA(0,1,5)(1,0,0)[7] intercept   : AIC=-1754.396, Time=0.65 sec\n",
      " ARIMA(0,1,5)(1,0,2)[7] intercept   : AIC=-1753.104, Time=3.43 sec\n",
      " ARIMA(0,1,4)(2,0,1)[7] intercept   : AIC=-1762.875, Time=1.88 sec\n",
      " ARIMA(0,1,4)(1,0,1)[7] intercept   : AIC=-1754.038, Time=1.51 sec\n",
      " ARIMA(0,1,4)(2,0,0)[7] intercept   : AIC=-1761.044, Time=1.63 sec\n",
      " ARIMA(0,1,4)(2,0,2)[7] intercept   : AIC=-1754.757, Time=2.91 sec\n",
      " ARIMA(0,1,4)(1,0,0)[7] intercept   : AIC=-1753.203, Time=0.76 sec\n",
      " ARIMA(0,1,4)(1,0,2)[7] intercept   : AIC=-1753.514, Time=2.83 sec\n",
      " ARIMA(0,1,3)(2,0,1)[7] intercept   : AIC=-1757.143, Time=1.62 sec\n",
      " ARIMA(1,1,4)(2,0,1)[7] intercept   : AIC=-1761.301, Time=2.28 sec\n",
      " ARIMA(1,1,3)(2,0,1)[7] intercept   : AIC=-1755.671, Time=1.99 sec\n",
      " ARIMA(1,1,5)(2,0,1)[7] intercept   : AIC=-1759.876, Time=2.41 sec\n",
      " ARIMA(0,1,4)(2,0,1)[7]             : AIC=-1762.875, Time=2.25 sec\n",
      "\n",
      "Best model:  ARIMA(0,1,4)(2,0,1)[7] intercept\n",
      "Total fit time: 67.627 seconds\n"
     ]
    }
   ],
   "source": [
    "gg_model = pm.auto_arima(pipe_df_minmax['google'],\n",
    "                       start_p=1, max_p=5,\n",
    "                       start_q=35, max_q=45,\n",
    "                       seasonal=True,\n",
    "                       m = 7,\n",
    "                       trend = 't',\n",
    "                       trace=True)\n",
    "\n",
    "# ARIMA(0,1,4)(2,0,1)[7], AIC=-1762.875"
   ]
  },
  {
   "cell_type": "code",
   "execution_count": 87,
   "metadata": {},
   "outputs": [
    {
     "name": "stdout",
     "output_type": "stream",
     "text": [
      "Performing stepwise search to minimize aic\n",
      " ARIMA(1,1,6)(1,0,1)[7] intercept   : AIC=-1759.810, Time=3.42 sec\n",
      " ARIMA(0,1,0)(0,0,0)[7] intercept   : AIC=-1680.205, Time=0.06 sec\n",
      " ARIMA(1,1,0)(1,0,0)[7] intercept   : AIC=-1726.239, Time=0.28 sec\n",
      " ARIMA(0,1,1)(0,0,1)[7] intercept   : AIC=-1740.708, Time=0.63 sec\n",
      " ARIMA(0,1,0)(0,0,0)[7]             : AIC=-1680.205, Time=0.06 sec\n",
      " ARIMA(1,1,6)(0,0,1)[7] intercept   : AIC=-1751.866, Time=2.57 sec\n",
      " ARIMA(1,1,6)(1,0,0)[7] intercept   : AIC=-1753.182, Time=1.23 sec\n",
      " ARIMA(1,1,6)(2,0,1)[7] intercept   : AIC=-1766.743, Time=3.19 sec\n",
      " ARIMA(1,1,6)(2,0,0)[7] intercept   : AIC=-1758.319, Time=3.73 sec\n",
      " ARIMA(1,1,6)(2,0,2)[7] intercept   : AIC=-1786.260, Time=5.28 sec\n",
      " ARIMA(1,1,6)(1,0,2)[7] intercept   : AIC=-1762.882, Time=4.25 sec\n",
      " ARIMA(0,1,6)(2,0,2)[7] intercept   : AIC=-1777.876, Time=5.04 sec\n",
      " ARIMA(1,1,5)(2,0,2)[7] intercept   : AIC=-1775.429, Time=4.46 sec\n",
      " ARIMA(2,1,6)(2,0,2)[7] intercept   : AIC=-1773.122, Time=5.61 sec\n",
      " ARIMA(0,1,5)(2,0,2)[7] intercept   : AIC=-1781.885, Time=3.72 sec\n",
      " ARIMA(2,1,5)(2,0,2)[7] intercept   : AIC=-1770.283, Time=4.45 sec\n",
      " ARIMA(1,1,6)(2,0,2)[7]             : AIC=-1786.260, Time=4.57 sec\n",
      "\n",
      "Best model:  ARIMA(1,1,6)(2,0,2)[7]          \n",
      "Total fit time: 52.573 seconds\n"
     ]
    }
   ],
   "source": [
    "gg_model = pm.auto_arima(pipe_df_minmax['google'],\n",
    "                       start_p=1, max_p=5,\n",
    "                       start_q=35, max_q=45,\n",
    "                       seasonal=True,\n",
    "                       m = 7,\n",
    "                       trend = 'c',\n",
    "                       trace=True)\n",
    "\n",
    "# ARIMA(1,1,6)(2,0,2)[7], AIC=-1786.260"
   ]
  },
  {
   "cell_type": "code",
   "execution_count": 88,
   "metadata": {},
   "outputs": [
    {
     "name": "stdout",
     "output_type": "stream",
     "text": [
      "Performing stepwise search to minimize aic\n",
      " ARIMA(1,1,6)(1,0,1)[7] intercept   : AIC=-1747.375, Time=2.74 sec\n",
      " ARIMA(0,1,0)(0,0,0)[7] intercept   : AIC=-1678.228, Time=0.08 sec\n",
      " ARIMA(1,1,0)(1,0,0)[7] intercept   : AIC=-1723.807, Time=0.59 sec\n",
      " ARIMA(0,1,1)(0,0,1)[7] intercept   : AIC=-1735.043, Time=0.82 sec\n",
      " ARIMA(0,1,0)(0,0,0)[7]             : AIC=-1678.228, Time=0.07 sec\n",
      " ARIMA(1,1,6)(0,0,1)[7] intercept   : AIC=-1745.513, Time=2.16 sec\n",
      " ARIMA(1,1,6)(1,0,0)[7] intercept   : AIC=-1746.471, Time=1.08 sec\n",
      " ARIMA(1,1,6)(2,0,1)[7] intercept   : AIC=-1753.701, Time=2.15 sec\n",
      " ARIMA(1,1,6)(2,0,0)[7] intercept   : AIC=-1752.065, Time=2.03 sec\n",
      " ARIMA(1,1,6)(2,0,2)[7] intercept   : AIC=-1747.510, Time=4.19 sec\n",
      " ARIMA(1,1,6)(1,0,2)[7] intercept   : AIC=-1746.384, Time=4.26 sec\n",
      " ARIMA(0,1,6)(2,0,1)[7] intercept   : AIC=-1756.020, Time=2.52 sec\n",
      " ARIMA(0,1,6)(1,0,1)[7] intercept   : AIC=-1749.610, Time=2.33 sec\n",
      " ARIMA(0,1,6)(2,0,0)[7] intercept   : AIC=-1754.803, Time=2.46 sec\n",
      " ARIMA(0,1,6)(2,0,2)[7] intercept   : AIC=-1749.388, Time=4.46 sec\n",
      " ARIMA(0,1,6)(1,0,0)[7] intercept   : AIC=-1749.300, Time=0.87 sec\n",
      " ARIMA(0,1,6)(1,0,2)[7] intercept   : AIC=-1748.240, Time=3.55 sec\n",
      " ARIMA(0,1,5)(2,0,1)[7] intercept   : AIC=-1759.669, Time=2.17 sec\n",
      " ARIMA(0,1,5)(1,0,1)[7] intercept   : AIC=-1752.439, Time=1.75 sec\n",
      " ARIMA(0,1,5)(2,0,0)[7] intercept   : AIC=-1758.391, Time=1.48 sec\n",
      " ARIMA(0,1,5)(2,0,2)[7] intercept   : AIC=-1752.231, Time=3.23 sec\n",
      " ARIMA(0,1,5)(1,0,0)[7] intercept   : AIC=-1752.397, Time=0.63 sec\n",
      " ARIMA(0,1,5)(1,0,2)[7] intercept   : AIC=-1751.074, Time=3.19 sec\n",
      " ARIMA(0,1,4)(2,0,1)[7] intercept   : AIC=-1760.862, Time=1.71 sec\n",
      " ARIMA(0,1,4)(1,0,1)[7] intercept   : AIC=-1752.022, Time=1.54 sec\n",
      " ARIMA(0,1,4)(2,0,0)[7] intercept   : AIC=-1759.053, Time=1.49 sec\n",
      " ARIMA(0,1,4)(2,0,2)[7] intercept   : AIC=-1752.696, Time=2.45 sec\n",
      " ARIMA(0,1,4)(1,0,0)[7] intercept   : AIC=-1751.207, Time=0.65 sec\n",
      " ARIMA(0,1,4)(1,0,2)[7] intercept   : AIC=-1751.486, Time=2.54 sec\n",
      " ARIMA(0,1,3)(2,0,1)[7] intercept   : AIC=-1755.140, Time=1.95 sec\n",
      " ARIMA(1,1,4)(2,0,1)[7] intercept   : AIC=-1759.260, Time=1.88 sec\n",
      " ARIMA(1,1,3)(2,0,1)[7] intercept   : AIC=-1753.670, Time=1.70 sec\n",
      " ARIMA(1,1,5)(2,0,1)[7] intercept   : AIC=-1757.819, Time=1.95 sec\n",
      " ARIMA(0,1,4)(2,0,1)[7]             : AIC=-1760.862, Time=1.97 sec\n",
      "\n",
      "Best model:  ARIMA(0,1,4)(2,0,1)[7] intercept\n",
      "Total fit time: 68.745 seconds\n"
     ]
    }
   ],
   "source": [
    "gg_model = pm.auto_arima(pipe_df_minmax['google'],\n",
    "                       start_p=1, max_p=5,\n",
    "                       start_q=35, max_q=45,\n",
    "                       seasonal=True,\n",
    "                       m = 7,\n",
    "                       trend = 'ct',\n",
    "                       trace=True)\n",
    "\n",
    "# ARIMA(0,1,4)(2,0,1)[7], AIC=-1760.862"
   ]
  },
  {
   "cell_type": "code",
   "execution_count": 118,
   "metadata": {},
   "outputs": [
    {
     "name": "stderr",
     "output_type": "stream",
     "text": [
      "/Users/valeriajimenez/.pyenv/versions/3.10.6/envs/MMM-project-lewagon/lib/python3.10/site-packages/statsmodels/tsa/base/tsa_model.py:473: ValueWarning: No frequency information was provided, so inferred frequency D will be used.\n",
      "  self._init_dates(dates, freq)\n",
      "/Users/valeriajimenez/.pyenv/versions/3.10.6/envs/MMM-project-lewagon/lib/python3.10/site-packages/statsmodels/tsa/base/tsa_model.py:473: ValueWarning: No frequency information was provided, so inferred frequency D will be used.\n",
      "  self._init_dates(dates, freq)\n",
      " This problem is unconstrained.\n"
     ]
    },
    {
     "name": "stdout",
     "output_type": "stream",
     "text": [
      "RUNNING THE L-BFGS-B CODE\n",
      "\n",
      "           * * *\n",
      "\n",
      "Machine precision = 2.220D-16\n",
      " N =            7     M =           10\n",
      "\n",
      "At X0         0 variables are exactly at the bounds\n",
      "\n",
      "At iterate    0    f= -1.35098D+00    |proj g|=  6.93347D-01\n",
      "\n",
      "At iterate    5    f= -1.35324D+00    |proj g|=  8.92463D-01\n",
      "\n",
      "At iterate   10    f= -1.35582D+00    |proj g|=  1.95220D-01\n",
      "\n",
      "At iterate   15    f= -1.35631D+00    |proj g|=  1.39634D-01\n",
      "\n",
      "At iterate   20    f= -1.35734D+00    |proj g|=  9.25794D-02\n",
      "\n",
      "At iterate   25    f= -1.36190D+00    |proj g|=  6.63551D-02\n",
      "\n",
      "At iterate   30    f= -1.37833D+00    |proj g|=  1.04332D-01\n",
      "\n",
      "At iterate   35    f= -1.37907D+00    |proj g|=  3.53234D-01\n",
      "\n",
      "At iterate   40    f= -1.38575D+00    |proj g|=  1.41143D-01\n",
      "\n",
      "At iterate   45    f= -1.38619D+00    |proj g|=  1.59986D-01\n",
      "\n",
      "At iterate   50    f= -1.38657D+00    |proj g|=  3.31626D-02\n",
      "\n",
      "           * * *\n",
      "\n",
      "Tit   = total number of iterations\n",
      "Tnf   = total number of function evaluations\n",
      "Tnint = total number of segments explored during Cauchy searches\n",
      "Skip  = number of BFGS updates skipped\n",
      "Nact  = number of active bounds at final generalized Cauchy point\n",
      "Projg = norm of the final projected gradient\n",
      "F     = final function value\n",
      "\n",
      "           * * *\n",
      "\n",
      "   N    Tit     Tnf  Tnint  Skip  Nact     Projg        F\n",
      "    7     50     57      1     0     0   3.316D-02  -1.387D+00\n",
      "  F =  -1.3865714178831186     \n",
      "\n",
      "STOP: TOTAL NO. of ITERATIONS REACHED LIMIT                 \n"
     ]
    },
    {
     "name": "stderr",
     "output_type": "stream",
     "text": [
      "/Users/valeriajimenez/.pyenv/versions/3.10.6/envs/MMM-project-lewagon/lib/python3.10/site-packages/statsmodels/base/model.py:607: ConvergenceWarning: Maximum Likelihood optimization failed to converge. Check mle_retvals\n",
      "  warnings.warn(\"Maximum Likelihood optimization failed to \"\n"
     ]
    },
    {
     "data": {
      "text/html": [
       "<table class=\"simpletable\">\n",
       "<caption>SARIMAX Results</caption>\n",
       "<tr>\n",
       "  <th>Dep. Variable:</th>               <td>google</td>              <th>  No. Observations:  </th>    <td>655</td>   \n",
       "</tr>\n",
       "<tr>\n",
       "  <th>Model:</th>           <td>SARIMAX(0, 1, 4)x(1, 0, [1], 7)</td> <th>  Log Likelihood     </th>  <td>908.204</td> \n",
       "</tr>\n",
       "<tr>\n",
       "  <th>Date:</th>                   <td>Wed, 06 Sep 2023</td>         <th>  AIC                </th> <td>-1802.409</td>\n",
       "</tr>\n",
       "<tr>\n",
       "  <th>Time:</th>                       <td>15:38:48</td>             <th>  BIC                </th> <td>-1771.027</td>\n",
       "</tr>\n",
       "<tr>\n",
       "  <th>Sample:</th>                    <td>07-01-2021</td>            <th>  HQIC               </th> <td>-1790.240</td>\n",
       "</tr>\n",
       "<tr>\n",
       "  <th></th>                          <td>- 04-16-2023</td>           <th>                     </th>     <td> </td>    \n",
       "</tr>\n",
       "<tr>\n",
       "  <th>Covariance Type:</th>               <td>opg</td>               <th>                     </th>     <td> </td>    \n",
       "</tr>\n",
       "</table>\n",
       "<table class=\"simpletable\">\n",
       "<tr>\n",
       "     <td></td>        <th>coef</th>     <th>std err</th>      <th>z</th>      <th>P>|z|</th>  <th>[0.025</th>    <th>0.975]</th>  \n",
       "</tr>\n",
       "<tr>\n",
       "  <th>ma.L1</th>   <td>   -0.3270</td> <td>    0.021</td> <td>  -15.629</td> <td> 0.000</td> <td>   -0.368</td> <td>   -0.286</td>\n",
       "</tr>\n",
       "<tr>\n",
       "  <th>ma.L2</th>   <td>   -0.0735</td> <td>    0.021</td> <td>   -3.515</td> <td> 0.000</td> <td>   -0.115</td> <td>   -0.033</td>\n",
       "</tr>\n",
       "<tr>\n",
       "  <th>ma.L3</th>   <td>    0.0747</td> <td>    0.024</td> <td>    3.139</td> <td> 0.002</td> <td>    0.028</td> <td>    0.121</td>\n",
       "</tr>\n",
       "<tr>\n",
       "  <th>ma.L4</th>   <td>   -0.1081</td> <td>    0.025</td> <td>   -4.296</td> <td> 0.000</td> <td>   -0.157</td> <td>   -0.059</td>\n",
       "</tr>\n",
       "<tr>\n",
       "  <th>ar.S.L7</th> <td>    0.9828</td> <td>    0.017</td> <td>   58.045</td> <td> 0.000</td> <td>    0.950</td> <td>    1.016</td>\n",
       "</tr>\n",
       "<tr>\n",
       "  <th>ma.S.L7</th> <td>   -0.9294</td> <td>    0.027</td> <td>  -34.334</td> <td> 0.000</td> <td>   -0.982</td> <td>   -0.876</td>\n",
       "</tr>\n",
       "<tr>\n",
       "  <th>sigma2</th>  <td>    0.0036</td> <td> 9.14e-05</td> <td>   39.564</td> <td> 0.000</td> <td>    0.003</td> <td>    0.004</td>\n",
       "</tr>\n",
       "</table>\n",
       "<table class=\"simpletable\">\n",
       "<tr>\n",
       "  <th>Ljung-Box (L1) (Q):</th>      <td>0.01</td>  <th>  Jarque-Bera (JB):  </th> <td>4108.63</td>\n",
       "</tr>\n",
       "<tr>\n",
       "  <th>Prob(Q):</th>                 <td>0.92</td>  <th>  Prob(JB):          </th>  <td>0.00</td>  \n",
       "</tr>\n",
       "<tr>\n",
       "  <th>Heteroskedasticity (H):</th> <td>852.64</td> <th>  Skew:              </th>  <td>1.33</td>  \n",
       "</tr>\n",
       "<tr>\n",
       "  <th>Prob(H) (two-sided):</th>     <td>0.00</td>  <th>  Kurtosis:          </th>  <td>14.99</td> \n",
       "</tr>\n",
       "</table><br/><br/>Warnings:<br/>[1] Covariance matrix calculated using the outer product of gradients (complex-step)."
      ],
      "text/latex": [
       "\\begin{center}\n",
       "\\begin{tabular}{lclc}\n",
       "\\toprule\n",
       "\\textbf{Dep. Variable:}          &              google             & \\textbf{  No. Observations:  } &    655      \\\\\n",
       "\\textbf{Model:}                  & SARIMAX(0, 1, 4)x(1, 0, [1], 7) & \\textbf{  Log Likelihood     } &  908.204    \\\\\n",
       "\\textbf{Date:}                   &         Wed, 06 Sep 2023        & \\textbf{  AIC                } & -1802.409   \\\\\n",
       "\\textbf{Time:}                   &             15:38:48            & \\textbf{  BIC                } & -1771.027   \\\\\n",
       "\\textbf{Sample:}                 &            07-01-2021           & \\textbf{  HQIC               } & -1790.240   \\\\\n",
       "\\textbf{}                        &           - 04-16-2023          & \\textbf{                     } &             \\\\\n",
       "\\textbf{Covariance Type:}        &               opg               & \\textbf{                     } &             \\\\\n",
       "\\bottomrule\n",
       "\\end{tabular}\n",
       "\\begin{tabular}{lcccccc}\n",
       "                 & \\textbf{coef} & \\textbf{std err} & \\textbf{z} & \\textbf{P$> |$z$|$} & \\textbf{[0.025} & \\textbf{0.975]}  \\\\\n",
       "\\midrule\n",
       "\\textbf{ma.L1}   &      -0.3270  &        0.021     &   -15.629  &         0.000        &       -0.368    &       -0.286     \\\\\n",
       "\\textbf{ma.L2}   &      -0.0735  &        0.021     &    -3.515  &         0.000        &       -0.115    &       -0.033     \\\\\n",
       "\\textbf{ma.L3}   &       0.0747  &        0.024     &     3.139  &         0.002        &        0.028    &        0.121     \\\\\n",
       "\\textbf{ma.L4}   &      -0.1081  &        0.025     &    -4.296  &         0.000        &       -0.157    &       -0.059     \\\\\n",
       "\\textbf{ar.S.L7} &       0.9828  &        0.017     &    58.045  &         0.000        &        0.950    &        1.016     \\\\\n",
       "\\textbf{ma.S.L7} &      -0.9294  &        0.027     &   -34.334  &         0.000        &       -0.982    &       -0.876     \\\\\n",
       "\\textbf{sigma2}  &       0.0036  &     9.14e-05     &    39.564  &         0.000        &        0.003    &        0.004     \\\\\n",
       "\\bottomrule\n",
       "\\end{tabular}\n",
       "\\begin{tabular}{lclc}\n",
       "\\textbf{Ljung-Box (L1) (Q):}     &  0.01  & \\textbf{  Jarque-Bera (JB):  } & 4108.63  \\\\\n",
       "\\textbf{Prob(Q):}                &  0.92  & \\textbf{  Prob(JB):          } &   0.00   \\\\\n",
       "\\textbf{Heteroskedasticity (H):} & 852.64 & \\textbf{  Skew:              } &   1.33   \\\\\n",
       "\\textbf{Prob(H) (two-sided):}    &  0.00  & \\textbf{  Kurtosis:          } &  14.99   \\\\\n",
       "\\bottomrule\n",
       "\\end{tabular}\n",
       "%\\caption{SARIMAX Results}\n",
       "\\end{center}\n",
       "\n",
       "Warnings: \\newline\n",
       " [1] Covariance matrix calculated using the outer product of gradients (complex-step)."
      ],
      "text/plain": [
       "<class 'statsmodels.iolib.summary.Summary'>\n",
       "\"\"\"\n",
       "                                      SARIMAX Results                                      \n",
       "===========================================================================================\n",
       "Dep. Variable:                              google   No. Observations:                  655\n",
       "Model:             SARIMAX(0, 1, 4)x(1, 0, [1], 7)   Log Likelihood                 908.204\n",
       "Date:                             Wed, 06 Sep 2023   AIC                          -1802.409\n",
       "Time:                                     15:38:48   BIC                          -1771.027\n",
       "Sample:                                 07-01-2021   HQIC                         -1790.240\n",
       "                                      - 04-16-2023                                         \n",
       "Covariance Type:                               opg                                         \n",
       "==============================================================================\n",
       "                 coef    std err          z      P>|z|      [0.025      0.975]\n",
       "------------------------------------------------------------------------------\n",
       "ma.L1         -0.3270      0.021    -15.629      0.000      -0.368      -0.286\n",
       "ma.L2         -0.0735      0.021     -3.515      0.000      -0.115      -0.033\n",
       "ma.L3          0.0747      0.024      3.139      0.002       0.028       0.121\n",
       "ma.L4         -0.1081      0.025     -4.296      0.000      -0.157      -0.059\n",
       "ar.S.L7        0.9828      0.017     58.045      0.000       0.950       1.016\n",
       "ma.S.L7       -0.9294      0.027    -34.334      0.000      -0.982      -0.876\n",
       "sigma2         0.0036   9.14e-05     39.564      0.000       0.003       0.004\n",
       "===================================================================================\n",
       "Ljung-Box (L1) (Q):                   0.01   Jarque-Bera (JB):              4108.63\n",
       "Prob(Q):                              0.92   Prob(JB):                         0.00\n",
       "Heteroskedasticity (H):             852.64   Skew:                             1.33\n",
       "Prob(H) (two-sided):                  0.00   Kurtosis:                        14.99\n",
       "===================================================================================\n",
       "\n",
       "Warnings:\n",
       "[1] Covariance matrix calculated using the outer product of gradients (complex-step).\n",
       "\"\"\""
      ]
     },
     "execution_count": 118,
     "metadata": {},
     "output_type": "execute_result"
    }
   ],
   "source": [
    "from statsmodels.tsa.statespace.sarimax import SARIMAX\n",
    "\n",
    "gg_sarimax = SARIMAX(pipe_df_minmax['google'], order=(0,1,4), seasonal_order=(1,0,1,7), trend='n')\n",
    "gg_sarimax = gg_sarimax.fit()\n",
    "gg_sarimax.summary()"
   ]
  },
  {
   "cell_type": "code",
   "execution_count": 119,
   "metadata": {},
   "outputs": [
    {
     "data": {
      "image/png": "[encoded data removed]",
      "text/plain": [
       "<Figure size 1200x500 with 1 Axes>"
      ]
     },
     "metadata": {},
     "output_type": "display_data"
    }
   ],
   "source": [
    "gg_forecast = gg_sarimax.forecast(len(test_df_minmax))\n",
    "gg_forecast = pd.DataFrame(gg_forecast)\n",
    "\n",
    "pipe_df_minmax['google'][-129:].plot(figsize=(12,5),legend=True).autoscale(axis='x',tight=True)\n",
    "gg_forecast['predicted_mean'][-129:].plot(legend=True);"
   ]
  },
  {
   "cell_type": "markdown",
   "metadata": {},
   "source": [
    "## Tiktok"
   ]
  },
  {
   "cell_type": "code",
   "execution_count": 41,
   "metadata": {},
   "outputs": [
    {
     "data": {
      "image/png": "[encoded data removed]",
      "text/plain": [
       "<Figure size 1600x300 with 2 Axes>"
      ]
     },
     "metadata": {},
     "output_type": "display_data"
    }
   ],
   "source": [
    "fig, axes = plt.subplots(1,2, figsize=(16,3))\n",
    "\n",
    "plot_acf(pipe_df_minmax['tiktok'], lags=50, ax=axes[0]);\n",
    "plot_pacf(pipe_df_minmax['tiktok'], lags=50, ax=axes[1], color='r');"
   ]
  },
  {
   "cell_type": "code",
   "execution_count": 109,
   "metadata": {},
   "outputs": [
    {
     "name": "stdout",
     "output_type": "stream",
     "text": [
      "Performing stepwise search to minimize aic\n",
      " ARIMA(1,1,20)(0,0,0)[0] intercept   : AIC=-2123.446, Time=5.36 sec\n",
      " ARIMA(0,1,0)(0,0,0)[0] intercept   : AIC=-2134.959, Time=0.02 sec\n",
      " ARIMA(1,1,0)(0,0,0)[0] intercept   : AIC=-2133.649, Time=0.03 sec\n",
      " ARIMA(0,1,1)(0,0,0)[0] intercept   : AIC=-2133.690, Time=0.02 sec\n",
      " ARIMA(0,1,0)(0,0,0)[0]             : AIC=-2134.959, Time=0.02 sec\n",
      " ARIMA(1,1,1)(0,0,0)[0] intercept   : AIC=inf, Time=0.22 sec\n",
      "\n",
      "Best model:  ARIMA(0,1,0)(0,0,0)[0]          \n",
      "Total fit time: 5.683 seconds\n"
     ]
    }
   ],
   "source": [
    "\n",
    "tt_model = pm.auto_arima(pipe_df_minmax['tiktok'],\n",
    "                       start_p=1, max_p=3,\n",
    "                       start_q=20, max_q=27,\n",
    "                       seasonal=False,\n",
    "                       trend = 'n',\n",
    "                       trace=True)\n",
    "# ARIMA(0,1,0)(0,0,0)[0], AIC=-2134.959"
   ]
  },
  {
   "cell_type": "code",
   "execution_count": 47,
   "metadata": {},
   "outputs": [
    {
     "name": "stdout",
     "output_type": "stream",
     "text": [
      "Performing stepwise search to minimize aic\n",
      " ARIMA(1,1,20)(0,0,0)[0] intercept   : AIC=-2120.776, Time=7.61 sec\n",
      " ARIMA(0,1,0)(0,0,0)[0] intercept   : AIC=-2133.015, Time=0.02 sec\n",
      " ARIMA(1,1,0)(0,0,0)[0] intercept   : AIC=-2131.702, Time=0.05 sec\n",
      " ARIMA(0,1,1)(0,0,0)[0] intercept   : AIC=-2131.742, Time=0.04 sec\n",
      " ARIMA(0,1,0)(0,0,0)[0]             : AIC=-2134.959, Time=0.02 sec\n",
      " ARIMA(1,1,1)(0,0,0)[0] intercept   : AIC=inf, Time=0.23 sec\n",
      "\n",
      "Best model:  ARIMA(0,1,0)(0,0,0)[0]          \n",
      "Total fit time: 7.987 seconds\n"
     ]
    }
   ],
   "source": [
    "tt_model = pm.auto_arima(pipe_df_minmax['tiktok'],\n",
    "                       start_p=1, max_p=3,\n",
    "                       start_q=20, max_q=27,\n",
    "                       seasonal=False,\n",
    "                       trend = 't',\n",
    "                       trace=True)\n",
    "\n",
    "# ARIMA(0,1,0)(0,0,0)[0], AIC=-2134.959"
   ]
  },
  {
   "cell_type": "code",
   "execution_count": 89,
   "metadata": {},
   "outputs": [
    {
     "name": "stdout",
     "output_type": "stream",
     "text": [
      "Performing stepwise search to minimize aic\n",
      " ARIMA(1,1,20)(0,0,0)[0] intercept   : AIC=-2120.776, Time=9.49 sec\n",
      " ARIMA(0,1,0)(0,0,0)[0] intercept   : AIC=-2133.015, Time=0.04 sec\n",
      " ARIMA(1,1,0)(0,0,0)[0] intercept   : AIC=-2131.702, Time=0.03 sec\n",
      " ARIMA(0,1,1)(0,0,0)[0] intercept   : AIC=-2131.742, Time=0.03 sec\n",
      " ARIMA(0,1,0)(0,0,0)[0]             : AIC=-2133.015, Time=0.04 sec\n",
      " ARIMA(1,1,1)(0,0,0)[0] intercept   : AIC=inf, Time=0.24 sec\n",
      "\n",
      "Best model:  ARIMA(0,1,0)(0,0,0)[0]          \n",
      "Total fit time: 9.877 seconds\n"
     ]
    }
   ],
   "source": [
    "tt_model = pm.auto_arima(pipe_df_minmax['tiktok'],\n",
    "                       start_p=1, max_p=3,\n",
    "                       start_q=20, max_q=27,\n",
    "                       seasonal=False,\n",
    "                       trend = 'c',\n",
    "                       trace=True)\n",
    "\n",
    "# ARIMA(0,1,0)(0,0,0)[0], AIC=-2133.015"
   ]
  },
  {
   "cell_type": "code",
   "execution_count": 90,
   "metadata": {},
   "outputs": [
    {
     "name": "stdout",
     "output_type": "stream",
     "text": [
      "Performing stepwise search to minimize aic\n",
      " ARIMA(1,1,20)(0,0,0)[0] intercept   : AIC=-2109.863, Time=2.53 sec\n",
      " ARIMA(0,1,0)(0,0,0)[0] intercept   : AIC=-2131.074, Time=0.07 sec\n",
      " ARIMA(1,1,0)(0,0,0)[0] intercept   : AIC=-2129.757, Time=0.10 sec\n",
      " ARIMA(0,1,1)(0,0,0)[0] intercept   : AIC=-2129.786, Time=0.11 sec\n",
      " ARIMA(0,1,0)(0,0,0)[0]             : AIC=-2131.074, Time=0.05 sec\n",
      " ARIMA(1,1,1)(0,0,0)[0] intercept   : AIC=-1440.733, Time=0.07 sec\n",
      "\n",
      "Best model:  ARIMA(0,1,0)(0,0,0)[0]          \n",
      "Total fit time: 2.938 seconds\n"
     ]
    },
    {
     "name": "stderr",
     "output_type": "stream",
     "text": [
      "/Users/valeriajimenez/.pyenv/versions/3.10.6/envs/MMM-project-lewagon/lib/python3.10/site-packages/statsmodels/tsa/statespace/sarimax.py:1906: RuntimeWarning: divide by zero encountered in reciprocal\n",
      "  return np.roots(self.polynomial_reduced_ma)**-1\n"
     ]
    }
   ],
   "source": [
    "tt_model = pm.auto_arima(pipe_df_minmax['tiktok'],\n",
    "                       start_p=1, max_p=3,\n",
    "                       start_q=20, max_q=27,\n",
    "                       seasonal=False,\n",
    "                       trend = 'ct',\n",
    "                       trace=True)\n",
    "\n",
    "# ARIMA(0,1,0)(0,0,0)[0], AIC=-2131.074"
   ]
  },
  {
   "cell_type": "code",
   "execution_count": 95,
   "metadata": {},
   "outputs": [
    {
     "name": "stderr",
     "output_type": "stream",
     "text": [
      "/Users/valeriajimenez/.pyenv/versions/3.10.6/envs/MMM-project-lewagon/lib/python3.10/site-packages/statsmodels/tsa/base/tsa_model.py:473: ValueWarning: No frequency information was provided, so inferred frequency D will be used.\n",
      "  self._init_dates(dates, freq)\n",
      "/Users/valeriajimenez/.pyenv/versions/3.10.6/envs/MMM-project-lewagon/lib/python3.10/site-packages/statsmodels/tsa/base/tsa_model.py:473: ValueWarning: No frequency information was provided, so inferred frequency D will be used.\n",
      "  self._init_dates(dates, freq)\n",
      "/Users/valeriajimenez/.pyenv/versions/3.10.6/envs/MMM-project-lewagon/lib/python3.10/site-packages/statsmodels/tsa/base/tsa_model.py:473: ValueWarning: No frequency information was provided, so inferred frequency D will be used.\n",
      "  self._init_dates(dates, freq)\n"
     ]
    },
    {
     "data": {
      "text/html": [
       "<table class=\"simpletable\">\n",
       "<caption>SARIMAX Results</caption>\n",
       "<tr>\n",
       "  <th>Dep. Variable:</th>        <td>tiktok</td>      <th>  No. Observations:  </th>    <td>655</td>   \n",
       "</tr>\n",
       "<tr>\n",
       "  <th>Model:</th>            <td>ARIMA(0, 1, 0)</td>  <th>  Log Likelihood     </th> <td>1068.507</td> \n",
       "</tr>\n",
       "<tr>\n",
       "  <th>Date:</th>            <td>Wed, 06 Sep 2023</td> <th>  AIC                </th> <td>-2133.015</td>\n",
       "</tr>\n",
       "<tr>\n",
       "  <th>Time:</th>                <td>15:25:16</td>     <th>  BIC                </th> <td>-2124.048</td>\n",
       "</tr>\n",
       "<tr>\n",
       "  <th>Sample:</th>             <td>07-01-2021</td>    <th>  HQIC               </th> <td>-2129.538</td>\n",
       "</tr>\n",
       "<tr>\n",
       "  <th></th>                   <td>- 04-16-2023</td>   <th>                     </th>     <td> </td>    \n",
       "</tr>\n",
       "<tr>\n",
       "  <th>Covariance Type:</th>        <td>opg</td>       <th>                     </th>     <td> </td>    \n",
       "</tr>\n",
       "</table>\n",
       "<table class=\"simpletable\">\n",
       "<tr>\n",
       "     <td></td>       <th>coef</th>     <th>std err</th>      <th>z</th>      <th>P>|z|</th>  <th>[0.025</th>    <th>0.975]</th>  \n",
       "</tr>\n",
       "<tr>\n",
       "  <th>x1</th>     <td>    0.0004</td> <td>    0.002</td> <td>    0.232</td> <td> 0.816</td> <td>   -0.003</td> <td>    0.004</td>\n",
       "</tr>\n",
       "<tr>\n",
       "  <th>sigma2</th> <td>    0.0022</td> <td> 5.74e-05</td> <td>   38.855</td> <td> 0.000</td> <td>    0.002</td> <td>    0.002</td>\n",
       "</tr>\n",
       "</table>\n",
       "<table class=\"simpletable\">\n",
       "<tr>\n",
       "  <th>Ljung-Box (L1) (Q):</th>     <td>0.69</td> <th>  Jarque-Bera (JB):  </th> <td>1473.12</td>\n",
       "</tr>\n",
       "<tr>\n",
       "  <th>Prob(Q):</th>                <td>0.41</td> <th>  Prob(JB):          </th>  <td>0.00</td>  \n",
       "</tr>\n",
       "<tr>\n",
       "  <th>Heteroskedasticity (H):</th> <td>5.82</td> <th>  Skew:              </th>  <td>0.30</td>  \n",
       "</tr>\n",
       "<tr>\n",
       "  <th>Prob(H) (two-sided):</th>    <td>0.00</td> <th>  Kurtosis:          </th>  <td>10.33</td> \n",
       "</tr>\n",
       "</table><br/><br/>Warnings:<br/>[1] Covariance matrix calculated using the outer product of gradients (complex-step)."
      ],
      "text/latex": [
       "\\begin{center}\n",
       "\\begin{tabular}{lclc}\n",
       "\\toprule\n",
       "\\textbf{Dep. Variable:}          &      tiktok      & \\textbf{  No. Observations:  } &    655      \\\\\n",
       "\\textbf{Model:}                  &  ARIMA(0, 1, 0)  & \\textbf{  Log Likelihood     } &  1068.507   \\\\\n",
       "\\textbf{Date:}                   & Wed, 06 Sep 2023 & \\textbf{  AIC                } & -2133.015   \\\\\n",
       "\\textbf{Time:}                   &     15:25:16     & \\textbf{  BIC                } & -2124.048   \\\\\n",
       "\\textbf{Sample:}                 &    07-01-2021    & \\textbf{  HQIC               } & -2129.538   \\\\\n",
       "\\textbf{}                        &   - 04-16-2023   & \\textbf{                     } &             \\\\\n",
       "\\textbf{Covariance Type:}        &       opg        & \\textbf{                     } &             \\\\\n",
       "\\bottomrule\n",
       "\\end{tabular}\n",
       "\\begin{tabular}{lcccccc}\n",
       "                & \\textbf{coef} & \\textbf{std err} & \\textbf{z} & \\textbf{P$> |$z$|$} & \\textbf{[0.025} & \\textbf{0.975]}  \\\\\n",
       "\\midrule\n",
       "\\textbf{x1}     &       0.0004  &        0.002     &     0.232  &         0.816        &       -0.003    &        0.004     \\\\\n",
       "\\textbf{sigma2} &       0.0022  &     5.74e-05     &    38.855  &         0.000        &        0.002    &        0.002     \\\\\n",
       "\\bottomrule\n",
       "\\end{tabular}\n",
       "\\begin{tabular}{lclc}\n",
       "\\textbf{Ljung-Box (L1) (Q):}     & 0.69 & \\textbf{  Jarque-Bera (JB):  } & 1473.12  \\\\\n",
       "\\textbf{Prob(Q):}                & 0.41 & \\textbf{  Prob(JB):          } &   0.00   \\\\\n",
       "\\textbf{Heteroskedasticity (H):} & 5.82 & \\textbf{  Skew:              } &   0.30   \\\\\n",
       "\\textbf{Prob(H) (two-sided):}    & 0.00 & \\textbf{  Kurtosis:          } &  10.33   \\\\\n",
       "\\bottomrule\n",
       "\\end{tabular}\n",
       "%\\caption{SARIMAX Results}\n",
       "\\end{center}\n",
       "\n",
       "Warnings: \\newline\n",
       " [1] Covariance matrix calculated using the outer product of gradients (complex-step)."
      ],
      "text/plain": [
       "<class 'statsmodels.iolib.summary.Summary'>\n",
       "\"\"\"\n",
       "                               SARIMAX Results                                \n",
       "==============================================================================\n",
       "Dep. Variable:                 tiktok   No. Observations:                  655\n",
       "Model:                 ARIMA(0, 1, 0)   Log Likelihood                1068.507\n",
       "Date:                Wed, 06 Sep 2023   AIC                          -2133.015\n",
       "Time:                        15:25:16   BIC                          -2124.048\n",
       "Sample:                    07-01-2021   HQIC                         -2129.538\n",
       "                         - 04-16-2023                                         \n",
       "Covariance Type:                  opg                                         \n",
       "==============================================================================\n",
       "                 coef    std err          z      P>|z|      [0.025      0.975]\n",
       "------------------------------------------------------------------------------\n",
       "x1             0.0004      0.002      0.232      0.816      -0.003       0.004\n",
       "sigma2         0.0022   5.74e-05     38.855      0.000       0.002       0.002\n",
       "===================================================================================\n",
       "Ljung-Box (L1) (Q):                   0.69   Jarque-Bera (JB):              1473.12\n",
       "Prob(Q):                              0.41   Prob(JB):                         0.00\n",
       "Heteroskedasticity (H):               5.82   Skew:                             0.30\n",
       "Prob(H) (two-sided):                  0.00   Kurtosis:                        10.33\n",
       "===================================================================================\n",
       "\n",
       "Warnings:\n",
       "[1] Covariance matrix calculated using the outer product of gradients (complex-step).\n",
       "\"\"\""
      ]
     },
     "execution_count": 95,
     "metadata": {},
     "output_type": "execute_result"
    }
   ],
   "source": [
    "tt_arima = ARIMA(pipe_df_minmax['tiktok'], order=(0, 1, 0), trend='t')\n",
    "tt_arima = tt_arima.fit()\n",
    "tt_arima.summary()"
   ]
  },
  {
   "cell_type": "code",
   "execution_count": 97,
   "metadata": {},
   "outputs": [
    {
     "data": {
      "image/png": "[encoded data removed]",
      "text/plain": [
       "<Figure size 1200x500 with 1 Axes>"
      ]
     },
     "metadata": {},
     "output_type": "display_data"
    }
   ],
   "source": [
    "tt_forecast = tt_arima.forecast(len(test_df_minmax))\n",
    "tt_forecast = pd.DataFrame(tt_forecast)\n",
    "\n",
    "pipe_df_minmax['tiktok'][-129:].plot(figsize=(12,5),legend=True).autoscale(axis='x',tight=True)\n",
    "tt_forecast['predicted_mean'][-129:].plot(legend=True);"
   ]
  }
 ],
 "metadata": {
  "kernelspec": {
   "display_name": "MMM-project-lewagon",
   "language": "python",
   "name": "python3"
  },
  "language_info": {
   "codemirror_mode": {
    "name": "ipython",
    "version": 3
   },
   "file_extension": ".py",
   "mimetype": "text/x-python",
   "name": "python",
   "nbconvert_exporter": "python",
   "pygments_lexer": "ipython3",
   "version": "3.10.6"
  },
  "orig_nbformat": 4
 },
 "nbformat": 4,
 "nbformat_minor": 2
}
