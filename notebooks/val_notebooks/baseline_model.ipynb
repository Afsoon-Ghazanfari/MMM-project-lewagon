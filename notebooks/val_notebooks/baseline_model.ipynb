{
 "cells": [
  {
   "cell_type": "code",
   "execution_count": 3,
   "metadata": {},
   "outputs": [],
   "source": [
    "import pandas as pd\n",
    "from sklearn.model_selection import TimeSeriesSplit\n",
    "import numpy as np"
   ]
  },
  {
   "cell_type": "markdown",
   "metadata": {},
   "source": [
    "# Load DataFrame"
   ]
  },
  {
   "cell_type": "code",
   "execution_count": 4,
   "metadata": {},
   "outputs": [],
   "source": [
    "df = pd.read_csv('../../raw_data/df_clean.csv')\n",
    "df = df.drop(columns='Unnamed: 0')\n",
    "df['Day'] = pd.to_datetime(df['Day'])\n",
    "df.set_index('Day', inplace=True)\n",
    "df = df.rename(columns={\"fb_costs\": \"facebook\", \"google_costs\": \"google\", \"tt_costs\": \"tiktok\"})\n",
    "df['day'] = df.index # we will use this in our column transformer\n",
    "df = df.drop(columns = ['fb_impressions', 'fb_clicks', 'google_impressions', 'google_clicks', 'tt_impressions', 'tt_clicks'])"
   ]
  },
  {
   "cell_type": "markdown",
   "metadata": {},
   "source": [
    "# Split Data"
   ]
  },
  {
   "cell_type": "code",
   "execution_count": 5,
   "metadata": {},
   "outputs": [],
   "source": [
    "n_splits = 5  # Number of splits for cross-validation\n",
    "tscv = TimeSeriesSplit(n_splits=n_splits)\n",
    "\n",
    "for train_index, test_index in tscv.split(df):\n",
    "    train_df = df.iloc[train_index]\n",
    "    test_df = df.iloc[test_index]\n",
    "\n",
    "train_df = train_df.assign(trend=range(len(train_df)))\n",
    "\n",
    "y_train = train_df['total_sales']\n",
    "X_train = train_df.drop(columns = ['total_sales', 'orders'])\n",
    "\n",
    "test_df = test_df.assign(trend=range(len(test_df)))\n",
    "\n",
    "y_test = test_df['total_sales']\n",
    "X_test = test_df.drop(columns = ['total_sales', 'orders'])"
   ]
  },
  {
   "cell_type": "markdown",
   "metadata": {},
   "source": [
    "# Baseline Model"
   ]
  },
  {
   "cell_type": "code",
   "execution_count": 6,
   "metadata": {},
   "outputs": [
    {
     "data": {
      "text/plain": [
       "'595453.442743578 is our MSE to beat; 0.6398209085770498 is our R squared to beat!'"
      ]
     },
     "execution_count": 6,
     "metadata": {},
     "output_type": "execute_result"
    }
   ],
   "source": [
    "baseline = train_df.shift(1) # baseline['total_sales'] is equivalent to y_pred\n",
    "\n",
    "y_pred = baseline['total_sales']\n",
    "y_true = train_df['total_sales']\n",
    "\n",
    "# MSE\n",
    "mse = ((y_true - y_pred) ** 2).mean()\n",
    "\n",
    "# Calculate TSS (Total Sum of Squares)\n",
    "mean_y_true = np.mean(y_true)\n",
    "tss = np.sum((y_true - mean_y_true)**2)\n",
    "\n",
    "# Calculate RSS (Residual Sum of Squares)\n",
    "rss = np.sum((y_true - y_pred)**2)\n",
    "\n",
    "# Calculate R-squared (Coefficient of Determination)\n",
    "r_squared = 1 - (rss / tss)\n",
    "\n",
    "f\"{mse} is our MSE to beat; {r_squared} is our R squared to beat!\""
   ]
  }
 ],
 "metadata": {
  "kernelspec": {
   "display_name": "MMM-project-lewagon",
   "language": "python",
   "name": "python3"
  },
  "language_info": {
   "codemirror_mode": {
    "name": "ipython",
    "version": 3
   },
   "file_extension": ".py",
   "mimetype": "text/x-python",
   "name": "python",
   "nbconvert_exporter": "python",
   "pygments_lexer": "ipython3",
   "version": "3.10.6"
  },
  "orig_nbformat": 4
 },
 "nbformat": 4,
 "nbformat_minor": 2
}
